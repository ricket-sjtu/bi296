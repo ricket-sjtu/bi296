{
 "cells": [
  {
   "cell_type": "markdown",
   "metadata": {},
   "source": [
    "# 第八章: Python基础入门\n",
    "___"
   ]
  },
  {
   "cell_type": "markdown",
   "metadata": {},
   "source": [
    "## 学习目标\n",
    "\n",
    "1. 掌握基本的Python语法：常用数据结构、函数、流程控制\n",
    "\n",
    "2. 迭代器(iterator)、生成器 (generator)\n",
    "\n",
    "3. 面向对象编程 (Object-Oriented Programming)\n",
    "\n",
    "4. 常用模块：str, os, sys、argparse、optparse、math、re等\n",
    "\n",
    "5. 案例代码分析"
   ]
  },
  {
   "cell_type": "markdown",
   "metadata": {},
   "source": [
    "## 1. 基本数据类型\n",
    "\n",
    "### 1.1 数据类型\n",
    "- 数据类型可用`type(data)`函数进行查看\n",
    "- 数据在内存中的储存地址可用`id(data)`查看\n",
    "- 数据可用的方法可用`dir(data)`进行查看"
   ]
  },
  {
   "cell_type": "code",
   "execution_count": 8,
   "metadata": {},
   "outputs": [
    {
     "name": "stdout",
     "output_type": "stream",
     "text": [
      "<class 'int'>\n",
      "94213344662400\n"
     ]
    }
   ],
   "source": [
    "i = 5\n",
    "print(type(i))\n",
    "print(id(i))"
   ]
  },
  {
   "cell_type": "code",
   "execution_count": null,
   "metadata": {},
   "outputs": [],
   "source": [
    "dir(i)    # 列出当前数据的可用方法"
   ]
  },
  {
   "cell_type": "code",
   "execution_count": 13,
   "metadata": {},
   "outputs": [
    {
     "name": "stdout",
     "output_type": "stream",
     "text": [
      "-6\n"
     ]
    }
   ],
   "source": [
    "# 5=00000101(取反))->11111010(补码)->11111001->10000110(原码)-6\n",
    "print(i.__invert__())"
   ]
  },
  {
   "cell_type": "code",
   "execution_count": null,
   "metadata": {},
   "outputs": [],
   "source": [
    "help(i.__gt__)"
   ]
  },
  {
   "cell_type": "markdown",
   "metadata": {},
   "source": [
    "### 1.2 整数型（int）\n",
    "- 整数型的数据一般比较简单\n",
    "- 能用的方法也比较少\n",
    "- `__gt__(other)`方法最后可通过`i > other`实现"
   ]
  },
  {
   "cell_type": "code",
   "execution_count": 17,
   "metadata": {},
   "outputs": [
    {
     "data": {
      "text/plain": [
       "int"
      ]
     },
     "execution_count": 17,
     "metadata": {},
     "output_type": "execute_result"
    }
   ],
   "source": [
    "i= 5\n",
    "type(i)"
   ]
  },
  {
   "cell_type": "code",
   "execution_count": 18,
   "metadata": {},
   "outputs": [
    {
     "name": "stdout",
     "output_type": "stream",
     "text": [
      "1\n"
     ]
    }
   ],
   "source": [
    "print(i.denominator)"
   ]
  },
  {
   "cell_type": "code",
   "execution_count": 19,
   "metadata": {},
   "outputs": [
    {
     "name": "stdout",
     "output_type": "stream",
     "text": [
      "5\n"
     ]
    }
   ],
   "source": [
    "print(i.numerator)"
   ]
  },
  {
   "cell_type": "code",
   "execution_count": 20,
   "metadata": {},
   "outputs": [
    {
     "name": "stdout",
     "output_type": "stream",
     "text": [
      "True\n"
     ]
    }
   ],
   "source": [
    "print(i.__gt__(3))"
   ]
  },
  {
   "cell_type": "markdown",
   "metadata": {},
   "source": [
    "### 1.3 布尔型（bool）\n",
    "- 布尔型只有True和False两个值\n",
    "- 下面的这些不同类型的值对应的都是`False`"
   ]
  },
  {
   "cell_type": "code",
   "execution_count": 25,
   "metadata": {},
   "outputs": [
    {
     "name": "stdout",
     "output_type": "stream",
     "text": [
      "False False False False False False False\n"
     ]
    }
   ],
   "source": [
    "print(bool(None), bool(0), bool(0.0), bool(\"\"), bool([]), bool(()), bool({}))"
   ]
  },
  {
   "cell_type": "markdown",
   "metadata": {},
   "source": [
    "- 布尔表达式返回的就是布尔值"
   ]
  },
  {
   "cell_type": "code",
   "execution_count": 26,
   "metadata": {},
   "outputs": [
    {
     "name": "stdout",
     "output_type": "stream",
     "text": [
      "True\n"
     ]
    }
   ],
   "source": [
    "print(5 >= 3)"
   ]
  },
  {
   "cell_type": "markdown",
   "metadata": {},
   "source": [
    "### 1.4 浮点数（float）\n",
    "- 浮点数一般指的就是小数值\n",
    "- 浮点数对应的方法与整型差别不大，就增减了一些\n",
    "- "
   ]
  },
  {
   "cell_type": "code",
   "execution_count": 30,
   "metadata": {},
   "outputs": [
    {
     "data": {
      "text/plain": [
       "float"
      ]
     },
     "execution_count": 30,
     "metadata": {},
     "output_type": "execute_result"
    }
   ],
   "source": [
    "f = 2.15\n",
    "type(f)"
   ]
  },
  {
   "cell_type": "markdown",
   "metadata": {},
   "source": [
    "### 1.5 字符串类型（str）"
   ]
  },
  {
   "cell_type": "code",
   "execution_count": 29,
   "metadata": {},
   "outputs": [
    {
     "data": {
      "text/plain": [
       "str"
      ]
     },
     "execution_count": 29,
     "metadata": {},
     "output_type": "execute_result"
    }
   ],
   "source": [
    "type('c')"
   ]
  },
  {
   "cell_type": "code",
   "execution_count": 37,
   "metadata": {},
   "outputs": [],
   "source": [
    "s = \"ACCTAGGACGT\""
   ]
  },
  {
   "cell_type": "code",
   "execution_count": 38,
   "metadata": {},
   "outputs": [
    {
     "name": "stdout",
     "output_type": "stream",
     "text": [
      "A\n"
     ]
    }
   ],
   "source": [
    "print(s[0])"
   ]
  },
  {
   "cell_type": "code",
   "execution_count": 39,
   "metadata": {},
   "outputs": [
    {
     "name": "stdout",
     "output_type": "stream",
     "text": [
      "ACA\n"
     ]
    }
   ],
   "source": [
    "print(s[0:5:2])"
   ]
  },
  {
   "cell_type": "code",
   "execution_count": 41,
   "metadata": {},
   "outputs": [
    {
     "ename": "TypeError",
     "evalue": "'str' object does not support item assignment",
     "output_type": "error",
     "traceback": [
      "\u001b[0;31m---------------------------------------------------------------------------\u001b[0m",
      "\u001b[0;31mTypeError\u001b[0m                                 Traceback (most recent call last)",
      "\u001b[0;32m<ipython-input-41-3bc063d97acd>\u001b[0m in \u001b[0;36m<module>\u001b[0;34m\u001b[0m\n\u001b[0;32m----> 1\u001b[0;31m \u001b[0ms\u001b[0m\u001b[0;34m[\u001b[0m\u001b[0;36m3\u001b[0m\u001b[0;34m]\u001b[0m\u001b[0;34m=\u001b[0m\u001b[0;34m'N'\u001b[0m   \u001b[0;31m# str is immutable object.\u001b[0m\u001b[0;34m\u001b[0m\u001b[0;34m\u001b[0m\u001b[0m\n\u001b[0m",
      "\u001b[0;31mTypeError\u001b[0m: 'str' object does not support item assignment"
     ]
    }
   ],
   "source": [
    "s[3]='N'   # str is immutable object."
   ]
  },
  {
   "cell_type": "markdown",
   "metadata": {},
   "source": [
    "### 1.6 None类型（NoneType）\n",
    "- None是python的一种特殊类型"
   ]
  },
  {
   "cell_type": "code",
   "execution_count": 31,
   "metadata": {},
   "outputs": [
    {
     "data": {
      "text/plain": [
       "NoneType"
      ]
     },
     "execution_count": 31,
     "metadata": {},
     "output_type": "execute_result"
    }
   ],
   "source": [
    "type(None)"
   ]
  },
  {
   "cell_type": "code",
   "execution_count": 36,
   "metadata": {},
   "outputs": [
    {
     "name": "stdout",
     "output_type": "stream",
     "text": [
      "False\n"
     ]
    }
   ],
   "source": [
    "a = list()\n",
    "print(a is None)"
   ]
  },
  {
   "cell_type": "markdown",
   "metadata": {},
   "source": [
    "### 1.7 Type类型\n",
    "- type也是一种特殊的类型"
   ]
  },
  {
   "cell_type": "code",
   "execution_count": 42,
   "metadata": {},
   "outputs": [
    {
     "data": {
      "text/plain": [
       "type"
      ]
     },
     "execution_count": 42,
     "metadata": {},
     "output_type": "execute_result"
    }
   ],
   "source": [
    "type(str)"
   ]
  },
  {
   "cell_type": "code",
   "execution_count": 43,
   "metadata": {},
   "outputs": [
    {
     "data": {
      "text/plain": [
       "type"
      ]
     },
     "execution_count": 43,
     "metadata": {},
     "output_type": "execute_result"
    }
   ],
   "source": [
    "type(float)"
   ]
  },
  {
   "cell_type": "markdown",
   "metadata": {},
   "source": [
    "## 2. 基本复合数据结构"
   ]
  },
  {
   "cell_type": "markdown",
   "metadata": {},
   "source": [
    "### 2.1 列表List\n",
    "\n",
    "- 列表是一种有序的、可修改的数据结构；\n",
    "- 列表元素可用`<list>[from_inclusive : to_exclusive : ±step_size]`访问，其中`from_inclusive`和`to_exclusive`是整数索引，`step_size`则是整数步长；\n",
    "- 列表可用`<list>.append(<el>)`或者`<list> += [<el>]`添加元素；\n",
    "- 列表还可以扩展`<list>.extend(<collection>)`或者`<list> += <collection>`；\n",
    "- 列表元素可以进行排序：`<list>.sort()`或`<list>=sorted(<collection>)`\n",
    "- 列表元素还可以逆序输出：`<list>.reverse()`或者`<list>=reversed(<list>)`\n",
    "- 列表可以进行推导计算：`<list> = [f(el) for el in <list>]`\n",
    "- 计算列表元素的和或积：`sum(<list>)`\n",
    "- 列表的乘法要注意是元素的重复：`[3] * 2`"
   ]
  },
  {
   "cell_type": "code",
   "execution_count": 56,
   "metadata": {},
   "outputs": [
    {
     "name": "stdout",
     "output_type": "stream",
     "text": [
      "sorted(li) =  [1, 3, 4, 5, 7, 9]\n",
      "The outer function, sorted() does not change the value of the original list\n",
      "li =  [3, 5, 1, 9, 7, 4]\n",
      "But the sort() method will do.\n",
      "li =  [1, 3, 4, 5, 7, 9]\n"
     ]
    }
   ],
   "source": [
    "## 给列表元素排序的两种方式\n",
    "li = [3,5,1,9,7,4]\n",
    "print(\"sorted(li) = \", sorted(li))\n",
    "print(\"The outer function, sorted() does not change the value of the original list\")\n",
    "print(\"li = \", li)\n",
    "print(\"But the sort() method will do.\")\n",
    "li.sort()\n",
    "print(\"li = \", li)"
   ]
  },
  {
   "cell_type": "code",
   "execution_count": 57,
   "metadata": {},
   "outputs": [
    {
     "name": "stdout",
     "output_type": "stream",
     "text": [
      "None\n",
      "[1, 3, 4, 5, 7, 9, [2, 3, 4]]\n"
     ]
    }
   ],
   "source": [
    "print(li.append([2,3,4]))\n",
    "print(li)"
   ]
  },
  {
   "cell_type": "code",
   "execution_count": 63,
   "metadata": {},
   "outputs": [],
   "source": [
    "li.append((10,9))"
   ]
  },
  {
   "cell_type": "markdown",
   "metadata": {},
   "source": [
    "- 注意，在使用`extend()`的时候后面跟的参数必须是collection，而不能是单个元素\n",
    "- 而在使用`append()`的时候，跟的是元素，如果不是元素，会被作为列表的单个元素"
   ]
  },
  {
   "cell_type": "code",
   "execution_count": 64,
   "metadata": {},
   "outputs": [
    {
     "name": "stdout",
     "output_type": "stream",
     "text": [
      "[1, 3, 4, 5, 7, 9, [2, 3, 4], 7, 8, (10, 9), (10, 9), 7, 8]\n"
     ]
    }
   ],
   "source": [
    "li.extend((7,8))\n",
    "print(li)"
   ]
  },
  {
   "cell_type": "markdown",
   "metadata": {},
   "source": [
    "- 计算列表元素的和"
   ]
  },
  {
   "cell_type": "code",
   "execution_count": 71,
   "metadata": {},
   "outputs": [
    {
     "name": "stdout",
     "output_type": "stream",
     "text": [
      "29\n"
     ]
    }
   ],
   "source": [
    "print(sum(li))"
   ]
  },
  {
   "cell_type": "markdown",
   "metadata": {},
   "source": [
    "- 计算列表元素的乘积"
   ]
  },
  {
   "cell_type": "code",
   "execution_count": 70,
   "metadata": {},
   "outputs": [
    {
     "name": "stdout",
     "output_type": "stream",
     "text": [
      "3780\n"
     ]
    }
   ],
   "source": [
    "from functools import reduce\n",
    "p = reduce(lambda x, y: x*y, li)\n",
    "print(p)"
   ]
  },
  {
   "cell_type": "markdown",
   "metadata": {},
   "source": [
    "- 字符串可以转化为list"
   ]
  },
  {
   "cell_type": "code",
   "execution_count": 58,
   "metadata": {},
   "outputs": [
    {
     "name": "stdout",
     "output_type": "stream",
     "text": [
      "['a', 'b', 'c', 'd', 'e', 'f', 'g']\n"
     ]
    }
   ],
   "source": [
    "s = \"abcdefg\"\n",
    "sl = list(s)\n",
    "print(sl)"
   ]
  },
  {
   "cell_type": "code",
   "execution_count": 59,
   "metadata": {},
   "outputs": [
    {
     "name": "stdout",
     "output_type": "stream",
     "text": [
      "['ab', 'defg']\n"
     ]
    }
   ],
   "source": [
    "print(s.split(\"c\"))"
   ]
  },
  {
   "cell_type": "code",
   "execution_count": 60,
   "metadata": {},
   "outputs": [],
   "source": [
    "s.split?"
   ]
  },
  {
   "cell_type": "markdown",
   "metadata": {},
   "source": [
    "- 对应的字符串list也能用`join`函数连接为字符串"
   ]
  },
  {
   "cell_type": "code",
   "execution_count": 61,
   "metadata": {},
   "outputs": [
    {
     "name": "stdout",
     "output_type": "stream",
     "text": [
      "a:b:c:d:e:f:g\n"
     ]
    }
   ],
   "source": [
    "print(\":\".join(sl))"
   ]
  },
  {
   "cell_type": "markdown",
   "metadata": {},
   "source": [
    "- 列表与整数的乘积要注意"
   ]
  },
  {
   "cell_type": "code",
   "execution_count": 17,
   "metadata": {},
   "outputs": [
    {
     "name": "stdout",
     "output_type": "stream",
     "text": [
      "[[], [3], [3, 3], [3, 3, 3], [3, 3, 3, 3]]\n"
     ]
    }
   ],
   "source": [
    "print([[3]*i for i in range(5)])"
   ]
  },
  {
   "cell_type": "markdown",
   "metadata": {},
   "source": [
    "- 列表推导（list comprehension）"
   ]
  },
  {
   "cell_type": "code",
   "execution_count": 49,
   "metadata": {},
   "outputs": [
    {
     "name": "stdout",
     "output_type": "stream",
     "text": [
      "[[1, 2, 3, 4, 5, 6, 7, 8, 9], [2, 4, 6, 8, 10, 12, 14, 16, 18], [3, 6, 9, 12, 15, 18, 21, 24, 27], [4, 8, 12, 16, 20, 24, 28, 32, 36], [5, 10, 15, 20, 25, 30, 35, 40, 45], [6, 12, 18, 24, 30, 36, 42, 48, 54], [7, 14, 21, 28, 35, 42, 49, 56, 63], [8, 16, 24, 32, 40, 48, 56, 64, 72], [9, 18, 27, 36, 45, 54, 63, 72, 81]]\n"
     ]
    }
   ],
   "source": [
    "mat = [[i*j for j in range(1,10)] for i in range(1,10)]\n",
    "print(mat)"
   ]
  },
  {
   "cell_type": "code",
   "execution_count": 50,
   "metadata": {},
   "outputs": [
    {
     "data": {
      "text/plain": [
       "True"
      ]
     },
     "execution_count": 50,
     "metadata": {},
     "output_type": "execute_result"
    }
   ],
   "source": [
    "all(line[0] for line in mat)"
   ]
  },
  {
   "cell_type": "code",
   "execution_count": 35,
   "metadata": {},
   "outputs": [
    {
     "name": "stdout",
     "output_type": "stream",
     "text": [
      "Element  1  is  1\n",
      "Element  2  is  2\n",
      "Element  3  is  3\n",
      "Element  4  is  4\n",
      "Element  5  is  5\n"
     ]
    }
   ],
   "source": [
    "li = [1,2,3,4,5]\n",
    "for ind, el in enumerate(li):\n",
    "    print(\"Element \", ind +1, \" is \", el)"
   ]
  },
  {
   "cell_type": "code",
   "execution_count": 36,
   "metadata": {},
   "outputs": [
    {
     "name": "stdout",
     "output_type": "stream",
     "text": [
      "[1, 2, 3, 6, 4, 5]\n"
     ]
    }
   ],
   "source": [
    "li.insert(3, 6)\n",
    "print(li)"
   ]
  },
  {
   "cell_type": "code",
   "execution_count": 37,
   "metadata": {},
   "outputs": [
    {
     "data": {
      "text/plain": [
       "3"
      ]
     },
     "execution_count": 37,
     "metadata": {},
     "output_type": "execute_result"
    }
   ],
   "source": [
    "li.index(6)"
   ]
  },
  {
   "cell_type": "markdown",
   "metadata": {},
   "source": [
    "### 2.2 元组tuple\n",
    "- 元组的slice操作与list相类\n",
    "- 但是注意tuple是immutable的：也就是说，`append()`、`extend()`, `pop()`，`sort()`、`reverse()`等==修改tuple的操作不能有==\n",
    "- 查找元素对应的索引：`<tuple>.index(<el>[,from,to])`（如果元素不存在，抛出ValueError错误）\n",
    "- 统计某个元素出现的次数：`<tuple>.count(<el>)`（如果元素不存在，返回0）"
   ]
  },
  {
   "cell_type": "code",
   "execution_count": 45,
   "metadata": {},
   "outputs": [
    {
     "name": "stdout",
     "output_type": "stream",
     "text": [
      "(2, 8, 4, 3, 9, 3)\n"
     ]
    }
   ],
   "source": [
    "t = (2,8,4,3,9,3)\n",
    "print(t)"
   ]
  },
  {
   "cell_type": "code",
   "execution_count": 46,
   "metadata": {},
   "outputs": [],
   "source": [
    "?t.index"
   ]
  },
  {
   "cell_type": "code",
   "execution_count": 47,
   "metadata": {},
   "outputs": [
    {
     "data": {
      "text/plain": [
       "5"
      ]
     },
     "execution_count": 47,
     "metadata": {},
     "output_type": "execute_result"
    }
   ],
   "source": [
    "print(t.index(3, 4))"
   ]
  },
  {
   "cell_type": "code",
   "execution_count": 48,
   "metadata": {},
   "outputs": [
    {
     "ename": "ValueError",
     "evalue": "tuple.index(x): x not in tuple",
     "output_type": "error",
     "traceback": [
      "\u001b[0;31m---------------------------------------------------------------------------\u001b[0m",
      "\u001b[0;31mValueError\u001b[0m                                Traceback (most recent call last)",
      "\u001b[0;32m<ipython-input-48-3bc0374a84de>\u001b[0m in \u001b[0;36m<module>\u001b[0;34m\u001b[0m\n\u001b[0;32m----> 1\u001b[0;31m \u001b[0mt\u001b[0m\u001b[0;34m.\u001b[0m\u001b[0mindex\u001b[0m\u001b[0;34m(\u001b[0m\u001b[0;36m5\u001b[0m\u001b[0;34m)\u001b[0m\u001b[0;34m\u001b[0m\u001b[0;34m\u001b[0m\u001b[0m\n\u001b[0m",
      "\u001b[0;31mValueError\u001b[0m: tuple.index(x): x not in tuple"
     ]
    }
   ],
   "source": [
    "print(t.index(5))"
   ]
  },
  {
   "cell_type": "code",
   "execution_count": 52,
   "metadata": {},
   "outputs": [
    {
     "name": "stdout",
     "output_type": "stream",
     "text": [
      "0\n"
     ]
    }
   ],
   "source": [
    "print(t[2:].count(5))"
   ]
  },
  {
   "cell_type": "markdown",
   "metadata": {},
   "source": [
    "### 2.3 字典dict\n",
    "- 可以说，字典是键值对（key-value）的集合\n",
    "- 字典的键必须是唯一的（unique）且不可变的（immutable），所以哪些类型可以作为字典的键，字符串？整型数值？浮点数？集合？列表？元组？或者其他的类型\n",
    "- 创建字典：`<dict> = {<key1>:<val1>, <key2>:<val2>, ...}`或者`<dict>=dict()`\n",
    "- 返回键的列表（无序）：`<dict>.keys()`\n",
    "- 返回值的列表（无序）：`<dict>.values()`\n",
    "- 返回（键，值）构成的元组的列表：`<dict>.items()`\n",
    "- 返回某个键对应的值：`<dict>[<key>]`或者`<dict>.get(<key>, default=None)`\n",
    "- 设置某个键对应的默认值：`<dict>.setdefault(<key>, default=None)`\n",
    "- 具有固定默认值类型的defaultdict：`collections.defaultdict(<type>)`\n",
    "- 具有固定默认值的defaultdict：`collections.defaultdict(lambda: 1)`\n",
    "- 将具有key-value对的类型转换为字典：`dict(<collection>)`\n",
    "- 将两个list转换为dict：`dict(zip(<keys>, <vals>))`\n",
    "- 从键创建dict：`dict.fromkeys(<keys>[, <vals>])`\n",
    "- 更新键值对（如果已经存在的更新值，如果不存在的添加键值对）：`<dict>.update(<dict>)`\n",
    "- 删除元素（如果不存在key则抛出KeyError错误）：`val = <dict>.pop(<key>)`\n",
    "- 返回某个值对应的键的集合：`{k for k,v in <dict>.items() if v==value}`\n",
    "- 返回字典的子集：`{k:v for k, v in <dict>.items if k in <keys>}`"
   ]
  },
  {
   "cell_type": "code",
   "execution_count": null,
   "metadata": {},
   "outputs": [],
   "source": []
  },
  {
   "cell_type": "code",
   "execution_count": null,
   "metadata": {},
   "outputs": [],
   "source": []
  },
  {
   "cell_type": "markdown",
   "metadata": {},
   "source": [
    "### 2.4 集合set\n",
    "- 集合的定义：`<set> = set()`或`<set> = {<el>, <el>, ...}`\n",
    "- 集合添加元素：`<set>.add(<el>)`或者`<set> |= {<el>}`\n",
    "- 集合更新：`<set>.update(<collection>)`或者`<set> |= <set>`\n",
    "- 集合的并集：`<set>.union(<collection>)`或`<set> | <set>`\n",
    "- 集合的交集：`<set>.intersection(<collection>)`或`<set> & <set>`\n",
    "- 集合的差集：`<set>.difference(<collection>)`或`<set> - <set>`\n",
    "- 集合的对称差：`<set>.symmetric_difference(<collection>)`或`<set> ^ <set>`或`<set> | <set> - <set> & <set>`\n",
    "- 集合的包含关系：\n",
    "  * 子集：`<set>.issubset(<collection>)`或`<set> <= <set>`\n",
    "  * 超集：`<set>.issuperset(<collection>`或`<set> >= <set>`\n",
    "- 集合的其他操作：\n",
    "  * 弹出元素：`<el> = <set>.pop()`（如果集合为空，报错KeyError）\n",
    "  * 删除元素：`<set>.remove(<el>)`（如果元素不存在，报错KeyError）\n",
    "  * 删除元素：`<set>.discard(<el>)`（元素即使不存在也不报错）\n",
    "  \n",
    "#### 集合的延伸：frozen set\n",
    "- frozen set是不可变的（immutable）以及可散列化的（hashable，唯一性的保证）\n",
    "- 因此，frozen set可作为字典的键（key）和集合的元素\n",
    "- `<frozenset> = frozenset(<collection>)`"
   ]
  },
  {
   "cell_type": "code",
   "execution_count": 13,
   "metadata": {},
   "outputs": [
    {
     "data": {
      "text/plain": [
       "{frozenset({'a', 'c', 'g', 'n', 't'}): [0, 1, 2, 3, 4]}"
      ]
     },
     "execution_count": 13,
     "metadata": {},
     "output_type": "execute_result"
    }
   ],
   "source": [
    "fset = frozenset(['a', 'c', 'g', 't', 'n'])\n",
    "dict({fset:[0,1,2,3,4]})\n"
   ]
  },
  {
   "cell_type": "markdown",
   "metadata": {},
   "source": [
    "### 2.5 图形化数据结构"
   ]
  },
  {
   "cell_type": "code",
   "execution_count": 283,
   "metadata": {},
   "outputs": [
    {
     "data": {
      "image/svg+xml": [
       "<?xml version=\"1.0\" encoding=\"UTF-8\" standalone=\"no\"?>\n",
       "<!DOCTYPE svg PUBLIC \"-//W3C//DTD SVG 1.1//EN\"\n",
       " \"http://www.w3.org/Graphics/SVG/1.1/DTD/svg11.dtd\">\n",
       "<!-- Generated by graphviz version 2.30.1 (20180420.1509)\n",
       " -->\n",
       "<!-- Title: ObjectGraph Pages: 1 -->\n",
       "<svg width=\"180pt\" height=\"288pt\"\n",
       " viewBox=\"0.00 0.00 180.21 288.00\" xmlns=\"http://www.w3.org/2000/svg\" xmlns:xlink=\"http://www.w3.org/1999/xlink\">\n",
       "<g id=\"graph0\" class=\"graph\" transform=\"scale(1 1) rotate(0) translate(4 284)\">\n",
       "<title>ObjectGraph</title>\n",
       "<polygon fill=\"white\" stroke=\"white\" points=\"-4,5 -4,-284 177.207,-284 177.207,5 -4,5\"/>\n",
       "<!-- o140155454501104 -->\n",
       "<g id=\"node1\" class=\"node\"><title>o140155454501104</title>\n",
       "<polygon fill=\"#ffffff\" stroke=\"black\" points=\"158,-280 88,-280 88,-242 158,-242 158,-280\"/>\n",
       "<text text-anchor=\"middle\" x=\"123\" y=\"-264.8\" font-family=\"Times,serif\" font-size=\"14.00\" fill=\"red\">list</text>\n",
       "<text text-anchor=\"middle\" x=\"123\" y=\"-249.8\" font-family=\"Times,serif\" font-size=\"14.00\" fill=\"red\">3 items</text>\n",
       "</g>\n",
       "<!-- o140155492615504 -->\n",
       "<g id=\"node2\" class=\"node\"><title>o140155492615504</title>\n",
       "<polygon fill=\"#c3c3c3\" stroke=\"black\" points=\"70,-204 0,-204 0,-166 70,-166 70,-204\"/>\n",
       "<text text-anchor=\"middle\" x=\"35\" y=\"-188.8\" font-family=\"Times,serif\" font-size=\"14.00\">dict</text>\n",
       "<text text-anchor=\"middle\" x=\"35\" y=\"-173.8\" font-family=\"Times,serif\" font-size=\"14.00\">1 items</text>\n",
       "</g>\n",
       "<!-- o140155454501104&#45;&gt;o140155492615504 -->\n",
       "<g id=\"edge1\" class=\"edge\"><title>o140155454501104&#45;&gt;o140155492615504</title>\n",
       "<path fill=\"none\" stroke=\"black\" d=\"M101.247,-241.708C90.0578,-232.299 76.2635,-220.699 64.1643,-210.525\"/>\n",
       "<polygon fill=\"black\" stroke=\"black\" points=\"66.4088,-207.839 56.5026,-204.082 61.9036,-213.197 66.4088,-207.839\"/>\n",
       "</g>\n",
       "<!-- o140155454467120 -->\n",
       "<g id=\"node3\" class=\"node\"><title>o140155454467120</title>\n",
       "<polygon fill=\"#c3c3c3\" stroke=\"black\" points=\"158,-204 88,-204 88,-166 158,-166 158,-204\"/>\n",
       "<text text-anchor=\"middle\" x=\"123\" y=\"-188.8\" font-family=\"Times,serif\" font-size=\"14.00\">list</text>\n",
       "<text text-anchor=\"middle\" x=\"123\" y=\"-173.8\" font-family=\"Times,serif\" font-size=\"14.00\">1 items</text>\n",
       "</g>\n",
       "<!-- o140155454501104&#45;&gt;o140155454467120 -->\n",
       "<g id=\"edge2\" class=\"edge\"><title>o140155454501104&#45;&gt;o140155454467120</title>\n",
       "<path fill=\"none\" stroke=\"black\" d=\"M123,-241.708C123,-233.464 123,-223.538 123,-214.362\"/>\n",
       "<polygon fill=\"black\" stroke=\"black\" points=\"126.5,-214.082 123,-204.082 119.5,-214.082 126.5,-214.082\"/>\n",
       "</g>\n",
       "<!-- o140155384665424 -->\n",
       "<g id=\"node4\" class=\"node\"><title>o140155384665424</title>\n",
       "<polygon fill=\"#c3c3c3\" stroke=\"black\" points=\"106,-114 36,-114 36,-76 106,-76 106,-114\"/>\n",
       "<text text-anchor=\"middle\" x=\"71\" y=\"-98.8\" font-family=\"Times,serif\" font-size=\"14.00\">list</text>\n",
       "<text text-anchor=\"middle\" x=\"71\" y=\"-83.8\" font-family=\"Times,serif\" font-size=\"14.00\">1 items</text>\n",
       "</g>\n",
       "<!-- o140155454501104&#45;&gt;o140155384665424 -->\n",
       "<g id=\"edge3\" class=\"edge\"><title>o140155454501104&#45;&gt;o140155384665424</title>\n",
       "<path fill=\"none\" stroke=\"black\" d=\"M142.493,-241.75C151.845,-231.642 162.069,-218.256 167,-204 172.52,-188.039 174.654,-181.055 167,-166 155.974,-144.315 134.733,-127.754 115.028,-116.198\"/>\n",
       "<polygon fill=\"black\" stroke=\"black\" points=\"116.565,-113.047 106.125,-111.24 113.159,-119.163 116.565,-113.047\"/>\n",
       "</g>\n",
       "<!-- o140155492615504&#45;&gt;o140155384665424 -->\n",
       "<g id=\"edge4\" class=\"edge\"><title>o140155492615504&#45;&gt;o140155384665424</title>\n",
       "<path fill=\"none\" stroke=\"black\" d=\"M42.4592,-165.766C47.431,-153.613 54.0593,-137.411 59.6767,-123.679\"/>\n",
       "<polygon fill=\"black\" stroke=\"black\" points=\"63.0034,-124.791 63.5503,-114.21 56.5245,-122.141 63.0034,-124.791\"/>\n",
       "<text text-anchor=\"middle\" x=\"61.5\" y=\"-136.3\" font-family=\"Times,serif\" font-size=\"14.00\">a</text>\n",
       "</g>\n",
       "<!-- o140155454467120&#45;&gt;o140155384665424 -->\n",
       "<g id=\"edge5\" class=\"edge\"><title>o140155454467120&#45;&gt;o140155384665424</title>\n",
       "<path fill=\"none\" stroke=\"black\" d=\"M112.226,-165.766C104.905,-153.377 95.0972,-136.78 86.8848,-122.882\"/>\n",
       "<polygon fill=\"black\" stroke=\"black\" points=\"89.8612,-121.039 81.7606,-114.21 83.8347,-124.6 89.8612,-121.039\"/>\n",
       "</g>\n",
       "<!-- o93922015884032 -->\n",
       "<g id=\"node5\" class=\"node\"><title>o93922015884032</title>\n",
       "<polygon fill=\"#878787\" stroke=\"black\" points=\"98,-38 44,-38 44,-0 98,-0 98,-38\"/>\n",
       "<text text-anchor=\"middle\" x=\"71\" y=\"-22.8\" font-family=\"Times,serif\" font-size=\"14.00\">int</text>\n",
       "<text text-anchor=\"middle\" x=\"71\" y=\"-7.8\" font-family=\"Times,serif\" font-size=\"14.00\">1</text>\n",
       "</g>\n",
       "<!-- o140155384665424&#45;&gt;o93922015884032 -->\n",
       "<g id=\"edge6\" class=\"edge\"><title>o140155384665424&#45;&gt;o93922015884032</title>\n",
       "<path fill=\"none\" stroke=\"black\" d=\"M71,-75.7079C71,-67.4635 71,-57.5376 71,-48.3622\"/>\n",
       "<polygon fill=\"black\" stroke=\"black\" points=\"74.5001,-48.0817 71,-38.0817 67.5001,-48.0818 74.5001,-48.0817\"/>\n",
       "</g>\n",
       "</g>\n",
       "</svg>\n"
      ],
      "text/plain": [
       "<graphviz.files.Source at 0x7f787c672f10>"
      ]
     },
     "execution_count": 283,
     "metadata": {},
     "output_type": "execute_result"
    }
   ],
   "source": [
    "import objgraph\n",
    "x=[1]\n",
    "y=[x,[x],{'a':x}]\n",
    "objgraph.show_refs([y], filename=\"refs.png\")"
   ]
  },
  {
   "cell_type": "markdown",
   "metadata": {},
   "source": [
    "## 3. 函数function\n",
    "\n",
    "\n",
    "### 3.1 函数的定义definition和调用call\n",
    "\n",
    "1. 下面是函数`def f(x, y, z):`的定义，哪个是合法的调用方式？\n",
    " - [x] `f(x=1, y=2, z=3)`\n",
    " - [x] `f(1, 2, 3)`\n",
    " - [x] `f(1, y=2, z=3)`\n",
    " - [x] `f(1, 2, z=3)`\n",
    " \n",
    "2. 针对函数`def f(*, x, y, z):`的定义，哪个是合法的调用方式？\n",
    " - [x] `f(x=1, y=2, z=3)`\n",
    " - [ ] `f(1, 2, 3)`\n",
    " - [ ] `f(1, y=2, z=3)`\n",
    " - [ ] `f(1, 2, z=3)`\n",
    " \n",
    "3. 针对函数`def f(x, *, y, z):`的定义，哪个是合法的调用方式？\n",
    " - [x] `f(x=1, y=2, z=3)`\n",
    " - [ ] `f(1, 2, 3)`\n",
    " - [x] `f(1, y=2, z=3)`\n",
    " - [ ] `f(1, 2, z=3)`\n",
    " \n",
    "4. 针对函数`def f(x, y, *，z):`的定义，哪个是合法的调用方式？\n",
    " - [x] `f(x=1, y=2, z=3)`\n",
    " - [ ] `f(1, 2, 3)`\n",
    " - [x] `f(1, y=2, z=3)`\n",
    " - [x] `f(1, 2, z=3)`"
   ]
  },
  {
   "cell_type": "code",
   "execution_count": 78,
   "metadata": {},
   "outputs": [],
   "source": [
    "def f(*, x, y, z):\n",
    "    return x + y + z"
   ]
  },
  {
   "cell_type": "code",
   "execution_count": 80,
   "metadata": {},
   "outputs": [
    {
     "data": {
      "text/plain": [
       "6"
      ]
     },
     "execution_count": 80,
     "metadata": {},
     "output_type": "execute_result"
    }
   ],
   "source": [
    "f(x=1,y=2,z=3)"
   ]
  },
  {
   "cell_type": "code",
   "execution_count": 81,
   "metadata": {},
   "outputs": [
    {
     "ename": "TypeError",
     "evalue": "f() takes 0 positional arguments but 3 were given",
     "output_type": "error",
     "traceback": [
      "\u001b[0;31m---------------------------------------------------------------------------\u001b[0m",
      "\u001b[0;31mTypeError\u001b[0m                                 Traceback (most recent call last)",
      "\u001b[0;32m<ipython-input-81-1c2a18ab906a>\u001b[0m in \u001b[0;36m<module>\u001b[0;34m\u001b[0m\n\u001b[0;32m----> 1\u001b[0;31m \u001b[0mf\u001b[0m\u001b[0;34m(\u001b[0m\u001b[0;36m1\u001b[0m\u001b[0;34m,\u001b[0m \u001b[0;36m2\u001b[0m\u001b[0;34m,\u001b[0m \u001b[0;36m3\u001b[0m\u001b[0;34m)\u001b[0m\u001b[0;34m\u001b[0m\u001b[0;34m\u001b[0m\u001b[0m\n\u001b[0m",
      "\u001b[0;31mTypeError\u001b[0m: f() takes 0 positional arguments but 3 were given"
     ]
    }
   ],
   "source": [
    "f(1, 2, 3)"
   ]
  },
  {
   "cell_type": "code",
   "execution_count": 82,
   "metadata": {},
   "outputs": [
    {
     "ename": "TypeError",
     "evalue": "f() takes 0 positional arguments but 1 positional argument (and 2 keyword-only arguments) were given",
     "output_type": "error",
     "traceback": [
      "\u001b[0;31m---------------------------------------------------------------------------\u001b[0m",
      "\u001b[0;31mTypeError\u001b[0m                                 Traceback (most recent call last)",
      "\u001b[0;32m<ipython-input-82-6526c57d9719>\u001b[0m in \u001b[0;36m<module>\u001b[0;34m\u001b[0m\n\u001b[0;32m----> 1\u001b[0;31m \u001b[0mf\u001b[0m\u001b[0;34m(\u001b[0m\u001b[0;36m1\u001b[0m\u001b[0;34m,\u001b[0m \u001b[0my\u001b[0m\u001b[0;34m=\u001b[0m\u001b[0;36m2\u001b[0m\u001b[0;34m,\u001b[0m \u001b[0mz\u001b[0m\u001b[0;34m=\u001b[0m\u001b[0;36m3\u001b[0m\u001b[0;34m)\u001b[0m\u001b[0;34m\u001b[0m\u001b[0;34m\u001b[0m\u001b[0m\n\u001b[0m",
      "\u001b[0;31mTypeError\u001b[0m: f() takes 0 positional arguments but 1 positional argument (and 2 keyword-only arguments) were given"
     ]
    }
   ],
   "source": [
    "f(1, y=2, z=3)"
   ]
  },
  {
   "cell_type": "code",
   "execution_count": 83,
   "metadata": {},
   "outputs": [
    {
     "ename": "TypeError",
     "evalue": "f() takes 0 positional arguments but 2 positional arguments (and 1 keyword-only argument) were given",
     "output_type": "error",
     "traceback": [
      "\u001b[0;31m---------------------------------------------------------------------------\u001b[0m",
      "\u001b[0;31mTypeError\u001b[0m                                 Traceback (most recent call last)",
      "\u001b[0;32m<ipython-input-83-20d335f235d9>\u001b[0m in \u001b[0;36m<module>\u001b[0;34m\u001b[0m\n\u001b[0;32m----> 1\u001b[0;31m \u001b[0mf\u001b[0m\u001b[0;34m(\u001b[0m\u001b[0;36m1\u001b[0m\u001b[0;34m,\u001b[0m \u001b[0;36m2\u001b[0m\u001b[0;34m,\u001b[0m \u001b[0mz\u001b[0m\u001b[0;34m=\u001b[0m\u001b[0;36m3\u001b[0m\u001b[0;34m)\u001b[0m\u001b[0;34m\u001b[0m\u001b[0;34m\u001b[0m\u001b[0m\n\u001b[0m",
      "\u001b[0;31mTypeError\u001b[0m: f() takes 0 positional arguments but 2 positional arguments (and 1 keyword-only argument) were given"
     ]
    }
   ],
   "source": [
    "f(1, 2, z=3)"
   ]
  },
  {
   "cell_type": "code",
   "execution_count": 84,
   "metadata": {},
   "outputs": [
    {
     "data": {
      "text/plain": [
       "6"
      ]
     },
     "execution_count": 84,
     "metadata": {},
     "output_type": "execute_result"
    }
   ],
   "source": [
    "f(z=1, y=2, x=3)"
   ]
  },
  {
   "cell_type": "code",
   "execution_count": 85,
   "metadata": {},
   "outputs": [],
   "source": [
    "def f(*args):\n",
    "    return sum(args)"
   ]
  },
  {
   "cell_type": "code",
   "execution_count": 87,
   "metadata": {},
   "outputs": [
    {
     "data": {
      "text/plain": [
       "10"
      ]
     },
     "execution_count": 87,
     "metadata": {},
     "output_type": "execute_result"
    }
   ],
   "source": [
    "f(1,2,3,4)"
   ]
  },
  {
   "cell_type": "markdown",
   "metadata": {},
   "source": [
    "针对函数`def f(x=1,*args, **kargs):`的定义，哪个是合法的调用方式？\n",
    " - [x] `f(x=1, y=2, z=3)`\n",
    " - [x] `f(1, 2, 3)`\n",
    " - [x] `f(1, y=2, z=3)`\n",
    " - [x] `f(1, 2, z=3)`"
   ]
  },
  {
   "cell_type": "code",
   "execution_count": 115,
   "metadata": {},
   "outputs": [],
   "source": [
    "def f(x=1, *args, **kargs):\n",
    "    print(\"x = \", x)\n",
    "    return x + sum(args) + sum(kargs.values())"
   ]
  },
  {
   "cell_type": "code",
   "execution_count": 116,
   "metadata": {},
   "outputs": [
    {
     "name": "stdout",
     "output_type": "stream",
     "text": [
      "x =  1\n"
     ]
    },
    {
     "data": {
      "text/plain": [
       "6"
      ]
     },
     "execution_count": 116,
     "metadata": {},
     "output_type": "execute_result"
    }
   ],
   "source": [
    "f(x=1, y=2, z=3)"
   ]
  },
  {
   "cell_type": "code",
   "execution_count": 117,
   "metadata": {},
   "outputs": [
    {
     "name": "stdout",
     "output_type": "stream",
     "text": [
      "x =  1\n"
     ]
    },
    {
     "data": {
      "text/plain": [
       "6"
      ]
     },
     "execution_count": 117,
     "metadata": {},
     "output_type": "execute_result"
    }
   ],
   "source": [
    "f(1, 2, 3)"
   ]
  },
  {
   "cell_type": "code",
   "execution_count": 118,
   "metadata": {},
   "outputs": [
    {
     "name": "stdout",
     "output_type": "stream",
     "text": [
      "x =  1\n"
     ]
    },
    {
     "data": {
      "text/plain": [
       "8"
      ]
     },
     "execution_count": 118,
     "metadata": {},
     "output_type": "execute_result"
    }
   ],
   "source": [
    "f(1, y=3, z=4)"
   ]
  },
  {
   "cell_type": "code",
   "execution_count": 120,
   "metadata": {},
   "outputs": [
    {
     "name": "stdout",
     "output_type": "stream",
     "text": [
      "x =  1\n"
     ]
    },
    {
     "data": {
      "text/plain": [
       "11"
      ]
     },
     "execution_count": 120,
     "metadata": {},
     "output_type": "execute_result"
    }
   ],
   "source": [
    "f(1, 2, 3, z=5)"
   ]
  },
  {
   "cell_type": "markdown",
   "metadata": {},
   "source": [
    "### 3.2 迭代器（iterator）与生成器（generator）\n",
    "\n",
    "#### 迭代器\n",
    "> 任何具有`next()`方法和`iter()`方法的对象称为迭代器（iterator）。\n",
    "> `next()`方法要么返回下一个对象，要么返回StopError。\n",
    "> `iter()`方法返回`self`对象。\n",
    "\n",
    "- 迭代器定义：`<iter> = iter(<collection>)`  # `iter(<iter>)`   # returns unmodified iterator.\n",
    "- 通过函数定义：`<iter> = iter(<function>, to_exclusive)`      # A sequence of return values until 'to_exclusive'.\n",
    "- 逐个访问：`<el>   = next(<iter> [, default])`            # Raises StopIteration or returns 'default' on end.\n",
    "- 转换为列表：`<list> = list(<iter>)`                   # Returns a list of iterator's remaining elements."
   ]
  },
  {
   "cell_type": "code",
   "execution_count": 75,
   "metadata": {},
   "outputs": [
    {
     "name": "stdout",
     "output_type": "stream",
     "text": [
      "1\n",
      "2\n",
      "3\n",
      "4\n",
      "5\n"
     ]
    },
    {
     "ename": "StopIteration",
     "evalue": "",
     "output_type": "error",
     "traceback": [
      "\u001b[0;31m---------------------------------------------------------------------------\u001b[0m",
      "\u001b[0;31mStopIteration\u001b[0m                             Traceback (most recent call last)",
      "\u001b[0;32m<ipython-input-75-102cc4f89f54>\u001b[0m in \u001b[0;36m<module>\u001b[0;34m\u001b[0m\n\u001b[1;32m      2\u001b[0m \u001b[0mliter\u001b[0m \u001b[0;34m=\u001b[0m \u001b[0miter\u001b[0m\u001b[0;34m(\u001b[0m\u001b[0mli\u001b[0m\u001b[0;34m)\u001b[0m\u001b[0;34m\u001b[0m\u001b[0;34m\u001b[0m\u001b[0m\n\u001b[1;32m      3\u001b[0m \u001b[0;32mfor\u001b[0m \u001b[0mi\u001b[0m \u001b[0;32min\u001b[0m \u001b[0mrange\u001b[0m\u001b[0;34m(\u001b[0m\u001b[0;36m6\u001b[0m\u001b[0;34m)\u001b[0m\u001b[0;34m:\u001b[0m\u001b[0;34m\u001b[0m\u001b[0;34m\u001b[0m\u001b[0m\n\u001b[0;32m----> 4\u001b[0;31m     \u001b[0mprint\u001b[0m\u001b[0;34m(\u001b[0m\u001b[0mnext\u001b[0m\u001b[0;34m(\u001b[0m\u001b[0mliter\u001b[0m\u001b[0;34m)\u001b[0m\u001b[0;34m)\u001b[0m\u001b[0;34m\u001b[0m\u001b[0;34m\u001b[0m\u001b[0m\n\u001b[0m",
      "\u001b[0;31mStopIteration\u001b[0m: "
     ]
    }
   ],
   "source": [
    "li = [1,2,3,4,5]\n",
    "liter = iter(li)\n",
    "for i in range(6):\n",
    "    print(next(liter))"
   ]
  },
  {
   "cell_type": "markdown",
   "metadata": {},
   "source": [
    "这是一个生成迭代器类的例子："
   ]
  },
  {
   "cell_type": "code",
   "execution_count": 226,
   "metadata": {},
   "outputs": [
    {
     "data": {
      "text/plain": [
       "(1, 2, 3)"
      ]
     },
     "execution_count": 226,
     "metadata": {},
     "output_type": "execute_result"
    }
   ],
   "source": [
    "class Counter:\n",
    "    def __init__(self):\n",
    "        self.i = 0\n",
    "    def __next__(self):\n",
    "        self.i += 1\n",
    "        return self.i\n",
    "    def __iter__(self):\n",
    "        return self\n",
    "    \n",
    "counter = Counter()\n",
    "next(counter), next(counter), next(counter)"
   ]
  },
  {
   "cell_type": "code",
   "execution_count": 229,
   "metadata": {},
   "outputs": [
    {
     "data": {
      "text/plain": [
       "True"
      ]
     },
     "execution_count": 229,
     "metadata": {},
     "output_type": "execute_result"
    }
   ],
   "source": [
    "isinstance(counter, Counter)"
   ]
  },
  {
   "cell_type": "markdown",
   "metadata": {},
   "source": [
    "#### 可迭代的对象\n",
    "可迭代的对象包括：\n",
    "- 通过`iter()`函数返回的迭代器对象，比如`list_iterator`或者`set_iterator`\n",
    "- 通过`itertools`模块返回的对象，例如count/repeat/cycle等。\n",
    "- 通过生成器函数或生成器表达式返回的生成器。\n",
    "- 通过`open()`函数放回的`File`对象。"
   ]
  },
  {
   "cell_type": "markdown",
   "metadata": {},
   "source": [
    "#### 生成器\n",
    "- 所有包含`yield`语句的函数返回一个生成器\n",
    "- 生成器和迭代器两者是可以互换的"
   ]
  },
  {
   "cell_type": "code",
   "execution_count": 82,
   "metadata": {},
   "outputs": [],
   "source": [
    "def fib(limit):\n",
    "    n, a, b = 1, 0, 1\n",
    "    while n <= limit:\n",
    "        yield b\n",
    "        a, b = b, a+b\n",
    "        n += 1"
   ]
  },
  {
   "cell_type": "code",
   "execution_count": 84,
   "metadata": {},
   "outputs": [
    {
     "name": "stdout",
     "output_type": "stream",
     "text": [
      "1\n",
      "1\n",
      "2\n",
      "3\n",
      "5\n",
      "8\n",
      "13\n",
      "21\n",
      "34\n",
      "55\n"
     ]
    }
   ],
   "source": [
    "for el in fib(10):\n",
    "    print(el)"
   ]
  },
  {
   "cell_type": "code",
   "execution_count": null,
   "metadata": {},
   "outputs": [],
   "source": []
  },
  {
   "cell_type": "markdown",
   "metadata": {},
   "source": [
    "## 4. 流程控制Flow control\n",
    "- 流程控制与其他语言区别不大，唯一的就是Python通过缩进（indent）来表示程序块（block）\n",
    "- if的语法是`if...elif...else`\n",
    "- for的语法是`for ... in ...`\n",
    "- while的语法是`while <condition>:`\n",
    "- break/continue"
   ]
  },
  {
   "cell_type": "code",
   "execution_count": 66,
   "metadata": {},
   "outputs": [
    {
     "name": "stdout",
     "output_type": "stream",
     "text": [
      "equal\n"
     ]
    }
   ],
   "source": [
    "x = 5\n",
    "if x>5:\n",
    "    print(\"greater\")\n",
    "elif x<5:\n",
    "    print(\"less\")\n",
    "else:\n",
    "    print(\"equal\")"
   ]
  },
  {
   "cell_type": "code",
   "execution_count": 67,
   "metadata": {},
   "outputs": [],
   "source": [
    "while x < 10:\n",
    "    x += 1"
   ]
  },
  {
   "cell_type": "code",
   "execution_count": 73,
   "metadata": {},
   "outputs": [
    {
     "name": "stdout",
     "output_type": "stream",
     "text": [
      "1\n",
      "3\n",
      "9\n",
      "81\n"
     ]
    }
   ],
   "source": [
    "for i in range(5):\n",
    "    if i==3: continue\n",
    "    print(3**i)"
   ]
  },
  {
   "cell_type": "markdown",
   "metadata": {},
   "source": [
    "### 4.1 例外Exceptions"
   ]
  },
  {
   "cell_type": "markdown",
   "metadata": {},
   "source": [
    "#### 例外的简单范例"
   ]
  },
  {
   "cell_type": "code",
   "execution_count": null,
   "metadata": {},
   "outputs": [],
   "source": [
    "try:\n",
    "    <code>\n",
    "except <exception>:\n",
    "    <code>"
   ]
  },
  {
   "cell_type": "markdown",
   "metadata": {},
   "source": [
    "#### 例外的复杂范例"
   ]
  },
  {
   "cell_type": "code",
   "execution_count": null,
   "metadata": {},
   "outputs": [],
   "source": [
    "try:\n",
    "    <code_1>\n",
    "except <exception_a>:\n",
    "    <code_2_a>\n",
    "except <exception_b>:\n",
    "    <code_2_b>\n",
    "else:\n",
    "    <code_2_c>\n",
    "finally:\n",
    "    <code_3>"
   ]
  },
  {
   "cell_type": "markdown",
   "metadata": {},
   "source": [
    "#### 例外捕获Catching Exceptions"
   ]
  },
  {
   "cell_type": "code",
   "execution_count": null,
   "metadata": {},
   "outputs": [],
   "source": [
    "except <exception>:\n",
    "except <exception> as <name>:\n",
    "except (<exception>, ...):\n",
    "except (<exception>, ...) as <name>:"
   ]
  },
  {
   "cell_type": "markdown",
   "metadata": {},
   "source": []
  },
  {
   "cell_type": "markdown",
   "metadata": {},
   "source": [
    "## 5. 面向对象编程Object-oriented programming\n",
    "- 在Python中，一切都是对象\n",
    "- 定义类的时候的关键词是class，object为所有类的**基类（Base class）**\n",
    "- `__init__(self, *args)`是类的**初始化函数（Initializer）**；\n",
    "- `__new__(cls, *args)`才是类的**构造函数（constructor）**\n",
    "- 所有以`__`开头的变量和方法都是类的**私有变量和私有方法（private）**，只能在类内部访问\n",
    "- 方法定义的时候用**装饰器（Decorator）**可以声明**类方法（`@classmethod`）和静态方法（`@staticmethod`）**\n",
    "- 普通的方法是**成员方法**或**成员方法**。\n",
    "- 包裹在`__`和`__`之间的方法为**魔术方法**，一般都有特殊的含义：\n",
    "  * `__repr__()`和`__str__()`两种方法有什么差异？\n",
    "- 要获得实例`a`的所有属性，用`a.__dict__`\n",
    "- 要获得实例`a`的所有属性和方法，用`dir(a)`"
   ]
  },
  {
   "cell_type": "code",
   "execution_count": 125,
   "metadata": {},
   "outputs": [],
   "source": [
    "class MyClass(object):\n",
    "    \n",
    "    def __init__(self, val):\n",
    "        self.__val = val\n",
    "        \n",
    "    def __display(self, s):\n",
    "        print(\"{0}:{1}\".format(s, self.__val))\n",
    "        \n",
    "    def display(self, s):\n",
    "        self.__display(s)"
   ]
  },
  {
   "cell_type": "code",
   "execution_count": 126,
   "metadata": {},
   "outputs": [
    {
     "name": "stdout",
     "output_type": "stream",
     "text": [
      "Yesterday:5\n"
     ]
    }
   ],
   "source": [
    "inst = MyClass(5)\n",
    "inst.display(\"Yesterday\")"
   ]
  },
  {
   "cell_type": "code",
   "execution_count": 127,
   "metadata": {},
   "outputs": [
    {
     "ename": "AttributeError",
     "evalue": "'MyClass' object has no attribute '__val'",
     "output_type": "error",
     "traceback": [
      "\u001b[0;31m---------------------------------------------------------------------------\u001b[0m",
      "\u001b[0;31mAttributeError\u001b[0m                            Traceback (most recent call last)",
      "\u001b[0;32m<ipython-input-127-69f76b10ca01>\u001b[0m in \u001b[0;36m<module>\u001b[0;34m\u001b[0m\n\u001b[0;32m----> 1\u001b[0;31m \u001b[0mprint\u001b[0m\u001b[0;34m(\u001b[0m\u001b[0minst\u001b[0m\u001b[0;34m.\u001b[0m\u001b[0m__val\u001b[0m\u001b[0;34m)\u001b[0m\u001b[0;34m\u001b[0m\u001b[0;34m\u001b[0m\u001b[0m\n\u001b[0m",
      "\u001b[0;31mAttributeError\u001b[0m: 'MyClass' object has no attribute '__val'"
     ]
    }
   ],
   "source": [
    "print(inst.__val)"
   ]
  },
  {
   "cell_type": "code",
   "execution_count": 129,
   "metadata": {},
   "outputs": [
    {
     "ename": "AttributeError",
     "evalue": "'MyClass' object has no attribute '__display'",
     "output_type": "error",
     "traceback": [
      "\u001b[0;31m---------------------------------------------------------------------------\u001b[0m",
      "\u001b[0;31mAttributeError\u001b[0m                            Traceback (most recent call last)",
      "\u001b[0;32m<ipython-input-129-df67e5f6a84c>\u001b[0m in \u001b[0;36m<module>\u001b[0;34m\u001b[0m\n\u001b[0;32m----> 1\u001b[0;31m \u001b[0minst\u001b[0m\u001b[0;34m.\u001b[0m\u001b[0m__display\u001b[0m\u001b[0;34m(\u001b[0m\u001b[0;34m\"Yesterday\"\u001b[0m\u001b[0;34m)\u001b[0m\u001b[0;34m\u001b[0m\u001b[0;34m\u001b[0m\u001b[0m\n\u001b[0m",
      "\u001b[0;31mAttributeError\u001b[0m: 'MyClass' object has no attribute '__display'"
     ]
    }
   ],
   "source": [
    "inst.__display(\"Yesterday\")"
   ]
  },
  {
   "cell_type": "markdown",
   "metadata": {},
   "source": [
    "Python并没有真正实现类的私有变量，实际上，我们可以通过`_ClassName__varname`或者`_ClassName__methodname()`访问所谓的私有变量或方法："
   ]
  },
  {
   "cell_type": "code",
   "execution_count": 124,
   "metadata": {},
   "outputs": [
    {
     "name": "stdout",
     "output_type": "stream",
     "text": [
      "5\n"
     ]
    }
   ],
   "source": [
    "print(inst._MyClass__val)"
   ]
  },
  {
   "cell_type": "code",
   "execution_count": 128,
   "metadata": {},
   "outputs": [
    {
     "name": "stdout",
     "output_type": "stream",
     "text": [
      "Yesterday:5\n"
     ]
    }
   ],
   "source": [
    "inst._MyClass__display(\"Yesterday\")"
   ]
  },
  {
   "cell_type": "markdown",
   "metadata": {},
   "source": [
    "#### 类方法和静态方法的定义"
   ]
  },
  {
   "cell_type": "code",
   "execution_count": 254,
   "metadata": {},
   "outputs": [],
   "source": [
    "class ExampleClass:\n",
    "    def __init__(self, a):\n",
    "        self.a = a\n",
    "    def __repr__(self):\n",
    "        class_name = self.__class__.__name__\n",
    "        #return f'{class_name}({self.a!r})'\n",
    "        return f'{class_name}({self.a})'\n",
    "    def __str__(self):\n",
    "        return str(self.a)\n",
    "\n",
    "    @classmethod\n",
    "    def get_class_name(cls):\n",
    "        return cls.__name__"
   ]
  },
  {
   "cell_type": "markdown",
   "metadata": {},
   "source": [
    "#### 说明\n",
    "- 这里两种方法`__repr__`和`__str__`分别有其使用场合。一般来说，`print(<instance>)`调用的是`__str__()`方法，而`<instance>`调用的是`__repr__()`方法。\n",
    "- 在上面的例子中，在定义`__repr__()`方法时，采取了一种新的格式化输出字符串的方式：`f\"{class_name}({self.a!r})\"`，每个`{}`中的放置的是变量，如果强制要求用`__repr__()`的方式显示该变量，则后面加入`!r`，否则默认用`__str__`的方式显示。\n",
    "- `__repr__()`方法的返回结果必须是明确的（unambiguous）；而`__str__()`方法的返回结果必须是可读的；\n",
    "- 如果只定义了`__repr__()`方法，则`str()`也会返回相同的结果。"
   ]
  },
  {
   "cell_type": "code",
   "execution_count": 258,
   "metadata": {},
   "outputs": [],
   "source": [
    "example = ExampleClass(\"James\")"
   ]
  },
  {
   "cell_type": "code",
   "execution_count": 259,
   "metadata": {},
   "outputs": [
    {
     "name": "stdout",
     "output_type": "stream",
     "text": [
      "James\n"
     ]
    }
   ],
   "source": [
    "print(example)    # call __str__() method"
   ]
  },
  {
   "cell_type": "code",
   "execution_count": 260,
   "metadata": {},
   "outputs": [
    {
     "data": {
      "text/plain": [
       "ExampleClass(James)"
      ]
     },
     "execution_count": 260,
     "metadata": {},
     "output_type": "execute_result"
    }
   ],
   "source": [
    "example          # call __repr__() method"
   ]
  },
  {
   "cell_type": "markdown",
   "metadata": {},
   "source": [
    "#### 类的继承\n",
    "- 调用基类的`super().__init__()`方法进行初始化\n",
    "- 扩展其他的实例变量和方法"
   ]
  },
  {
   "cell_type": "code",
   "execution_count": null,
   "metadata": {},
   "outputs": [],
   "source": [
    "class Person:\n",
    "    def __init__(self, name, age):\n",
    "        self.name = name\n",
    "        self.age  = age\n",
    "\n",
    "class Employee(Person):\n",
    "    def __init__(self, name, age, staff_num):\n",
    "        super().__init__(name, age)\n",
    "        self.staff_num = staff_num"
   ]
  },
  {
   "cell_type": "markdown",
   "metadata": {},
   "source": [
    "#### 通过装饰器实现属性的设置和获取"
   ]
  },
  {
   "cell_type": "code",
   "execution_count": 224,
   "metadata": {},
   "outputs": [],
   "source": [
    "class MyClass:\n",
    "    @property\n",
    "    def a(self):\n",
    "        return self._a\n",
    "\n",
    "    @a.setter\n",
    "    def a(self, value):\n",
    "        self._a = value"
   ]
  },
  {
   "cell_type": "code",
   "execution_count": 225,
   "metadata": {},
   "outputs": [
    {
     "name": "stdout",
     "output_type": "stream",
     "text": [
      "123\n"
     ]
    }
   ],
   "source": [
    "el = MyClass()\n",
    "el.a = 123\n",
    "print(el.a)"
   ]
  },
  {
   "cell_type": "markdown",
   "metadata": {},
   "source": [
    "### 5.1 抽象基类（Abstract Base Classes, ABC）"
   ]
  },
  {
   "cell_type": "code",
   "execution_count": 264,
   "metadata": {},
   "outputs": [],
   "source": [
    "from collections.abc import Hashable, Iterable, Reversible"
   ]
  },
  {
   "cell_type": "code",
   "execution_count": 265,
   "metadata": {},
   "outputs": [
    {
     "data": {
      "text/plain": [
       "True"
      ]
     },
     "execution_count": 265,
     "metadata": {},
     "output_type": "execute_result"
    }
   ],
   "source": [
    "isinstance([1,2,3,4,5], Reversible)"
   ]
  },
  {
   "cell_type": "code",
   "execution_count": 266,
   "metadata": {},
   "outputs": [
    {
     "data": {
      "text/plain": [
       "True"
      ]
     },
     "execution_count": 266,
     "metadata": {},
     "output_type": "execute_result"
    }
   ],
   "source": [
    "isinstance(2.5, Hashable)"
   ]
  },
  {
   "cell_type": "code",
   "execution_count": 267,
   "metadata": {},
   "outputs": [
    {
     "data": {
      "text/plain": [
       "True"
      ]
     },
     "execution_count": 267,
     "metadata": {},
     "output_type": "execute_result"
    }
   ],
   "source": [
    "isinstance((1,2,3,4), Iterable)"
   ]
  },
  {
   "cell_type": "code",
   "execution_count": 271,
   "metadata": {},
   "outputs": [
    {
     "data": {
      "text/plain": [
       "False"
      ]
     },
     "execution_count": 271,
     "metadata": {},
     "output_type": "execute_result"
    }
   ],
   "source": [
    "isinstance(dict().keys(), Hashable)"
   ]
  },
  {
   "cell_type": "markdown",
   "metadata": {},
   "source": [
    "### <font color=\"red\">练习</font>\n",
    "#### 深层拷贝与浅层拷贝（`copy.copy` and `copy.deepcopy`）\n",
    "1. 你能否说出深层拷贝和浅层拷贝的区别？\n",
    "  * [x] 深层拷贝和浅层拷贝都是针对复合数据类型如list或者类实例的\n",
    "  * [x] 深层拷贝和浅层拷贝都建立对象的拷贝\n",
    "  * [ ] 深层拷贝与原数据对象共享内部数据\n",
    "  * [x] 浅层拷贝与原数据对象共享内部数据\n",
    "  \n",
    "2. 对于下面的类的实例，对其进行深层拷贝后，产生的数据对象与原对象有什么关系？\n",
    "  * [x] "
   ]
  },
  {
   "cell_type": "code",
   "execution_count": 280,
   "metadata": {},
   "outputs": [],
   "source": [
    "from copy import copy, deepcopy"
   ]
  },
  {
   "cell_type": "code",
   "execution_count": 278,
   "metadata": {},
   "outputs": [
    {
     "name": "stdout",
     "output_type": "stream",
     "text": [
      "Generic (shallow and deep) copying operations.\n",
      "\n",
      "Interface summary:\n",
      "\n",
      "        import copy\n",
      "\n",
      "        x = copy.copy(y)        # make a shallow copy of y\n",
      "        x = copy.deepcopy(y)    # make a deep copy of y\n",
      "\n",
      "For module specific errors, copy.Error is raised.\n",
      "\n",
      "The difference between shallow and deep copying is only relevant for\n",
      "compound objects (objects that contain other objects, like lists or\n",
      "class instances).\n",
      "\n",
      "- A shallow copy constructs a new compound object and then (to the\n",
      "  extent possible) inserts *the same objects* into it that the\n",
      "  original contains.\n",
      "\n",
      "- A deep copy constructs a new compound object and then, recursively,\n",
      "  inserts *copies* into it of the objects found in the original.\n",
      "\n",
      "Two problems often exist with deep copy operations that don't exist\n",
      "with shallow copy operations:\n",
      "\n",
      " a) recursive objects (compound objects that, directly or indirectly,\n",
      "    contain a reference to themselves) may cause a recursive loop\n",
      "\n",
      " b) because deep copy copies *everything* it may copy too much, e.g.\n",
      "    administrative data structures that should be shared even between\n",
      "    copies\n",
      "\n",
      "Python's deep copy operation avoids these problems by:\n",
      "\n",
      " a) keeping a table of objects already copied during the current\n",
      "    copying pass\n",
      "\n",
      " b) letting user-defined classes override the copying operation or the\n",
      "    set of components copied\n",
      "\n",
      "This version does not copy types like module, class, function, method,\n",
      "nor stack trace, stack frame, nor file, socket, window, nor array, nor\n",
      "any similar types.\n",
      "\n",
      "Classes can use the same interfaces to control copying that they use\n",
      "to control pickling: they can define methods called __getinitargs__(),\n",
      "__getstate__() and __setstate__().  See the documentation for module\n",
      "\"pickle\" for information on these methods.\n",
      "\n"
     ]
    }
   ],
   "source": [
    "print(copy.__doc__)"
   ]
  },
  {
   "cell_type": "code",
   "execution_count": 325,
   "metadata": {},
   "outputs": [
    {
     "name": "stdout",
     "output_type": "stream",
     "text": [
      "Original value: \n",
      "[1, 2, [3, 4]] [1, 2, [3, 4]] [1, 2, [3, 4]] [1, 2, [3, 4]]\n"
     ]
    }
   ],
   "source": [
    "origin = [1,2,[3,4]]\n",
    "cop1 = origin\n",
    "cop2 = copy.copy(origin)\n",
    "cop3 = copy.deepcopy(origin)\n",
    "print(\"Original value: \")\n",
    "print(origin, cop1, cop2, cop3)"
   ]
  },
  {
   "cell_type": "code",
   "execution_count": 327,
   "metadata": {},
   "outputs": [
    {
     "data": {
      "image/svg+xml": [
       "<?xml version=\"1.0\" encoding=\"UTF-8\" standalone=\"no\"?>\n",
       "<!DOCTYPE svg PUBLIC \"-//W3C//DTD SVG 1.1//EN\"\n",
       " \"http://www.w3.org/Graphics/SVG/1.1/DTD/svg11.dtd\">\n",
       "<!-- Generated by graphviz version 2.30.1 (20180420.1509)\n",
       " -->\n",
       "<!-- Title: ObjectGraph Pages: 1 -->\n",
       "<svg width=\"250pt\" height=\"194pt\"\n",
       " viewBox=\"0.00 0.00 250.00 194.00\" xmlns=\"http://www.w3.org/2000/svg\" xmlns:xlink=\"http://www.w3.org/1999/xlink\">\n",
       "<g id=\"graph0\" class=\"graph\" transform=\"scale(1 1) rotate(0) translate(4 190)\">\n",
       "<title>ObjectGraph</title>\n",
       "<polygon fill=\"white\" stroke=\"white\" points=\"-4,5 -4,-190 247,-190 247,5 -4,5\"/>\n",
       "<!-- o140155455336528 -->\n",
       "<g id=\"node1\" class=\"node\"><title>o140155455336528</title>\n",
       "<polygon fill=\"#ffffff\" stroke=\"black\" points=\"178,-186 108,-186 108,-148 178,-148 178,-186\"/>\n",
       "<text text-anchor=\"middle\" x=\"143\" y=\"-170.8\" font-family=\"Times,serif\" font-size=\"14.00\" fill=\"red\">list</text>\n",
       "<text text-anchor=\"middle\" x=\"143\" y=\"-155.8\" font-family=\"Times,serif\" font-size=\"14.00\" fill=\"red\">3 items</text>\n",
       "</g>\n",
       "<!-- o140155455340448 -->\n",
       "<g id=\"node2\" class=\"node\"><title>o140155455340448</title>\n",
       "<polygon fill=\"#c3c3c3\" stroke=\"black\" points=\"98,-112 28,-112 28,-74 98,-74 98,-112\"/>\n",
       "<text text-anchor=\"middle\" x=\"63\" y=\"-96.8\" font-family=\"Times,serif\" font-size=\"14.00\">list</text>\n",
       "<text text-anchor=\"middle\" x=\"63\" y=\"-81.8\" font-family=\"Times,serif\" font-size=\"14.00\">2 items</text>\n",
       "</g>\n",
       "<!-- o140155455336528&#45;&gt;o140155455340448 -->\n",
       "<g id=\"edge1\" class=\"edge\"><title>o140155455336528&#45;&gt;o140155455340448</title>\n",
       "<path fill=\"none\" stroke=\"black\" d=\"M122.813,-147.831C113.149,-139.134 101.42,-128.578 90.9184,-119.127\"/>\n",
       "<polygon fill=\"black\" stroke=\"black\" points=\"92.9553,-116.251 83.1809,-112.163 88.2725,-121.454 92.9553,-116.251\"/>\n",
       "</g>\n",
       "<!-- o93922015884064 -->\n",
       "<g id=\"node3\" class=\"node\"><title>o93922015884064</title>\n",
       "<polygon fill=\"#c3c3c3\" stroke=\"black\" points=\"170,-112 116,-112 116,-74 170,-74 170,-112\"/>\n",
       "<text text-anchor=\"middle\" x=\"143\" y=\"-96.8\" font-family=\"Times,serif\" font-size=\"14.00\">int</text>\n",
       "<text text-anchor=\"middle\" x=\"143\" y=\"-81.8\" font-family=\"Times,serif\" font-size=\"14.00\">2</text>\n",
       "</g>\n",
       "<!-- o140155455336528&#45;&gt;o93922015884064 -->\n",
       "<g id=\"edge2\" class=\"edge\"><title>o140155455336528&#45;&gt;o93922015884064</title>\n",
       "<path fill=\"none\" stroke=\"black\" d=\"M143,-147.831C143,-140.131 143,-130.974 143,-122.417\"/>\n",
       "<polygon fill=\"black\" stroke=\"black\" points=\"146.5,-122.413 143,-112.413 139.5,-122.413 146.5,-122.413\"/>\n",
       "</g>\n",
       "<!-- o93922015884032 -->\n",
       "<g id=\"node4\" class=\"node\"><title>o93922015884032</title>\n",
       "<polygon fill=\"#c3c3c3\" stroke=\"black\" points=\"242,-112 188,-112 188,-74 242,-74 242,-112\"/>\n",
       "<text text-anchor=\"middle\" x=\"215\" y=\"-96.8\" font-family=\"Times,serif\" font-size=\"14.00\">int</text>\n",
       "<text text-anchor=\"middle\" x=\"215\" y=\"-81.8\" font-family=\"Times,serif\" font-size=\"14.00\">1</text>\n",
       "</g>\n",
       "<!-- o140155455336528&#45;&gt;o93922015884032 -->\n",
       "<g id=\"edge3\" class=\"edge\"><title>o140155455336528&#45;&gt;o93922015884032</title>\n",
       "<path fill=\"none\" stroke=\"black\" d=\"M161.169,-147.831C169.715,-139.285 180.056,-128.944 189.38,-119.62\"/>\n",
       "<polygon fill=\"black\" stroke=\"black\" points=\"191.991,-121.959 196.587,-112.413 187.041,-117.009 191.991,-121.959\"/>\n",
       "</g>\n",
       "<!-- o140155455336528&#45;&gt;o140155455340448 -->\n",
       "<g id=\"edge4\" class=\"edge\"><title>o140155455336528&#45;&gt;o140155455340448</title>\n",
       "<path fill=\"none\" stroke=\"black\" d=\"M122.813,-147.831C113.149,-139.134 101.42,-128.578 90.9184,-119.127\"/>\n",
       "<polygon fill=\"black\" stroke=\"black\" points=\"92.9553,-116.251 83.1809,-112.163 88.2725,-121.454 92.9553,-116.251\"/>\n",
       "</g>\n",
       "<!-- o140155455336528&#45;&gt;o93922015884064 -->\n",
       "<g id=\"edge5\" class=\"edge\"><title>o140155455336528&#45;&gt;o93922015884064</title>\n",
       "<path fill=\"none\" stroke=\"black\" d=\"M143,-147.831C143,-140.131 143,-130.974 143,-122.417\"/>\n",
       "<polygon fill=\"black\" stroke=\"black\" points=\"146.5,-122.413 143,-112.413 139.5,-122.413 146.5,-122.413\"/>\n",
       "</g>\n",
       "<!-- o140155455336528&#45;&gt;o93922015884032 -->\n",
       "<g id=\"edge6\" class=\"edge\"><title>o140155455336528&#45;&gt;o93922015884032</title>\n",
       "<path fill=\"none\" stroke=\"black\" d=\"M161.169,-147.831C169.715,-139.285 180.056,-128.944 189.38,-119.62\"/>\n",
       "<polygon fill=\"black\" stroke=\"black\" points=\"191.991,-121.959 196.587,-112.413 187.041,-117.009 191.991,-121.959\"/>\n",
       "</g>\n",
       "<!-- o93922015884128 -->\n",
       "<g id=\"node5\" class=\"node\"><title>o93922015884128</title>\n",
       "<polygon fill=\"#878787\" stroke=\"black\" points=\"54,-38 0,-38 0,-0 54,-0 54,-38\"/>\n",
       "<text text-anchor=\"middle\" x=\"27\" y=\"-22.8\" font-family=\"Times,serif\" font-size=\"14.00\">int</text>\n",
       "<text text-anchor=\"middle\" x=\"27\" y=\"-7.8\" font-family=\"Times,serif\" font-size=\"14.00\">4</text>\n",
       "</g>\n",
       "<!-- o140155455340448&#45;&gt;o93922015884128 -->\n",
       "<g id=\"edge7\" class=\"edge\"><title>o140155455340448&#45;&gt;o93922015884128</title>\n",
       "<path fill=\"none\" stroke=\"black\" d=\"M53.9157,-73.8314C49.9385,-65.8771 45.1845,-56.369 40.7861,-47.5723\"/>\n",
       "<polygon fill=\"black\" stroke=\"black\" points=\"43.8093,-45.7923 36.2066,-38.4133 37.5483,-48.9228 43.8093,-45.7923\"/>\n",
       "</g>\n",
       "<!-- o93922015884096 -->\n",
       "<g id=\"node6\" class=\"node\"><title>o93922015884096</title>\n",
       "<polygon fill=\"#878787\" stroke=\"black\" points=\"126,-38 72,-38 72,-0 126,-0 126,-38\"/>\n",
       "<text text-anchor=\"middle\" x=\"99\" y=\"-22.8\" font-family=\"Times,serif\" font-size=\"14.00\">int</text>\n",
       "<text text-anchor=\"middle\" x=\"99\" y=\"-7.8\" font-family=\"Times,serif\" font-size=\"14.00\">3</text>\n",
       "</g>\n",
       "<!-- o140155455340448&#45;&gt;o93922015884096 -->\n",
       "<g id=\"edge8\" class=\"edge\"><title>o140155455340448&#45;&gt;o93922015884096</title>\n",
       "<path fill=\"none\" stroke=\"black\" d=\"M72.0843,-73.8314C76.0615,-65.8771 80.8155,-56.369 85.2139,-47.5723\"/>\n",
       "<polygon fill=\"black\" stroke=\"black\" points=\"88.4517,-48.9228 89.7934,-38.4133 82.1907,-45.7923 88.4517,-48.9228\"/>\n",
       "</g>\n",
       "</g>\n",
       "</svg>\n"
      ],
      "text/plain": [
       "<graphviz.files.Source at 0x7f787c123990>"
      ]
     },
     "execution_count": 327,
     "metadata": {},
     "output_type": "execute_result"
    }
   ],
   "source": [
    "objgraph.show_refs([origin, cop1], filename=\"same1.png\")"
   ]
  },
  {
   "cell_type": "code",
   "execution_count": 328,
   "metadata": {},
   "outputs": [
    {
     "data": {
      "image/svg+xml": [
       "<?xml version=\"1.0\" encoding=\"UTF-8\" standalone=\"no\"?>\n",
       "<!DOCTYPE svg PUBLIC \"-//W3C//DTD SVG 1.1//EN\"\n",
       " \"http://www.w3.org/Graphics/SVG/1.1/DTD/svg11.dtd\">\n",
       "<!-- Generated by graphviz version 2.30.1 (20180420.1509)\n",
       " -->\n",
       "<!-- Title: ObjectGraph Pages: 1 -->\n",
       "<svg width=\"250pt\" height=\"194pt\"\n",
       " viewBox=\"0.00 0.00 250.00 194.00\" xmlns=\"http://www.w3.org/2000/svg\" xmlns:xlink=\"http://www.w3.org/1999/xlink\">\n",
       "<g id=\"graph0\" class=\"graph\" transform=\"scale(1 1) rotate(0) translate(4 190)\">\n",
       "<title>ObjectGraph</title>\n",
       "<polygon fill=\"white\" stroke=\"white\" points=\"-4,5 -4,-190 247,-190 247,5 -4,5\"/>\n",
       "<!-- o140155455336528 -->\n",
       "<g id=\"node1\" class=\"node\"><title>o140155455336528</title>\n",
       "<polygon fill=\"#ffffff\" stroke=\"black\" points=\"130,-186 60,-186 60,-148 130,-148 130,-186\"/>\n",
       "<text text-anchor=\"middle\" x=\"95\" y=\"-170.8\" font-family=\"Times,serif\" font-size=\"14.00\" fill=\"red\">list</text>\n",
       "<text text-anchor=\"middle\" x=\"95\" y=\"-155.8\" font-family=\"Times,serif\" font-size=\"14.00\" fill=\"red\">3 items</text>\n",
       "</g>\n",
       "<!-- o140155455340448 -->\n",
       "<g id=\"node3\" class=\"node\"><title>o140155455340448</title>\n",
       "<polygon fill=\"#c3c3c3\" stroke=\"black\" points=\"98,-112 28,-112 28,-74 98,-74 98,-112\"/>\n",
       "<text text-anchor=\"middle\" x=\"63\" y=\"-96.8\" font-family=\"Times,serif\" font-size=\"14.00\">list</text>\n",
       "<text text-anchor=\"middle\" x=\"63\" y=\"-81.8\" font-family=\"Times,serif\" font-size=\"14.00\">2 items</text>\n",
       "</g>\n",
       "<!-- o140155455336528&#45;&gt;o140155455340448 -->\n",
       "<g id=\"edge1\" class=\"edge\"><title>o140155455336528&#45;&gt;o140155455340448</title>\n",
       "<path fill=\"none\" stroke=\"black\" d=\"M86.925,-147.831C83.3898,-139.877 79.164,-130.369 75.2544,-121.572\"/>\n",
       "<polygon fill=\"black\" stroke=\"black\" points=\"78.4435,-120.13 71.1837,-112.413 72.0468,-122.973 78.4435,-120.13\"/>\n",
       "</g>\n",
       "<!-- o93922015884064 -->\n",
       "<g id=\"node4\" class=\"node\"><title>o93922015884064</title>\n",
       "<polygon fill=\"#c3c3c3\" stroke=\"black\" points=\"170,-112 116,-112 116,-74 170,-74 170,-112\"/>\n",
       "<text text-anchor=\"middle\" x=\"143\" y=\"-96.8\" font-family=\"Times,serif\" font-size=\"14.00\">int</text>\n",
       "<text text-anchor=\"middle\" x=\"143\" y=\"-81.8\" font-family=\"Times,serif\" font-size=\"14.00\">2</text>\n",
       "</g>\n",
       "<!-- o140155455336528&#45;&gt;o93922015884064 -->\n",
       "<g id=\"edge2\" class=\"edge\"><title>o140155455336528&#45;&gt;o93922015884064</title>\n",
       "<path fill=\"none\" stroke=\"black\" d=\"M107.112,-147.831C112.528,-139.708 119.024,-129.964 124.992,-121.012\"/>\n",
       "<polygon fill=\"black\" stroke=\"black\" points=\"128.09,-122.675 130.724,-112.413 122.265,-118.792 128.09,-122.675\"/>\n",
       "</g>\n",
       "<!-- o93922015884032 -->\n",
       "<g id=\"node5\" class=\"node\"><title>o93922015884032</title>\n",
       "<polygon fill=\"#c3c3c3\" stroke=\"black\" points=\"242,-112 188,-112 188,-74 242,-74 242,-112\"/>\n",
       "<text text-anchor=\"middle\" x=\"215\" y=\"-96.8\" font-family=\"Times,serif\" font-size=\"14.00\">int</text>\n",
       "<text text-anchor=\"middle\" x=\"215\" y=\"-81.8\" font-family=\"Times,serif\" font-size=\"14.00\">1</text>\n",
       "</g>\n",
       "<!-- o140155455336528&#45;&gt;o93922015884032 -->\n",
       "<g id=\"edge3\" class=\"edge\"><title>o140155455336528&#45;&gt;o93922015884032</title>\n",
       "<path fill=\"none\" stroke=\"black\" d=\"M125.281,-147.831C141.6,-138.04 161.842,-125.895 178.967,-115.62\"/>\n",
       "<polygon fill=\"black\" stroke=\"black\" points=\"180.827,-118.586 187.601,-110.439 177.226,-112.583 180.827,-118.586\"/>\n",
       "</g>\n",
       "<!-- o140155455338208 -->\n",
       "<g id=\"node2\" class=\"node\"><title>o140155455338208</title>\n",
       "<polygon fill=\"#ffffff\" stroke=\"black\" points=\"218,-186 148,-186 148,-148 218,-148 218,-186\"/>\n",
       "<text text-anchor=\"middle\" x=\"183\" y=\"-170.8\" font-family=\"Times,serif\" font-size=\"14.00\" fill=\"red\">list</text>\n",
       "<text text-anchor=\"middle\" x=\"183\" y=\"-155.8\" font-family=\"Times,serif\" font-size=\"14.00\" fill=\"red\">3 items</text>\n",
       "</g>\n",
       "<!-- o140155455338208&#45;&gt;o140155455340448 -->\n",
       "<g id=\"edge4\" class=\"edge\"><title>o140155455338208&#45;&gt;o140155455340448</title>\n",
       "<path fill=\"none\" stroke=\"black\" d=\"M152.719,-147.831C137.37,-138.622 118.55,-127.33 102.118,-117.471\"/>\n",
       "<polygon fill=\"black\" stroke=\"black\" points=\"103.647,-114.307 93.2714,-112.163 100.046,-120.309 103.647,-114.307\"/>\n",
       "</g>\n",
       "<!-- o140155455338208&#45;&gt;o93922015884064 -->\n",
       "<g id=\"edge5\" class=\"edge\"><title>o140155455338208&#45;&gt;o93922015884064</title>\n",
       "<path fill=\"none\" stroke=\"black\" d=\"M172.906,-147.831C168.44,-139.792 163.093,-130.167 158.162,-121.292\"/>\n",
       "<polygon fill=\"black\" stroke=\"black\" points=\"161.146,-119.455 153.23,-112.413 155.027,-122.855 161.146,-119.455\"/>\n",
       "</g>\n",
       "<!-- o140155455338208&#45;&gt;o93922015884032 -->\n",
       "<g id=\"edge6\" class=\"edge\"><title>o140155455338208&#45;&gt;o93922015884032</title>\n",
       "<path fill=\"none\" stroke=\"black\" d=\"M191.075,-147.831C194.61,-139.877 198.836,-130.369 202.746,-121.572\"/>\n",
       "<polygon fill=\"black\" stroke=\"black\" points=\"205.953,-122.973 206.816,-112.413 199.557,-120.13 205.953,-122.973\"/>\n",
       "</g>\n",
       "<!-- o93922015884128 -->\n",
       "<g id=\"node6\" class=\"node\"><title>o93922015884128</title>\n",
       "<polygon fill=\"#878787\" stroke=\"black\" points=\"54,-38 0,-38 0,-0 54,-0 54,-38\"/>\n",
       "<text text-anchor=\"middle\" x=\"27\" y=\"-22.8\" font-family=\"Times,serif\" font-size=\"14.00\">int</text>\n",
       "<text text-anchor=\"middle\" x=\"27\" y=\"-7.8\" font-family=\"Times,serif\" font-size=\"14.00\">4</text>\n",
       "</g>\n",
       "<!-- o140155455340448&#45;&gt;o93922015884128 -->\n",
       "<g id=\"edge7\" class=\"edge\"><title>o140155455340448&#45;&gt;o93922015884128</title>\n",
       "<path fill=\"none\" stroke=\"black\" d=\"M53.9157,-73.8314C49.9385,-65.8771 45.1845,-56.369 40.7861,-47.5723\"/>\n",
       "<polygon fill=\"black\" stroke=\"black\" points=\"43.8093,-45.7923 36.2066,-38.4133 37.5483,-48.9228 43.8093,-45.7923\"/>\n",
       "</g>\n",
       "<!-- o93922015884096 -->\n",
       "<g id=\"node7\" class=\"node\"><title>o93922015884096</title>\n",
       "<polygon fill=\"#878787\" stroke=\"black\" points=\"126,-38 72,-38 72,-0 126,-0 126,-38\"/>\n",
       "<text text-anchor=\"middle\" x=\"99\" y=\"-22.8\" font-family=\"Times,serif\" font-size=\"14.00\">int</text>\n",
       "<text text-anchor=\"middle\" x=\"99\" y=\"-7.8\" font-family=\"Times,serif\" font-size=\"14.00\">3</text>\n",
       "</g>\n",
       "<!-- o140155455340448&#45;&gt;o93922015884096 -->\n",
       "<g id=\"edge8\" class=\"edge\"><title>o140155455340448&#45;&gt;o93922015884096</title>\n",
       "<path fill=\"none\" stroke=\"black\" d=\"M72.0843,-73.8314C76.0615,-65.8771 80.8155,-56.369 85.2139,-47.5723\"/>\n",
       "<polygon fill=\"black\" stroke=\"black\" points=\"88.4517,-48.9228 89.7934,-38.4133 82.1907,-45.7923 88.4517,-48.9228\"/>\n",
       "</g>\n",
       "</g>\n",
       "</svg>\n"
      ],
      "text/plain": [
       "<graphviz.files.Source at 0x7f7877c8e9d0>"
      ]
     },
     "execution_count": 328,
     "metadata": {},
     "output_type": "execute_result"
    }
   ],
   "source": [
    "objgraph.show_refs([origin, cop2], filename=\"shallow1.png\")"
   ]
  },
  {
   "cell_type": "code",
   "execution_count": 329,
   "metadata": {},
   "outputs": [
    {
     "data": {
      "image/svg+xml": [
       "<?xml version=\"1.0\" encoding=\"UTF-8\" standalone=\"no\"?>\n",
       "<!DOCTYPE svg PUBLIC \"-//W3C//DTD SVG 1.1//EN\"\n",
       " \"http://www.w3.org/Graphics/SVG/1.1/DTD/svg11.dtd\">\n",
       "<!-- Generated by graphviz version 2.30.1 (20180420.1509)\n",
       " -->\n",
       "<!-- Title: ObjectGraph Pages: 1 -->\n",
       "<svg width=\"310pt\" height=\"194pt\"\n",
       " viewBox=\"0.00 0.00 310.00 194.00\" xmlns=\"http://www.w3.org/2000/svg\" xmlns:xlink=\"http://www.w3.org/1999/xlink\">\n",
       "<g id=\"graph0\" class=\"graph\" transform=\"scale(1 1) rotate(0) translate(4 190)\">\n",
       "<title>ObjectGraph</title>\n",
       "<polygon fill=\"white\" stroke=\"white\" points=\"-4,5 -4,-190 307,-190 307,5 -4,5\"/>\n",
       "<!-- o140155455336528 -->\n",
       "<g id=\"node1\" class=\"node\"><title>o140155455336528</title>\n",
       "<polygon fill=\"#ffffff\" stroke=\"black\" points=\"142,-186 72,-186 72,-148 142,-148 142,-186\"/>\n",
       "<text text-anchor=\"middle\" x=\"107\" y=\"-170.8\" font-family=\"Times,serif\" font-size=\"14.00\" fill=\"red\">list</text>\n",
       "<text text-anchor=\"middle\" x=\"107\" y=\"-155.8\" font-family=\"Times,serif\" font-size=\"14.00\" fill=\"red\">3 items</text>\n",
       "</g>\n",
       "<!-- o140155455340448 -->\n",
       "<g id=\"node3\" class=\"node\"><title>o140155455340448</title>\n",
       "<polygon fill=\"#c3c3c3\" stroke=\"black\" points=\"70,-112 0,-112 0,-74 70,-74 70,-112\"/>\n",
       "<text text-anchor=\"middle\" x=\"35\" y=\"-96.8\" font-family=\"Times,serif\" font-size=\"14.00\">list</text>\n",
       "<text text-anchor=\"middle\" x=\"35\" y=\"-81.8\" font-family=\"Times,serif\" font-size=\"14.00\">2 items</text>\n",
       "</g>\n",
       "<!-- o140155455336528&#45;&gt;o140155455340448 -->\n",
       "<g id=\"edge1\" class=\"edge\"><title>o140155455336528&#45;&gt;o140155455340448</title>\n",
       "<path fill=\"none\" stroke=\"black\" d=\"M88.8314,-147.831C80.2848,-139.285 69.9443,-128.944 60.6198,-119.62\"/>\n",
       "<polygon fill=\"black\" stroke=\"black\" points=\"62.9592,-117.009 53.4133,-112.413 58.0095,-121.959 62.9592,-117.009\"/>\n",
       "</g>\n",
       "<!-- o93922015884064 -->\n",
       "<g id=\"node4\" class=\"node\"><title>o93922015884064</title>\n",
       "<polygon fill=\"#c3c3c3\" stroke=\"black\" points=\"142,-112 88,-112 88,-74 142,-74 142,-112\"/>\n",
       "<text text-anchor=\"middle\" x=\"115\" y=\"-96.8\" font-family=\"Times,serif\" font-size=\"14.00\">int</text>\n",
       "<text text-anchor=\"middle\" x=\"115\" y=\"-81.8\" font-family=\"Times,serif\" font-size=\"14.00\">2</text>\n",
       "</g>\n",
       "<!-- o140155455336528&#45;&gt;o93922015884064 -->\n",
       "<g id=\"edge2\" class=\"edge\"><title>o140155455336528&#45;&gt;o93922015884064</title>\n",
       "<path fill=\"none\" stroke=\"black\" d=\"M109.019,-147.831C109.874,-140.131 110.892,-130.974 111.843,-122.417\"/>\n",
       "<polygon fill=\"black\" stroke=\"black\" points=\"115.328,-122.739 112.954,-112.413 108.371,-121.966 115.328,-122.739\"/>\n",
       "</g>\n",
       "<!-- o93922015884032 -->\n",
       "<g id=\"node5\" class=\"node\"><title>o93922015884032</title>\n",
       "<polygon fill=\"#c3c3c3\" stroke=\"black\" points=\"214,-112 160,-112 160,-74 214,-74 214,-112\"/>\n",
       "<text text-anchor=\"middle\" x=\"187\" y=\"-96.8\" font-family=\"Times,serif\" font-size=\"14.00\">int</text>\n",
       "<text text-anchor=\"middle\" x=\"187\" y=\"-81.8\" font-family=\"Times,serif\" font-size=\"14.00\">1</text>\n",
       "</g>\n",
       "<!-- o140155455336528&#45;&gt;o93922015884032 -->\n",
       "<g id=\"edge3\" class=\"edge\"><title>o140155455336528&#45;&gt;o93922015884032</title>\n",
       "<path fill=\"none\" stroke=\"black\" d=\"M127.187,-147.831C136.851,-139.134 148.58,-128.578 159.082,-119.127\"/>\n",
       "<polygon fill=\"black\" stroke=\"black\" points=\"161.728,-121.454 166.819,-112.163 157.045,-116.251 161.728,-121.454\"/>\n",
       "</g>\n",
       "<!-- o140155492702240 -->\n",
       "<g id=\"node2\" class=\"node\"><title>o140155492702240</title>\n",
       "<polygon fill=\"#ffffff\" stroke=\"black\" points=\"230,-186 160,-186 160,-148 230,-148 230,-186\"/>\n",
       "<text text-anchor=\"middle\" x=\"195\" y=\"-170.8\" font-family=\"Times,serif\" font-size=\"14.00\" fill=\"red\">list</text>\n",
       "<text text-anchor=\"middle\" x=\"195\" y=\"-155.8\" font-family=\"Times,serif\" font-size=\"14.00\" fill=\"red\">3 items</text>\n",
       "</g>\n",
       "<!-- o140155454508480 -->\n",
       "<g id=\"node6\" class=\"node\"><title>o140155454508480</title>\n",
       "<polygon fill=\"#c3c3c3\" stroke=\"black\" points=\"302,-112 232,-112 232,-74 302,-74 302,-112\"/>\n",
       "<text text-anchor=\"middle\" x=\"267\" y=\"-96.8\" font-family=\"Times,serif\" font-size=\"14.00\">list</text>\n",
       "<text text-anchor=\"middle\" x=\"267\" y=\"-81.8\" font-family=\"Times,serif\" font-size=\"14.00\">2 items</text>\n",
       "</g>\n",
       "<!-- o140155492702240&#45;&gt;o140155454508480 -->\n",
       "<g id=\"edge4\" class=\"edge\"><title>o140155492702240&#45;&gt;o140155454508480</title>\n",
       "<path fill=\"none\" stroke=\"black\" d=\"M213.169,-147.831C221.715,-139.285 232.056,-128.944 241.38,-119.62\"/>\n",
       "<polygon fill=\"black\" stroke=\"black\" points=\"243.991,-121.959 248.587,-112.413 239.041,-117.009 243.991,-121.959\"/>\n",
       "</g>\n",
       "<!-- o140155492702240&#45;&gt;o93922015884064 -->\n",
       "<g id=\"edge5\" class=\"edge\"><title>o140155492702240&#45;&gt;o93922015884064</title>\n",
       "<path fill=\"none\" stroke=\"black\" d=\"M174.813,-147.831C165.149,-139.134 153.42,-128.578 142.918,-119.127\"/>\n",
       "<polygon fill=\"black\" stroke=\"black\" points=\"144.955,-116.251 135.181,-112.163 140.272,-121.454 144.955,-116.251\"/>\n",
       "</g>\n",
       "<!-- o140155492702240&#45;&gt;o93922015884032 -->\n",
       "<g id=\"edge6\" class=\"edge\"><title>o140155492702240&#45;&gt;o93922015884032</title>\n",
       "<path fill=\"none\" stroke=\"black\" d=\"M192.981,-147.831C192.126,-140.131 191.108,-130.974 190.157,-122.417\"/>\n",
       "<polygon fill=\"black\" stroke=\"black\" points=\"193.629,-121.966 189.046,-112.413 186.672,-122.739 193.629,-121.966\"/>\n",
       "</g>\n",
       "<!-- o93922015884128 -->\n",
       "<g id=\"node7\" class=\"node\"><title>o93922015884128</title>\n",
       "<polygon fill=\"#878787\" stroke=\"black\" points=\"142,-38 88,-38 88,-0 142,-0 142,-38\"/>\n",
       "<text text-anchor=\"middle\" x=\"115\" y=\"-22.8\" font-family=\"Times,serif\" font-size=\"14.00\">int</text>\n",
       "<text text-anchor=\"middle\" x=\"115\" y=\"-7.8\" font-family=\"Times,serif\" font-size=\"14.00\">4</text>\n",
       "</g>\n",
       "<!-- o140155455340448&#45;&gt;o93922015884128 -->\n",
       "<g id=\"edge7\" class=\"edge\"><title>o140155455340448&#45;&gt;o93922015884128</title>\n",
       "<path fill=\"none\" stroke=\"black\" d=\"M55.1874,-73.8314C64.8514,-65.1337 76.5796,-54.5783 87.0816,-45.1265\"/>\n",
       "<polygon fill=\"black\" stroke=\"black\" points=\"89.7275,-47.454 94.8191,-38.1628 85.0447,-42.251 89.7275,-47.454\"/>\n",
       "</g>\n",
       "<!-- o93922015884096 -->\n",
       "<g id=\"node8\" class=\"node\"><title>o93922015884096</title>\n",
       "<polygon fill=\"#878787\" stroke=\"black\" points=\"254,-38 200,-38 200,-0 254,-0 254,-38\"/>\n",
       "<text text-anchor=\"middle\" x=\"227\" y=\"-22.8\" font-family=\"Times,serif\" font-size=\"14.00\">int</text>\n",
       "<text text-anchor=\"middle\" x=\"227\" y=\"-7.8\" font-family=\"Times,serif\" font-size=\"14.00\">3</text>\n",
       "</g>\n",
       "<!-- o140155455340448&#45;&gt;o93922015884096 -->\n",
       "<g id=\"edge8\" class=\"edge\"><title>o140155455340448&#45;&gt;o93922015884096</title>\n",
       "<path fill=\"none\" stroke=\"black\" d=\"M70.0159,-77.5335C73.0487,-76.3236 76.0749,-75.1315 79,-74 116.701,-59.4167 160.199,-43.6739 190.235,-32.9709\"/>\n",
       "<polygon fill=\"black\" stroke=\"black\" points=\"191.627,-36.1907 199.877,-29.5433 189.282,-29.595 191.627,-36.1907\"/>\n",
       "</g>\n",
       "<!-- o140155454508480&#45;&gt;o93922015884128 -->\n",
       "<g id=\"edge9\" class=\"edge\"><title>o140155454508480&#45;&gt;o93922015884128</title>\n",
       "<path fill=\"none\" stroke=\"black\" d=\"M231.746,-75.3008C207.745,-63.9319 176.047,-48.9169 151.737,-37.4018\"/>\n",
       "<polygon fill=\"black\" stroke=\"black\" points=\"153.018,-34.1356 142.482,-33.0178 150.021,-40.4618 153.018,-34.1356\"/>\n",
       "</g>\n",
       "<!-- o140155454508480&#45;&gt;o93922015884096 -->\n",
       "<g id=\"edge10\" class=\"edge\"><title>o140155454508480&#45;&gt;o93922015884096</title>\n",
       "<path fill=\"none\" stroke=\"black\" d=\"M256.906,-73.8314C252.44,-65.7925 247.093,-56.1666 242.162,-47.2918\"/>\n",
       "<polygon fill=\"black\" stroke=\"black\" points=\"245.146,-45.4551 237.23,-38.4133 239.027,-48.8546 245.146,-45.4551\"/>\n",
       "</g>\n",
       "</g>\n",
       "</svg>\n"
      ],
      "text/plain": [
       "<graphviz.files.Source at 0x7f7877c8edd0>"
      ]
     },
     "execution_count": 329,
     "metadata": {},
     "output_type": "execute_result"
    }
   ],
   "source": [
    "objgraph.show_refs([origin, cop3], filename=\"deep1.png\")"
   ]
  },
  {
   "cell_type": "code",
   "execution_count": 330,
   "metadata": {},
   "outputs": [
    {
     "name": "stdout",
     "output_type": "stream",
     "text": [
      "After changed: \n",
      "[1, 8, [3, 5]] [1, 8, [3, 5]] [1, 2, [3, 5]] [1, 2, [3, 4]]\n"
     ]
    }
   ],
   "source": [
    "origin[1] = 8\n",
    "origin[2][1] = 5\n",
    "print(\"After changed: \")\n",
    "print(origin, cop1, cop2, cop3)"
   ]
  },
  {
   "cell_type": "code",
   "execution_count": 332,
   "metadata": {},
   "outputs": [
    {
     "name": "stdout",
     "output_type": "stream",
     "text": [
      "The same object\n"
     ]
    },
    {
     "data": {
      "image/svg+xml": [
       "<?xml version=\"1.0\" encoding=\"UTF-8\" standalone=\"no\"?>\n",
       "<!DOCTYPE svg PUBLIC \"-//W3C//DTD SVG 1.1//EN\"\n",
       " \"http://www.w3.org/Graphics/SVG/1.1/DTD/svg11.dtd\">\n",
       "<!-- Generated by graphviz version 2.30.1 (20180420.1509)\n",
       " -->\n",
       "<!-- Title: ObjectGraph Pages: 1 -->\n",
       "<svg width=\"250pt\" height=\"194pt\"\n",
       " viewBox=\"0.00 0.00 250.00 194.00\" xmlns=\"http://www.w3.org/2000/svg\" xmlns:xlink=\"http://www.w3.org/1999/xlink\">\n",
       "<g id=\"graph0\" class=\"graph\" transform=\"scale(1 1) rotate(0) translate(4 190)\">\n",
       "<title>ObjectGraph</title>\n",
       "<polygon fill=\"white\" stroke=\"white\" points=\"-4,5 -4,-190 247,-190 247,5 -4,5\"/>\n",
       "<!-- o140155455336528 -->\n",
       "<g id=\"node1\" class=\"node\"><title>o140155455336528</title>\n",
       "<polygon fill=\"#ffffff\" stroke=\"black\" points=\"178,-186 108,-186 108,-148 178,-148 178,-186\"/>\n",
       "<text text-anchor=\"middle\" x=\"143\" y=\"-170.8\" font-family=\"Times,serif\" font-size=\"14.00\" fill=\"red\">list</text>\n",
       "<text text-anchor=\"middle\" x=\"143\" y=\"-155.8\" font-family=\"Times,serif\" font-size=\"14.00\" fill=\"red\">3 items</text>\n",
       "</g>\n",
       "<!-- o140155455340448 -->\n",
       "<g id=\"node2\" class=\"node\"><title>o140155455340448</title>\n",
       "<polygon fill=\"#c3c3c3\" stroke=\"black\" points=\"98,-112 28,-112 28,-74 98,-74 98,-112\"/>\n",
       "<text text-anchor=\"middle\" x=\"63\" y=\"-96.8\" font-family=\"Times,serif\" font-size=\"14.00\">list</text>\n",
       "<text text-anchor=\"middle\" x=\"63\" y=\"-81.8\" font-family=\"Times,serif\" font-size=\"14.00\">2 items</text>\n",
       "</g>\n",
       "<!-- o140155455336528&#45;&gt;o140155455340448 -->\n",
       "<g id=\"edge1\" class=\"edge\"><title>o140155455336528&#45;&gt;o140155455340448</title>\n",
       "<path fill=\"none\" stroke=\"black\" d=\"M122.813,-147.831C113.149,-139.134 101.42,-128.578 90.9184,-119.127\"/>\n",
       "<polygon fill=\"black\" stroke=\"black\" points=\"92.9553,-116.251 83.1809,-112.163 88.2725,-121.454 92.9553,-116.251\"/>\n",
       "</g>\n",
       "<!-- o93922015884256 -->\n",
       "<g id=\"node3\" class=\"node\"><title>o93922015884256</title>\n",
       "<polygon fill=\"#c3c3c3\" stroke=\"black\" points=\"170,-112 116,-112 116,-74 170,-74 170,-112\"/>\n",
       "<text text-anchor=\"middle\" x=\"143\" y=\"-96.8\" font-family=\"Times,serif\" font-size=\"14.00\">int</text>\n",
       "<text text-anchor=\"middle\" x=\"143\" y=\"-81.8\" font-family=\"Times,serif\" font-size=\"14.00\">8</text>\n",
       "</g>\n",
       "<!-- o140155455336528&#45;&gt;o93922015884256 -->\n",
       "<g id=\"edge2\" class=\"edge\"><title>o140155455336528&#45;&gt;o93922015884256</title>\n",
       "<path fill=\"none\" stroke=\"black\" d=\"M143,-147.831C143,-140.131 143,-130.974 143,-122.417\"/>\n",
       "<polygon fill=\"black\" stroke=\"black\" points=\"146.5,-122.413 143,-112.413 139.5,-122.413 146.5,-122.413\"/>\n",
       "</g>\n",
       "<!-- o93922015884032 -->\n",
       "<g id=\"node4\" class=\"node\"><title>o93922015884032</title>\n",
       "<polygon fill=\"#c3c3c3\" stroke=\"black\" points=\"242,-112 188,-112 188,-74 242,-74 242,-112\"/>\n",
       "<text text-anchor=\"middle\" x=\"215\" y=\"-96.8\" font-family=\"Times,serif\" font-size=\"14.00\">int</text>\n",
       "<text text-anchor=\"middle\" x=\"215\" y=\"-81.8\" font-family=\"Times,serif\" font-size=\"14.00\">1</text>\n",
       "</g>\n",
       "<!-- o140155455336528&#45;&gt;o93922015884032 -->\n",
       "<g id=\"edge3\" class=\"edge\"><title>o140155455336528&#45;&gt;o93922015884032</title>\n",
       "<path fill=\"none\" stroke=\"black\" d=\"M161.169,-147.831C169.715,-139.285 180.056,-128.944 189.38,-119.62\"/>\n",
       "<polygon fill=\"black\" stroke=\"black\" points=\"191.991,-121.959 196.587,-112.413 187.041,-117.009 191.991,-121.959\"/>\n",
       "</g>\n",
       "<!-- o140155455336528&#45;&gt;o140155455340448 -->\n",
       "<g id=\"edge4\" class=\"edge\"><title>o140155455336528&#45;&gt;o140155455340448</title>\n",
       "<path fill=\"none\" stroke=\"black\" d=\"M122.813,-147.831C113.149,-139.134 101.42,-128.578 90.9184,-119.127\"/>\n",
       "<polygon fill=\"black\" stroke=\"black\" points=\"92.9553,-116.251 83.1809,-112.163 88.2725,-121.454 92.9553,-116.251\"/>\n",
       "</g>\n",
       "<!-- o140155455336528&#45;&gt;o93922015884256 -->\n",
       "<g id=\"edge5\" class=\"edge\"><title>o140155455336528&#45;&gt;o93922015884256</title>\n",
       "<path fill=\"none\" stroke=\"black\" d=\"M143,-147.831C143,-140.131 143,-130.974 143,-122.417\"/>\n",
       "<polygon fill=\"black\" stroke=\"black\" points=\"146.5,-122.413 143,-112.413 139.5,-122.413 146.5,-122.413\"/>\n",
       "</g>\n",
       "<!-- o140155455336528&#45;&gt;o93922015884032 -->\n",
       "<g id=\"edge6\" class=\"edge\"><title>o140155455336528&#45;&gt;o93922015884032</title>\n",
       "<path fill=\"none\" stroke=\"black\" d=\"M161.169,-147.831C169.715,-139.285 180.056,-128.944 189.38,-119.62\"/>\n",
       "<polygon fill=\"black\" stroke=\"black\" points=\"191.991,-121.959 196.587,-112.413 187.041,-117.009 191.991,-121.959\"/>\n",
       "</g>\n",
       "<!-- o93922015884160 -->\n",
       "<g id=\"node5\" class=\"node\"><title>o93922015884160</title>\n",
       "<polygon fill=\"#878787\" stroke=\"black\" points=\"54,-38 0,-38 0,-0 54,-0 54,-38\"/>\n",
       "<text text-anchor=\"middle\" x=\"27\" y=\"-22.8\" font-family=\"Times,serif\" font-size=\"14.00\">int</text>\n",
       "<text text-anchor=\"middle\" x=\"27\" y=\"-7.8\" font-family=\"Times,serif\" font-size=\"14.00\">5</text>\n",
       "</g>\n",
       "<!-- o140155455340448&#45;&gt;o93922015884160 -->\n",
       "<g id=\"edge7\" class=\"edge\"><title>o140155455340448&#45;&gt;o93922015884160</title>\n",
       "<path fill=\"none\" stroke=\"black\" d=\"M53.9157,-73.8314C49.9385,-65.8771 45.1845,-56.369 40.7861,-47.5723\"/>\n",
       "<polygon fill=\"black\" stroke=\"black\" points=\"43.8093,-45.7923 36.2066,-38.4133 37.5483,-48.9228 43.8093,-45.7923\"/>\n",
       "</g>\n",
       "<!-- o93922015884096 -->\n",
       "<g id=\"node6\" class=\"node\"><title>o93922015884096</title>\n",
       "<polygon fill=\"#878787\" stroke=\"black\" points=\"126,-38 72,-38 72,-0 126,-0 126,-38\"/>\n",
       "<text text-anchor=\"middle\" x=\"99\" y=\"-22.8\" font-family=\"Times,serif\" font-size=\"14.00\">int</text>\n",
       "<text text-anchor=\"middle\" x=\"99\" y=\"-7.8\" font-family=\"Times,serif\" font-size=\"14.00\">3</text>\n",
       "</g>\n",
       "<!-- o140155455340448&#45;&gt;o93922015884096 -->\n",
       "<g id=\"edge8\" class=\"edge\"><title>o140155455340448&#45;&gt;o93922015884096</title>\n",
       "<path fill=\"none\" stroke=\"black\" d=\"M72.0843,-73.8314C76.0615,-65.8771 80.8155,-56.369 85.2139,-47.5723\"/>\n",
       "<polygon fill=\"black\" stroke=\"black\" points=\"88.4517,-48.9228 89.7934,-38.4133 82.1907,-45.7923 88.4517,-48.9228\"/>\n",
       "</g>\n",
       "</g>\n",
       "</svg>\n"
      ],
      "text/plain": [
       "<graphviz.files.Source at 0x7f7877ebd890>"
      ]
     },
     "execution_count": 332,
     "metadata": {},
     "output_type": "execute_result"
    }
   ],
   "source": [
    "print(\"The same object\")\n",
    "objgraph.show_refs([origin, cop1], filename=\"same2.png\")"
   ]
  },
  {
   "cell_type": "code",
   "execution_count": 333,
   "metadata": {},
   "outputs": [
    {
     "name": "stdout",
     "output_type": "stream",
     "text": [
      "========Shallow Copy=========\n"
     ]
    },
    {
     "data": {
      "image/svg+xml": [
       "<?xml version=\"1.0\" encoding=\"UTF-8\" standalone=\"no\"?>\n",
       "<!DOCTYPE svg PUBLIC \"-//W3C//DTD SVG 1.1//EN\"\n",
       " \"http://www.w3.org/Graphics/SVG/1.1/DTD/svg11.dtd\">\n",
       "<!-- Generated by graphviz version 2.30.1 (20180420.1509)\n",
       " -->\n",
       "<!-- Title: ObjectGraph Pages: 1 -->\n",
       "<svg width=\"294pt\" height=\"194pt\"\n",
       " viewBox=\"0.00 0.00 294.00 194.00\" xmlns=\"http://www.w3.org/2000/svg\" xmlns:xlink=\"http://www.w3.org/1999/xlink\">\n",
       "<g id=\"graph0\" class=\"graph\" transform=\"scale(1 1) rotate(0) translate(4 190)\">\n",
       "<title>ObjectGraph</title>\n",
       "<polygon fill=\"white\" stroke=\"white\" points=\"-4,5 -4,-190 291,-190 291,5 -4,5\"/>\n",
       "<!-- o140155455336528 -->\n",
       "<g id=\"node1\" class=\"node\"><title>o140155455336528</title>\n",
       "<polygon fill=\"#ffffff\" stroke=\"black\" points=\"226,-186 156,-186 156,-148 226,-148 226,-186\"/>\n",
       "<text text-anchor=\"middle\" x=\"191\" y=\"-170.8\" font-family=\"Times,serif\" font-size=\"14.00\" fill=\"red\">list</text>\n",
       "<text text-anchor=\"middle\" x=\"191\" y=\"-155.8\" font-family=\"Times,serif\" font-size=\"14.00\" fill=\"red\">3 items</text>\n",
       "</g>\n",
       "<!-- o140155455340448 -->\n",
       "<g id=\"node3\" class=\"node\"><title>o140155455340448</title>\n",
       "<polygon fill=\"#c3c3c3\" stroke=\"black\" points=\"142,-112 72,-112 72,-74 142,-74 142,-112\"/>\n",
       "<text text-anchor=\"middle\" x=\"107\" y=\"-96.8\" font-family=\"Times,serif\" font-size=\"14.00\">list</text>\n",
       "<text text-anchor=\"middle\" x=\"107\" y=\"-81.8\" font-family=\"Times,serif\" font-size=\"14.00\">2 items</text>\n",
       "</g>\n",
       "<!-- o140155455336528&#45;&gt;o140155455340448 -->\n",
       "<g id=\"edge1\" class=\"edge\"><title>o140155455336528&#45;&gt;o140155455340448</title>\n",
       "<path fill=\"none\" stroke=\"black\" d=\"M169.803,-147.831C159.557,-139.048 147.1,-128.371 135.99,-118.849\"/>\n",
       "<polygon fill=\"black\" stroke=\"black\" points=\"138.06,-116.013 128.19,-112.163 133.505,-121.328 138.06,-116.013\"/>\n",
       "</g>\n",
       "<!-- o93922015884256 -->\n",
       "<g id=\"node4\" class=\"node\"><title>o93922015884256</title>\n",
       "<polygon fill=\"#c3c3c3\" stroke=\"black\" points=\"286,-112 232,-112 232,-74 286,-74 286,-112\"/>\n",
       "<text text-anchor=\"middle\" x=\"259\" y=\"-96.8\" font-family=\"Times,serif\" font-size=\"14.00\">int</text>\n",
       "<text text-anchor=\"middle\" x=\"259\" y=\"-81.8\" font-family=\"Times,serif\" font-size=\"14.00\">8</text>\n",
       "</g>\n",
       "<!-- o140155455336528&#45;&gt;o93922015884256 -->\n",
       "<g id=\"edge2\" class=\"edge\"><title>o140155455336528&#45;&gt;o93922015884256</title>\n",
       "<path fill=\"none\" stroke=\"black\" d=\"M208.159,-147.831C216.151,-139.369 225.804,-129.149 234.542,-119.897\"/>\n",
       "<polygon fill=\"black\" stroke=\"black\" points=\"237.288,-122.087 241.61,-112.413 232.199,-117.28 237.288,-122.087\"/>\n",
       "</g>\n",
       "<!-- o93922015884032 -->\n",
       "<g id=\"node5\" class=\"node\"><title>o93922015884032</title>\n",
       "<polygon fill=\"#c3c3c3\" stroke=\"black\" points=\"214,-112 160,-112 160,-74 214,-74 214,-112\"/>\n",
       "<text text-anchor=\"middle\" x=\"187\" y=\"-96.8\" font-family=\"Times,serif\" font-size=\"14.00\">int</text>\n",
       "<text text-anchor=\"middle\" x=\"187\" y=\"-81.8\" font-family=\"Times,serif\" font-size=\"14.00\">1</text>\n",
       "</g>\n",
       "<!-- o140155455336528&#45;&gt;o93922015884032 -->\n",
       "<g id=\"edge3\" class=\"edge\"><title>o140155455336528&#45;&gt;o93922015884032</title>\n",
       "<path fill=\"none\" stroke=\"black\" d=\"M189.991,-147.831C189.563,-140.131 189.054,-130.974 188.579,-122.417\"/>\n",
       "<polygon fill=\"black\" stroke=\"black\" points=\"192.072,-122.204 188.023,-112.413 185.083,-122.592 192.072,-122.204\"/>\n",
       "</g>\n",
       "<!-- o140155455338208 -->\n",
       "<g id=\"node2\" class=\"node\"><title>o140155455338208</title>\n",
       "<polygon fill=\"#ffffff\" stroke=\"black\" points=\"138,-186 68,-186 68,-148 138,-148 138,-186\"/>\n",
       "<text text-anchor=\"middle\" x=\"103\" y=\"-170.8\" font-family=\"Times,serif\" font-size=\"14.00\" fill=\"red\">list</text>\n",
       "<text text-anchor=\"middle\" x=\"103\" y=\"-155.8\" font-family=\"Times,serif\" font-size=\"14.00\" fill=\"red\">3 items</text>\n",
       "</g>\n",
       "<!-- o140155455338208&#45;&gt;o140155455340448 -->\n",
       "<g id=\"edge4\" class=\"edge\"><title>o140155455338208&#45;&gt;o140155455340448</title>\n",
       "<path fill=\"none\" stroke=\"black\" d=\"M104.009,-147.831C104.437,-140.131 104.946,-130.974 105.421,-122.417\"/>\n",
       "<polygon fill=\"black\" stroke=\"black\" points=\"108.917,-122.592 105.977,-112.413 101.928,-122.204 108.917,-122.592\"/>\n",
       "</g>\n",
       "<!-- o93922015884064 -->\n",
       "<g id=\"node6\" class=\"node\"><title>o93922015884064</title>\n",
       "<polygon fill=\"#c3c3c3\" stroke=\"black\" points=\"54,-112 0,-112 0,-74 54,-74 54,-112\"/>\n",
       "<text text-anchor=\"middle\" x=\"27\" y=\"-96.8\" font-family=\"Times,serif\" font-size=\"14.00\">int</text>\n",
       "<text text-anchor=\"middle\" x=\"27\" y=\"-81.8\" font-family=\"Times,serif\" font-size=\"14.00\">2</text>\n",
       "</g>\n",
       "<!-- o140155455338208&#45;&gt;o93922015884064 -->\n",
       "<g id=\"edge5\" class=\"edge\"><title>o140155455338208&#45;&gt;o93922015884064</title>\n",
       "<path fill=\"none\" stroke=\"black\" d=\"M83.822,-147.831C74.6412,-139.134 63.4994,-128.578 53.5224,-119.127\"/>\n",
       "<polygon fill=\"black\" stroke=\"black\" points=\"55.8385,-116.499 46.1719,-112.163 51.0243,-121.581 55.8385,-116.499\"/>\n",
       "</g>\n",
       "<!-- o140155455338208&#45;&gt;o93922015884032 -->\n",
       "<g id=\"edge6\" class=\"edge\"><title>o140155455338208&#45;&gt;o93922015884032</title>\n",
       "<path fill=\"none\" stroke=\"black\" d=\"M124.197,-147.831C134.443,-139.048 146.9,-128.371 158.01,-118.849\"/>\n",
       "<polygon fill=\"black\" stroke=\"black\" points=\"160.495,-121.328 165.81,-112.163 155.94,-116.013 160.495,-121.328\"/>\n",
       "</g>\n",
       "<!-- o93922015884160 -->\n",
       "<g id=\"node7\" class=\"node\"><title>o93922015884160</title>\n",
       "<polygon fill=\"#878787\" stroke=\"black\" points=\"98,-38 44,-38 44,-0 98,-0 98,-38\"/>\n",
       "<text text-anchor=\"middle\" x=\"71\" y=\"-22.8\" font-family=\"Times,serif\" font-size=\"14.00\">int</text>\n",
       "<text text-anchor=\"middle\" x=\"71\" y=\"-7.8\" font-family=\"Times,serif\" font-size=\"14.00\">5</text>\n",
       "</g>\n",
       "<!-- o140155455340448&#45;&gt;o93922015884160 -->\n",
       "<g id=\"edge7\" class=\"edge\"><title>o140155455340448&#45;&gt;o93922015884160</title>\n",
       "<path fill=\"none\" stroke=\"black\" d=\"M97.9157,-73.8314C93.9385,-65.8771 89.1845,-56.369 84.7861,-47.5723\"/>\n",
       "<polygon fill=\"black\" stroke=\"black\" points=\"87.8093,-45.7923 80.2066,-38.4133 81.5483,-48.9228 87.8093,-45.7923\"/>\n",
       "</g>\n",
       "<!-- o93922015884096 -->\n",
       "<g id=\"node8\" class=\"node\"><title>o93922015884096</title>\n",
       "<polygon fill=\"#878787\" stroke=\"black\" points=\"170,-38 116,-38 116,-0 170,-0 170,-38\"/>\n",
       "<text text-anchor=\"middle\" x=\"143\" y=\"-22.8\" font-family=\"Times,serif\" font-size=\"14.00\">int</text>\n",
       "<text text-anchor=\"middle\" x=\"143\" y=\"-7.8\" font-family=\"Times,serif\" font-size=\"14.00\">3</text>\n",
       "</g>\n",
       "<!-- o140155455340448&#45;&gt;o93922015884096 -->\n",
       "<g id=\"edge8\" class=\"edge\"><title>o140155455340448&#45;&gt;o93922015884096</title>\n",
       "<path fill=\"none\" stroke=\"black\" d=\"M116.084,-73.8314C120.061,-65.8771 124.815,-56.369 129.214,-47.5723\"/>\n",
       "<polygon fill=\"black\" stroke=\"black\" points=\"132.452,-48.9228 133.793,-38.4133 126.191,-45.7923 132.452,-48.9228\"/>\n",
       "</g>\n",
       "</g>\n",
       "</svg>\n"
      ],
      "text/plain": [
       "<graphviz.files.Source at 0x7f7877cad6d0>"
      ]
     },
     "execution_count": 333,
     "metadata": {},
     "output_type": "execute_result"
    }
   ],
   "source": [
    "print(\"========Shallow Copy=========\")\n",
    "objgraph.show_refs([origin, cop2], filename=\"shallow2.png\")"
   ]
  },
  {
   "cell_type": "code",
   "execution_count": 334,
   "metadata": {},
   "outputs": [
    {
     "name": "stdout",
     "output_type": "stream",
     "text": [
      "=========Deep Copy============\n"
     ]
    },
    {
     "data": {
      "image/svg+xml": [
       "<?xml version=\"1.0\" encoding=\"UTF-8\" standalone=\"no\"?>\n",
       "<!DOCTYPE svg PUBLIC \"-//W3C//DTD SVG 1.1//EN\"\n",
       " \"http://www.w3.org/Graphics/SVG/1.1/DTD/svg11.dtd\">\n",
       "<!-- Generated by graphviz version 2.30.1 (20180420.1509)\n",
       " -->\n",
       "<!-- Title: ObjectGraph Pages: 1 -->\n",
       "<svg width=\"382pt\" height=\"194pt\"\n",
       " viewBox=\"0.00 0.00 382.00 194.00\" xmlns=\"http://www.w3.org/2000/svg\" xmlns:xlink=\"http://www.w3.org/1999/xlink\">\n",
       "<g id=\"graph0\" class=\"graph\" transform=\"scale(1 1) rotate(0) translate(4 190)\">\n",
       "<title>ObjectGraph</title>\n",
       "<polygon fill=\"white\" stroke=\"white\" points=\"-4,5 -4,-190 379,-190 379,5 -4,5\"/>\n",
       "<!-- o140155455336528 -->\n",
       "<g id=\"node1\" class=\"node\"><title>o140155455336528</title>\n",
       "<polygon fill=\"#ffffff\" stroke=\"black\" points=\"150,-186 80,-186 80,-148 150,-148 150,-186\"/>\n",
       "<text text-anchor=\"middle\" x=\"115\" y=\"-170.8\" font-family=\"Times,serif\" font-size=\"14.00\" fill=\"red\">list</text>\n",
       "<text text-anchor=\"middle\" x=\"115\" y=\"-155.8\" font-family=\"Times,serif\" font-size=\"14.00\" fill=\"red\">3 items</text>\n",
       "</g>\n",
       "<!-- o140155455340448 -->\n",
       "<g id=\"node3\" class=\"node\"><title>o140155455340448</title>\n",
       "<polygon fill=\"#c3c3c3\" stroke=\"black\" points=\"70,-112 0,-112 0,-74 70,-74 70,-112\"/>\n",
       "<text text-anchor=\"middle\" x=\"35\" y=\"-96.8\" font-family=\"Times,serif\" font-size=\"14.00\">list</text>\n",
       "<text text-anchor=\"middle\" x=\"35\" y=\"-81.8\" font-family=\"Times,serif\" font-size=\"14.00\">2 items</text>\n",
       "</g>\n",
       "<!-- o140155455336528&#45;&gt;o140155455340448 -->\n",
       "<g id=\"edge1\" class=\"edge\"><title>o140155455336528&#45;&gt;o140155455340448</title>\n",
       "<path fill=\"none\" stroke=\"black\" d=\"M94.8126,-147.831C85.1486,-139.134 73.4204,-128.578 62.9184,-119.127\"/>\n",
       "<polygon fill=\"black\" stroke=\"black\" points=\"64.9553,-116.251 55.1809,-112.163 60.2725,-121.454 64.9553,-116.251\"/>\n",
       "</g>\n",
       "<!-- o93922015884256 -->\n",
       "<g id=\"node4\" class=\"node\"><title>o93922015884256</title>\n",
       "<polygon fill=\"#c3c3c3\" stroke=\"black\" points=\"142,-112 88,-112 88,-74 142,-74 142,-112\"/>\n",
       "<text text-anchor=\"middle\" x=\"115\" y=\"-96.8\" font-family=\"Times,serif\" font-size=\"14.00\">int</text>\n",
       "<text text-anchor=\"middle\" x=\"115\" y=\"-81.8\" font-family=\"Times,serif\" font-size=\"14.00\">8</text>\n",
       "</g>\n",
       "<!-- o140155455336528&#45;&gt;o93922015884256 -->\n",
       "<g id=\"edge2\" class=\"edge\"><title>o140155455336528&#45;&gt;o93922015884256</title>\n",
       "<path fill=\"none\" stroke=\"black\" d=\"M115,-147.831C115,-140.131 115,-130.974 115,-122.417\"/>\n",
       "<polygon fill=\"black\" stroke=\"black\" points=\"118.5,-122.413 115,-112.413 111.5,-122.413 118.5,-122.413\"/>\n",
       "</g>\n",
       "<!-- o93922015884032 -->\n",
       "<g id=\"node5\" class=\"node\"><title>o93922015884032</title>\n",
       "<polygon fill=\"#c3c3c3\" stroke=\"black\" points=\"214,-112 160,-112 160,-74 214,-74 214,-112\"/>\n",
       "<text text-anchor=\"middle\" x=\"187\" y=\"-96.8\" font-family=\"Times,serif\" font-size=\"14.00\">int</text>\n",
       "<text text-anchor=\"middle\" x=\"187\" y=\"-81.8\" font-family=\"Times,serif\" font-size=\"14.00\">1</text>\n",
       "</g>\n",
       "<!-- o140155455336528&#45;&gt;o93922015884032 -->\n",
       "<g id=\"edge3\" class=\"edge\"><title>o140155455336528&#45;&gt;o93922015884032</title>\n",
       "<path fill=\"none\" stroke=\"black\" d=\"M133.169,-147.831C141.715,-139.285 152.056,-128.944 161.38,-119.62\"/>\n",
       "<polygon fill=\"black\" stroke=\"black\" points=\"163.991,-121.959 168.587,-112.413 159.041,-117.009 163.991,-121.959\"/>\n",
       "</g>\n",
       "<!-- o140155492702240 -->\n",
       "<g id=\"node2\" class=\"node\"><title>o140155492702240</title>\n",
       "<polygon fill=\"#ffffff\" stroke=\"black\" points=\"302,-186 232,-186 232,-148 302,-148 302,-186\"/>\n",
       "<text text-anchor=\"middle\" x=\"267\" y=\"-170.8\" font-family=\"Times,serif\" font-size=\"14.00\" fill=\"red\">list</text>\n",
       "<text text-anchor=\"middle\" x=\"267\" y=\"-155.8\" font-family=\"Times,serif\" font-size=\"14.00\" fill=\"red\">3 items</text>\n",
       "</g>\n",
       "<!-- o140155454508480 -->\n",
       "<g id=\"node6\" class=\"node\"><title>o140155454508480</title>\n",
       "<polygon fill=\"#c3c3c3\" stroke=\"black\" points=\"302,-112 232,-112 232,-74 302,-74 302,-112\"/>\n",
       "<text text-anchor=\"middle\" x=\"267\" y=\"-96.8\" font-family=\"Times,serif\" font-size=\"14.00\">list</text>\n",
       "<text text-anchor=\"middle\" x=\"267\" y=\"-81.8\" font-family=\"Times,serif\" font-size=\"14.00\">2 items</text>\n",
       "</g>\n",
       "<!-- o140155492702240&#45;&gt;o140155454508480 -->\n",
       "<g id=\"edge4\" class=\"edge\"><title>o140155492702240&#45;&gt;o140155454508480</title>\n",
       "<path fill=\"none\" stroke=\"black\" d=\"M267,-147.831C267,-140.131 267,-130.974 267,-122.417\"/>\n",
       "<polygon fill=\"black\" stroke=\"black\" points=\"270.5,-122.413 267,-112.413 263.5,-122.413 270.5,-122.413\"/>\n",
       "</g>\n",
       "<!-- o93922015884064 -->\n",
       "<g id=\"node7\" class=\"node\"><title>o93922015884064</title>\n",
       "<polygon fill=\"#c3c3c3\" stroke=\"black\" points=\"374,-112 320,-112 320,-74 374,-74 374,-112\"/>\n",
       "<text text-anchor=\"middle\" x=\"347\" y=\"-96.8\" font-family=\"Times,serif\" font-size=\"14.00\">int</text>\n",
       "<text text-anchor=\"middle\" x=\"347\" y=\"-81.8\" font-family=\"Times,serif\" font-size=\"14.00\">2</text>\n",
       "</g>\n",
       "<!-- o140155492702240&#45;&gt;o93922015884064 -->\n",
       "<g id=\"edge5\" class=\"edge\"><title>o140155492702240&#45;&gt;o93922015884064</title>\n",
       "<path fill=\"none\" stroke=\"black\" d=\"M287.187,-147.831C296.851,-139.134 308.58,-128.578 319.082,-119.127\"/>\n",
       "<polygon fill=\"black\" stroke=\"black\" points=\"321.728,-121.454 326.819,-112.163 317.045,-116.251 321.728,-121.454\"/>\n",
       "</g>\n",
       "<!-- o140155492702240&#45;&gt;o93922015884032 -->\n",
       "<g id=\"edge6\" class=\"edge\"><title>o140155492702240&#45;&gt;o93922015884032</title>\n",
       "<path fill=\"none\" stroke=\"black\" d=\"M246.813,-147.831C237.149,-139.134 225.42,-128.578 214.918,-119.127\"/>\n",
       "<polygon fill=\"black\" stroke=\"black\" points=\"216.955,-116.251 207.181,-112.163 212.272,-121.454 216.955,-116.251\"/>\n",
       "</g>\n",
       "<!-- o93922015884160 -->\n",
       "<g id=\"node8\" class=\"node\"><title>o93922015884160</title>\n",
       "<polygon fill=\"#878787\" stroke=\"black\" points=\"62,-38 8,-38 8,-0 62,-0 62,-38\"/>\n",
       "<text text-anchor=\"middle\" x=\"35\" y=\"-22.8\" font-family=\"Times,serif\" font-size=\"14.00\">int</text>\n",
       "<text text-anchor=\"middle\" x=\"35\" y=\"-7.8\" font-family=\"Times,serif\" font-size=\"14.00\">5</text>\n",
       "</g>\n",
       "<!-- o140155455340448&#45;&gt;o93922015884160 -->\n",
       "<g id=\"edge7\" class=\"edge\"><title>o140155455340448&#45;&gt;o93922015884160</title>\n",
       "<path fill=\"none\" stroke=\"black\" d=\"M35,-73.8314C35,-66.131 35,-56.9743 35,-48.4166\"/>\n",
       "<polygon fill=\"black\" stroke=\"black\" points=\"38.5001,-48.4132 35,-38.4133 31.5001,-48.4133 38.5001,-48.4132\"/>\n",
       "</g>\n",
       "<!-- o93922015884096 -->\n",
       "<g id=\"node9\" class=\"node\"><title>o93922015884096</title>\n",
       "<polygon fill=\"#878787\" stroke=\"black\" points=\"178,-38 124,-38 124,-0 178,-0 178,-38\"/>\n",
       "<text text-anchor=\"middle\" x=\"151\" y=\"-22.8\" font-family=\"Times,serif\" font-size=\"14.00\">int</text>\n",
       "<text text-anchor=\"middle\" x=\"151\" y=\"-7.8\" font-family=\"Times,serif\" font-size=\"14.00\">3</text>\n",
       "</g>\n",
       "<!-- o140155455340448&#45;&gt;o93922015884096 -->\n",
       "<g id=\"edge8\" class=\"edge\"><title>o140155455340448&#45;&gt;o93922015884096</title>\n",
       "<path fill=\"none\" stroke=\"black\" d=\"M64.2717,-73.8314C79.6751,-64.2706 98.6951,-52.4651 114.995,-42.3481\"/>\n",
       "<polygon fill=\"black\" stroke=\"black\" points=\"117.079,-45.1737 123.73,-36.9263 113.388,-39.2262 117.079,-45.1737\"/>\n",
       "</g>\n",
       "<!-- o93922015884128 -->\n",
       "<g id=\"node10\" class=\"node\"><title>o93922015884128</title>\n",
       "<polygon fill=\"#878787\" stroke=\"black\" points=\"294,-38 240,-38 240,-0 294,-0 294,-38\"/>\n",
       "<text text-anchor=\"middle\" x=\"267\" y=\"-22.8\" font-family=\"Times,serif\" font-size=\"14.00\">int</text>\n",
       "<text text-anchor=\"middle\" x=\"267\" y=\"-7.8\" font-family=\"Times,serif\" font-size=\"14.00\">4</text>\n",
       "</g>\n",
       "<!-- o140155454508480&#45;&gt;o93922015884128 -->\n",
       "<g id=\"edge9\" class=\"edge\"><title>o140155454508480&#45;&gt;o93922015884128</title>\n",
       "<path fill=\"none\" stroke=\"black\" d=\"M267,-73.8314C267,-66.131 267,-56.9743 267,-48.4166\"/>\n",
       "<polygon fill=\"black\" stroke=\"black\" points=\"270.5,-48.4132 267,-38.4133 263.5,-48.4133 270.5,-48.4132\"/>\n",
       "</g>\n",
       "<!-- o140155454508480&#45;&gt;o93922015884096 -->\n",
       "<g id=\"edge10\" class=\"edge\"><title>o140155454508480&#45;&gt;o93922015884096</title>\n",
       "<path fill=\"none\" stroke=\"black\" d=\"M237.728,-73.8314C222.325,-64.2706 203.305,-52.4651 187.005,-42.3481\"/>\n",
       "<polygon fill=\"black\" stroke=\"black\" points=\"188.612,-39.2262 178.27,-36.9263 184.921,-45.1737 188.612,-39.2262\"/>\n",
       "</g>\n",
       "</g>\n",
       "</svg>\n"
      ],
      "text/plain": [
       "<graphviz.files.Source at 0x7f787c69e750>"
      ]
     },
     "execution_count": 334,
     "metadata": {},
     "output_type": "execute_result"
    }
   ],
   "source": [
    "print(\"=========Deep Copy============\")\n",
    "objgraph.show_refs([origin, cop3], filename=\"deep2.png\")"
   ]
  },
  {
   "cell_type": "markdown",
   "metadata": {},
   "source": [
    "## 6. 常用的包或模块\n",
    "\n",
    "这里我们简单介绍几个常用的包和模块：\n",
    "- `os`\n",
    "- `sys`\n",
    "- `re`\n",
    "- `math`"
   ]
  },
  {
   "cell_type": "markdown",
   "metadata": {},
   "source": [
    "### 6.1 `sys`模块\n",
    "\n",
    "- `sys`模块指的不是操作系统，是Python解释器。\n",
    "- `sys.argv`是命令行参数。\n",
    "- `sys.path`是所有能被`import`直接导入的模块路径的列表。\n",
    "- `sys.getrefcount()`可以返回某个内存地址引用的次数。\n",
    "- `sys.getsizeof()`返回的是一个变量内存占用的字节。\n",
    "- `sys.exit()`函数与C函数的return和exit有相同的功能"
   ]
  },
  {
   "cell_type": "code",
   "execution_count": 137,
   "metadata": {},
   "outputs": [],
   "source": [
    "import sys"
   ]
  },
  {
   "cell_type": "code",
   "execution_count": 138,
   "metadata": {},
   "outputs": [
    {
     "name": "stdout",
     "output_type": "stream",
     "text": [
      "['/home/bio/bi296/chap8/code/basic', '/opt/miniconda3/lib/python37.zip', '/opt/miniconda3/lib/python3.7', '/opt/miniconda3/lib/python3.7/lib-dynload', '', '/opt/miniconda3/lib/python3.7/site-packages', '/opt/miniconda3/lib/python3.7/site-packages/IPython/extensions', '/home/bio/.ipython']\n"
     ]
    }
   ],
   "source": [
    "print(sys.path)"
   ]
  },
  {
   "cell_type": "code",
   "execution_count": 179,
   "metadata": {},
   "outputs": [
    {
     "name": "stdout",
     "output_type": "stream",
     "text": [
      "2463\n"
     ]
    }
   ],
   "source": [
    "x=1\n",
    "print(sys.getrefcount(x))"
   ]
  },
  {
   "cell_type": "code",
   "execution_count": 180,
   "metadata": {},
   "outputs": [
    {
     "name": "stdout",
     "output_type": "stream",
     "text": [
      "28\n"
     ]
    }
   ],
   "source": [
    "print(sys.getsizeof(x))"
   ]
  },
  {
   "cell_type": "markdown",
   "metadata": {},
   "source": [
    "- 默认的文件系统编码"
   ]
  },
  {
   "cell_type": "code",
   "execution_count": 168,
   "metadata": {},
   "outputs": [
    {
     "data": {
      "text/plain": [
       "'utf-8'"
      ]
     },
     "execution_count": 168,
     "metadata": {},
     "output_type": "execute_result"
    }
   ],
   "source": [
    "sys.getfilesystemencoding()"
   ]
  },
  {
   "cell_type": "markdown",
   "metadata": {},
   "source": [
    "- 不同的数据类型的信息"
   ]
  },
  {
   "cell_type": "code",
   "execution_count": 173,
   "metadata": {},
   "outputs": [
    {
     "data": {
      "text/plain": [
       "sys.int_info(bits_per_digit=30, sizeof_digit=4)"
      ]
     },
     "execution_count": 173,
     "metadata": {},
     "output_type": "execute_result"
    }
   ],
   "source": [
    "sys.int_info"
   ]
  },
  {
   "cell_type": "code",
   "execution_count": 174,
   "metadata": {},
   "outputs": [
    {
     "data": {
      "text/plain": [
       "sys.float_info(max=1.7976931348623157e+308, max_exp=1024, max_10_exp=308, min=2.2250738585072014e-308, min_exp=-1021, min_10_exp=-307, dig=15, mant_dig=53, epsilon=2.220446049250313e-16, radix=2, rounds=1)"
      ]
     },
     "execution_count": 174,
     "metadata": {},
     "output_type": "execute_result"
    }
   ],
   "source": [
    "sys.float_info"
   ]
  },
  {
   "cell_type": "code",
   "execution_count": 178,
   "metadata": {},
   "outputs": [
    {
     "data": {
      "text/plain": [
       "24"
      ]
     },
     "execution_count": 178,
     "metadata": {},
     "output_type": "execute_result"
    }
   ],
   "source": [
    "sys.getsizeof(125.3348)"
   ]
  },
  {
   "cell_type": "markdown",
   "metadata": {},
   "source": [
    "### 6.2 `os`模块\n",
    "- `os`模块对应的是操作系统相关的。\n",
    "  * `os.listdir()`对应的是`ls`命令\n",
    "  * `os.chdir()`对应的是`cd`命令\n",
    "  * `os.chmod()`对应`chmod`命令\n",
    "  * `os.chown()`对应`chown`命令\n",
    "  * `os.mkdir()`对应`mkdir`命令\n",
    "  * `os.makedirs()`对应哪个命令？\n",
    "  * \n",
    "  * `os.curdir`输出的是\".\"当前路径\n",
    "  * `os.environ`返回的是`env`命令相同的输出\n",
    "- `os.path`对应的是目录、路径的操作。"
   ]
  },
  {
   "cell_type": "code",
   "execution_count": 181,
   "metadata": {},
   "outputs": [],
   "source": [
    "import os"
   ]
  },
  {
   "cell_type": "code",
   "execution_count": 292,
   "metadata": {},
   "outputs": [
    {
     "data": {
      "text/plain": [
       "module"
      ]
     },
     "execution_count": 292,
     "metadata": {},
     "output_type": "execute_result"
    }
   ],
   "source": [
    "type(os)"
   ]
  },
  {
   "cell_type": "code",
   "execution_count": 293,
   "metadata": {},
   "outputs": [
    {
     "data": {
      "text/plain": [
       "['chap8.ipynb', '.ipynb_checkpoints']"
      ]
     },
     "execution_count": 293,
     "metadata": {},
     "output_type": "execute_result"
    }
   ],
   "source": [
    "os.listdir()"
   ]
  },
  {
   "cell_type": "code",
   "execution_count": 295,
   "metadata": {},
   "outputs": [
    {
     "data": {
      "text/plain": [
       "['lib',\n",
       " 'sys',\n",
       " 'opt',\n",
       " 'sbin',\n",
       " 'etc',\n",
       " 'srv',\n",
       " 'var',\n",
       " 'mnt',\n",
       " 'lib64',\n",
       " 'bin',\n",
       " '.autorelabel',\n",
       " 'boot',\n",
       " 'home',\n",
       " 'tmp',\n",
       " 'media',\n",
       " 'root',\n",
       " 'usr',\n",
       " '.dockerenv',\n",
       " 'dev',\n",
       " 'run',\n",
       " 'proc',\n",
       " 'anaconda-post.log',\n",
       " 'lost+found']"
      ]
     },
     "execution_count": 295,
     "metadata": {},
     "output_type": "execute_result"
    }
   ],
   "source": [
    "os.listdir(path=\"/\")"
   ]
  },
  {
   "cell_type": "code",
   "execution_count": 182,
   "metadata": {},
   "outputs": [],
   "source": [
    "from os import path"
   ]
  },
  {
   "cell_type": "code",
   "execution_count": 184,
   "metadata": {},
   "outputs": [
    {
     "data": {
      "text/plain": [
       "'/home/bio/bi296/chap8/code/basic/basic.ipynb'"
      ]
     },
     "execution_count": 184,
     "metadata": {},
     "output_type": "execute_result"
    }
   ],
   "source": [
    "path.join(path.abspath(\".\"), \"basic.ipynb\")"
   ]
  },
  {
   "cell_type": "code",
   "execution_count": 188,
   "metadata": {},
   "outputs": [
    {
     "name": "stdout",
     "output_type": "stream",
     "text": [
      "/ None\n"
     ]
    }
   ],
   "source": [
    "print(path.sep, path.altsep)"
   ]
  },
  {
   "cell_type": "code",
   "execution_count": 193,
   "metadata": {},
   "outputs": [
    {
     "data": {
      "text/plain": [
       "'/home/bio/bi296/chap8/code'"
      ]
     },
     "execution_count": 193,
     "metadata": {},
     "output_type": "execute_result"
    }
   ],
   "source": [
    "path.dirname(path.abspath(\".\"))"
   ]
  },
  {
   "cell_type": "code",
   "execution_count": 200,
   "metadata": {},
   "outputs": [
    {
     "name": "stdout",
     "output_type": "stream",
     "text": [
      ". ['.ipynb_checkpoints'] ['chap8.ipynb']\n",
      "./.ipynb_checkpoints [] ['chap8-checkpoint.ipynb']\n"
     ]
    }
   ],
   "source": [
    "for dir, dirnames, files in os.walk(\".\"):\n",
    "    print(dir, dirnames, files)"
   ]
  },
  {
   "cell_type": "code",
   "execution_count": 216,
   "metadata": {},
   "outputs": [],
   "source": [
    "os.readlink?"
   ]
  },
  {
   "cell_type": "markdown",
   "metadata": {},
   "source": [
    "### 6.3 `re`模块\n",
    "- `re`模块是用于正则表达式匹配和替换工作的\n",
    "- "
   ]
  },
  {
   "cell_type": "code",
   "execution_count": 317,
   "metadata": {},
   "outputs": [
    {
     "name": "stdout",
     "output_type": "stream",
     "text": [
      "140155384721152 140155384720992 140155382421968 140155382421968\n",
      "140155384721152 140155454248432 140155382421968 140155382421968\n"
     ]
    }
   ],
   "source": [
    "import copy, objgraph\n",
    "x = [1.3,2.4,3.1]\n",
    "y = copy.copy(x)\n",
    "print(id(x), id(y), id(x[0]), id(y[0]))\n",
    "y[0] = 3.4\n",
    "z = copy.deepcopy(x)\n",
    "print(id(x), id(z), id(x[0]), id(z[0]))\n",
    "z[0] = 2.2"
   ]
  },
  {
   "cell_type": "code",
   "execution_count": 315,
   "metadata": {},
   "outputs": [
    {
     "data": {
      "image/svg+xml": [
       "<?xml version=\"1.0\" encoding=\"UTF-8\" standalone=\"no\"?>\n",
       "<!DOCTYPE svg PUBLIC \"-//W3C//DTD SVG 1.1//EN\"\n",
       " \"http://www.w3.org/Graphics/SVG/1.1/DTD/svg11.dtd\">\n",
       "<!-- Generated by graphviz version 2.30.1 (20180420.1509)\n",
       " -->\n",
       "<!-- Title: ObjectGraph Pages: 1 -->\n",
       "<svg width=\"278pt\" height=\"120pt\"\n",
       " viewBox=\"0.00 0.00 278.00 120.00\" xmlns=\"http://www.w3.org/2000/svg\" xmlns:xlink=\"http://www.w3.org/1999/xlink\">\n",
       "<g id=\"graph0\" class=\"graph\" transform=\"scale(1 1) rotate(0) translate(4 116)\">\n",
       "<title>ObjectGraph</title>\n",
       "<polygon fill=\"white\" stroke=\"white\" points=\"-4,5 -4,-116 275,-116 275,5 -4,5\"/>\n",
       "<!-- o140155454561168 -->\n",
       "<g id=\"node1\" class=\"node\"><title>o140155454561168</title>\n",
       "<polygon fill=\"#ffffff\" stroke=\"black\" points=\"214,-112 144,-112 144,-74 214,-74 214,-112\"/>\n",
       "<text text-anchor=\"middle\" x=\"179\" y=\"-96.8\" font-family=\"Times,serif\" font-size=\"14.00\" fill=\"red\">list</text>\n",
       "<text text-anchor=\"middle\" x=\"179\" y=\"-81.8\" font-family=\"Times,serif\" font-size=\"14.00\" fill=\"red\">3 items</text>\n",
       "</g>\n",
       "<!-- o140155382242512 -->\n",
       "<g id=\"node3\" class=\"node\"><title>o140155382242512</title>\n",
       "<polygon fill=\"#c3c3c3\" stroke=\"black\" points=\"126,-38 72,-38 72,-0 126,-0 126,-38\"/>\n",
       "<text text-anchor=\"middle\" x=\"99\" y=\"-22.8\" font-family=\"Times,serif\" font-size=\"14.00\">float</text>\n",
       "<text text-anchor=\"middle\" x=\"99\" y=\"-7.8\" font-family=\"Times,serif\" font-size=\"14.00\">3.1</text>\n",
       "</g>\n",
       "<!-- o140155454561168&#45;&gt;o140155382242512 -->\n",
       "<g id=\"edge1\" class=\"edge\"><title>o140155454561168&#45;&gt;o140155382242512</title>\n",
       "<path fill=\"none\" stroke=\"black\" d=\"M158.813,-73.8314C149.149,-65.1337 137.42,-54.5783 126.918,-45.1265\"/>\n",
       "<polygon fill=\"black\" stroke=\"black\" points=\"128.955,-42.251 119.181,-38.1628 124.272,-47.454 128.955,-42.251\"/>\n",
       "</g>\n",
       "<!-- o140155382243152 -->\n",
       "<g id=\"node4\" class=\"node\"><title>o140155382243152</title>\n",
       "<polygon fill=\"#c3c3c3\" stroke=\"black\" points=\"198,-38 144,-38 144,-0 198,-0 198,-38\"/>\n",
       "<text text-anchor=\"middle\" x=\"171\" y=\"-22.8\" font-family=\"Times,serif\" font-size=\"14.00\">float</text>\n",
       "<text text-anchor=\"middle\" x=\"171\" y=\"-7.8\" font-family=\"Times,serif\" font-size=\"14.00\">2.4</text>\n",
       "</g>\n",
       "<!-- o140155454561168&#45;&gt;o140155382243152 -->\n",
       "<g id=\"edge2\" class=\"edge\"><title>o140155454561168&#45;&gt;o140155382243152</title>\n",
       "<path fill=\"none\" stroke=\"black\" d=\"M176.981,-73.8314C176.126,-66.131 175.108,-56.9743 174.157,-48.4166\"/>\n",
       "<polygon fill=\"black\" stroke=\"black\" points=\"177.629,-47.9656 173.046,-38.4133 170.672,-48.7386 177.629,-47.9656\"/>\n",
       "</g>\n",
       "<!-- o140155382422416 -->\n",
       "<g id=\"node5\" class=\"node\"><title>o140155382422416</title>\n",
       "<polygon fill=\"#c3c3c3\" stroke=\"black\" points=\"270,-38 216,-38 216,-0 270,-0 270,-38\"/>\n",
       "<text text-anchor=\"middle\" x=\"243\" y=\"-22.8\" font-family=\"Times,serif\" font-size=\"14.00\">float</text>\n",
       "<text text-anchor=\"middle\" x=\"243\" y=\"-7.8\" font-family=\"Times,serif\" font-size=\"14.00\">1.3</text>\n",
       "</g>\n",
       "<!-- o140155454561168&#45;&gt;o140155382422416 -->\n",
       "<g id=\"edge3\" class=\"edge\"><title>o140155454561168&#45;&gt;o140155382422416</title>\n",
       "<path fill=\"none\" stroke=\"black\" d=\"M195.15,-73.8314C202.672,-65.3694 211.757,-55.1489 219.98,-45.8971\"/>\n",
       "<polygon fill=\"black\" stroke=\"black\" points=\"222.605,-48.2127 226.633,-38.4133 217.373,-43.5621 222.605,-48.2127\"/>\n",
       "</g>\n",
       "<!-- o140155454561728 -->\n",
       "<g id=\"node2\" class=\"node\"><title>o140155454561728</title>\n",
       "<polygon fill=\"#ffffff\" stroke=\"black\" points=\"126,-112 56,-112 56,-74 126,-74 126,-112\"/>\n",
       "<text text-anchor=\"middle\" x=\"91\" y=\"-96.8\" font-family=\"Times,serif\" font-size=\"14.00\" fill=\"red\">list</text>\n",
       "<text text-anchor=\"middle\" x=\"91\" y=\"-81.8\" font-family=\"Times,serif\" font-size=\"14.00\" fill=\"red\">3 items</text>\n",
       "</g>\n",
       "<!-- o140155454561728&#45;&gt;o140155382242512 -->\n",
       "<g id=\"edge4\" class=\"edge\"><title>o140155454561728&#45;&gt;o140155382242512</title>\n",
       "<path fill=\"none\" stroke=\"black\" d=\"M93.0187,-73.8314C93.8743,-66.131 94.8917,-56.9743 95.8426,-48.4166\"/>\n",
       "<polygon fill=\"black\" stroke=\"black\" points=\"99.3283,-48.7386 96.9541,-38.4133 92.3711,-47.9656 99.3283,-48.7386\"/>\n",
       "</g>\n",
       "<!-- o140155454561728&#45;&gt;o140155382243152 -->\n",
       "<g id=\"edge5\" class=\"edge\"><title>o140155454561728&#45;&gt;o140155382243152</title>\n",
       "<path fill=\"none\" stroke=\"black\" d=\"M111.187,-73.8314C120.851,-65.1337 132.58,-54.5783 143.082,-45.1265\"/>\n",
       "<polygon fill=\"black\" stroke=\"black\" points=\"145.728,-47.454 150.819,-38.1628 141.045,-42.251 145.728,-47.454\"/>\n",
       "</g>\n",
       "<!-- o140155382422448 -->\n",
       "<g id=\"node6\" class=\"node\"><title>o140155382422448</title>\n",
       "<polygon fill=\"#c3c3c3\" stroke=\"black\" points=\"54,-38 0,-38 0,-0 54,-0 54,-38\"/>\n",
       "<text text-anchor=\"middle\" x=\"27\" y=\"-22.8\" font-family=\"Times,serif\" font-size=\"14.00\">float</text>\n",
       "<text text-anchor=\"middle\" x=\"27\" y=\"-7.8\" font-family=\"Times,serif\" font-size=\"14.00\">3.4</text>\n",
       "</g>\n",
       "<!-- o140155454561728&#45;&gt;o140155382422448 -->\n",
       "<g id=\"edge6\" class=\"edge\"><title>o140155454561728&#45;&gt;o140155382422448</title>\n",
       "<path fill=\"none\" stroke=\"black\" d=\"M74.8501,-73.8314C67.3283,-65.3694 58.2435,-55.1489 50.0196,-45.8971\"/>\n",
       "<polygon fill=\"black\" stroke=\"black\" points=\"52.627,-43.5621 43.3673,-38.4133 47.3951,-48.2127 52.627,-43.5621\"/>\n",
       "</g>\n",
       "</g>\n",
       "</svg>\n"
      ],
      "text/plain": [
       "<graphviz.files.Source at 0x7f787c2f87d0>"
      ]
     },
     "execution_count": 315,
     "metadata": {},
     "output_type": "execute_result"
    }
   ],
   "source": [
    "objgraph.show_refs([x, y], filename=\"shallow_copy.png\")"
   ]
  },
  {
   "cell_type": "code",
   "execution_count": 318,
   "metadata": {},
   "outputs": [
    {
     "data": {
      "image/svg+xml": [
       "<?xml version=\"1.0\" encoding=\"UTF-8\" standalone=\"no\"?>\n",
       "<!DOCTYPE svg PUBLIC \"-//W3C//DTD SVG 1.1//EN\"\n",
       " \"http://www.w3.org/Graphics/SVG/1.1/DTD/svg11.dtd\">\n",
       "<!-- Generated by graphviz version 2.30.1 (20180420.1509)\n",
       " -->\n",
       "<!-- Title: ObjectGraph Pages: 1 -->\n",
       "<svg width=\"278pt\" height=\"120pt\"\n",
       " viewBox=\"0.00 0.00 278.00 120.00\" xmlns=\"http://www.w3.org/2000/svg\" xmlns:xlink=\"http://www.w3.org/1999/xlink\">\n",
       "<g id=\"graph0\" class=\"graph\" transform=\"scale(1 1) rotate(0) translate(4 116)\">\n",
       "<title>ObjectGraph</title>\n",
       "<polygon fill=\"white\" stroke=\"white\" points=\"-4,5 -4,-116 275,-116 275,5 -4,5\"/>\n",
       "<!-- o140155384721152 -->\n",
       "<g id=\"node1\" class=\"node\"><title>o140155384721152</title>\n",
       "<polygon fill=\"#ffffff\" stroke=\"black\" points=\"214,-112 144,-112 144,-74 214,-74 214,-112\"/>\n",
       "<text text-anchor=\"middle\" x=\"179\" y=\"-96.8\" font-family=\"Times,serif\" font-size=\"14.00\" fill=\"red\">list</text>\n",
       "<text text-anchor=\"middle\" x=\"179\" y=\"-81.8\" font-family=\"Times,serif\" font-size=\"14.00\" fill=\"red\">3 items</text>\n",
       "</g>\n",
       "<!-- o140155385751792 -->\n",
       "<g id=\"node3\" class=\"node\"><title>o140155385751792</title>\n",
       "<polygon fill=\"#c3c3c3\" stroke=\"black\" points=\"126,-38 72,-38 72,-0 126,-0 126,-38\"/>\n",
       "<text text-anchor=\"middle\" x=\"99\" y=\"-22.8\" font-family=\"Times,serif\" font-size=\"14.00\">float</text>\n",
       "<text text-anchor=\"middle\" x=\"99\" y=\"-7.8\" font-family=\"Times,serif\" font-size=\"14.00\">3.1</text>\n",
       "</g>\n",
       "<!-- o140155384721152&#45;&gt;o140155385751792 -->\n",
       "<g id=\"edge1\" class=\"edge\"><title>o140155384721152&#45;&gt;o140155385751792</title>\n",
       "<path fill=\"none\" stroke=\"black\" d=\"M158.813,-73.8314C149.149,-65.1337 137.42,-54.5783 126.918,-45.1265\"/>\n",
       "<polygon fill=\"black\" stroke=\"black\" points=\"128.955,-42.251 119.181,-38.1628 124.272,-47.454 128.955,-42.251\"/>\n",
       "</g>\n",
       "<!-- o140155382240496 -->\n",
       "<g id=\"node4\" class=\"node\"><title>o140155382240496</title>\n",
       "<polygon fill=\"#c3c3c3\" stroke=\"black\" points=\"198,-38 144,-38 144,-0 198,-0 198,-38\"/>\n",
       "<text text-anchor=\"middle\" x=\"171\" y=\"-22.8\" font-family=\"Times,serif\" font-size=\"14.00\">float</text>\n",
       "<text text-anchor=\"middle\" x=\"171\" y=\"-7.8\" font-family=\"Times,serif\" font-size=\"14.00\">2.4</text>\n",
       "</g>\n",
       "<!-- o140155384721152&#45;&gt;o140155382240496 -->\n",
       "<g id=\"edge2\" class=\"edge\"><title>o140155384721152&#45;&gt;o140155382240496</title>\n",
       "<path fill=\"none\" stroke=\"black\" d=\"M176.981,-73.8314C176.126,-66.131 175.108,-56.9743 174.157,-48.4166\"/>\n",
       "<polygon fill=\"black\" stroke=\"black\" points=\"177.629,-47.9656 173.046,-38.4133 170.672,-48.7386 177.629,-47.9656\"/>\n",
       "</g>\n",
       "<!-- o140155382421968 -->\n",
       "<g id=\"node5\" class=\"node\"><title>o140155382421968</title>\n",
       "<polygon fill=\"#c3c3c3\" stroke=\"black\" points=\"270,-38 216,-38 216,-0 270,-0 270,-38\"/>\n",
       "<text text-anchor=\"middle\" x=\"243\" y=\"-22.8\" font-family=\"Times,serif\" font-size=\"14.00\">float</text>\n",
       "<text text-anchor=\"middle\" x=\"243\" y=\"-7.8\" font-family=\"Times,serif\" font-size=\"14.00\">1.3</text>\n",
       "</g>\n",
       "<!-- o140155384721152&#45;&gt;o140155382421968 -->\n",
       "<g id=\"edge3\" class=\"edge\"><title>o140155384721152&#45;&gt;o140155382421968</title>\n",
       "<path fill=\"none\" stroke=\"black\" d=\"M195.15,-73.8314C202.672,-65.3694 211.757,-55.1489 219.98,-45.8971\"/>\n",
       "<polygon fill=\"black\" stroke=\"black\" points=\"222.605,-48.2127 226.633,-38.4133 217.373,-43.5621 222.605,-48.2127\"/>\n",
       "</g>\n",
       "<!-- o140155454248432 -->\n",
       "<g id=\"node2\" class=\"node\"><title>o140155454248432</title>\n",
       "<polygon fill=\"#ffffff\" stroke=\"black\" points=\"126,-112 56,-112 56,-74 126,-74 126,-112\"/>\n",
       "<text text-anchor=\"middle\" x=\"91\" y=\"-96.8\" font-family=\"Times,serif\" font-size=\"14.00\" fill=\"red\">list</text>\n",
       "<text text-anchor=\"middle\" x=\"91\" y=\"-81.8\" font-family=\"Times,serif\" font-size=\"14.00\" fill=\"red\">3 items</text>\n",
       "</g>\n",
       "<!-- o140155454248432&#45;&gt;o140155385751792 -->\n",
       "<g id=\"edge4\" class=\"edge\"><title>o140155454248432&#45;&gt;o140155385751792</title>\n",
       "<path fill=\"none\" stroke=\"black\" d=\"M93.0187,-73.8314C93.8743,-66.131 94.8917,-56.9743 95.8426,-48.4166\"/>\n",
       "<polygon fill=\"black\" stroke=\"black\" points=\"99.3283,-48.7386 96.9541,-38.4133 92.3711,-47.9656 99.3283,-48.7386\"/>\n",
       "</g>\n",
       "<!-- o140155454248432&#45;&gt;o140155382240496 -->\n",
       "<g id=\"edge5\" class=\"edge\"><title>o140155454248432&#45;&gt;o140155382240496</title>\n",
       "<path fill=\"none\" stroke=\"black\" d=\"M111.187,-73.8314C120.851,-65.1337 132.58,-54.5783 143.082,-45.1265\"/>\n",
       "<polygon fill=\"black\" stroke=\"black\" points=\"145.728,-47.454 150.819,-38.1628 141.045,-42.251 145.728,-47.454\"/>\n",
       "</g>\n",
       "<!-- o140155385750928 -->\n",
       "<g id=\"node6\" class=\"node\"><title>o140155385750928</title>\n",
       "<polygon fill=\"#c3c3c3\" stroke=\"black\" points=\"54,-38 0,-38 0,-0 54,-0 54,-38\"/>\n",
       "<text text-anchor=\"middle\" x=\"27\" y=\"-22.8\" font-family=\"Times,serif\" font-size=\"14.00\">float</text>\n",
       "<text text-anchor=\"middle\" x=\"27\" y=\"-7.8\" font-family=\"Times,serif\" font-size=\"14.00\">2.2</text>\n",
       "</g>\n",
       "<!-- o140155454248432&#45;&gt;o140155385750928 -->\n",
       "<g id=\"edge6\" class=\"edge\"><title>o140155454248432&#45;&gt;o140155385750928</title>\n",
       "<path fill=\"none\" stroke=\"black\" d=\"M74.8501,-73.8314C67.3283,-65.3694 58.2435,-55.1489 50.0196,-45.8971\"/>\n",
       "<polygon fill=\"black\" stroke=\"black\" points=\"52.627,-43.5621 43.3673,-38.4133 47.3951,-48.2127 52.627,-43.5621\"/>\n",
       "</g>\n",
       "</g>\n",
       "</svg>\n"
      ],
      "text/plain": [
       "<graphviz.files.Source at 0x7f7877cb4490>"
      ]
     },
     "execution_count": 318,
     "metadata": {},
     "output_type": "execute_result"
    }
   ],
   "source": [
    "objgraph.show_refs([x, z], filename=\"deep_copy.png\")"
   ]
  },
  {
   "cell_type": "code",
   "execution_count": null,
   "metadata": {},
   "outputs": [],
   "source": []
  },
  {
   "cell_type": "code",
   "execution_count": null,
   "metadata": {},
   "outputs": [],
   "source": []
  }
 ],
 "metadata": {
  "kernelspec": {
   "display_name": "Python 3",
   "language": "python",
   "name": "python3"
  },
  "language_info": {
   "codemirror_mode": {
    "name": "ipython",
    "version": 3
   },
   "file_extension": ".py",
   "mimetype": "text/x-python",
   "name": "python",
   "nbconvert_exporter": "python",
   "pygments_lexer": "ipython3",
   "version": "3.7.6"
  }
 },
 "nbformat": 4,
 "nbformat_minor": 4
}
