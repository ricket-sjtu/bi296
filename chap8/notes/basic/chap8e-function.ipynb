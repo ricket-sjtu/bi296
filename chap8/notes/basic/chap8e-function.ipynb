{
 "cells": [
  {
   "cell_type": "markdown",
   "metadata": {
    "ExecuteTime": {
     "end_time": "2020-06-03T21:31:20.811693Z",
     "start_time": "2020-06-03T21:31:20.800794Z"
    }
   },
   "source": [
    "# 第八章E：函数Function\n",
    "___"
   ]
  },
  {
   "cell_type": "markdown",
   "metadata": {},
   "source": [
    "## 学习内容\n",
    "1. 函数的定义和调用方式\n",
    "\n",
    "2. 位置参数、关键词参数和有默认值的参数\n",
    "\n",
    "3. 函数定义和调用的要点\n",
    "\n",
    "4. 参数的传递方式\n",
    "\n",
    "5. 变量的作用域：闭包函数\n",
    "\n",
    "6. 一些特殊函数"
   ]
  },
  {
   "cell_type": "markdown",
   "metadata": {},
   "source": [
    "## 1. 自定义函数"
   ]
  },
  {
   "cell_type": "markdown",
   "metadata": {},
   "source": [
    "我们在介绍函数的时候，一般说的都是用户自定义函数：\n",
    "- 函数代码块以 `def` 关键词开头，后接函数名和圆括号`()`。\n",
    "- 传入参数放在`()`内\n",
    "- 函数内部的第一行一般放置一个__doc__相关的字符串，说明函数的功能和用法。\n",
    "- 函数内容以`:`开始，需要缩进\n",
    "- 函数结束一般用`return`返回。如果没有显式的`return`，返回None。"
   ]
  },
  {
   "cell_type": "code",
   "execution_count": null,
   "metadata": {
    "ExecuteTime": {
     "end_time": "2020-06-03T21:36:55.167098Z",
     "start_time": "2020-06-03T21:36:55.163695Z"
    }
   },
   "outputs": [],
   "source": [
    "def funcname( parameters ):\n",
    "   \"\"\"__doc__ str\"\"\"\n",
    "   function_body\n",
    "   return [expression]"
   ]
  },
  {
   "cell_type": "code",
   "execution_count": 123,
   "metadata": {
    "ExecuteTime": {
     "end_time": "2020-06-03T21:38:35.818452Z",
     "start_time": "2020-06-03T21:38:35.816369Z"
    }
   },
   "outputs": [],
   "source": [
    "def printsomething(string):\n",
    "    \"\"\"print the string offered by the parameter.\"\"\"\n",
    "    print(string)\n",
    "    return None"
   ]
  },
  {
   "cell_type": "code",
   "execution_count": 124,
   "metadata": {},
   "outputs": [
    {
     "name": "stdout",
     "output_type": "stream",
     "text": [
      "Help on function printsomething in module __main__:\n",
      "\n",
      "printsomething(string)\n",
      "    print the string offered by the parameter.\n",
      "\n"
     ]
    }
   ],
   "source": [
    "help(printsomething)"
   ]
  },
  {
   "cell_type": "markdown",
   "metadata": {},
   "source": [
    "一般参数个数固定的函数调用的时候必须保证参数与定义的个数一致："
   ]
  },
  {
   "cell_type": "code",
   "execution_count": 125,
   "metadata": {
    "ExecuteTime": {
     "end_time": "2020-06-03T21:39:31.971854Z",
     "start_time": "2020-06-03T21:39:31.966418Z"
    }
   },
   "outputs": [
    {
     "name": "stdout",
     "output_type": "stream",
     "text": [
      "hello\n"
     ]
    }
   ],
   "source": [
    "printsomething(\"hello\")"
   ]
  },
  {
   "cell_type": "markdown",
   "metadata": {},
   "source": [
    "如果不一致会报错："
   ]
  },
  {
   "cell_type": "code",
   "execution_count": 126,
   "metadata": {
    "ExecuteTime": {
     "end_time": "2020-06-03T21:39:58.686714Z",
     "start_time": "2020-06-03T21:39:58.674475Z"
    }
   },
   "outputs": [
    {
     "ename": "TypeError",
     "evalue": "printsomething() missing 1 required positional argument: 'string'",
     "output_type": "error",
     "traceback": [
      "\u001b[0;31m---------------------------------------------------------------------------\u001b[0m",
      "\u001b[0;31mTypeError\u001b[0m                                 Traceback (most recent call last)",
      "\u001b[0;32m<ipython-input-126-1eec558bd1ce>\u001b[0m in \u001b[0;36m<module>\u001b[0;34m\u001b[0m\n\u001b[0;32m----> 1\u001b[0;31m \u001b[0mprintsomething\u001b[0m\u001b[0;34m(\u001b[0m\u001b[0;34m)\u001b[0m\u001b[0;34m\u001b[0m\u001b[0;34m\u001b[0m\u001b[0m\n\u001b[0m",
      "\u001b[0;31mTypeError\u001b[0m: printsomething() missing 1 required positional argument: 'string'"
     ]
    }
   ],
   "source": [
    "printsomething()"
   ]
  },
  {
   "cell_type": "code",
   "execution_count": 127,
   "metadata": {
    "ExecuteTime": {
     "end_time": "2020-06-03T21:40:28.091986Z",
     "start_time": "2020-06-03T21:40:28.083229Z"
    }
   },
   "outputs": [
    {
     "ename": "TypeError",
     "evalue": "printsomething() takes 1 positional argument but 2 were given",
     "output_type": "error",
     "traceback": [
      "\u001b[0;31m---------------------------------------------------------------------------\u001b[0m",
      "\u001b[0;31mTypeError\u001b[0m                                 Traceback (most recent call last)",
      "\u001b[0;32m<ipython-input-127-16ddd852e65a>\u001b[0m in \u001b[0;36m<module>\u001b[0;34m\u001b[0m\n\u001b[0;32m----> 1\u001b[0;31m \u001b[0mprintsomething\u001b[0m\u001b[0;34m(\u001b[0m\u001b[0;34m\"hello\"\u001b[0m\u001b[0;34m,\u001b[0m \u001b[0;34m\"world\"\u001b[0m\u001b[0;34m)\u001b[0m\u001b[0;34m\u001b[0m\u001b[0;34m\u001b[0m\u001b[0m\n\u001b[0m",
      "\u001b[0;31mTypeError\u001b[0m: printsomething() takes 1 positional argument but 2 were given"
     ]
    }
   ],
   "source": [
    "printsomething(\"hello\", \"world\")"
   ]
  },
  {
   "cell_type": "markdown",
   "metadata": {},
   "source": [
    "可以看到抛出的错误是：\n",
    "> TypeError: printsomething() takes 1 positional argument but * were given."
   ]
  },
  {
   "cell_type": "markdown",
   "metadata": {},
   "source": [
    "由此，我们知道，函数的参数在这里称为**位置参数（Positional argument）**。"
   ]
  },
  {
   "cell_type": "markdown",
   "metadata": {},
   "source": [
    "## 2. 位置参数和关键词参数"
   ]
  },
  {
   "cell_type": "markdown",
   "metadata": {},
   "source": [
    "有些时候，我们还可以为参数设置默认值。这样我们调用函数的时候就可以省略默认值参数："
   ]
  },
  {
   "cell_type": "code",
   "execution_count": 128,
   "metadata": {
    "ExecuteTime": {
     "end_time": "2020-06-03T21:44:41.709215Z",
     "start_time": "2020-06-03T21:44:41.705471Z"
    }
   },
   "outputs": [
    {
     "ename": "SyntaxError",
     "evalue": "non-default argument follows default argument (<ipython-input-128-e2cd735ff6a8>, line 1)",
     "output_type": "error",
     "traceback": [
      "\u001b[0;36m  File \u001b[0;32m\"<ipython-input-128-e2cd735ff6a8>\"\u001b[0;36m, line \u001b[0;32m1\u001b[0m\n\u001b[0;31m    def say(start=\"Hello\", name):\u001b[0m\n\u001b[0m           ^\u001b[0m\n\u001b[0;31mSyntaxError\u001b[0m\u001b[0;31m:\u001b[0m non-default argument follows default argument\n"
     ]
    }
   ],
   "source": [
    "def say(start=\"Hello\", name):\n",
    "    print(start, \", \", name)"
   ]
  },
  {
   "cell_type": "markdown",
   "metadata": {},
   "source": [
    "但是，这种定义我们看到抛出**SyntaxError**。其原因是具有默认值的参数必须放在无默认值的参数后面，这也可以理解，否则就无法判断你输入的到底是对应的默认值参数还是非默认值参数了，特别是有多个默认值参数的情况。"
   ]
  },
  {
   "cell_type": "code",
   "execution_count": 129,
   "metadata": {
    "ExecuteTime": {
     "end_time": "2020-06-03T21:49:18.640583Z",
     "start_time": "2020-06-03T21:49:18.630603Z"
    }
   },
   "outputs": [],
   "source": [
    "def say(name, start=\"Hello\"):\n",
    "    print(start, \", \", name, sep=\"\")"
   ]
  },
  {
   "cell_type": "markdown",
   "metadata": {},
   "source": [
    "这样在调用的时候我们可以这样调用"
   ]
  },
  {
   "cell_type": "code",
   "execution_count": 130,
   "metadata": {
    "ExecuteTime": {
     "end_time": "2020-06-03T21:50:08.689287Z",
     "start_time": "2020-06-03T21:50:08.682091Z"
    }
   },
   "outputs": [
    {
     "name": "stdout",
     "output_type": "stream",
     "text": [
      "Hello, Ricky\n"
     ]
    }
   ],
   "source": [
    "say(\"Ricky\")"
   ]
  },
  {
   "cell_type": "code",
   "execution_count": 131,
   "metadata": {
    "ExecuteTime": {
     "end_time": "2020-06-03T21:51:36.288110Z",
     "start_time": "2020-06-03T21:51:36.284103Z"
    }
   },
   "outputs": [
    {
     "name": "stdout",
     "output_type": "stream",
     "text": [
      "Hello, Ricky\n"
     ]
    }
   ],
   "source": [
    "say(name=\"Ricky\")"
   ]
  },
  {
   "cell_type": "markdown",
   "metadata": {},
   "source": [
    "也可以这样调用："
   ]
  },
  {
   "cell_type": "code",
   "execution_count": 132,
   "metadata": {
    "ExecuteTime": {
     "end_time": "2020-06-03T21:50:33.039702Z",
     "start_time": "2020-06-03T21:50:33.036500Z"
    }
   },
   "outputs": [
    {
     "name": "stdout",
     "output_type": "stream",
     "text": [
      "Hi, Ricky\n"
     ]
    }
   ],
   "source": [
    "say(\"Ricky\", \"Hi\")"
   ]
  },
  {
   "cell_type": "code",
   "execution_count": 133,
   "metadata": {
    "ExecuteTime": {
     "end_time": "2020-06-03T21:53:22.051272Z",
     "start_time": "2020-06-03T21:53:22.044649Z"
    }
   },
   "outputs": [
    {
     "name": "stdout",
     "output_type": "stream",
     "text": [
      "Hi, Ricky\n"
     ]
    }
   ],
   "source": [
    "say(\"Ricky\", start=\"Hi\")"
   ]
  },
  {
   "cell_type": "code",
   "execution_count": 134,
   "metadata": {
    "ExecuteTime": {
     "end_time": "2020-06-03T21:53:52.979618Z",
     "start_time": "2020-06-03T21:53:52.972980Z"
    }
   },
   "outputs": [
    {
     "name": "stdout",
     "output_type": "stream",
     "text": [
      "Hi, Ricky\n"
     ]
    }
   ],
   "source": [
    "say(name=\"Ricky\", start=\"Hi\")"
   ]
  },
  {
   "cell_type": "markdown",
   "metadata": {},
   "source": [
    "但不能这样调用："
   ]
  },
  {
   "cell_type": "code",
   "execution_count": 135,
   "metadata": {
    "ExecuteTime": {
     "end_time": "2020-06-03T21:56:05.299495Z",
     "start_time": "2020-06-03T21:56:05.292922Z"
    }
   },
   "outputs": [
    {
     "ename": "SyntaxError",
     "evalue": "positional argument follows keyword argument (<ipython-input-135-0c1959329b70>, line 1)",
     "output_type": "error",
     "traceback": [
      "\u001b[0;36m  File \u001b[0;32m\"<ipython-input-135-0c1959329b70>\"\u001b[0;36m, line \u001b[0;32m1\u001b[0m\n\u001b[0;31m    say(name=\"Ricky\", \"Welcome\")\u001b[0m\n\u001b[0m                     ^\u001b[0m\n\u001b[0;31mSyntaxError\u001b[0m\u001b[0;31m:\u001b[0m positional argument follows keyword argument\n"
     ]
    }
   ],
   "source": [
    "say(name=\"Ricky\", \"Welcome\")"
   ]
  },
  {
   "cell_type": "code",
   "execution_count": null,
   "metadata": {},
   "outputs": [],
   "source": [
    "def funcname(a, b, c, d, e)"
   ]
  },
  {
   "cell_type": "markdown",
   "metadata": {},
   "source": [
    "### 函数调用的两条基本规则\n",
    "1. 带默认值的参数必须放在无默认值的参数后面\n",
    "2. 关键词参数必须放在位置参数后面"
   ]
  },
  {
   "cell_type": "markdown",
   "metadata": {},
   "source": [
    "抛出**SyntaxError**错误，这是因为关键词参数必须在位置参数后面。"
   ]
  },
  {
   "cell_type": "markdown",
   "metadata": {},
   "source": [
    "这里我们看到了两个概念：**关键词参数（keyword arguments）**和**位置参数（positional arguments）**：\n",
    "- 关键词参数：\n",
    "> 关键词参数以“<参数名>=<参数值>”的方式传入参数。参数的传入顺序允许与定义时的顺序不一致。\n",
    "- 位置参数\n",
    "> 位置参数以\"<参数值>\"的方式传入参数。参数的传入顺序必须与定义时的顺序一致。"
   ]
  },
  {
   "cell_type": "markdown",
   "metadata": {},
   "source": [
    "## 3. 函数的定义和调用的要点"
   ]
  },
  {
   "cell_type": "markdown",
   "metadata": {},
   "source": [
    " - 定义时的参数顺序与调用时的参数顺序是否必须一致？\n",
    "   * 对于实参采用关键词参数来说，不必遵守输入的顺序，因为有`name=val`这样的key-value对，确定对应的参数很简单。"
   ]
  },
  {
   "cell_type": "code",
   "execution_count": 136,
   "metadata": {},
   "outputs": [
    {
     "name": "stdout",
     "output_type": "stream",
     "text": [
      "Good morning Python\n",
      "Good morning Python\n"
     ]
    }
   ],
   "source": [
    "def printsomething(a, b, c):\n",
    "    print(b, a, c)\n",
    "    \n",
    "printsomething(b=\"Good\", a=\"morning\", c=\"Python\")\n",
    "printsomething(c=\"Python\", a=\"morning\", b=\"Good\")"
   ]
  },
  {
   "cell_type": "markdown",
   "metadata": {},
   "source": [
    "- 如果我的函数中包含几种类型的参数-定长位置参数、不定长位置参数、默认值参数、关键词参数，那么其顺序应该怎么样？\n",
    "  * 一般来说，顺序应该是[定长位置参数]->[不定长位置参数]->[默认值参数]->[关键词参数]"
   ]
  },
  {
   "cell_type": "markdown",
   "metadata": {},
   "source": [
    "### 3.1 定长的位置参数\n",
    "位置参数的个数是确定的"
   ]
  },
  {
   "cell_type": "code",
   "execution_count": 139,
   "metadata": {},
   "outputs": [],
   "source": [
    "def printsomething(a, b, c):\n",
    "    print(b, a, c)"
   ]
  },
  {
   "cell_type": "code",
   "execution_count": 141,
   "metadata": {},
   "outputs": [
    {
     "name": "stdout",
     "output_type": "stream",
     "text": [
      "Good morning Python\n"
     ]
    }
   ],
   "source": [
    "printsomething(\"morning\", \"Good\", \"Python\")"
   ]
  },
  {
   "cell_type": "code",
   "execution_count": 142,
   "metadata": {},
   "outputs": [
    {
     "name": "stdout",
     "output_type": "stream",
     "text": [
      "morning Good Python\n"
     ]
    }
   ],
   "source": [
    "printsomething(\"Good\", \"morning\", \"Python\")"
   ]
  },
  {
   "cell_type": "code",
   "execution_count": 143,
   "metadata": {},
   "outputs": [
    {
     "ename": "TypeError",
     "evalue": "printsomething() missing 1 required positional argument: 'c'",
     "output_type": "error",
     "traceback": [
      "\u001b[0;31m---------------------------------------------------------------------------\u001b[0m",
      "\u001b[0;31mTypeError\u001b[0m                                 Traceback (most recent call last)",
      "\u001b[0;32m<ipython-input-143-30d0b89c7ec1>\u001b[0m in \u001b[0;36m<module>\u001b[0;34m\u001b[0m\n\u001b[0;32m----> 1\u001b[0;31m \u001b[0mprintsomething\u001b[0m\u001b[0;34m(\u001b[0m\u001b[0;34m\"morning\"\u001b[0m\u001b[0;34m,\u001b[0m \u001b[0;34m\"Good\"\u001b[0m\u001b[0;34m)\u001b[0m\u001b[0;34m\u001b[0m\u001b[0;34m\u001b[0m\u001b[0m\n\u001b[0m",
      "\u001b[0;31mTypeError\u001b[0m: printsomething() missing 1 required positional argument: 'c'"
     ]
    }
   ],
   "source": [
    "printsomething(\"morning\", \"Good\")"
   ]
  },
  {
   "cell_type": "markdown",
   "metadata": {},
   "source": [
    "### 3.2 不定长的位置参数\n",
    "用`*args`的方式定义的参数，位置确定，当参数的个数不确定。"
   ]
  },
  {
   "cell_type": "code",
   "execution_count": 156,
   "metadata": {},
   "outputs": [],
   "source": [
    "def mysum(*args):\n",
    "    print(args)\n",
    "    s = 0\n",
    "    for t in args:\n",
    "        if isinstance(t, int):\n",
    "            s += t\n",
    "    return s"
   ]
  },
  {
   "cell_type": "code",
   "execution_count": 145,
   "metadata": {},
   "outputs": [
    {
     "data": {
      "text/plain": [
       "19"
      ]
     },
     "execution_count": 145,
     "metadata": {},
     "output_type": "execute_result"
    }
   ],
   "source": [
    "mysum(1,2,3,4,6.0,9)"
   ]
  },
  {
   "cell_type": "code",
   "execution_count": 146,
   "metadata": {},
   "outputs": [
    {
     "data": {
      "text/plain": [
       "6"
      ]
     },
     "execution_count": 146,
     "metadata": {},
     "output_type": "execute_result"
    }
   ],
   "source": [
    "mysum(1,2,3)"
   ]
  },
  {
   "cell_type": "code",
   "execution_count": 149,
   "metadata": {},
   "outputs": [
    {
     "data": {
      "text/plain": [
       "10"
      ]
     },
     "execution_count": 149,
     "metadata": {},
     "output_type": "execute_result"
    }
   ],
   "source": [
    "mysum(*[1,2,3,4])"
   ]
  },
  {
   "cell_type": "code",
   "execution_count": 150,
   "metadata": {},
   "outputs": [
    {
     "data": {
      "text/plain": [
       "10"
      ]
     },
     "execution_count": 150,
     "metadata": {},
     "output_type": "execute_result"
    }
   ],
   "source": [
    "mysum(*(1,2,3,4))"
   ]
  },
  {
   "cell_type": "code",
   "execution_count": 151,
   "metadata": {},
   "outputs": [
    {
     "data": {
      "text/plain": [
       "10"
      ]
     },
     "execution_count": 151,
     "metadata": {},
     "output_type": "execute_result"
    }
   ],
   "source": [
    "mysum(*{1,2,3,4})"
   ]
  },
  {
   "cell_type": "code",
   "execution_count": 157,
   "metadata": {},
   "outputs": [
    {
     "name": "stdout",
     "output_type": "stream",
     "text": [
      "('1', '2', '3')\n"
     ]
    },
    {
     "data": {
      "text/plain": [
       "0"
      ]
     },
     "execution_count": 157,
     "metadata": {},
     "output_type": "execute_result"
    }
   ],
   "source": [
    "mysum(*{\"1\":1,\"2\":2,\"3\":3})"
   ]
  },
  {
   "cell_type": "markdown",
   "metadata": {},
   "source": [
    "### 3.3 有默认值的参数\n",
    "参数带有默认值"
   ]
  },
  {
   "cell_type": "code",
   "execution_count": 158,
   "metadata": {},
   "outputs": [],
   "source": [
    "def mysum(a=5, b=3):\n",
    "    return a + b"
   ]
  },
  {
   "cell_type": "code",
   "execution_count": 159,
   "metadata": {},
   "outputs": [
    {
     "data": {
      "text/plain": [
       "6"
      ]
     },
     "execution_count": 159,
     "metadata": {},
     "output_type": "execute_result"
    }
   ],
   "source": [
    "mysum(2,4)"
   ]
  },
  {
   "cell_type": "code",
   "execution_count": 163,
   "metadata": {},
   "outputs": [
    {
     "data": {
      "text/plain": [
       "5"
      ]
     },
     "execution_count": 163,
     "metadata": {},
     "output_type": "execute_result"
    }
   ],
   "source": [
    "mysum(a=2)"
   ]
  },
  {
   "cell_type": "code",
   "execution_count": 161,
   "metadata": {},
   "outputs": [
    {
     "data": {
      "text/plain": [
       "10"
      ]
     },
     "execution_count": 161,
     "metadata": {},
     "output_type": "execute_result"
    }
   ],
   "source": [
    "mysum(b=5)"
   ]
  },
  {
   "cell_type": "code",
   "execution_count": 162,
   "metadata": {},
   "outputs": [
    {
     "data": {
      "text/plain": [
       "6"
      ]
     },
     "execution_count": 162,
     "metadata": {},
     "output_type": "execute_result"
    }
   ],
   "source": [
    "mysum(a=2, b=4)"
   ]
  },
  {
   "cell_type": "code",
   "execution_count": 164,
   "metadata": {},
   "outputs": [
    {
     "ename": "TypeError",
     "evalue": "mysum() got multiple values for argument 'a'",
     "output_type": "error",
     "traceback": [
      "\u001b[0;31m---------------------------------------------------------------------------\u001b[0m",
      "\u001b[0;31mTypeError\u001b[0m                                 Traceback (most recent call last)",
      "\u001b[0;32m<ipython-input-164-b255677e0a51>\u001b[0m in \u001b[0;36m<module>\u001b[0;34m\u001b[0m\n\u001b[0;32m----> 1\u001b[0;31m \u001b[0mmysum\u001b[0m\u001b[0;34m(\u001b[0m\u001b[0;36m2\u001b[0m\u001b[0;34m,\u001b[0m \u001b[0ma\u001b[0m\u001b[0;34m=\u001b[0m\u001b[0;36m4\u001b[0m\u001b[0;34m)\u001b[0m\u001b[0;34m\u001b[0m\u001b[0;34m\u001b[0m\u001b[0m\n\u001b[0m",
      "\u001b[0;31mTypeError\u001b[0m: mysum() got multiple values for argument 'a'"
     ]
    }
   ],
   "source": [
    "mysum(2, a=4)"
   ]
  },
  {
   "cell_type": "markdown",
   "metadata": {},
   "source": [
    "### 3.4 不定长的关键词参数\n",
    "用`**kwargs`表示引入不定长的关键词`kwargs`。"
   ]
  },
  {
   "cell_type": "code",
   "execution_count": 165,
   "metadata": {},
   "outputs": [],
   "source": [
    "def disp(**kwargs):\n",
    "    for k, v in kwargs.items():\n",
    "        print(k, \":\", v)"
   ]
  },
  {
   "cell_type": "code",
   "execution_count": 166,
   "metadata": {},
   "outputs": [
    {
     "name": "stdout",
     "output_type": "stream",
     "text": [
      "a : 3\n",
      "b : 4\n",
      "c : 5\n",
      "d : 6\n"
     ]
    }
   ],
   "source": [
    "disp(a=3, b=4, c=5, d=6)"
   ]
  },
  {
   "cell_type": "code",
   "execution_count": 167,
   "metadata": {},
   "outputs": [],
   "source": [
    "d = {\"a\":1, \"b\":2, \"c\":3}"
   ]
  },
  {
   "cell_type": "code",
   "execution_count": 169,
   "metadata": {},
   "outputs": [
    {
     "name": "stdout",
     "output_type": "stream",
     "text": [
      "a : 1\n",
      "b : 2\n",
      "c : 3\n"
     ]
    }
   ],
   "source": [
    "disp(**d)"
   ]
  },
  {
   "cell_type": "code",
   "execution_count": 170,
   "metadata": {},
   "outputs": [
    {
     "ename": "TypeError",
     "evalue": "disp() takes 0 positional arguments but 3 were given",
     "output_type": "error",
     "traceback": [
      "\u001b[0;31m---------------------------------------------------------------------------\u001b[0m",
      "\u001b[0;31mTypeError\u001b[0m                                 Traceback (most recent call last)",
      "\u001b[0;32m<ipython-input-170-d7bb13b81a53>\u001b[0m in \u001b[0;36m<module>\u001b[0;34m\u001b[0m\n\u001b[0;32m----> 1\u001b[0;31m \u001b[0mdisp\u001b[0m\u001b[0;34m(\u001b[0m\u001b[0;34m*\u001b[0m\u001b[0md\u001b[0m\u001b[0;34m)\u001b[0m\u001b[0;34m\u001b[0m\u001b[0;34m\u001b[0m\u001b[0m\n\u001b[0m",
      "\u001b[0;31mTypeError\u001b[0m: disp() takes 0 positional arguments but 3 were given"
     ]
    }
   ],
   "source": [
    "disp(*d)"
   ]
  },
  {
   "cell_type": "markdown",
   "metadata": {},
   "source": [
    "### 3.5 多种参数混合使用的顺序"
   ]
  },
  {
   "cell_type": "code",
   "execution_count": 173,
   "metadata": {},
   "outputs": [],
   "source": [
    "def func(a, b, d=5, e=10, *args, **kwargs):\n",
    "    sum = a + b + d + e\n",
    "    print(args)\n",
    "    for t in args:\n",
    "        if isinstance(t, int):\n",
    "            sum += t\n",
    "    for v in kwargs.values():\n",
    "        if isinstance(v, int):\n",
    "            sum += v\n",
    "            \n",
    "    return sum"
   ]
  },
  {
   "cell_type": "code",
   "execution_count": 174,
   "metadata": {},
   "outputs": [
    {
     "name": "stdout",
     "output_type": "stream",
     "text": [
      "(7, 11)\n"
     ]
    },
    {
     "data": {
      "text/plain": [
       "43"
      ]
     },
     "execution_count": 174,
     "metadata": {},
     "output_type": "execute_result"
    }
   ],
   "source": [
    "func(3,4,5,6,7,11,x=3,y=4,z=3.0)"
   ]
  },
  {
   "cell_type": "code",
   "execution_count": 175,
   "metadata": {},
   "outputs": [
    {
     "name": "stdout",
     "output_type": "stream",
     "text": [
      "()\n"
     ]
    },
    {
     "data": {
      "text/plain": [
       "22"
      ]
     },
     "execution_count": 175,
     "metadata": {},
     "output_type": "execute_result"
    }
   ],
   "source": [
    "func(3,4)"
   ]
  },
  {
   "cell_type": "code",
   "execution_count": 176,
   "metadata": {},
   "outputs": [],
   "source": [
    "def func(a, b, *args, d=5, e=10, **kwargs):\n",
    "    sum = a + b + d + e\n",
    "    print(args)\n",
    "    for t in args:\n",
    "        if isinstance(t, int):\n",
    "            sum += t\n",
    "    for v in kwargs.values():\n",
    "        if isinstance(v, int):\n",
    "            sum += v\n",
    "            \n",
    "    return sum"
   ]
  },
  {
   "cell_type": "code",
   "execution_count": 177,
   "metadata": {},
   "outputs": [
    {
     "name": "stdout",
     "output_type": "stream",
     "text": [
      "(5, 6, 7, 11)\n"
     ]
    },
    {
     "data": {
      "text/plain": [
       "58"
      ]
     },
     "execution_count": 177,
     "metadata": {},
     "output_type": "execute_result"
    }
   ],
   "source": [
    "func(3,4,5,6,7,11,x=3,y=4,z=3.0)"
   ]
  },
  {
   "cell_type": "code",
   "execution_count": 178,
   "metadata": {},
   "outputs": [
    {
     "name": "stdout",
     "output_type": "stream",
     "text": [
      "(5, 6)\n"
     ]
    },
    {
     "data": {
      "text/plain": [
       "42"
      ]
     },
     "execution_count": 178,
     "metadata": {},
     "output_type": "execute_result"
    }
   ],
   "source": [
    "func(3,4,5,6,d=7,x=3,y=4,z=3.0)"
   ]
  },
  {
   "cell_type": "code",
   "execution_count": 179,
   "metadata": {},
   "outputs": [
    {
     "name": "stdout",
     "output_type": "stream",
     "text": [
      "(5, 6)\n"
     ]
    },
    {
     "data": {
      "text/plain": [
       "37"
      ]
     },
     "execution_count": 179,
     "metadata": {},
     "output_type": "execute_result"
    }
   ],
   "source": [
    "func(3,4,5,6,e=7,x=3,y=4,z=3.0)"
   ]
  },
  {
   "cell_type": "markdown",
   "metadata": {},
   "source": [
    "### 3.6 小结"
   ]
  },
  {
   "cell_type": "markdown",
   "metadata": {},
   "source": [
    "定义函数的时候，参数的顺序必须是{定长的位置参数}->{不定长的位置参数}->{带默认值的参数}->{关键词参数}。\n",
    "```\n",
    "func(a,b,*args,c=4,d=3,**kwargs)\n",
    "```"
   ]
  },
  {
   "cell_type": "markdown",
   "metadata": {},
   "source": [
    "## 4. 参数的传递方式"
   ]
  },
  {
   "cell_type": "markdown",
   "metadata": {},
   "source": [
    "在C/C++中，传参的传递方式有传值和传引用两种方式。那么在Python中又是怎样的呢？"
   ]
  },
  {
   "cell_type": "code",
   "execution_count": 181,
   "metadata": {},
   "outputs": [],
   "source": [
    "def changeme(num):\n",
    "    num -= 2\n",
    "    print(num)"
   ]
  },
  {
   "cell_type": "code",
   "execution_count": 182,
   "metadata": {},
   "outputs": [],
   "source": [
    "n = 5"
   ]
  },
  {
   "cell_type": "code",
   "execution_count": 183,
   "metadata": {},
   "outputs": [
    {
     "name": "stdout",
     "output_type": "stream",
     "text": [
      "3\n"
     ]
    }
   ],
   "source": [
    "changeme(n)"
   ]
  },
  {
   "cell_type": "code",
   "execution_count": 184,
   "metadata": {},
   "outputs": [
    {
     "name": "stdout",
     "output_type": "stream",
     "text": [
      "5\n"
     ]
    }
   ],
   "source": [
    "print(n)"
   ]
  },
  {
   "cell_type": "markdown",
   "metadata": {},
   "source": [
    "- 貌似是传值"
   ]
  },
  {
   "cell_type": "code",
   "execution_count": 189,
   "metadata": {},
   "outputs": [],
   "source": [
    "def changeme(li):\n",
    "    li.append(5)\n",
    "    print(li)\n",
    "    li = [5,6,7]"
   ]
  },
  {
   "cell_type": "code",
   "execution_count": 190,
   "metadata": {},
   "outputs": [],
   "source": [
    "li = [1,2,3]"
   ]
  },
  {
   "cell_type": "code",
   "execution_count": 191,
   "metadata": {},
   "outputs": [
    {
     "name": "stdout",
     "output_type": "stream",
     "text": [
      "[1, 2, 3, 5]\n"
     ]
    }
   ],
   "source": [
    "changeme(li)"
   ]
  },
  {
   "cell_type": "code",
   "execution_count": 192,
   "metadata": {},
   "outputs": [
    {
     "name": "stdout",
     "output_type": "stream",
     "text": [
      "[1, 2, 3, 5]\n"
     ]
    }
   ],
   "source": [
    "print(li)"
   ]
  },
  {
   "cell_type": "markdown",
   "metadata": {},
   "source": [
    "- 看起来是传引用"
   ]
  },
  {
   "cell_type": "markdown",
   "metadata": {},
   "source": [
    "#### 结论\n",
    "- immutable object是传值？\n",
    "- mutable object是传引用？"
   ]
  },
  {
   "cell_type": "code",
   "execution_count": null,
   "metadata": {},
   "outputs": [],
   "source": []
  },
  {
   "cell_type": "markdown",
   "metadata": {},
   "source": [
    "## 5. 一些特殊函数"
   ]
  },
  {
   "cell_type": "markdown",
   "metadata": {},
   "source": [
    "### 5.1 闭包函数（closure）"
   ]
  },
  {
   "cell_type": "markdown",
   "metadata": {},
   "source": [
    "要了解什么是闭包函数，就必须先了解变量的作用域问题。对于每一个作用域（函数，类，模块，包）来说，都有一个独立的变量检索表（variable look-up table）。\n",
    "\n",
    "按照python.org教程中的规则，变量的检索顺序会遵循一个称为**LEGB的规则**，也就是：\n",
    "- （Local）局部变量\n",
    "- （Enclosing）包含变量\n",
    "- （Global）全局变量\n",
    "- （Builtin）内置变量\n",
    "的搜索顺序。"
   ]
  },
  {
   "cell_type": "markdown",
   "metadata": {},
   "source": [
    "这里我们以一个代码为例进行说明："
   ]
  },
  {
   "cell_type": "code",
   "execution_count": null,
   "metadata": {
    "ExecuteTime": {
     "end_time": "2020-06-03T23:08:29.403865Z",
     "start_time": "2020-06-03T23:08:29.399887Z"
    }
   },
   "outputs": [],
   "source": [
    "glob = 3\n",
    "def func(x):\n",
    "    y = x + glob\n",
    "    def inner():\n",
    "        return y + 1\n",
    "    return inner, abs"
   ]
  },
  {
   "cell_type": "markdown",
   "metadata": {},
   "source": [
    "- `y`是`func`的局部变量（local variable），因为`y`是在`func`内部定义的；\n",
    "- `y`是`inner`的封装变量（Enclosing variable），因为`y`是在`inner`的外部函数`func`中定义的；\n",
    "- `glob`对`func`来说，是全局变量，因为是在函数外部定义的；\n",
    "- `abs`在局部、封装域、全局域都没有搜索到，实际上是一个内置的函数`__builtin__.abs`。"
   ]
  },
  {
   "cell_type": "markdown",
   "metadata": {},
   "source": [
    "所以什么是闭包函数？\n",
    "- 闭包函数的外部函数返回的是内部函数\n",
    "- 内部函数调用了外部函数定义的变量"
   ]
  },
  {
   "cell_type": "markdown",
   "metadata": {},
   "source": [
    "根据定义，这个是闭包函数么？"
   ]
  },
  {
   "cell_type": "code",
   "execution_count": null,
   "metadata": {},
   "outputs": [],
   "source": [
    "def foo():\n",
    "    a = 5\n",
    "    def bar():\n",
    "        print(\"bar\")\n",
    "    return bar\n",
    "bar = foo()\n",
    "bar()"
   ]
  },
  {
   "cell_type": "markdown",
   "metadata": {},
   "source": [
    "从定义很容易判断。另外，客观的判断其实很简单，看看生成的这个实例`bar`的`__closure__`属性是否为None，如果是则不是闭包，否则为闭包："
   ]
  },
  {
   "cell_type": "code",
   "execution_count": null,
   "metadata": {},
   "outputs": [],
   "source": [
    "bar.__closure__ is None"
   ]
  },
  {
   "cell_type": "markdown",
   "metadata": {},
   "source": [
    "我们可以将其修改一下："
   ]
  },
  {
   "cell_type": "code",
   "execution_count": null,
   "metadata": {},
   "outputs": [],
   "source": [
    "def foo():\n",
    "    a = 5\n",
    "    def bar():\n",
    "        print(a)\n",
    "    return bar\n",
    "bar = foo()\n",
    "bar()"
   ]
  },
  {
   "cell_type": "markdown",
   "metadata": {},
   "source": [
    "那么这时候呢？"
   ]
  },
  {
   "cell_type": "code",
   "execution_count": null,
   "metadata": {},
   "outputs": [],
   "source": [
    "bar.__closure__ is not None"
   ]
  },
  {
   "cell_type": "markdown",
   "metadata": {},
   "source": [
    "闭包函数有什么用？你如果学过面向对象，就知道装饰器（比如@staticmethod, @classmethod, @property等）。装饰器本质上就是一种闭包函数，只不过其可以将函数作为参数传递进入闭包："
   ]
  },
  {
   "cell_type": "code",
   "execution_count": null,
   "metadata": {},
   "outputs": [],
   "source": [
    "def returndefault(default):\n",
    "    def deco(func):\n",
    "        def wrapped(*args, **kwargs):\n",
    "            ret = func(*args, **kwargs)\n",
    "            if not ret:\n",
    "                ret = default\n",
    "            return ret\n",
    "        return wrapped\n",
    "    return deco"
   ]
  },
  {
   "cell_type": "code",
   "execution_count": null,
   "metadata": {},
   "outputs": [],
   "source": [
    "@returndefault(10)\n",
    "def at_least_10(x):\n",
    "    if x >= 10:\n",
    "        return x\n",
    "    \n",
    "@returndefault(\"hello\")\n",
    "def greeting(msg):\n",
    "    return msg"
   ]
  },
  {
   "cell_type": "code",
   "execution_count": null,
   "metadata": {},
   "outputs": [],
   "source": [
    "at_least_10(3)"
   ]
  },
  {
   "cell_type": "code",
   "execution_count": null,
   "metadata": {},
   "outputs": [],
   "source": [
    "greeting(\"\")"
   ]
  },
  {
   "cell_type": "markdown",
   "metadata": {},
   "source": [
    "### 5.1 `zip`函数"
   ]
  },
  {
   "cell_type": "markdown",
   "metadata": {},
   "source": [
    "`zip`函数也是一类特殊的函数，看看其帮助信息："
   ]
  },
  {
   "cell_type": "code",
   "execution_count": null,
   "metadata": {
    "ExecuteTime": {
     "end_time": "2020-06-03T22:21:04.829797Z",
     "start_time": "2020-06-03T22:21:04.825404Z"
    }
   },
   "outputs": [],
   "source": [
    "zip?"
   ]
  },
  {
   "cell_type": "code",
   "execution_count": null,
   "metadata": {
    "ExecuteTime": {
     "end_time": "2020-06-03T22:13:18.816380Z",
     "start_time": "2020-06-03T22:13:18.812044Z"
    }
   },
   "outputs": [],
   "source": [
    "d = [(\"A\",1), (\"B\", 2), (\"C\",3), (\"D\", 4)]"
   ]
  },
  {
   "cell_type": "code",
   "execution_count": null,
   "metadata": {
    "ExecuteTime": {
     "end_time": "2020-06-03T22:13:19.563423Z",
     "start_time": "2020-06-03T22:13:19.556230Z"
    }
   },
   "outputs": [],
   "source": [
    "k, v = zip(*d)\n",
    "print(k, v)"
   ]
  },
  {
   "cell_type": "code",
   "execution_count": null,
   "metadata": {
    "ExecuteTime": {
     "end_time": "2020-06-03T22:14:55.259360Z",
     "start_time": "2020-06-03T22:14:55.252493Z"
    }
   },
   "outputs": [],
   "source": [
    "k = ('A', 'B', 'C', 'D')\n",
    "v = (1, 2, 3, 4)\n",
    "print(*zip(k, v))"
   ]
  },
  {
   "cell_type": "code",
   "execution_count": null,
   "metadata": {
    "ExecuteTime": {
     "end_time": "2020-06-03T22:24:35.935556Z",
     "start_time": "2020-06-03T22:24:35.926148Z"
    }
   },
   "outputs": [],
   "source": [
    "zip(k=k, v=v)"
   ]
  },
  {
   "cell_type": "code",
   "execution_count": null,
   "metadata": {
    "ExecuteTime": {
     "end_time": "2020-06-03T22:26:06.350189Z",
     "start_time": "2020-06-03T22:26:06.345824Z"
    }
   },
   "outputs": [],
   "source": [
    "d = dict(d)"
   ]
  },
  {
   "cell_type": "code",
   "execution_count": null,
   "metadata": {
    "ExecuteTime": {
     "end_time": "2020-06-03T22:26:38.651073Z",
     "start_time": "2020-06-03T22:26:38.647238Z"
    }
   },
   "outputs": [],
   "source": [
    "print(*zip(*d))"
   ]
  },
  {
   "cell_type": "code",
   "execution_count": null,
   "metadata": {
    "ExecuteTime": {
     "end_time": "2020-06-03T22:27:50.647189Z",
     "start_time": "2020-06-03T22:27:50.644629Z"
    }
   },
   "outputs": [],
   "source": [
    "print(*d)"
   ]
  },
  {
   "cell_type": "code",
   "execution_count": null,
   "metadata": {},
   "outputs": [],
   "source": []
  },
  {
   "cell_type": "code",
   "execution_count": null,
   "metadata": {
    "ExecuteTime": {
     "end_time": "2020-06-03T22:42:20.517363Z",
     "start_time": "2020-06-03T22:42:20.508474Z"
    }
   },
   "outputs": [],
   "source": [
    "class Number():\n",
    "    num = [1,2]\n",
    "    \n",
    "    def __init__(self, **kwargs):\n",
    "        for k, v in kwargs.items():\n",
    "            if k in Number.__dict__:\n",
    "                self.__class__.__dict__[k].append(v)\n",
    "        print(self.__dict__)\n",
    "        \n",
    "n1 = Number(num=3, son=4)"
   ]
  },
  {
   "cell_type": "code",
   "execution_count": null,
   "metadata": {
    "ExecuteTime": {
     "end_time": "2020-06-03T22:42:21.706158Z",
     "start_time": "2020-06-03T22:42:21.700708Z"
    }
   },
   "outputs": [],
   "source": [
    "print(n1.__class__.__dict__[\"num\"])"
   ]
  },
  {
   "cell_type": "code",
   "execution_count": null,
   "metadata": {
    "ExecuteTime": {
     "end_time": "2020-06-03T22:37:22.939956Z",
     "start_time": "2020-06-03T22:37:22.934856Z"
    }
   },
   "outputs": [],
   "source": [
    "print(Number.num)"
   ]
  },
  {
   "cell_type": "code",
   "execution_count": null,
   "metadata": {},
   "outputs": [],
   "source": []
  }
 ],
 "metadata": {
  "kernelspec": {
   "display_name": "Python 3",
   "language": "python",
   "name": "python3"
  },
  "language_info": {
   "codemirror_mode": {
    "name": "ipython",
    "version": 3
   },
   "file_extension": ".py",
   "mimetype": "text/x-python",
   "name": "python",
   "nbconvert_exporter": "python",
   "pygments_lexer": "ipython3",
   "version": "3.7.6"
  },
  "toc": {
   "base_numbering": 1,
   "nav_menu": {},
   "number_sections": false,
   "sideBar": true,
   "skip_h1_title": false,
   "title_cell": "Table of Contents",
   "title_sidebar": "Contents",
   "toc_cell": false,
   "toc_position": {
    "height": "calc(100% - 180px)",
    "left": "10px",
    "top": "150px",
    "width": "307.2px"
   },
   "toc_section_display": true,
   "toc_window_display": false
  }
 },
 "nbformat": 4,
 "nbformat_minor": 4
}
