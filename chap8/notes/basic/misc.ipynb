{
 "cells": [
  {
   "cell_type": "markdown",
   "metadata": {},
   "source": [
    "# 第八章F：Python杂项"
   ]
  },
  {
   "cell_type": "markdown",
   "metadata": {},
   "source": [
    "## 1. 容器类型：可迭代（iterable）对象与迭代器（iterator）\n",
    "\n",
    "在Python中有很多容器类型，如List，tuple，str，set，dict等都是容器类型。"
   ]
  },
  {
   "cell_type": "code",
   "execution_count": 1,
   "metadata": {
    "ExecuteTime": {
     "end_time": "2020-06-03T14:20:08.648642Z",
     "start_time": "2020-06-03T14:20:08.646352Z"
    }
   },
   "outputs": [],
   "source": [
    "from collections.abc import Iterable, Iterator, Generator, Hashable, Reversible"
   ]
  },
  {
   "cell_type": "markdown",
   "metadata": {},
   "source": [
    "### list/tuple/dict/str都是Iterable object?"
   ]
  },
  {
   "cell_type": "code",
   "execution_count": 3,
   "metadata": {
    "ExecuteTime": {
     "end_time": "2020-06-03T14:22:06.794956Z",
     "start_time": "2020-06-03T14:22:06.791071Z"
    }
   },
   "outputs": [
    {
     "name": "stdout",
     "output_type": "stream",
     "text": [
      "A list is iterable:  True\n",
      "A tuple is iterable:  True\n",
      "A dict is iterable:  True\n",
      "A str is iterable:  True\n"
     ]
    }
   ],
   "source": [
    "print(\"A list is iterable: \", isinstance(list(), Iterable))\n",
    "print(\"A tuple is iterable: \", isinstance(tuple(), Iterable))\n",
    "print(\"A dict is iterable: \", isinstance(dict(), Iterable))\n",
    "print(\"A str is iterable: \", isinstance(\"\", Iterable))"
   ]
  },
  {
   "cell_type": "markdown",
   "metadata": {},
   "source": [
    "这些对象都是可迭代的，因为这些对象都定义了`__iter__()`方法："
   ]
  },
  {
   "cell_type": "code",
   "execution_count": 5,
   "metadata": {
    "ExecuteTime": {
     "end_time": "2020-06-03T14:26:48.760317Z",
     "start_time": "2020-06-03T14:26:48.756446Z"
    }
   },
   "outputs": [
    {
     "name": "stdout",
     "output_type": "stream",
     "text": [
      "True\n",
      "True\n",
      "True\n",
      "True\n"
     ]
    }
   ],
   "source": [
    "print(\"__iter__\" in dir(list()))\n",
    "print(\"__iter__\" in dir(dict()))\n",
    "print(\"__iter__\" in dir(tuple()))\n",
    "print(\"__iter__\" in dir(\"\"))"
   ]
  },
  {
   "cell_type": "markdown",
   "metadata": {},
   "source": [
    "### list/tuple/dict/str都不是Iterator?"
   ]
  },
  {
   "cell_type": "code",
   "execution_count": 4,
   "metadata": {
    "ExecuteTime": {
     "end_time": "2020-06-03T14:23:05.702005Z",
     "start_time": "2020-06-03T14:23:05.697647Z"
    }
   },
   "outputs": [
    {
     "name": "stdout",
     "output_type": "stream",
     "text": [
      "A list is an iterator:  False\n",
      "A tuple is an iterator:  False\n",
      "A dict is an iterator:  False\n",
      "A str is an iterator:  False\n"
     ]
    }
   ],
   "source": [
    "print(\"A list is an iterator: \", isinstance(list(), Iterator))\n",
    "print(\"A tuple is an iterator: \", isinstance(tuple(), Iterator))\n",
    "print(\"A dict is an iterator: \", isinstance(dict(), Iterator))\n",
    "print(\"A str is an iterator: \", isinstance(\"\", Iterator))"
   ]
  },
  {
   "cell_type": "markdown",
   "metadata": {},
   "source": [
    "这是因为这些方法都没有定义`__next__()`方法。按照迭代器的约定，必须是定义了`__next__()`方法的才是迭代器。"
   ]
  },
  {
   "cell_type": "code",
   "execution_count": 6,
   "metadata": {
    "ExecuteTime": {
     "end_time": "2020-06-03T14:27:21.373180Z",
     "start_time": "2020-06-03T14:27:21.369713Z"
    }
   },
   "outputs": [
    {
     "name": "stdout",
     "output_type": "stream",
     "text": [
      "False\n",
      "False\n",
      "False\n",
      "False\n"
     ]
    }
   ],
   "source": [
    "print(\"__next__\" in dir(list()))\n",
    "print(\"__next__\" in dir(dict()))\n",
    "print(\"__next__\" in dir(tuple()))\n",
    "print(\"__next__\" in dir(\"\"))"
   ]
  },
  {
   "cell_type": "markdown",
   "metadata": {},
   "source": [
    "## 2. Hashable vs. Immutable"
   ]
  },
  {
   "cell_type": "markdown",
   "metadata": {},
   "source": [
    "- All of the immutable atomic instances in python are hashable.\n",
    "\n",
    "所有的原子类型数据都是hashable的，也是immutable的。\n",
    "\n",
    "- The immutable container instances are hashable if all of their elements are hashable.\n",
    "\n",
    "对于不可变的容器类型的实例来说，如果其所有元素都是hashable的，那么它也就是hashable的。\n",
    "这里举个简单的例子：`(1,2,3,[4,5])`这个元组，虽然元组是Immutable的，但是元组中包含一个元素`[4,5]`是unhashable的，所以元组也不是hashable的。\n",
    "- An object is hashable if it has a hash value which never changes during its lifetime (it needs a `__hash__()` method), and can be compared to other objects (it needs an `__eq__()` or `__cmp__()` method). Hashable objects which compare equal must have the same hash value."
   ]
  },
  {
   "cell_type": "code",
   "execution_count": 7,
   "metadata": {
    "ExecuteTime": {
     "end_time": "2020-06-03T14:31:04.996415Z",
     "start_time": "2020-06-03T14:31:04.989621Z"
    }
   },
   "outputs": [
    {
     "data": {
      "text/plain": [
       "True"
      ]
     },
     "execution_count": 7,
     "metadata": {},
     "output_type": "execute_result"
    }
   ],
   "source": [
    "isinstance(3.5, Hashable)"
   ]
  },
  {
   "cell_type": "markdown",
   "metadata": {},
   "source": [
    "因为这些类型都定义了一个`__hash__()`方法，这个方法返回对象的哈希值："
   ]
  },
  {
   "cell_type": "code",
   "execution_count": 10,
   "metadata": {
    "ExecuteTime": {
     "end_time": "2020-06-03T14:32:23.289822Z",
     "start_time": "2020-06-03T14:32:23.287800Z"
    }
   },
   "outputs": [],
   "source": [
    "x = 3.5"
   ]
  },
  {
   "cell_type": "code",
   "execution_count": 11,
   "metadata": {
    "ExecuteTime": {
     "end_time": "2020-06-03T14:32:24.087644Z",
     "start_time": "2020-06-03T14:32:24.084752Z"
    }
   },
   "outputs": [
    {
     "data": {
      "text/plain": [
       "1152921504606846979"
      ]
     },
     "execution_count": 11,
     "metadata": {},
     "output_type": "execute_result"
    }
   ],
   "source": [
    "x.__hash__()"
   ]
  },
  {
   "cell_type": "markdown",
   "metadata": {},
   "source": [
    "或者调用`hash()`函数也可以返回："
   ]
  },
  {
   "cell_type": "code",
   "execution_count": 12,
   "metadata": {
    "ExecuteTime": {
     "end_time": "2020-06-03T14:33:05.271596Z",
     "start_time": "2020-06-03T14:33:05.268596Z"
    }
   },
   "outputs": [
    {
     "data": {
      "text/plain": [
       "1152921504606846979"
      ]
     },
     "execution_count": 12,
     "metadata": {},
     "output_type": "execute_result"
    }
   ],
   "source": [
    "hash(x)"
   ]
  },
  {
   "cell_type": "markdown",
   "metadata": {},
   "source": [
    "- 一般来说，用户自定义的类的实例都是hashable的，其哈希值就是通过`id()`进一步计算得到的："
   ]
  },
  {
   "cell_type": "code",
   "execution_count": 13,
   "metadata": {
    "ExecuteTime": {
     "end_time": "2020-06-03T14:34:36.915693Z",
     "start_time": "2020-06-03T14:34:36.913654Z"
    }
   },
   "outputs": [],
   "source": [
    "class Number():\n",
    "    num = 0"
   ]
  },
  {
   "cell_type": "code",
   "execution_count": 23,
   "metadata": {
    "ExecuteTime": {
     "end_time": "2020-06-03T14:40:37.436431Z",
     "start_time": "2020-06-03T14:40:37.434194Z"
    }
   },
   "outputs": [],
   "source": [
    "n1 = Number()"
   ]
  },
  {
   "cell_type": "code",
   "execution_count": 15,
   "metadata": {
    "ExecuteTime": {
     "end_time": "2020-06-03T14:35:02.061668Z",
     "start_time": "2020-06-03T14:35:02.058402Z"
    }
   },
   "outputs": [
    {
     "data": {
      "text/plain": [
       "True"
      ]
     },
     "execution_count": 15,
     "metadata": {},
     "output_type": "execute_result"
    }
   ],
   "source": [
    "isinstance(n1, Hashable)"
   ]
  },
  {
   "cell_type": "code",
   "execution_count": 16,
   "metadata": {
    "ExecuteTime": {
     "end_time": "2020-06-03T14:35:11.306002Z",
     "start_time": "2020-06-03T14:35:11.302752Z"
    },
    "scrolled": true
   },
   "outputs": [
    {
     "data": {
      "text/plain": [
       "8762505506109"
      ]
     },
     "execution_count": 16,
     "metadata": {},
     "output_type": "execute_result"
    }
   ],
   "source": [
    "hash(n1)"
   ]
  },
  {
   "cell_type": "code",
   "execution_count": 17,
   "metadata": {
    "ExecuteTime": {
     "end_time": "2020-06-03T14:36:01.231651Z",
     "start_time": "2020-06-03T14:36:01.228289Z"
    }
   },
   "outputs": [
    {
     "data": {
      "text/plain": [
       "140200088097744"
      ]
     },
     "execution_count": 17,
     "metadata": {},
     "output_type": "execute_result"
    }
   ],
   "source": [
    "id(n1)"
   ]
  },
  {
   "cell_type": "markdown",
   "metadata": {},
   "source": [
    "- 我们说，hashable的对象都可作为字典的键，让我们检验一下："
   ]
  },
  {
   "cell_type": "code",
   "execution_count": 24,
   "metadata": {
    "ExecuteTime": {
     "end_time": "2020-06-03T14:40:44.375595Z",
     "start_time": "2020-06-03T14:40:44.373355Z"
    }
   },
   "outputs": [],
   "source": [
    "y = {n1:10}"
   ]
  },
  {
   "cell_type": "code",
   "execution_count": 25,
   "metadata": {
    "ExecuteTime": {
     "end_time": "2020-06-03T14:40:45.197592Z",
     "start_time": "2020-06-03T14:40:45.195418Z"
    }
   },
   "outputs": [],
   "source": [
    "n1.num = 5"
   ]
  },
  {
   "cell_type": "code",
   "execution_count": 26,
   "metadata": {
    "ExecuteTime": {
     "end_time": "2020-06-03T14:40:45.975036Z",
     "start_time": "2020-06-03T14:40:45.971335Z"
    }
   },
   "outputs": [
    {
     "data": {
      "text/plain": [
       "10"
      ]
     },
     "execution_count": 26,
     "metadata": {},
     "output_type": "execute_result"
    }
   ],
   "source": [
    "y[n1]"
   ]
  },
  {
   "cell_type": "markdown",
   "metadata": {},
   "source": [
    "- <font color=\"red\">很多Python教程都声称，Immutable类型的对象可以作为dict的key，这其实是错误的，只有hashable的对象才能作为key。</font>"
   ]
  },
  {
   "cell_type": "markdown",
   "metadata": {},
   "source": [
    "既然提到了immutable，我们就来说说什么是immutable。"
   ]
  },
  {
   "cell_type": "markdown",
   "metadata": {},
   "source": [
    "- 原子类型的对象都是immutable的，因为原子类型的数据只有通过全局赋值的方式去修改变量的引用，也就是说对原子类型的数据`var`来说，要修改其指向的值`value`，唯一的方式就是通过执行`var=newvalue`。这无疑会导致其id被改变。"
   ]
  },
  {
   "cell_type": "code",
   "execution_count": null,
   "metadata": {},
   "outputs": [],
   "source": []
  },
  {
   "cell_type": "markdown",
   "metadata": {},
   "source": [
    "- 对于容器类型的变量而言，对于mutable对象如list、dict、set来说，要修改其引用的值，并不都需要去对整个变量去重新赋值。比如对list而言，我们有`<list>.append()`、`<list>.extend()`等方法，还有就是对个别元素重新赋值。这些操作会影响容器中的元素的id，但不会改变容器整体的id。"
   ]
  },
  {
   "cell_type": "code",
   "execution_count": null,
   "metadata": {},
   "outputs": [],
   "source": []
  },
  {
   "cell_type": "markdown",
   "metadata": {},
   "source": [
    "- 对于tuple这种immutable的类型来说，容器的id不变，那么其每个元素的id也就不能改变。我们不能针对某个元素去重新赋值，也不能附加和扩展元素。但是，如果tuple的个别元素为list或set的话，我们是可以通过操作这个元素来实现对容器的值的修改的："
   ]
  },
  {
   "cell_type": "code",
   "execution_count": 82,
   "metadata": {
    "ExecuteTime": {
     "end_time": "2020-06-03T20:08:39.475897Z",
     "start_time": "2020-06-03T20:08:39.467089Z"
    }
   },
   "outputs": [
    {
     "name": "stdout",
     "output_type": "stream",
     "text": [
      "tp:  140199622317360\n",
      "tp[-1]: 140199632605584\n",
      "====After appending=====\n",
      "(1, 2, 3, [1, 2, 3, 4])\n",
      "tp[-1]: 140199632605584\n",
      "tp:  140199622317360\n"
     ]
    }
   ],
   "source": [
    "tp = (1,2,3,[1,2,3])\n",
    "print(\"tp: \", id(tp))\n",
    "print(\"tp[-1]:\", id(tp[-1]))\n",
    "tp[-1].append(4)\n",
    "print(\"====After appending=====\")\n",
    "print(tp)\n",
    "print(\"tp[-1]:\", id(tp[-1]))\n",
    "print(\"tp: \", id(tp))"
   ]
  },
  {
   "cell_type": "markdown",
   "metadata": {},
   "source": [
    "但这种操作不影响到`tp`每个元素的id，更不会影响到`tp`的id。"
   ]
  },
  {
   "cell_type": "markdown",
   "metadata": {},
   "source": [
    "所以，有些教程中断言：\n",
    "> 所有immutable对象都可以作为dict的key。\n",
    "\n",
    "的论断是错误的，比如上面的这个tuple，虽然是immutable的，但并不是hashable的。"
   ]
  },
  {
   "cell_type": "markdown",
   "metadata": {},
   "source": [
    "## 3. 如何定义只有一个元素的tuple？"
   ]
  },
  {
   "cell_type": "code",
   "execution_count": 27,
   "metadata": {
    "ExecuteTime": {
     "end_time": "2020-06-03T14:41:15.970055Z",
     "start_time": "2020-06-03T14:41:15.967531Z"
    }
   },
   "outputs": [],
   "source": [
    "t = (5.0)"
   ]
  },
  {
   "cell_type": "markdown",
   "metadata": {},
   "source": [
    "对么？让我们检查一下："
   ]
  },
  {
   "cell_type": "code",
   "execution_count": 28,
   "metadata": {
    "ExecuteTime": {
     "end_time": "2020-06-03T14:41:41.196629Z",
     "start_time": "2020-06-03T14:41:41.193774Z"
    }
   },
   "outputs": [
    {
     "data": {
      "text/plain": [
       "float"
      ]
     },
     "execution_count": 28,
     "metadata": {},
     "output_type": "execute_result"
    }
   ],
   "source": [
    "type(t)"
   ]
  },
  {
   "cell_type": "markdown",
   "metadata": {},
   "source": [
    "似乎有问题，这样定义的话，对象被视为原子对象`float`。那么，该怎么定义呢？"
   ]
  },
  {
   "cell_type": "code",
   "execution_count": 29,
   "metadata": {
    "ExecuteTime": {
     "end_time": "2020-06-03T14:42:38.108317Z",
     "start_time": "2020-06-03T14:42:38.106172Z"
    }
   },
   "outputs": [],
   "source": [
    "t = (5.0,)"
   ]
  },
  {
   "cell_type": "code",
   "execution_count": 30,
   "metadata": {
    "ExecuteTime": {
     "end_time": "2020-06-03T14:42:43.690252Z",
     "start_time": "2020-06-03T14:42:43.687223Z"
    }
   },
   "outputs": [
    {
     "data": {
      "text/plain": [
       "tuple"
      ]
     },
     "execution_count": 30,
     "metadata": {},
     "output_type": "execute_result"
    }
   ],
   "source": [
    "type(t)"
   ]
  },
  {
   "cell_type": "markdown",
   "metadata": {},
   "source": [
    "嗯，这才是正确的定义方式。以后我们常常会在`numpy`的`array`和`pandas`的`Series`中看到这种情形："
   ]
  },
  {
   "cell_type": "code",
   "execution_count": 31,
   "metadata": {
    "ExecuteTime": {
     "end_time": "2020-06-03T14:44:23.961296Z",
     "start_time": "2020-06-03T14:44:23.886543Z"
    }
   },
   "outputs": [],
   "source": [
    "import numpy as np"
   ]
  },
  {
   "cell_type": "code",
   "execution_count": 32,
   "metadata": {
    "ExecuteTime": {
     "end_time": "2020-06-03T14:45:03.721634Z",
     "start_time": "2020-06-03T14:45:03.718509Z"
    }
   },
   "outputs": [
    {
     "data": {
      "text/plain": [
       "(5,)"
      ]
     },
     "execution_count": 32,
     "metadata": {},
     "output_type": "execute_result"
    }
   ],
   "source": [
    "vec = np.array(np.arange(5))\n",
    "vec.shape"
   ]
  },
  {
   "cell_type": "markdown",
   "metadata": {},
   "source": [
    "但是，对于列表等就不存在这种情况了："
   ]
  },
  {
   "cell_type": "code",
   "execution_count": 33,
   "metadata": {
    "ExecuteTime": {
     "end_time": "2020-06-03T14:51:13.312392Z",
     "start_time": "2020-06-03T14:51:13.309753Z"
    }
   },
   "outputs": [
    {
     "data": {
      "text/plain": [
       "list"
      ]
     },
     "execution_count": 33,
     "metadata": {},
     "output_type": "execute_result"
    }
   ],
   "source": [
    "type([2.5])"
   ]
  },
  {
   "cell_type": "code",
   "execution_count": 34,
   "metadata": {
    "ExecuteTime": {
     "end_time": "2020-06-03T14:51:21.410541Z",
     "start_time": "2020-06-03T14:51:21.406768Z"
    }
   },
   "outputs": [
    {
     "data": {
      "text/plain": [
       "set"
      ]
     },
     "execution_count": 34,
     "metadata": {},
     "output_type": "execute_result"
    }
   ],
   "source": [
    "type({3.3})"
   ]
  },
  {
   "cell_type": "code",
   "execution_count": 35,
   "metadata": {
    "ExecuteTime": {
     "end_time": "2020-06-03T14:51:39.639546Z",
     "start_time": "2020-06-03T14:51:39.636574Z"
    }
   },
   "outputs": [
    {
     "data": {
      "text/plain": [
       "dict"
      ]
     },
     "execution_count": 35,
     "metadata": {},
     "output_type": "execute_result"
    }
   ],
   "source": [
    "type({'a':1})"
   ]
  },
  {
   "cell_type": "markdown",
   "metadata": {},
   "source": [
    "所以tuple真的是一种非常特殊的类型："
   ]
  },
  {
   "cell_type": "markdown",
   "metadata": {},
   "source": [
    "- 定义的时候没有括号也是可以的："
   ]
  },
  {
   "cell_type": "code",
   "execution_count": 37,
   "metadata": {
    "ExecuteTime": {
     "end_time": "2020-06-03T14:53:08.615661Z",
     "start_time": "2020-06-03T14:53:08.610771Z"
    }
   },
   "outputs": [
    {
     "data": {
      "text/plain": [
       "tuple"
      ]
     },
     "execution_count": 37,
     "metadata": {},
     "output_type": "execute_result"
    }
   ],
   "source": [
    "t = 3,3\n",
    "type(t)"
   ]
  },
  {
   "cell_type": "code",
   "execution_count": 38,
   "metadata": {
    "ExecuteTime": {
     "end_time": "2020-06-03T14:53:10.786057Z",
     "start_time": "2020-06-03T14:53:10.782522Z"
    }
   },
   "outputs": [
    {
     "name": "stdout",
     "output_type": "stream",
     "text": [
      "(3, 3)\n"
     ]
    }
   ],
   "source": [
    "print(t)"
   ]
  },
  {
   "cell_type": "code",
   "execution_count": 41,
   "metadata": {
    "ExecuteTime": {
     "end_time": "2020-06-03T14:54:14.305452Z",
     "start_time": "2020-06-03T14:54:14.301822Z"
    }
   },
   "outputs": [
    {
     "name": "stdout",
     "output_type": "stream",
     "text": [
      "(3, True)\n"
     ]
    }
   ],
   "source": [
    "t=3,2==2\n",
    "print(t)"
   ]
  },
  {
   "cell_type": "markdown",
   "metadata": {},
   "source": [
    "## 4. 匿名函数的类型是什么？"
   ]
  },
  {
   "cell_type": "code",
   "execution_count": 42,
   "metadata": {
    "ExecuteTime": {
     "end_time": "2020-06-03T15:01:43.389772Z",
     "start_time": "2020-06-03T15:01:43.387020Z"
    }
   },
   "outputs": [
    {
     "data": {
      "text/plain": [
       "function"
      ]
     },
     "execution_count": 42,
     "metadata": {},
     "output_type": "execute_result"
    }
   ],
   "source": [
    "type(lambda: None)"
   ]
  },
  {
   "cell_type": "code",
   "execution_count": 50,
   "metadata": {
    "ExecuteTime": {
     "end_time": "2020-06-03T15:13:23.524512Z",
     "start_time": "2020-06-03T15:13:23.522145Z"
    }
   },
   "outputs": [],
   "source": [
    "del y"
   ]
  },
  {
   "cell_type": "markdown",
   "metadata": {},
   "source": [
    "## 5. 对于bool变量来说，哪些值是False？"
   ]
  },
  {
   "cell_type": "markdown",
   "metadata": {},
   "source": [
    "这似乎是一个非常简单的问题，但是很容易出错，我们看看下面这个例子："
   ]
  },
  {
   "cell_type": "code",
   "execution_count": 52,
   "metadata": {
    "ExecuteTime": {
     "end_time": "2020-06-03T15:13:45.414356Z",
     "start_time": "2020-06-03T15:13:45.412052Z"
    }
   },
   "outputs": [],
   "source": [
    "x=True;y=0;z=False,False"
   ]
  },
  {
   "cell_type": "code",
   "execution_count": 53,
   "metadata": {
    "ExecuteTime": {
     "end_time": "2020-06-03T15:13:46.561627Z",
     "start_time": "2020-06-03T15:13:46.559049Z"
    }
   },
   "outputs": [
    {
     "name": "stdout",
     "output_type": "stream",
     "text": [
      "yes\n"
     ]
    }
   ],
   "source": [
    "if x or y and z:\n",
    "    print('yes')\n",
    "else:\n",
    "    print(\"no\")"
   ]
  },
  {
   "cell_type": "markdown",
   "metadata": {},
   "source": [
    "我们将上述表达式拆解开来看："
   ]
  },
  {
   "cell_type": "code",
   "execution_count": 56,
   "metadata": {
    "ExecuteTime": {
     "end_time": "2020-06-03T15:14:35.026922Z",
     "start_time": "2020-06-03T15:14:35.024181Z"
    }
   },
   "outputs": [
    {
     "name": "stdout",
     "output_type": "stream",
     "text": [
      "0\n"
     ]
    }
   ],
   "source": [
    "print(y)"
   ]
  },
  {
   "cell_type": "code",
   "execution_count": 57,
   "metadata": {
    "ExecuteTime": {
     "end_time": "2020-06-03T15:14:35.769653Z",
     "start_time": "2020-06-03T15:14:35.767087Z"
    }
   },
   "outputs": [
    {
     "name": "stdout",
     "output_type": "stream",
     "text": [
      "(False, False)\n"
     ]
    }
   ],
   "source": [
    "print(z)"
   ]
  },
  {
   "cell_type": "markdown",
   "metadata": {},
   "source": [
    "那么问题就是这个tuple是True还是False？"
   ]
  },
  {
   "cell_type": "code",
   "execution_count": 45,
   "metadata": {
    "ExecuteTime": {
     "end_time": "2020-06-03T15:07:10.486341Z",
     "start_time": "2020-06-03T15:07:10.483099Z"
    }
   },
   "outputs": [
    {
     "data": {
      "text/plain": [
       "True"
      ]
     },
     "execution_count": 45,
     "metadata": {},
     "output_type": "execute_result"
    }
   ],
   "source": [
    "bool((False, False))"
   ]
  },
  {
   "cell_type": "markdown",
   "metadata": {},
   "source": [
    "而同样的"
   ]
  },
  {
   "cell_type": "code",
   "execution_count": 58,
   "metadata": {
    "ExecuteTime": {
     "end_time": "2020-06-03T15:15:55.342496Z",
     "start_time": "2020-06-03T15:15:55.339370Z"
    }
   },
   "outputs": [
    {
     "data": {
      "text/plain": [
       "True"
      ]
     },
     "execution_count": 58,
     "metadata": {},
     "output_type": "execute_result"
    }
   ],
   "source": [
    "bool((False,))"
   ]
  },
  {
   "cell_type": "markdown",
   "metadata": {},
   "source": [
    "因此，我们可以用一张表总结一下，看哪些对象为False："
   ]
  },
  {
   "cell_type": "markdown",
   "metadata": {},
   "source": [
    "| 对象 | 布尔值 |\n",
    "| --- | --- |\n",
    "| 0 | False |\n",
    "| None | False |\n",
    "| False | False |\n",
    "| 0.0 | False |\n",
    "| \"\" | False |\n",
    "| [] | False |\n",
    "| () | False |\n",
    "| {} | False |\n",
    "| list() | False |\n",
    "| tuple() | False |\n",
    "| set() | False |\n",
    "| dict() | False |"
   ]
  },
  {
   "cell_type": "code",
   "execution_count": 76,
   "metadata": {
    "ExecuteTime": {
     "end_time": "2020-06-03T17:23:25.785843Z",
     "start_time": "2020-06-03T17:23:25.776462Z"
    }
   },
   "outputs": [
    {
     "name": "stdout",
     "output_type": "stream",
     "text": [
      "(1, 2, 3, [1, 2, 3, 0])\n"
     ]
    }
   ],
   "source": [
    "def func(obj):\n",
    "    obj[-1].append(0)\n",
    "\n",
    "tobj = (1,2,3,[1,2,3])\n",
    "func(tobj)\n",
    "print(tobj)"
   ]
  },
  {
   "cell_type": "markdown",
   "metadata": {},
   "source": [
    "## 6. Python函数调用的时候是pass-by-value还是pass-by-reference?"
   ]
  },
  {
   "cell_type": "markdown",
   "metadata": {},
   "source": [
    "我们在学C/C++的时候知道函数的调用有两种方式，pass-by-value和pass-by-reference。那么对Python来说，是pass-by-value还是pass-by-reference?"
   ]
  },
  {
   "cell_type": "markdown",
   "metadata": {},
   "source": [
    "我们来看看这个例子："
   ]
  },
  {
   "cell_type": "code",
   "execution_count": 85,
   "metadata": {
    "ExecuteTime": {
     "end_time": "2020-06-03T20:41:27.517925Z",
     "start_time": "2020-06-03T20:41:27.508455Z"
    }
   },
   "outputs": [
    {
     "name": "stdout",
     "output_type": "stream",
     "text": [
      "140199632615936\n",
      "140199632615936\n",
      "140199632617296\n",
      "[2, 3, 4]\n",
      "[1, 2, 3, 5]\n"
     ]
    }
   ],
   "source": [
    "def update(li):\n",
    "    assert(isinstance(li, list))\n",
    "    print(id(li))\n",
    "    li.append(5)\n",
    "    print(id(li))\n",
    "    li = [2,3,4]\n",
    "    print(id(li))\n",
    "    print(li)\n",
    "    \n",
    "lst = [1,2,3]\n",
    "update(lst)\n",
    "print(lst)"
   ]
  },
  {
   "cell_type": "markdown",
   "metadata": {},
   "source": [
    "我们可以看到，\n",
    "- 当`lst`被作为参数传递给`update`函数时，其值被修改为了`[1,2,3,5]`，看起来像是pass-by-reference？\n",
    "- 当运行`li = [2,3,4]`的时候，对`lst`的值却没有影响，看起来似乎是pass-by-value？\n",
    "\n",
    "那么，到底是如何一种机制呢？"
   ]
  },
  {
   "cell_type": "markdown",
   "metadata": {},
   "source": [
    "其实都不是，Python采取的是一种称为`call-by-sharing`的机制。\n",
    "- 函数调用时创建了一个新的变量，指向`lst`引用的地址。\n",
    "- 当执行`append()`操作的时候，会影响到指向地址值的改变，从而也影响了`lst`的值。\n",
    "- 但是当运行赋值操作`li=[2,3,4]`时，新的变量的整个引用地址就发生了改变，所以这个改变也不会影响到`lst`的值。"
   ]
  },
  {
   "cell_type": "markdown",
   "metadata": {},
   "source": [
    "这本质上是不是还是引用，只不过Python的某些对象是immutable，不能进行一些操作而已？"
   ]
  },
  {
   "cell_type": "markdown",
   "metadata": {},
   "source": [
    "## 7. 引用 vs. 浅拷贝 vs. 深拷贝"
   ]
  },
  {
   "cell_type": "markdown",
   "metadata": {},
   "source": [
    "我们一般在比较这几个概念的时候，往往针对的是容器变量的操作"
   ]
  },
  {
   "cell_type": "code",
   "execution_count": 87,
   "metadata": {
    "ExecuteTime": {
     "end_time": "2020-06-03T20:47:12.676770Z",
     "start_time": "2020-06-03T20:47:12.672524Z"
    }
   },
   "outputs": [],
   "source": [
    "from copy import copy, deepcopy"
   ]
  },
  {
   "cell_type": "code",
   "execution_count": 98,
   "metadata": {
    "ExecuteTime": {
     "end_time": "2020-06-03T20:54:57.258585Z",
     "start_time": "2020-06-03T20:54:57.255893Z"
    }
   },
   "outputs": [],
   "source": [
    "a = [1,2,3,[1,2,3]]\n",
    "b = a                          # reference\n",
    "c = a[:]                       # slicing\n",
    "d = a.copy()"
   ]
  },
  {
   "cell_type": "code",
   "execution_count": 99,
   "metadata": {
    "ExecuteTime": {
     "end_time": "2020-06-03T20:54:58.058730Z",
     "start_time": "2020-06-03T20:54:58.056532Z"
    }
   },
   "outputs": [],
   "source": [
    "e = copy(a)\n",
    "f = deepcopy(a)"
   ]
  },
  {
   "cell_type": "markdown",
   "metadata": {
    "ExecuteTime": {
     "end_time": "2020-06-03T20:49:57.140663Z",
     "start_time": "2020-06-03T20:49:57.135673Z"
    }
   },
   "source": [
    "- `b=a`称为引用（reference），操作`b`的值会影响到`a`，反之亦然。"
   ]
  },
  {
   "cell_type": "code",
   "execution_count": 100,
   "metadata": {
    "ExecuteTime": {
     "end_time": "2020-06-03T20:55:00.898299Z",
     "start_time": "2020-06-03T20:55:00.837778Z"
    }
   },
   "outputs": [
    {
     "data": {
      "image/svg+xml": [
       "<?xml version=\"1.0\" encoding=\"UTF-8\" standalone=\"no\"?>\n",
       "<!DOCTYPE svg PUBLIC \"-//W3C//DTD SVG 1.1//EN\"\n",
       " \"http://www.w3.org/Graphics/SVG/1.1/DTD/svg11.dtd\">\n",
       "<!-- Generated by graphviz version 2.30.1 (20180420.1509)\n",
       " -->\n",
       "<!-- Title: ObjectGraph Pages: 1 -->\n",
       "<svg width=\"264pt\" height=\"194pt\"\n",
       " viewBox=\"0.00 0.00 264.00 194.00\" xmlns=\"http://www.w3.org/2000/svg\" xmlns:xlink=\"http://www.w3.org/1999/xlink\">\n",
       "<g id=\"graph0\" class=\"graph\" transform=\"scale(1 1) rotate(0) translate(4 190)\">\n",
       "<title>ObjectGraph</title>\n",
       "<polygon fill=\"white\" stroke=\"white\" points=\"-4,5 -4,-190 261,-190 261,5 -4,5\"/>\n",
       "<!-- o140199632530800 -->\n",
       "<g id=\"node1\" class=\"node\"><title>o140199632530800</title>\n",
       "<polygon fill=\"#ffffff\" stroke=\"black\" points=\"156,-186 86,-186 86,-148 156,-148 156,-186\"/>\n",
       "<text text-anchor=\"middle\" x=\"121\" y=\"-170.8\" font-family=\"Times,serif\" font-size=\"14.00\" fill=\"red\">list</text>\n",
       "<text text-anchor=\"middle\" x=\"121\" y=\"-155.8\" font-family=\"Times,serif\" font-size=\"14.00\" fill=\"red\">4 items</text>\n",
       "</g>\n",
       "<!-- o140199634103984 -->\n",
       "<g id=\"node2\" class=\"node\"><title>o140199634103984</title>\n",
       "<polygon fill=\"#c3c3c3\" stroke=\"black\" points=\"125,-112 55,-112 55,-74 125,-74 125,-112\"/>\n",
       "<text text-anchor=\"middle\" x=\"90\" y=\"-96.8\" font-family=\"Times,serif\" font-size=\"14.00\">list</text>\n",
       "<text text-anchor=\"middle\" x=\"90\" y=\"-81.8\" font-family=\"Times,serif\" font-size=\"14.00\">3 items</text>\n",
       "</g>\n",
       "<!-- o140199632530800&#45;&gt;o140199634103984 -->\n",
       "<g id=\"edge1\" class=\"edge\"><title>o140199632530800&#45;&gt;o140199634103984</title>\n",
       "<path fill=\"none\" stroke=\"black\" d=\"M113.177,-147.831C109.789,-139.962 105.746,-130.571 101.992,-121.853\"/>\n",
       "<polygon fill=\"black\" stroke=\"black\" points=\"105.097,-120.214 97.9279,-112.413 98.6679,-122.982 105.097,-120.214\"/>\n",
       "</g>\n",
       "<!-- o94113337369408 -->\n",
       "<g id=\"node3\" class=\"node\"><title>o94113337369408</title>\n",
       "<polygon fill=\"#c3c3c3\" stroke=\"black\" points=\"54,-38 0,-38 0,-0 54,-0 54,-38\"/>\n",
       "<text text-anchor=\"middle\" x=\"27\" y=\"-22.8\" font-family=\"Times,serif\" font-size=\"14.00\">int</text>\n",
       "<text text-anchor=\"middle\" x=\"27\" y=\"-7.8\" font-family=\"Times,serif\" font-size=\"14.00\">3</text>\n",
       "</g>\n",
       "<!-- o140199632530800&#45;&gt;o94113337369408 -->\n",
       "<g id=\"edge2\" class=\"edge\"><title>o140199632530800&#45;&gt;o94113337369408</title>\n",
       "<path fill=\"none\" stroke=\"black\" d=\"M85.7849,-148.276C71.3535,-139.299 55.776,-127.078 46,-112 33.6478,-92.9483 29.1113,-67.4097 27.5429,-48.0741\"/>\n",
       "<polygon fill=\"black\" stroke=\"black\" points=\"31.0343,-47.8251 26.9461,-38.0508 24.0467,-48.2412 31.0343,-47.8251\"/>\n",
       "</g>\n",
       "<!-- o94113337369376 -->\n",
       "<g id=\"node4\" class=\"node\"><title>o94113337369376</title>\n",
       "<polygon fill=\"#c3c3c3\" stroke=\"black\" points=\"180,-38 126,-38 126,-0 180,-0 180,-38\"/>\n",
       "<text text-anchor=\"middle\" x=\"153\" y=\"-22.8\" font-family=\"Times,serif\" font-size=\"14.00\">int</text>\n",
       "<text text-anchor=\"middle\" x=\"153\" y=\"-7.8\" font-family=\"Times,serif\" font-size=\"14.00\">2</text>\n",
       "</g>\n",
       "<!-- o140199632530800&#45;&gt;o94113337369376 -->\n",
       "<g id=\"edge3\" class=\"edge\"><title>o140199632530800&#45;&gt;o94113337369376</title>\n",
       "<path fill=\"none\" stroke=\"black\" d=\"M125.602,-147.54C128.158,-137.124 131.349,-123.857 134,-112 138.789,-90.5788 143.794,-66.2533 147.464,-47.9977\"/>\n",
       "<polygon fill=\"black\" stroke=\"black\" points=\"150.931,-48.5105 149.459,-38.0184 144.067,-47.1383 150.931,-48.5105\"/>\n",
       "</g>\n",
       "<!-- o94113337369344 -->\n",
       "<g id=\"node5\" class=\"node\"><title>o94113337369344</title>\n",
       "<polygon fill=\"#c3c3c3\" stroke=\"black\" points=\"256,-38 202,-38 202,-0 256,-0 256,-38\"/>\n",
       "<text text-anchor=\"middle\" x=\"229\" y=\"-22.8\" font-family=\"Times,serif\" font-size=\"14.00\">int</text>\n",
       "<text text-anchor=\"middle\" x=\"229\" y=\"-7.8\" font-family=\"Times,serif\" font-size=\"14.00\">1</text>\n",
       "</g>\n",
       "<!-- o140199632530800&#45;&gt;o94113337369344 -->\n",
       "<g id=\"edge4\" class=\"edge\"><title>o140199632530800&#45;&gt;o94113337369344</title>\n",
       "<path fill=\"none\" stroke=\"black\" d=\"M156.106,-160.992C184.902,-154.833 223.919,-141.312 243,-112 255.441,-92.8879 249.907,-66.8823 242.437,-47.3953\"/>\n",
       "<polygon fill=\"black\" stroke=\"black\" points=\"245.653,-46.0138 238.562,-38.1413 239.196,-48.7172 245.653,-46.0138\"/>\n",
       "</g>\n",
       "<!-- o140199632530800&#45;&gt;o140199634103984 -->\n",
       "<g id=\"edge5\" class=\"edge\"><title>o140199632530800&#45;&gt;o140199634103984</title>\n",
       "<path fill=\"none\" stroke=\"black\" d=\"M113.177,-147.831C109.789,-139.962 105.746,-130.571 101.992,-121.853\"/>\n",
       "<polygon fill=\"black\" stroke=\"black\" points=\"105.097,-120.214 97.9279,-112.413 98.6679,-122.982 105.097,-120.214\"/>\n",
       "</g>\n",
       "<!-- o140199632530800&#45;&gt;o94113337369408 -->\n",
       "<g id=\"edge6\" class=\"edge\"><title>o140199632530800&#45;&gt;o94113337369408</title>\n",
       "<path fill=\"none\" stroke=\"black\" d=\"M85.8842,-155.438C65.1193,-147.19 40.5059,-133.452 28,-112 16.8683,-92.9049 17.4784,-67.5731 20.3891,-48.3257\"/>\n",
       "<polygon fill=\"black\" stroke=\"black\" points=\"23.8602,-48.7982 22.1829,-38.337 16.9704,-47.5608 23.8602,-48.7982\"/>\n",
       "</g>\n",
       "<!-- o140199632530800&#45;&gt;o94113337369376 -->\n",
       "<g id=\"edge7\" class=\"edge\"><title>o140199632530800&#45;&gt;o94113337369376</title>\n",
       "<path fill=\"none\" stroke=\"black\" d=\"M134.739,-147.562C141.33,-137.585 148.533,-124.724 152,-112 157.686,-91.1296 157.636,-66.5952 156.328,-48.1134\"/>\n",
       "<polygon fill=\"black\" stroke=\"black\" points=\"159.802,-47.6624 155.446,-38.0045 152.829,-48.2709 159.802,-47.6624\"/>\n",
       "</g>\n",
       "<!-- o140199632530800&#45;&gt;o94113337369344 -->\n",
       "<g id=\"edge8\" class=\"edge\"><title>o140199632530800&#45;&gt;o94113337369344</title>\n",
       "<path fill=\"none\" stroke=\"black\" d=\"M138.154,-147.514C147.344,-137.314 158.663,-124.261 168,-112 184.164,-90.774 200.788,-65.426 212.591,-46.7167\"/>\n",
       "<polygon fill=\"black\" stroke=\"black\" points=\"215.637,-48.4464 217.975,-38.1126 209.703,-44.7333 215.637,-48.4464\"/>\n",
       "</g>\n",
       "<!-- o140199634103984&#45;&gt;o94113337369408 -->\n",
       "<g id=\"edge9\" class=\"edge\"><title>o140199634103984&#45;&gt;o94113337369408</title>\n",
       "<path fill=\"none\" stroke=\"black\" d=\"M74.1024,-73.8314C66.7722,-65.454 57.934,-55.3531 49.9031,-46.1749\"/>\n",
       "<polygon fill=\"black\" stroke=\"black\" points=\"52.3307,-43.6343 43.1116,-38.4133 47.0627,-48.2438 52.3307,-43.6343\"/>\n",
       "</g>\n",
       "<!-- o140199634103984&#45;&gt;o94113337369376 -->\n",
       "<g id=\"edge10\" class=\"edge\"><title>o140199634103984&#45;&gt;o94113337369376</title>\n",
       "<path fill=\"none\" stroke=\"black\" d=\"M105.898,-73.8314C113.228,-65.454 122.066,-55.3531 130.097,-46.1749\"/>\n",
       "<polygon fill=\"black\" stroke=\"black\" points=\"132.937,-48.2438 136.888,-38.4133 127.669,-43.6343 132.937,-48.2438\"/>\n",
       "</g>\n",
       "<!-- o140199634103984&#45;&gt;o94113337369344 -->\n",
       "<g id=\"edge11\" class=\"edge\"><title>o140199634103984&#45;&gt;o94113337369344</title>\n",
       "<path fill=\"none\" stroke=\"black\" d=\"M125.076,-73.8314C145.813,-63.0898 172.02,-49.5148 192.929,-38.6844\"/>\n",
       "<polygon fill=\"black\" stroke=\"black\" points=\"194.558,-41.782 201.828,-34.0747 191.339,-35.5663 194.558,-41.782\"/>\n",
       "</g>\n",
       "</g>\n",
       "</svg>\n"
      ],
      "text/plain": [
       "<graphviz.files.Source at 0x7f82e07ef250>"
      ]
     },
     "execution_count": 100,
     "metadata": {},
     "output_type": "execute_result"
    }
   ],
   "source": [
    "import objgraph\n",
    "objgraph.show_refs([a,b])"
   ]
  },
  {
   "cell_type": "markdown",
   "metadata": {
    "ExecuteTime": {
     "end_time": "2020-06-03T20:55:59.894757Z",
     "start_time": "2020-06-03T20:55:59.888947Z"
    }
   },
   "source": [
    "- `c=a[:]`称为切片拷贝，本质上是一种浅拷贝（新建了一个对象，但原子元素和容器元素的引用都还相同）："
   ]
  },
  {
   "cell_type": "code",
   "execution_count": 102,
   "metadata": {
    "ExecuteTime": {
     "end_time": "2020-06-03T20:56:28.040458Z",
     "start_time": "2020-06-03T20:56:27.980825Z"
    }
   },
   "outputs": [
    {
     "data": {
      "image/svg+xml": [
       "<?xml version=\"1.0\" encoding=\"UTF-8\" standalone=\"no\"?>\n",
       "<!DOCTYPE svg PUBLIC \"-//W3C//DTD SVG 1.1//EN\"\n",
       " \"http://www.w3.org/Graphics/SVG/1.1/DTD/svg11.dtd\">\n",
       "<!-- Generated by graphviz version 2.30.1 (20180420.1509)\n",
       " -->\n",
       "<!-- Title: ObjectGraph Pages: 1 -->\n",
       "<svg width=\"247pt\" height=\"194pt\"\n",
       " viewBox=\"0.00 0.00 247.25 194.00\" xmlns=\"http://www.w3.org/2000/svg\" xmlns:xlink=\"http://www.w3.org/1999/xlink\">\n",
       "<g id=\"graph0\" class=\"graph\" transform=\"scale(1 1) rotate(0) translate(4 190)\">\n",
       "<title>ObjectGraph</title>\n",
       "<polygon fill=\"white\" stroke=\"white\" points=\"-4,5 -4,-190 244.248,-190 244.248,5 -4,5\"/>\n",
       "<!-- o140199632530800 -->\n",
       "<g id=\"node1\" class=\"node\"><title>o140199632530800</title>\n",
       "<polygon fill=\"#ffffff\" stroke=\"black\" points=\"84.2678,-186 14.2678,-186 14.2678,-148 84.2678,-148 84.2678,-186\"/>\n",
       "<text text-anchor=\"middle\" x=\"49.2678\" y=\"-170.8\" font-family=\"Times,serif\" font-size=\"14.00\" fill=\"red\">list</text>\n",
       "<text text-anchor=\"middle\" x=\"49.2678\" y=\"-155.8\" font-family=\"Times,serif\" font-size=\"14.00\" fill=\"red\">4 items</text>\n",
       "</g>\n",
       "<!-- o140199634103984 -->\n",
       "<g id=\"node3\" class=\"node\"><title>o140199634103984</title>\n",
       "<polygon fill=\"#c3c3c3\" stroke=\"black\" points=\"154.268,-112 84.2678,-112 84.2678,-74 154.268,-74 154.268,-112\"/>\n",
       "<text text-anchor=\"middle\" x=\"119.268\" y=\"-96.8\" font-family=\"Times,serif\" font-size=\"14.00\">list</text>\n",
       "<text text-anchor=\"middle\" x=\"119.268\" y=\"-81.8\" font-family=\"Times,serif\" font-size=\"14.00\">3 items</text>\n",
       "</g>\n",
       "<!-- o140199632530800&#45;&gt;o140199634103984 -->\n",
       "<g id=\"edge1\" class=\"edge\"><title>o140199632530800&#45;&gt;o140199634103984</title>\n",
       "<path fill=\"none\" stroke=\"black\" d=\"M66.9317,-147.831C75.2409,-139.285 85.2941,-128.944 94.3596,-119.62\"/>\n",
       "<polygon fill=\"black\" stroke=\"black\" points=\"96.9047,-122.023 101.366,-112.413 91.8857,-117.143 96.9047,-122.023\"/>\n",
       "</g>\n",
       "<!-- o94113337369408 -->\n",
       "<g id=\"node4\" class=\"node\"><title>o94113337369408</title>\n",
       "<polygon fill=\"#c3c3c3\" stroke=\"black\" points=\"146.268,-38 92.2678,-38 92.2678,-0 146.268,-0 146.268,-38\"/>\n",
       "<text text-anchor=\"middle\" x=\"119.268\" y=\"-22.8\" font-family=\"Times,serif\" font-size=\"14.00\">int</text>\n",
       "<text text-anchor=\"middle\" x=\"119.268\" y=\"-7.8\" font-family=\"Times,serif\" font-size=\"14.00\">3</text>\n",
       "</g>\n",
       "<!-- o140199632530800&#45;&gt;o94113337369408 -->\n",
       "<g id=\"edge2\" class=\"edge\"><title>o140199632530800&#45;&gt;o94113337369408</title>\n",
       "<path fill=\"none\" stroke=\"black\" d=\"M52.1265,-147.9C55.6576,-128.737 62.785,-98.0025 75.2678,-74 80.4264,-64.0808 87.5977,-54.2831 94.6552,-45.8129\"/>\n",
       "<polygon fill=\"black\" stroke=\"black\" points=\"97.4051,-47.9842 101.317,-38.1382 92.1189,-43.3955 97.4051,-47.9842\"/>\n",
       "</g>\n",
       "<!-- o94113337369376 -->\n",
       "<g id=\"node5\" class=\"node\"><title>o94113337369376</title>\n",
       "<polygon fill=\"#c3c3c3\" stroke=\"black\" points=\"74.2678,-38 20.2678,-38 20.2678,-0 74.2678,-0 74.2678,-38\"/>\n",
       "<text text-anchor=\"middle\" x=\"47.2678\" y=\"-22.8\" font-family=\"Times,serif\" font-size=\"14.00\">int</text>\n",
       "<text text-anchor=\"middle\" x=\"47.2678\" y=\"-7.8\" font-family=\"Times,serif\" font-size=\"14.00\">2</text>\n",
       "</g>\n",
       "<!-- o140199632530800&#45;&gt;o94113337369376 -->\n",
       "<g id=\"edge3\" class=\"edge\"><title>o140199632530800&#45;&gt;o94113337369376</title>\n",
       "<path fill=\"none\" stroke=\"black\" d=\"M28.41,-147.646C19.1138,-138.071 9.16995,-125.54 4.26778,-112 -1.48163,-96.1199 -1.30453,-89.9431 4.26778,-74 7.8635,-63.7121 14.3306,-53.9193 21.1753,-45.568\"/>\n",
       "<polygon fill=\"black\" stroke=\"black\" points=\"23.818,-47.863 27.7722,-38.0337 18.5514,-43.2517 23.818,-47.863\"/>\n",
       "</g>\n",
       "<!-- o94113337369344 -->\n",
       "<g id=\"node6\" class=\"node\"><title>o94113337369344</title>\n",
       "<polygon fill=\"#c3c3c3\" stroke=\"black\" points=\"218.268,-38 164.268,-38 164.268,-0 218.268,-0 218.268,-38\"/>\n",
       "<text text-anchor=\"middle\" x=\"191.268\" y=\"-22.8\" font-family=\"Times,serif\" font-size=\"14.00\">int</text>\n",
       "<text text-anchor=\"middle\" x=\"191.268\" y=\"-7.8\" font-family=\"Times,serif\" font-size=\"14.00\">1</text>\n",
       "</g>\n",
       "<!-- o140199632530800&#45;&gt;o94113337369344 -->\n",
       "<g id=\"edge4\" class=\"edge\"><title>o140199632530800&#45;&gt;o94113337369344</title>\n",
       "<path fill=\"none\" stroke=\"black\" d=\"M84.3354,-157.583C109.635,-149.781 142.809,-135.71 163.268,-112 178.615,-94.2138 185.551,-68.1852 188.684,-48.3487\"/>\n",
       "<polygon fill=\"black\" stroke=\"black\" points=\"192.167,-48.7149 190.032,-38.3372 185.229,-47.7807 192.167,-48.7149\"/>\n",
       "</g>\n",
       "<!-- o140199632530720 -->\n",
       "<g id=\"node2\" class=\"node\"><title>o140199632530720</title>\n",
       "<polygon fill=\"#ffffff\" stroke=\"black\" points=\"204.268,-186 134.268,-186 134.268,-148 204.268,-148 204.268,-186\"/>\n",
       "<text text-anchor=\"middle\" x=\"169.268\" y=\"-170.8\" font-family=\"Times,serif\" font-size=\"14.00\" fill=\"red\">list</text>\n",
       "<text text-anchor=\"middle\" x=\"169.268\" y=\"-155.8\" font-family=\"Times,serif\" font-size=\"14.00\" fill=\"red\">4 items</text>\n",
       "</g>\n",
       "<!-- o140199632530720&#45;&gt;o140199634103984 -->\n",
       "<g id=\"edge5\" class=\"edge\"><title>o140199632530720&#45;&gt;o140199634103984</title>\n",
       "<path fill=\"none\" stroke=\"black\" d=\"M156.651,-147.831C150.951,-139.623 144.101,-129.761 137.832,-120.732\"/>\n",
       "<polygon fill=\"black\" stroke=\"black\" points=\"140.634,-118.631 132.055,-112.413 134.884,-122.623 140.634,-118.631\"/>\n",
       "</g>\n",
       "<!-- o140199632530720&#45;&gt;o94113337369408 -->\n",
       "<g id=\"edge6\" class=\"edge\"><title>o140199632530720&#45;&gt;o94113337369408</title>\n",
       "<path fill=\"none\" stroke=\"black\" d=\"M171.271,-147.659C172.635,-128.565 172.751,-98.1336 163.268,-74 159.246,-63.7647 152.529,-53.9871 145.54,-45.6336\"/>\n",
       "<polygon fill=\"black\" stroke=\"black\" points=\"148.094,-43.2395 138.834,-38.0924 142.863,-47.8911 148.094,-43.2395\"/>\n",
       "</g>\n",
       "<!-- o140199632530720&#45;&gt;o94113337369376 -->\n",
       "<g id=\"edge7\" class=\"edge\"><title>o140199632530720&#45;&gt;o94113337369376</title>\n",
       "<path fill=\"none\" stroke=\"black\" d=\"M133.984,-153.34C114.141,-144.557 90.3901,-130.994 75.2678,-112 60.6351,-93.6212 53.6289,-67.6514 50.2861,-47.9881\"/>\n",
       "<polygon fill=\"black\" stroke=\"black\" points=\"53.7456,-47.456 48.8158,-38.078 46.8214,-48.4834 53.7456,-47.456\"/>\n",
       "</g>\n",
       "<!-- o140199632530720&#45;&gt;o94113337369344 -->\n",
       "<g id=\"edge8\" class=\"edge\"><title>o140199632530720&#45;&gt;o94113337369344</title>\n",
       "<path fill=\"none\" stroke=\"black\" d=\"M201.546,-147.841C214.21,-138.852 227.349,-126.742 234.268,-112 241.443,-96.711 239.84,-89.9431 234.268,-74 230.672,-63.7121 224.205,-53.9193 217.36,-45.568\"/>\n",
       "<polygon fill=\"black\" stroke=\"black\" points=\"219.984,-43.2517 210.763,-38.0337 214.718,-47.863 219.984,-43.2517\"/>\n",
       "</g>\n",
       "<!-- o140199634103984&#45;&gt;o94113337369408 -->\n",
       "<g id=\"edge9\" class=\"edge\"><title>o140199634103984&#45;&gt;o94113337369408</title>\n",
       "<path fill=\"none\" stroke=\"black\" d=\"M119.268,-73.8314C119.268,-66.131 119.268,-56.9743 119.268,-48.4166\"/>\n",
       "<polygon fill=\"black\" stroke=\"black\" points=\"122.768,-48.4132 119.268,-38.4133 115.768,-48.4133 122.768,-48.4132\"/>\n",
       "</g>\n",
       "<!-- o140199634103984&#45;&gt;o94113337369376 -->\n",
       "<g id=\"edge10\" class=\"edge\"><title>o140199634103984&#45;&gt;o94113337369376</title>\n",
       "<path fill=\"none\" stroke=\"black\" d=\"M101.099,-73.8314C92.5525,-65.2848 82.2121,-54.9443 72.8876,-45.6198\"/>\n",
       "<polygon fill=\"black\" stroke=\"black\" points=\"75.227,-43.0095 65.681,-38.4133 70.2773,-47.9592 75.227,-43.0095\"/>\n",
       "</g>\n",
       "<!-- o140199634103984&#45;&gt;o94113337369344 -->\n",
       "<g id=\"edge11\" class=\"edge\"><title>o140199634103984&#45;&gt;o94113337369344</title>\n",
       "<path fill=\"none\" stroke=\"black\" d=\"M137.436,-73.8314C145.983,-65.2848 156.323,-54.9443 165.648,-45.6198\"/>\n",
       "<polygon fill=\"black\" stroke=\"black\" points=\"168.258,-47.9592 172.855,-38.4133 163.309,-43.0095 168.258,-47.9592\"/>\n",
       "</g>\n",
       "</g>\n",
       "</svg>\n"
      ],
      "text/plain": [
       "<graphviz.files.Source at 0x7f82c4b03b50>"
      ]
     },
     "execution_count": 102,
     "metadata": {},
     "output_type": "execute_result"
    }
   ],
   "source": [
    "objgraph.show_refs([a,c])"
   ]
  },
  {
   "cell_type": "markdown",
   "metadata": {
    "ExecuteTime": {
     "end_time": "2020-06-03T20:59:10.218029Z",
     "start_time": "2020-06-03T20:59:10.212318Z"
    }
   },
   "source": [
    "- `d = a.copy()`和`e = copy.copy(a)`都是一种浅拷贝，跟前面的切片拷贝类似。"
   ]
  },
  {
   "cell_type": "code",
   "execution_count": 104,
   "metadata": {
    "ExecuteTime": {
     "end_time": "2020-06-03T20:59:46.168385Z",
     "start_time": "2020-06-03T20:59:46.113407Z"
    }
   },
   "outputs": [
    {
     "data": {
      "image/svg+xml": [
       "<?xml version=\"1.0\" encoding=\"UTF-8\" standalone=\"no\"?>\n",
       "<!DOCTYPE svg PUBLIC \"-//W3C//DTD SVG 1.1//EN\"\n",
       " \"http://www.w3.org/Graphics/SVG/1.1/DTD/svg11.dtd\">\n",
       "<!-- Generated by graphviz version 2.30.1 (20180420.1509)\n",
       " -->\n",
       "<!-- Title: ObjectGraph Pages: 1 -->\n",
       "<svg width=\"361pt\" height=\"194pt\"\n",
       " viewBox=\"0.00 0.00 361.49 194.00\" xmlns=\"http://www.w3.org/2000/svg\" xmlns:xlink=\"http://www.w3.org/1999/xlink\">\n",
       "<g id=\"graph0\" class=\"graph\" transform=\"scale(1 1) rotate(0) translate(4 190)\">\n",
       "<title>ObjectGraph</title>\n",
       "<polygon fill=\"white\" stroke=\"white\" points=\"-4,5 -4,-190 358.491,-190 358.491,5 -4,5\"/>\n",
       "<!-- o140199632530800 -->\n",
       "<g id=\"node1\" class=\"node\"><title>o140199632530800</title>\n",
       "<polygon fill=\"#ffffff\" stroke=\"black\" points=\"100.26,-186 30.2601,-186 30.2601,-148 100.26,-148 100.26,-186\"/>\n",
       "<text text-anchor=\"middle\" x=\"65.2601\" y=\"-170.8\" font-family=\"Times,serif\" font-size=\"14.00\" fill=\"red\">list</text>\n",
       "<text text-anchor=\"middle\" x=\"65.2601\" y=\"-155.8\" font-family=\"Times,serif\" font-size=\"14.00\" fill=\"red\">4 items</text>\n",
       "</g>\n",
       "<!-- o140199634103984 -->\n",
       "<g id=\"node4\" class=\"node\"><title>o140199634103984</title>\n",
       "<polygon fill=\"#c3c3c3\" stroke=\"black\" points=\"154.26,-112 84.2601,-112 84.2601,-74 154.26,-74 154.26,-112\"/>\n",
       "<text text-anchor=\"middle\" x=\"119.26\" y=\"-96.8\" font-family=\"Times,serif\" font-size=\"14.00\">list</text>\n",
       "<text text-anchor=\"middle\" x=\"119.26\" y=\"-81.8\" font-family=\"Times,serif\" font-size=\"14.00\">3 items</text>\n",
       "</g>\n",
       "<!-- o140199632530800&#45;&gt;o140199634103984 -->\n",
       "<g id=\"edge1\" class=\"edge\"><title>o140199632530800&#45;&gt;o140199634103984</title>\n",
       "<path fill=\"none\" stroke=\"black\" d=\"M78.8866,-147.831C85.1061,-139.539 92.5923,-129.557 99.4201,-120.453\"/>\n",
       "<polygon fill=\"black\" stroke=\"black\" points=\"102.25,-122.513 105.45,-112.413 96.6501,-118.313 102.25,-122.513\"/>\n",
       "</g>\n",
       "<!-- o94113337369408 -->\n",
       "<g id=\"node5\" class=\"node\"><title>o94113337369408</title>\n",
       "<polygon fill=\"#c3c3c3\" stroke=\"black\" points=\"177.26,-38 123.26,-38 123.26,-0 177.26,-0 177.26,-38\"/>\n",
       "<text text-anchor=\"middle\" x=\"150.26\" y=\"-22.8\" font-family=\"Times,serif\" font-size=\"14.00\">int</text>\n",
       "<text text-anchor=\"middle\" x=\"150.26\" y=\"-7.8\" font-family=\"Times,serif\" font-size=\"14.00\">3</text>\n",
       "</g>\n",
       "<!-- o140199632530800&#45;&gt;o94113337369408 -->\n",
       "<g id=\"edge2\" class=\"edge\"><title>o140199632530800&#45;&gt;o94113337369408</title>\n",
       "<path fill=\"none\" stroke=\"black\" d=\"M63.0673,-147.716C61.6227,-128.12 61.9963,-96.7668 75.2601,-74 84.2897,-58.501 99.7362,-46.2405 114.273,-37.3459\"/>\n",
       "<polygon fill=\"black\" stroke=\"black\" points=\"116.219,-40.2645 123.141,-32.2438 112.728,-34.197 116.219,-40.2645\"/>\n",
       "</g>\n",
       "<!-- o94113337369376 -->\n",
       "<g id=\"node6\" class=\"node\"><title>o94113337369376</title>\n",
       "<polygon fill=\"#c3c3c3\" stroke=\"black\" points=\"59.2601,-38 5.2601,-38 5.2601,-0 59.2601,-0 59.2601,-38\"/>\n",
       "<text text-anchor=\"middle\" x=\"32.2601\" y=\"-22.8\" font-family=\"Times,serif\" font-size=\"14.00\">int</text>\n",
       "<text text-anchor=\"middle\" x=\"32.2601\" y=\"-7.8\" font-family=\"Times,serif\" font-size=\"14.00\">2</text>\n",
       "</g>\n",
       "<!-- o140199632530800&#45;&gt;o94113337369376 -->\n",
       "<g id=\"edge3\" class=\"edge\"><title>o140199632530800&#45;&gt;o94113337369376</title>\n",
       "<path fill=\"none\" stroke=\"black\" d=\"M35.566,-147.917C23.4765,-138.802 10.8222,-126.573 4.2601,-112 -5.23992,-90.9025 3.75147,-65.6857 13.9977,-46.9924\"/>\n",
       "<polygon fill=\"black\" stroke=\"black\" points=\"17.1591,-48.5211 19.2153,-38.1277 11.1265,-44.9704 17.1591,-48.5211\"/>\n",
       "</g>\n",
       "<!-- o94113337369344 -->\n",
       "<g id=\"node7\" class=\"node\"><title>o94113337369344</title>\n",
       "<polygon fill=\"#c3c3c3\" stroke=\"black\" points=\"304.26,-38 250.26,-38 250.26,-0 304.26,-0 304.26,-38\"/>\n",
       "<text text-anchor=\"middle\" x=\"277.26\" y=\"-22.8\" font-family=\"Times,serif\" font-size=\"14.00\">int</text>\n",
       "<text text-anchor=\"middle\" x=\"277.26\" y=\"-7.8\" font-family=\"Times,serif\" font-size=\"14.00\">1</text>\n",
       "</g>\n",
       "<!-- o140199632530800&#45;&gt;o94113337369344 -->\n",
       "<g id=\"edge4\" class=\"edge\"><title>o140199632530800&#45;&gt;o94113337369344</title>\n",
       "<path fill=\"none\" stroke=\"black\" d=\"M100.606,-148.445C119.644,-138.517 143.262,-125.428 163.26,-112 194.1,-91.2919 226.859,-64.2649 249.308,-44.8708\"/>\n",
       "<polygon fill=\"black\" stroke=\"black\" points=\"251.845,-47.3026 257.089,-38.0967 247.249,-42.0229 251.845,-47.3026\"/>\n",
       "</g>\n",
       "<!-- o140199632571120 -->\n",
       "<g id=\"node2\" class=\"node\"><title>o140199632571120</title>\n",
       "<polygon fill=\"#ffffff\" stroke=\"black\" points=\"207.26,-186 137.26,-186 137.26,-148 207.26,-148 207.26,-186\"/>\n",
       "<text text-anchor=\"middle\" x=\"172.26\" y=\"-170.8\" font-family=\"Times,serif\" font-size=\"14.00\" fill=\"red\">list</text>\n",
       "<text text-anchor=\"middle\" x=\"172.26\" y=\"-155.8\" font-family=\"Times,serif\" font-size=\"14.00\" fill=\"red\">4 items</text>\n",
       "</g>\n",
       "<!-- o140199632571120&#45;&gt;o140199634103984 -->\n",
       "<g id=\"edge5\" class=\"edge\"><title>o140199632571120&#45;&gt;o140199634103984</title>\n",
       "<path fill=\"none\" stroke=\"black\" d=\"M158.886,-147.831C152.844,-139.623 145.584,-129.761 138.938,-120.732\"/>\n",
       "<polygon fill=\"black\" stroke=\"black\" points=\"141.561,-118.392 132.814,-112.413 135.924,-122.542 141.561,-118.392\"/>\n",
       "</g>\n",
       "<!-- o140199632571120&#45;&gt;o94113337369408 -->\n",
       "<g id=\"edge6\" class=\"edge\"><title>o140199632571120&#45;&gt;o94113337369408</title>\n",
       "<path fill=\"none\" stroke=\"black\" d=\"M171.235,-147.921C170.005,-129.298 167.552,-99.4791 163.26,-74 161.841,-65.5757 159.847,-56.515 157.846,-48.2672\"/>\n",
       "<polygon fill=\"black\" stroke=\"black\" points=\"161.188,-47.2056 155.351,-38.3639 154.401,-48.916 161.188,-47.2056\"/>\n",
       "</g>\n",
       "<!-- o140199632571120&#45;&gt;o94113337369376 -->\n",
       "<g id=\"edge7\" class=\"edge\"><title>o140199632571120&#45;&gt;o94113337369376</title>\n",
       "<path fill=\"none\" stroke=\"black\" d=\"M136.842,-152.748C116.706,-143.762 92.2084,-130.192 75.2601,-112 58.2714,-93.7647 46.9335,-67.6164 40.1857,-47.854\"/>\n",
       "<polygon fill=\"black\" stroke=\"black\" points=\"43.4665,-46.6233 37.0699,-38.1774 36.8034,-48.7689 43.4665,-46.6233\"/>\n",
       "</g>\n",
       "<!-- o140199632571120&#45;&gt;o94113337369344 -->\n",
       "<g id=\"edge8\" class=\"edge\"><title>o140199632571120&#45;&gt;o94113337369344</title>\n",
       "<path fill=\"none\" stroke=\"black\" d=\"M207.614,-156.643C230.166,-148.69 257.788,-134.83 272.26,-112 284.183,-93.1915 284.617,-67.6316 282.531,-48.2259\"/>\n",
       "<polygon fill=\"black\" stroke=\"black\" points=\"285.979,-47.601 281.171,-38.1601 279.042,-48.5388 285.979,-47.601\"/>\n",
       "</g>\n",
       "<!-- o140199632577872 -->\n",
       "<g id=\"node3\" class=\"node\"><title>o140199632577872</title>\n",
       "<polygon fill=\"#ffffff\" stroke=\"black\" points=\"336.26,-186 266.26,-186 266.26,-148 336.26,-148 336.26,-186\"/>\n",
       "<text text-anchor=\"middle\" x=\"301.26\" y=\"-170.8\" font-family=\"Times,serif\" font-size=\"14.00\" fill=\"red\">list</text>\n",
       "<text text-anchor=\"middle\" x=\"301.26\" y=\"-155.8\" font-family=\"Times,serif\" font-size=\"14.00\" fill=\"red\">4 items</text>\n",
       "</g>\n",
       "<!-- o140199632577872&#45;&gt;o140199634103984 -->\n",
       "<g id=\"edge9\" class=\"edge\"><title>o140199632577872&#45;&gt;o140199634103984</title>\n",
       "<path fill=\"none\" stroke=\"black\" d=\"M266.169,-152.118C237.056,-140.6 195.478,-124.152 163.98,-111.692\"/>\n",
       "<polygon fill=\"black\" stroke=\"black\" points=\"165.14,-108.386 154.554,-107.962 162.565,-114.896 165.14,-108.386\"/>\n",
       "</g>\n",
       "<!-- o140199632577872&#45;&gt;o94113337369408 -->\n",
       "<g id=\"edge10\" class=\"edge\"><title>o140199632577872&#45;&gt;o94113337369408</title>\n",
       "<path fill=\"none\" stroke=\"black\" d=\"M290.87,-147.871C278.952,-128.125 257.973,-96.3738 234.26,-74 220.03,-60.5733 202.022,-48.4906 186.333,-39.1761\"/>\n",
       "<polygon fill=\"black\" stroke=\"black\" points=\"187.819,-35.9928 177.409,-34.0225 184.318,-42.0545 187.819,-35.9928\"/>\n",
       "</g>\n",
       "<!-- o140199632577872&#45;&gt;o94113337369376 -->\n",
       "<g id=\"edge11\" class=\"edge\"><title>o140199632577872&#45;&gt;o94113337369376</title>\n",
       "<path fill=\"none\" stroke=\"black\" d=\"M277.24,-147.858C250.399,-128.1 205.192,-96.3386 163.26,-74 132.554,-57.6417 95.7924,-42.8763 69.0382,-32.9367\"/>\n",
       "<polygon fill=\"black\" stroke=\"black\" points=\"69.9016,-29.5255 59.3079,-29.3703 67.4926,-36.098 69.9016,-29.5255\"/>\n",
       "</g>\n",
       "<!-- o140199632577872&#45;&gt;o94113337369344 -->\n",
       "<g id=\"edge12\" class=\"edge\"><title>o140199632577872&#45;&gt;o94113337369344</title>\n",
       "<path fill=\"none\" stroke=\"black\" d=\"M323.027,-147.816C332.732,-138.282 343.12,-125.735 348.26,-112 354.18,-96.1825 355.762,-89.1312 348.26,-74 340.755,-58.8625 326.751,-46.8196 313.151,-37.983\"/>\n",
       "<polygon fill=\"black\" stroke=\"black\" points=\"314.71,-34.8347 304.345,-32.6389 311.078,-40.819 314.71,-34.8347\"/>\n",
       "</g>\n",
       "<!-- o140199634103984&#45;&gt;o94113337369408 -->\n",
       "<g id=\"edge13\" class=\"edge\"><title>o140199634103984&#45;&gt;o94113337369408</title>\n",
       "<path fill=\"none\" stroke=\"black\" d=\"M127.083,-73.8314C130.471,-65.9617 134.514,-56.5712 138.268,-47.8533\"/>\n",
       "<polygon fill=\"black\" stroke=\"black\" points=\"141.592,-48.9822 142.332,-38.4133 135.163,-46.214 141.592,-48.9822\"/>\n",
       "</g>\n",
       "<!-- o140199634103984&#45;&gt;o94113337369376 -->\n",
       "<g id=\"edge14\" class=\"edge\"><title>o140199634103984&#45;&gt;o94113337369376</title>\n",
       "<path fill=\"none\" stroke=\"black\" d=\"M97.3063,-73.8314C86.5906,-64.9632 73.5412,-54.1637 61.9511,-44.5718\"/>\n",
       "<polygon fill=\"black\" stroke=\"black\" points=\"64.1423,-41.8422 54.2068,-38.1628 59.6793,-47.2349 64.1423,-41.8422\"/>\n",
       "</g>\n",
       "<!-- o140199634103984&#45;&gt;o94113337369344 -->\n",
       "<g id=\"edge15\" class=\"edge\"><title>o140199634103984&#45;&gt;o94113337369344</title>\n",
       "<path fill=\"none\" stroke=\"black\" d=\"M154.325,-76.0209C180.074,-64.2873 214.953,-48.3932 240.982,-36.5317\"/>\n",
       "<polygon fill=\"black\" stroke=\"black\" points=\"242.49,-39.691 250.138,-32.3593 239.587,-33.3212 242.49,-39.691\"/>\n",
       "</g>\n",
       "</g>\n",
       "</svg>\n"
      ],
      "text/plain": [
       "<graphviz.files.Source at 0x7f82c578d090>"
      ]
     },
     "execution_count": 104,
     "metadata": {},
     "output_type": "execute_result"
    }
   ],
   "source": [
    "objgraph.show_refs([a,d,e])"
   ]
  },
  {
   "cell_type": "markdown",
   "metadata": {},
   "source": [
    "- `f=copy.deepcopy(a)`是一种深拷贝（新建一个对象，原子元素的引用未变，容器元素也新建了一个对象，内中元素指向不变）"
   ]
  },
  {
   "cell_type": "code",
   "execution_count": 105,
   "metadata": {
    "ExecuteTime": {
     "end_time": "2020-06-03T21:01:47.758885Z",
     "start_time": "2020-06-03T21:01:47.697340Z"
    }
   },
   "outputs": [
    {
     "data": {
      "image/svg+xml": [
       "<?xml version=\"1.0\" encoding=\"UTF-8\" standalone=\"no\"?>\n",
       "<!DOCTYPE svg PUBLIC \"-//W3C//DTD SVG 1.1//EN\"\n",
       " \"http://www.w3.org/Graphics/SVG/1.1/DTD/svg11.dtd\">\n",
       "<!-- Generated by graphviz version 2.30.1 (20180420.1509)\n",
       " -->\n",
       "<!-- Title: ObjectGraph Pages: 1 -->\n",
       "<svg width=\"337pt\" height=\"194pt\"\n",
       " viewBox=\"0.00 0.00 336.51 194.00\" xmlns=\"http://www.w3.org/2000/svg\" xmlns:xlink=\"http://www.w3.org/1999/xlink\">\n",
       "<g id=\"graph0\" class=\"graph\" transform=\"scale(1 1) rotate(0) translate(4 190)\">\n",
       "<title>ObjectGraph</title>\n",
       "<polygon fill=\"white\" stroke=\"white\" points=\"-4,5 -4,-190 333.51,-190 333.51,5 -4,5\"/>\n",
       "<!-- o140199632530800 -->\n",
       "<g id=\"node1\" class=\"node\"><title>o140199632530800</title>\n",
       "<polygon fill=\"#ffffff\" stroke=\"black\" points=\"123.317,-186 53.3171,-186 53.3171,-148 123.317,-148 123.317,-186\"/>\n",
       "<text text-anchor=\"middle\" x=\"88.3171\" y=\"-170.8\" font-family=\"Times,serif\" font-size=\"14.00\" fill=\"red\">list</text>\n",
       "<text text-anchor=\"middle\" x=\"88.3171\" y=\"-155.8\" font-family=\"Times,serif\" font-size=\"14.00\" fill=\"red\">4 items</text>\n",
       "</g>\n",
       "<!-- o140199634103984 -->\n",
       "<g id=\"node3\" class=\"node\"><title>o140199634103984</title>\n",
       "<polygon fill=\"#c3c3c3\" stroke=\"black\" points=\"155.317,-112 85.3171,-112 85.3171,-74 155.317,-74 155.317,-112\"/>\n",
       "<text text-anchor=\"middle\" x=\"120.317\" y=\"-96.8\" font-family=\"Times,serif\" font-size=\"14.00\">list</text>\n",
       "<text text-anchor=\"middle\" x=\"120.317\" y=\"-81.8\" font-family=\"Times,serif\" font-size=\"14.00\">3 items</text>\n",
       "</g>\n",
       "<!-- o140199632530800&#45;&gt;o140199634103984 -->\n",
       "<g id=\"edge1\" class=\"edge\"><title>o140199632530800&#45;&gt;o140199634103984</title>\n",
       "<path fill=\"none\" stroke=\"black\" d=\"M96.3921,-147.831C99.9273,-139.877 104.153,-130.369 108.063,-121.572\"/>\n",
       "<polygon fill=\"black\" stroke=\"black\" points=\"111.27,-122.973 112.133,-112.413 104.874,-120.13 111.27,-122.973\"/>\n",
       "</g>\n",
       "<!-- o94113337369408 -->\n",
       "<g id=\"node4\" class=\"node\"><title>o94113337369408</title>\n",
       "<polygon fill=\"#c3c3c3\" stroke=\"black\" points=\"60.3171,-38 6.31713,-38 6.31713,-0 60.3171,-0 60.3171,-38\"/>\n",
       "<text text-anchor=\"middle\" x=\"33.3171\" y=\"-22.8\" font-family=\"Times,serif\" font-size=\"14.00\">int</text>\n",
       "<text text-anchor=\"middle\" x=\"33.3171\" y=\"-7.8\" font-family=\"Times,serif\" font-size=\"14.00\">3</text>\n",
       "</g>\n",
       "<!-- o140199632530800&#45;&gt;o94113337369408 -->\n",
       "<g id=\"edge2\" class=\"edge\"><title>o140199632530800&#45;&gt;o94113337369408</title>\n",
       "<path fill=\"none\" stroke=\"black\" d=\"M52.9791,-152.68C35.2718,-143.993 15.4808,-130.738 5.31713,-112 -5.83348,-91.4426 3.60206,-65.837 14.4337,-46.8628\"/>\n",
       "<polygon fill=\"black\" stroke=\"black\" points=\"17.5424,-48.4882 19.779,-38.1321 11.5724,-44.833 17.5424,-48.4882\"/>\n",
       "</g>\n",
       "<!-- o94113337369376 -->\n",
       "<g id=\"node5\" class=\"node\"><title>o94113337369376</title>\n",
       "<polygon fill=\"#c3c3c3\" stroke=\"black\" points=\"174.317,-38 120.317,-38 120.317,-0 174.317,-0 174.317,-38\"/>\n",
       "<text text-anchor=\"middle\" x=\"147.317\" y=\"-22.8\" font-family=\"Times,serif\" font-size=\"14.00\">int</text>\n",
       "<text text-anchor=\"middle\" x=\"147.317\" y=\"-7.8\" font-family=\"Times,serif\" font-size=\"14.00\">2</text>\n",
       "</g>\n",
       "<!-- o140199632530800&#45;&gt;o94113337369376 -->\n",
       "<g id=\"edge3\" class=\"edge\"><title>o140199632530800&#45;&gt;o94113337369376</title>\n",
       "<path fill=\"none\" stroke=\"black\" d=\"M80.0993,-147.71C72.7084,-128.389 64.6545,-97.5228 76.3171,-74 83.8224,-58.8625 97.826,-46.8196 111.426,-37.983\"/>\n",
       "<polygon fill=\"black\" stroke=\"black\" points=\"113.499,-40.819 120.232,-32.6389 109.868,-34.8347 113.499,-40.819\"/>\n",
       "</g>\n",
       "<!-- o94113337369344 -->\n",
       "<g id=\"node6\" class=\"node\"><title>o94113337369344</title>\n",
       "<polygon fill=\"#c3c3c3\" stroke=\"black\" points=\"304.317,-38 250.317,-38 250.317,-0 304.317,-0 304.317,-38\"/>\n",
       "<text text-anchor=\"middle\" x=\"277.317\" y=\"-22.8\" font-family=\"Times,serif\" font-size=\"14.00\">int</text>\n",
       "<text text-anchor=\"middle\" x=\"277.317\" y=\"-7.8\" font-family=\"Times,serif\" font-size=\"14.00\">1</text>\n",
       "</g>\n",
       "<!-- o140199632530800&#45;&gt;o94113337369344 -->\n",
       "<g id=\"edge4\" class=\"edge\"><title>o140199632530800&#45;&gt;o94113337369344</title>\n",
       "<path fill=\"none\" stroke=\"black\" d=\"M123.758,-157.705C180.31,-144.304 285.163,-118.712 290.317,-112 304.267,-93.8306 298.74,-67.5095 291.052,-47.6714\"/>\n",
       "<polygon fill=\"black\" stroke=\"black\" points=\"294.18,-46.0824 287.054,-38.2422 287.736,-48.8151 294.18,-46.0824\"/>\n",
       "</g>\n",
       "<!-- o140199632889008 -->\n",
       "<g id=\"node2\" class=\"node\"><title>o140199632889008</title>\n",
       "<polygon fill=\"#ffffff\" stroke=\"black\" points=\"249.317,-186 179.317,-186 179.317,-148 249.317,-148 249.317,-186\"/>\n",
       "<text text-anchor=\"middle\" x=\"214.317\" y=\"-170.8\" font-family=\"Times,serif\" font-size=\"14.00\" fill=\"red\">list</text>\n",
       "<text text-anchor=\"middle\" x=\"214.317\" y=\"-155.8\" font-family=\"Times,serif\" font-size=\"14.00\" fill=\"red\">4 items</text>\n",
       "</g>\n",
       "<!-- o140199821337376 -->\n",
       "<g id=\"node7\" class=\"node\"><title>o140199821337376</title>\n",
       "<polygon fill=\"#c3c3c3\" stroke=\"black\" points=\"281.317,-112 211.317,-112 211.317,-74 281.317,-74 281.317,-112\"/>\n",
       "<text text-anchor=\"middle\" x=\"246.317\" y=\"-96.8\" font-family=\"Times,serif\" font-size=\"14.00\">list</text>\n",
       "<text text-anchor=\"middle\" x=\"246.317\" y=\"-81.8\" font-family=\"Times,serif\" font-size=\"14.00\">3 items</text>\n",
       "</g>\n",
       "<!-- o140199632889008&#45;&gt;o140199821337376 -->\n",
       "<g id=\"edge5\" class=\"edge\"><title>o140199632889008&#45;&gt;o140199821337376</title>\n",
       "<path fill=\"none\" stroke=\"black\" d=\"M222.392,-147.831C225.927,-139.877 230.153,-130.369 234.063,-121.572\"/>\n",
       "<polygon fill=\"black\" stroke=\"black\" points=\"237.27,-122.973 238.133,-112.413 230.874,-120.13 237.27,-122.973\"/>\n",
       "</g>\n",
       "<!-- o140199632889008&#45;&gt;o94113337369408 -->\n",
       "<g id=\"edge6\" class=\"edge\"><title>o140199632889008&#45;&gt;o94113337369408</title>\n",
       "<path fill=\"none\" stroke=\"black\" d=\"M179.219,-159.886C148.715,-152.955 105.03,-138.926 76.3171,-112 57.9439,-94.7706 46.6859,-68.1197 40.3236,-47.9285\"/>\n",
       "<polygon fill=\"black\" stroke=\"black\" points=\"43.6799,-46.9355 37.5074,-38.3244 36.9627,-48.9052 43.6799,-46.9355\"/>\n",
       "</g>\n",
       "<!-- o140199632889008&#45;&gt;o94113337369376 -->\n",
       "<g id=\"edge7\" class=\"edge\"><title>o140199632889008&#45;&gt;o94113337369376</title>\n",
       "<path fill=\"none\" stroke=\"black\" d=\"M205.967,-147.804C194.432,-122.668 173.522,-77.1029 160.037,-47.7175\"/>\n",
       "<polygon fill=\"black\" stroke=\"black\" points=\"163.124,-46.054 155.772,-38.4251 156.762,-48.9736 163.124,-46.054\"/>\n",
       "</g>\n",
       "<!-- o140199632889008&#45;&gt;o94113337369344 -->\n",
       "<g id=\"edge8\" class=\"edge\"><title>o140199632889008&#45;&gt;o94113337369344</title>\n",
       "<path fill=\"none\" stroke=\"black\" d=\"M249.444,-158.874C274.798,-151.695 307.282,-137.839 323.317,-112 336.665,-90.492 321.127,-64.5956 304.601,-45.7649\"/>\n",
       "<polygon fill=\"black\" stroke=\"black\" points=\"306.908,-43.1063 297.539,-38.1606 301.779,-47.8698 306.908,-43.1063\"/>\n",
       "</g>\n",
       "<!-- o140199634103984&#45;&gt;o94113337369408 -->\n",
       "<g id=\"edge9\" class=\"edge\"><title>o140199634103984&#45;&gt;o94113337369408</title>\n",
       "<path fill=\"none\" stroke=\"black\" d=\"M98.3634,-73.8314C87.6477,-64.9632 74.5982,-54.1637 63.0081,-44.5718\"/>\n",
       "<polygon fill=\"black\" stroke=\"black\" points=\"65.1993,-41.8422 55.2639,-38.1628 60.7363,-47.2349 65.1993,-41.8422\"/>\n",
       "</g>\n",
       "<!-- o140199634103984&#45;&gt;o94113337369376 -->\n",
       "<g id=\"edge10\" class=\"edge\"><title>o140199634103984&#45;&gt;o94113337369376</title>\n",
       "<path fill=\"none\" stroke=\"black\" d=\"M127.13,-73.8314C130.081,-65.9617 133.603,-56.5712 136.872,-47.8533\"/>\n",
       "<polygon fill=\"black\" stroke=\"black\" points=\"140.178,-49.0055 140.412,-38.4133 133.624,-46.5476 140.178,-49.0055\"/>\n",
       "</g>\n",
       "<!-- o140199634103984&#45;&gt;o94113337369344 -->\n",
       "<g id=\"edge11\" class=\"edge\"><title>o140199634103984&#45;&gt;o94113337369344</title>\n",
       "<path fill=\"none\" stroke=\"black\" d=\"M155.551,-75.8418C180.884,-64.2243 214.958,-48.5977 240.619,-36.8296\"/>\n",
       "<polygon fill=\"black\" stroke=\"black\" points=\"242.376,-39.8747 250.006,-32.5247 239.458,-33.5119 242.376,-39.8747\"/>\n",
       "</g>\n",
       "<!-- o140199821337376&#45;&gt;o94113337369408 -->\n",
       "<g id=\"edge12\" class=\"edge\"><title>o140199821337376&#45;&gt;o94113337369408</title>\n",
       "<path fill=\"none\" stroke=\"black\" d=\"M211.145,-80.1107C172.148,-66.9287 109.538,-45.7648 69.9598,-32.3862\"/>\n",
       "<polygon fill=\"black\" stroke=\"black\" points=\"71.0163,-29.0489 60.4221,-29.1622 68.7747,-35.6803 71.0163,-29.0489\"/>\n",
       "</g>\n",
       "<!-- o140199821337376&#45;&gt;o94113337369376 -->\n",
       "<g id=\"edge13\" class=\"edge\"><title>o140199821337376&#45;&gt;o94113337369376</title>\n",
       "<path fill=\"none\" stroke=\"black\" d=\"M221.335,-73.8314C209.024,-64.8779 194.006,-53.9558 180.723,-44.2955\"/>\n",
       "<polygon fill=\"black\" stroke=\"black\" points=\"182.437,-41.214 172.291,-38.1628 178.32,-46.8752 182.437,-41.214\"/>\n",
       "</g>\n",
       "<!-- o140199821337376&#45;&gt;o94113337369344 -->\n",
       "<g id=\"edge14\" class=\"edge\"><title>o140199821337376&#45;&gt;o94113337369344</title>\n",
       "<path fill=\"none\" stroke=\"black\" d=\"M254.14,-73.8314C257.528,-65.9617 261.571,-56.5712 265.325,-47.8533\"/>\n",
       "<polygon fill=\"black\" stroke=\"black\" points=\"268.649,-48.9822 269.389,-38.4133 262.22,-46.214 268.649,-48.9822\"/>\n",
       "</g>\n",
       "</g>\n",
       "</svg>\n"
      ],
      "text/plain": [
       "<graphviz.files.Source at 0x7f82c55e71d0>"
      ]
     },
     "execution_count": 105,
     "metadata": {},
     "output_type": "execute_result"
    }
   ],
   "source": [
    "objgraph.show_refs([a,f])"
   ]
  },
  {
   "cell_type": "code",
   "execution_count": 111,
   "metadata": {
    "ExecuteTime": {
     "end_time": "2020-06-03T21:04:06.845372Z",
     "start_time": "2020-06-03T21:04:06.842734Z"
    }
   },
   "outputs": [],
   "source": [
    "b[-1].append(4)\n",
    "b.append(5)\n",
    "b[2] = 7"
   ]
  },
  {
   "cell_type": "code",
   "execution_count": 112,
   "metadata": {
    "ExecuteTime": {
     "end_time": "2020-06-03T21:04:07.674288Z",
     "start_time": "2020-06-03T21:04:07.669240Z"
    }
   },
   "outputs": [
    {
     "name": "stdout",
     "output_type": "stream",
     "text": [
      "[1, 2, 7, [1, 2, 3, 4], 5]\n"
     ]
    }
   ],
   "source": [
    "print(a)"
   ]
  },
  {
   "cell_type": "code",
   "execution_count": 113,
   "metadata": {
    "ExecuteTime": {
     "end_time": "2020-06-03T21:04:09.099428Z",
     "start_time": "2020-06-03T21:04:09.036915Z"
    }
   },
   "outputs": [
    {
     "data": {
      "image/svg+xml": [
       "<?xml version=\"1.0\" encoding=\"UTF-8\" standalone=\"no\"?>\n",
       "<!DOCTYPE svg PUBLIC \"-//W3C//DTD SVG 1.1//EN\"\n",
       " \"http://www.w3.org/Graphics/SVG/1.1/DTD/svg11.dtd\">\n",
       "<!-- Generated by graphviz version 2.30.1 (20180420.1509)\n",
       " -->\n",
       "<!-- Title: ObjectGraph Pages: 1 -->\n",
       "<svg width=\"374pt\" height=\"194pt\"\n",
       " viewBox=\"0.00 0.00 374.00 194.00\" xmlns=\"http://www.w3.org/2000/svg\" xmlns:xlink=\"http://www.w3.org/1999/xlink\">\n",
       "<g id=\"graph0\" class=\"graph\" transform=\"scale(1 1) rotate(0) translate(4 190)\">\n",
       "<title>ObjectGraph</title>\n",
       "<polygon fill=\"white\" stroke=\"white\" points=\"-4,5 -4,-190 371,-190 371,5 -4,5\"/>\n",
       "<!-- o140199632530800 -->\n",
       "<g id=\"node1\" class=\"node\"><title>o140199632530800</title>\n",
       "<polygon fill=\"#ffffff\" stroke=\"black\" points=\"224,-186 154,-186 154,-148 224,-148 224,-186\"/>\n",
       "<text text-anchor=\"middle\" x=\"189\" y=\"-170.8\" font-family=\"Times,serif\" font-size=\"14.00\" fill=\"red\">list</text>\n",
       "<text text-anchor=\"middle\" x=\"189\" y=\"-155.8\" font-family=\"Times,serif\" font-size=\"14.00\" fill=\"red\">5 items</text>\n",
       "</g>\n",
       "<!-- o94113337369472 -->\n",
       "<g id=\"node2\" class=\"node\"><title>o94113337369472</title>\n",
       "<polygon fill=\"#c3c3c3\" stroke=\"black\" points=\"54,-112 0,-112 0,-74 54,-74 54,-112\"/>\n",
       "<text text-anchor=\"middle\" x=\"27\" y=\"-96.8\" font-family=\"Times,serif\" font-size=\"14.00\">int</text>\n",
       "<text text-anchor=\"middle\" x=\"27\" y=\"-81.8\" font-family=\"Times,serif\" font-size=\"14.00\">5</text>\n",
       "</g>\n",
       "<!-- o140199632530800&#45;&gt;o94113337369472 -->\n",
       "<g id=\"edge1\" class=\"edge\"><title>o140199632530800&#45;&gt;o94113337369472</title>\n",
       "<path fill=\"none\" stroke=\"black\" d=\"M153.994,-151.647C130.56,-141.893 98.8722,-128.428 63.1973,-111.98\"/>\n",
       "<polygon fill=\"black\" stroke=\"black\" points=\"64.5885,-108.768 54.0441,-107.735 61.6431,-115.118 64.5885,-108.768\"/>\n",
       "</g>\n",
       "<!-- o140199634103984 -->\n",
       "<g id=\"node3\" class=\"node\"><title>o140199634103984</title>\n",
       "<polygon fill=\"#c3c3c3\" stroke=\"black\" points=\"142,-112 72,-112 72,-74 142,-74 142,-112\"/>\n",
       "<text text-anchor=\"middle\" x=\"107\" y=\"-96.8\" font-family=\"Times,serif\" font-size=\"14.00\">list</text>\n",
       "<text text-anchor=\"middle\" x=\"107\" y=\"-81.8\" font-family=\"Times,serif\" font-size=\"14.00\">4 items</text>\n",
       "</g>\n",
       "<!-- o140199632530800&#45;&gt;o140199634103984 -->\n",
       "<g id=\"edge2\" class=\"edge\"><title>o140199632530800&#45;&gt;o140199634103984</title>\n",
       "<path fill=\"none\" stroke=\"black\" d=\"M168.308,-147.831C158.305,-139.048 146.145,-128.371 135.3,-118.849\"/>\n",
       "<polygon fill=\"black\" stroke=\"black\" points=\"137.509,-116.131 127.685,-112.163 132.891,-121.391 137.509,-116.131\"/>\n",
       "</g>\n",
       "<!-- o94113337369536 -->\n",
       "<g id=\"node4\" class=\"node\"><title>o94113337369536</title>\n",
       "<polygon fill=\"#c3c3c3\" stroke=\"black\" points=\"366,-112 312,-112 312,-74 366,-74 366,-112\"/>\n",
       "<text text-anchor=\"middle\" x=\"339\" y=\"-96.8\" font-family=\"Times,serif\" font-size=\"14.00\">int</text>\n",
       "<text text-anchor=\"middle\" x=\"339\" y=\"-81.8\" font-family=\"Times,serif\" font-size=\"14.00\">7</text>\n",
       "</g>\n",
       "<!-- o140199632530800&#45;&gt;o94113337369536 -->\n",
       "<g id=\"edge3\" class=\"edge\"><title>o140199632530800&#45;&gt;o94113337369536</title>\n",
       "<path fill=\"none\" stroke=\"black\" d=\"M224.168,-149.119C247.713,-137.818 278.637,-122.974 302.461,-111.539\"/>\n",
       "<polygon fill=\"black\" stroke=\"black\" points=\"304.039,-114.664 311.54,-107.181 301.01,-108.353 304.039,-114.664\"/>\n",
       "</g>\n",
       "<!-- o94113337369376 -->\n",
       "<g id=\"node5\" class=\"node\"><title>o94113337369376</title>\n",
       "<polygon fill=\"#c3c3c3\" stroke=\"black\" points=\"203,-38 149,-38 149,-0 203,-0 203,-38\"/>\n",
       "<text text-anchor=\"middle\" x=\"176\" y=\"-22.8\" font-family=\"Times,serif\" font-size=\"14.00\">int</text>\n",
       "<text text-anchor=\"middle\" x=\"176\" y=\"-7.8\" font-family=\"Times,serif\" font-size=\"14.00\">2</text>\n",
       "</g>\n",
       "<!-- o140199632530800&#45;&gt;o94113337369376 -->\n",
       "<g id=\"edge4\" class=\"edge\"><title>o140199632530800&#45;&gt;o94113337369376</title>\n",
       "<path fill=\"none\" stroke=\"black\" d=\"M188.515,-147.981C187.899,-129.405 186.589,-99.6228 184,-74 183.156,-65.6462 181.938,-56.6071 180.706,-48.3576\"/>\n",
       "<polygon fill=\"black\" stroke=\"black\" points=\"184.159,-47.7853 179.165,-38.4414 177.242,-48.8603 184.159,-47.7853\"/>\n",
       "</g>\n",
       "<!-- o94113337369344 -->\n",
       "<g id=\"node6\" class=\"node\"><title>o94113337369344</title>\n",
       "<polygon fill=\"#c3c3c3\" stroke=\"black\" points=\"275,-38 221,-38 221,-0 275,-0 275,-38\"/>\n",
       "<text text-anchor=\"middle\" x=\"248\" y=\"-22.8\" font-family=\"Times,serif\" font-size=\"14.00\">int</text>\n",
       "<text text-anchor=\"middle\" x=\"248\" y=\"-7.8\" font-family=\"Times,serif\" font-size=\"14.00\">1</text>\n",
       "</g>\n",
       "<!-- o140199632530800&#45;&gt;o94113337369344 -->\n",
       "<g id=\"edge5\" class=\"edge\"><title>o140199632530800&#45;&gt;o94113337369344</title>\n",
       "<path fill=\"none\" stroke=\"black\" d=\"M224.182,-148.475C238.002,-139.599 252.364,-127.401 260,-112 269.886,-92.0608 265.605,-66.8454 259.57,-47.8574\"/>\n",
       "<polygon fill=\"black\" stroke=\"black\" points=\"262.828,-46.5702 256.218,-38.2899 256.221,-48.8847 262.828,-46.5702\"/>\n",
       "</g>\n",
       "<!-- o140199632530800&#45;&gt;o94113337369472 -->\n",
       "<g id=\"edge6\" class=\"edge\"><title>o140199632530800&#45;&gt;o94113337369472</title>\n",
       "<path fill=\"none\" stroke=\"black\" d=\"M153.994,-151.647C130.56,-141.893 98.8722,-128.428 63.1973,-111.98\"/>\n",
       "<polygon fill=\"black\" stroke=\"black\" points=\"64.5885,-108.768 54.0441,-107.735 61.6431,-115.118 64.5885,-108.768\"/>\n",
       "</g>\n",
       "<!-- o140199632530800&#45;&gt;o140199634103984 -->\n",
       "<g id=\"edge7\" class=\"edge\"><title>o140199632530800&#45;&gt;o140199634103984</title>\n",
       "<path fill=\"none\" stroke=\"black\" d=\"M168.308,-147.831C158.305,-139.048 146.145,-128.371 135.3,-118.849\"/>\n",
       "<polygon fill=\"black\" stroke=\"black\" points=\"137.509,-116.131 127.685,-112.163 132.891,-121.391 137.509,-116.131\"/>\n",
       "</g>\n",
       "<!-- o140199632530800&#45;&gt;o94113337369536 -->\n",
       "<g id=\"edge8\" class=\"edge\"><title>o140199632530800&#45;&gt;o94113337369536</title>\n",
       "<path fill=\"none\" stroke=\"black\" d=\"M224.168,-149.119C247.713,-137.818 278.637,-122.974 302.461,-111.539\"/>\n",
       "<polygon fill=\"black\" stroke=\"black\" points=\"304.039,-114.664 311.54,-107.181 301.01,-108.353 304.039,-114.664\"/>\n",
       "</g>\n",
       "<!-- o140199632530800&#45;&gt;o94113337369376 -->\n",
       "<g id=\"edge9\" class=\"edge\"><title>o140199632530800&#45;&gt;o94113337369376</title>\n",
       "<path fill=\"none\" stroke=\"black\" d=\"M187.262,-147.508C186.289,-137.082 185.061,-123.816 184,-112 182.092,-90.7422 180.005,-66.7147 178.441,-48.5466\"/>\n",
       "<polygon fill=\"black\" stroke=\"black\" points=\"181.906,-47.9946 177.564,-38.3308 174.932,-48.5936 181.906,-47.9946\"/>\n",
       "</g>\n",
       "<!-- o140199632530800&#45;&gt;o94113337369344 -->\n",
       "<g id=\"edge10\" class=\"edge\"><title>o140199632530800&#45;&gt;o94113337369344</title>\n",
       "<path fill=\"none\" stroke=\"black\" d=\"M196.353,-147.804C206.511,-122.668 224.924,-77.1029 236.799,-47.7175\"/>\n",
       "<polygon fill=\"black\" stroke=\"black\" points=\"240.052,-49.0081 240.554,-38.4251 233.562,-46.3853 240.052,-49.0081\"/>\n",
       "</g>\n",
       "<!-- o94113337369440 -->\n",
       "<g id=\"node7\" class=\"node\"><title>o94113337369440</title>\n",
       "<polygon fill=\"#878787\" stroke=\"black\" points=\"59,-38 5,-38 5,-0 59,-0 59,-38\"/>\n",
       "<text text-anchor=\"middle\" x=\"32\" y=\"-22.8\" font-family=\"Times,serif\" font-size=\"14.00\">int</text>\n",
       "<text text-anchor=\"middle\" x=\"32\" y=\"-7.8\" font-family=\"Times,serif\" font-size=\"14.00\">4</text>\n",
       "</g>\n",
       "<!-- o140199634103984&#45;&gt;o94113337369440 -->\n",
       "<g id=\"edge11\" class=\"edge\"><title>o140199634103984&#45;&gt;o94113337369440</title>\n",
       "<path fill=\"none\" stroke=\"black\" d=\"M88.0743,-73.8314C79.0143,-65.1337 68.0191,-54.5783 58.1735,-45.1265\"/>\n",
       "<polygon fill=\"black\" stroke=\"black\" points=\"60.5574,-42.5633 50.9196,-38.1628 55.7096,-47.613 60.5574,-42.5633\"/>\n",
       "</g>\n",
       "<!-- o94113337369408 -->\n",
       "<g id=\"node8\" class=\"node\"><title>o94113337369408</title>\n",
       "<polygon fill=\"#878787\" stroke=\"black\" points=\"131,-38 77,-38 77,-0 131,-0 131,-38\"/>\n",
       "<text text-anchor=\"middle\" x=\"104\" y=\"-22.8\" font-family=\"Times,serif\" font-size=\"14.00\">int</text>\n",
       "<text text-anchor=\"middle\" x=\"104\" y=\"-7.8\" font-family=\"Times,serif\" font-size=\"14.00\">3</text>\n",
       "</g>\n",
       "<!-- o140199634103984&#45;&gt;o94113337369408 -->\n",
       "<g id=\"edge12\" class=\"edge\"><title>o140199634103984&#45;&gt;o94113337369408</title>\n",
       "<path fill=\"none\" stroke=\"black\" d=\"M106.243,-73.8314C105.922,-66.131 105.541,-56.9743 105.184,-48.4166\"/>\n",
       "<polygon fill=\"black\" stroke=\"black\" points=\"108.681,-48.2589 104.767,-38.4133 101.687,-48.5503 108.681,-48.2589\"/>\n",
       "</g>\n",
       "<!-- o140199634103984&#45;&gt;o94113337369376 -->\n",
       "<g id=\"edge13\" class=\"edge\"><title>o140199634103984&#45;&gt;o94113337369376</title>\n",
       "<path fill=\"none\" stroke=\"black\" d=\"M124.412,-73.8314C132.521,-65.3694 142.316,-55.1489 151.182,-45.8971\"/>\n",
       "<polygon fill=\"black\" stroke=\"black\" points=\"153.962,-48.0549 158.354,-38.4133 148.908,-43.2115 153.962,-48.0549\"/>\n",
       "</g>\n",
       "<!-- o140199634103984&#45;&gt;o94113337369344 -->\n",
       "<g id=\"edge14\" class=\"edge\"><title>o140199634103984&#45;&gt;o94113337369344</title>\n",
       "<path fill=\"none\" stroke=\"black\" d=\"M142.217,-74.0171C163.391,-63.2048 190.286,-49.471 211.658,-38.5575\"/>\n",
       "<polygon fill=\"black\" stroke=\"black\" points=\"213.433,-41.5813 220.747,-33.9163 210.249,-35.347 213.433,-41.5813\"/>\n",
       "</g>\n",
       "</g>\n",
       "</svg>\n"
      ],
      "text/plain": [
       "<graphviz.files.Source at 0x7f82c5629310>"
      ]
     },
     "execution_count": 113,
     "metadata": {},
     "output_type": "execute_result"
    }
   ],
   "source": [
    "objgraph.show_refs([a,b])"
   ]
  },
  {
   "cell_type": "code",
   "execution_count": 114,
   "metadata": {
    "ExecuteTime": {
     "end_time": "2020-06-03T21:04:16.663590Z",
     "start_time": "2020-06-03T21:04:16.658683Z"
    }
   },
   "outputs": [
    {
     "name": "stdout",
     "output_type": "stream",
     "text": [
      "[1, 2, 3, [1, 2, 3, 4]]\n"
     ]
    }
   ],
   "source": [
    "print(c)"
   ]
  },
  {
   "cell_type": "code",
   "execution_count": 115,
   "metadata": {
    "ExecuteTime": {
     "end_time": "2020-06-03T21:04:17.443487Z",
     "start_time": "2020-06-03T21:04:17.380953Z"
    }
   },
   "outputs": [
    {
     "data": {
      "image/svg+xml": [
       "<?xml version=\"1.0\" encoding=\"UTF-8\" standalone=\"no\"?>\n",
       "<!DOCTYPE svg PUBLIC \"-//W3C//DTD SVG 1.1//EN\"\n",
       " \"http://www.w3.org/Graphics/SVG/1.1/DTD/svg11.dtd\">\n",
       "<!-- Generated by graphviz version 2.30.1 (20180420.1509)\n",
       " -->\n",
       "<!-- Title: ObjectGraph Pages: 1 -->\n",
       "<svg width=\"407pt\" height=\"194pt\"\n",
       " viewBox=\"0.00 0.00 407.02 194.00\" xmlns=\"http://www.w3.org/2000/svg\" xmlns:xlink=\"http://www.w3.org/1999/xlink\">\n",
       "<g id=\"graph0\" class=\"graph\" transform=\"scale(1 1) rotate(0) translate(4 190)\">\n",
       "<title>ObjectGraph</title>\n",
       "<polygon fill=\"white\" stroke=\"white\" points=\"-4,5 -4,-190 404.017,-190 404.017,5 -4,5\"/>\n",
       "<!-- o140199632530800 -->\n",
       "<g id=\"node1\" class=\"node\"><title>o140199632530800</title>\n",
       "<polygon fill=\"#ffffff\" stroke=\"black\" points=\"150.017,-186 80.0169,-186 80.0169,-148 150.017,-148 150.017,-186\"/>\n",
       "<text text-anchor=\"middle\" x=\"115.017\" y=\"-170.8\" font-family=\"Times,serif\" font-size=\"14.00\" fill=\"red\">list</text>\n",
       "<text text-anchor=\"middle\" x=\"115.017\" y=\"-155.8\" font-family=\"Times,serif\" font-size=\"14.00\" fill=\"red\">5 items</text>\n",
       "</g>\n",
       "<!-- o94113337369472 -->\n",
       "<g id=\"node3\" class=\"node\"><title>o94113337369472</title>\n",
       "<polygon fill=\"#c3c3c3\" stroke=\"black\" points=\"142.017,-112 88.0169,-112 88.0169,-74 142.017,-74 142.017,-112\"/>\n",
       "<text text-anchor=\"middle\" x=\"115.017\" y=\"-96.8\" font-family=\"Times,serif\" font-size=\"14.00\">int</text>\n",
       "<text text-anchor=\"middle\" x=\"115.017\" y=\"-81.8\" font-family=\"Times,serif\" font-size=\"14.00\">5</text>\n",
       "</g>\n",
       "<!-- o140199632530800&#45;&gt;o94113337369472 -->\n",
       "<g id=\"edge1\" class=\"edge\"><title>o140199632530800&#45;&gt;o94113337369472</title>\n",
       "<path fill=\"none\" stroke=\"black\" d=\"M115.017,-147.831C115.017,-140.131 115.017,-130.974 115.017,-122.417\"/>\n",
       "<polygon fill=\"black\" stroke=\"black\" points=\"118.517,-122.413 115.017,-112.413 111.517,-122.413 118.517,-122.413\"/>\n",
       "</g>\n",
       "<!-- o140199634103984 -->\n",
       "<g id=\"node4\" class=\"node\"><title>o140199634103984</title>\n",
       "<polygon fill=\"#c3c3c3\" stroke=\"black\" points=\"268.017,-112 198.017,-112 198.017,-74 268.017,-74 268.017,-112\"/>\n",
       "<text text-anchor=\"middle\" x=\"233.017\" y=\"-96.8\" font-family=\"Times,serif\" font-size=\"14.00\">list</text>\n",
       "<text text-anchor=\"middle\" x=\"233.017\" y=\"-81.8\" font-family=\"Times,serif\" font-size=\"14.00\">4 items</text>\n",
       "</g>\n",
       "<!-- o140199632530800&#45;&gt;o140199634103984 -->\n",
       "<g id=\"edge2\" class=\"edge\"><title>o140199632530800&#45;&gt;o140199634103984</title>\n",
       "<path fill=\"none\" stroke=\"black\" d=\"M144.793,-147.831C159.886,-138.622 178.393,-127.33 194.551,-117.471\"/>\n",
       "<polygon fill=\"black\" stroke=\"black\" points=\"196.537,-120.359 203.25,-112.163 192.891,-114.384 196.537,-120.359\"/>\n",
       "</g>\n",
       "<!-- o94113337369536 -->\n",
       "<g id=\"node5\" class=\"node\"><title>o94113337369536</title>\n",
       "<polygon fill=\"#c3c3c3\" stroke=\"black\" points=\"70.0169,-112 16.0169,-112 16.0169,-74 70.0169,-74 70.0169,-112\"/>\n",
       "<text text-anchor=\"middle\" x=\"43.0169\" y=\"-96.8\" font-family=\"Times,serif\" font-size=\"14.00\">int</text>\n",
       "<text text-anchor=\"middle\" x=\"43.0169\" y=\"-81.8\" font-family=\"Times,serif\" font-size=\"14.00\">7</text>\n",
       "</g>\n",
       "<!-- o140199632530800&#45;&gt;o94113337369536 -->\n",
       "<g id=\"edge3\" class=\"edge\"><title>o140199632530800&#45;&gt;o94113337369536</title>\n",
       "<path fill=\"none\" stroke=\"black\" d=\"M96.8483,-147.831C88.3017,-139.285 77.9613,-128.944 68.6368,-119.62\"/>\n",
       "<polygon fill=\"black\" stroke=\"black\" points=\"70.9762,-117.009 61.4302,-112.413 66.0264,-121.959 70.9762,-117.009\"/>\n",
       "</g>\n",
       "<!-- o94113337369376 -->\n",
       "<g id=\"node6\" class=\"node\"><title>o94113337369376</title>\n",
       "<polygon fill=\"#c3c3c3\" stroke=\"black\" points=\"327.017,-38 273.017,-38 273.017,-0 327.017,-0 327.017,-38\"/>\n",
       "<text text-anchor=\"middle\" x=\"300.017\" y=\"-22.8\" font-family=\"Times,serif\" font-size=\"14.00\">int</text>\n",
       "<text text-anchor=\"middle\" x=\"300.017\" y=\"-7.8\" font-family=\"Times,serif\" font-size=\"14.00\">2</text>\n",
       "</g>\n",
       "<!-- o140199632530800&#45;&gt;o94113337369376 -->\n",
       "<g id=\"edge4\" class=\"edge\"><title>o140199632530800&#45;&gt;o94113337369376</title>\n",
       "<path fill=\"none\" stroke=\"black\" d=\"M150.284,-163.874C187.137,-159.728 244.083,-147.565 277.017,-112 292.852,-94.8999 298.207,-68.5806 299.831,-48.4665\"/>\n",
       "<polygon fill=\"black\" stroke=\"black\" points=\"303.335,-48.4879 300.384,-38.3124 296.345,-48.1073 303.335,-48.4879\"/>\n",
       "</g>\n",
       "<!-- o94113337369344 -->\n",
       "<g id=\"node7\" class=\"node\"><title>o94113337369344</title>\n",
       "<polygon fill=\"#c3c3c3\" stroke=\"black\" points=\"183.017,-38 129.017,-38 129.017,-0 183.017,-0 183.017,-38\"/>\n",
       "<text text-anchor=\"middle\" x=\"156.017\" y=\"-22.8\" font-family=\"Times,serif\" font-size=\"14.00\">int</text>\n",
       "<text text-anchor=\"middle\" x=\"156.017\" y=\"-7.8\" font-family=\"Times,serif\" font-size=\"14.00\">1</text>\n",
       "</g>\n",
       "<!-- o140199632530800&#45;&gt;o94113337369344 -->\n",
       "<g id=\"edge5\" class=\"edge\"><title>o140199632530800&#45;&gt;o94113337369344</title>\n",
       "<path fill=\"none\" stroke=\"black\" d=\"M79.9402,-158.706C54.8519,-151.458 22.832,-137.589 7.01694,-112 -1.86208,-97.6335 -2.67963,-87.8279 7.01694,-74 32.1782,-38.1185 83.7085,-25.9826 119.055,-21.9343\"/>\n",
       "<polygon fill=\"black\" stroke=\"black\" points=\"119.399,-25.4175 129.009,-20.9568 118.715,-18.451 119.399,-25.4175\"/>\n",
       "</g>\n",
       "<!-- o140199632530720 -->\n",
       "<g id=\"node2\" class=\"node\"><title>o140199632530720</title>\n",
       "<polygon fill=\"#ffffff\" stroke=\"black\" points=\"318.017,-186 248.017,-186 248.017,-148 318.017,-148 318.017,-186\"/>\n",
       "<text text-anchor=\"middle\" x=\"283.017\" y=\"-170.8\" font-family=\"Times,serif\" font-size=\"14.00\" fill=\"red\">list</text>\n",
       "<text text-anchor=\"middle\" x=\"283.017\" y=\"-155.8\" font-family=\"Times,serif\" font-size=\"14.00\" fill=\"red\">4 items</text>\n",
       "</g>\n",
       "<!-- o140199632530720&#45;&gt;o140199634103984 -->\n",
       "<g id=\"edge6\" class=\"edge\"><title>o140199632530720&#45;&gt;o140199634103984</title>\n",
       "<path fill=\"none\" stroke=\"black\" d=\"M270.4,-147.831C264.7,-139.623 257.851,-129.761 251.581,-120.732\"/>\n",
       "<polygon fill=\"black\" stroke=\"black\" points=\"254.383,-118.631 245.804,-112.413 248.633,-122.623 254.383,-118.631\"/>\n",
       "</g>\n",
       "<!-- o94113337369408 -->\n",
       "<g id=\"node8\" class=\"node\"><title>o94113337369408</title>\n",
       "<polygon fill=\"#c3c3c3\" stroke=\"black\" points=\"399.017,-38 345.017,-38 345.017,-0 399.017,-0 399.017,-38\"/>\n",
       "<text text-anchor=\"middle\" x=\"372.017\" y=\"-22.8\" font-family=\"Times,serif\" font-size=\"14.00\">int</text>\n",
       "<text text-anchor=\"middle\" x=\"372.017\" y=\"-7.8\" font-family=\"Times,serif\" font-size=\"14.00\">3</text>\n",
       "</g>\n",
       "<!-- o140199632530720&#45;&gt;o94113337369408 -->\n",
       "<g id=\"edge7\" class=\"edge\"><title>o140199632530720&#45;&gt;o94113337369408</title>\n",
       "<path fill=\"none\" stroke=\"black\" d=\"M298.695,-147.645C307.01,-137.483 317.111,-124.425 325.017,-112 338.3,-91.1246 350.915,-66.0318 359.725,-47.3291\"/>\n",
       "<polygon fill=\"black\" stroke=\"black\" points=\"362.933,-48.7315 363.969,-38.1874 356.584,-45.784 362.933,-48.7315\"/>\n",
       "</g>\n",
       "<!-- o140199632530720&#45;&gt;o94113337369376 -->\n",
       "<g id=\"edge8\" class=\"edge\"><title>o140199632530720&#45;&gt;o94113337369376</title>\n",
       "<path fill=\"none\" stroke=\"black\" d=\"M294.768,-147.824C300.603,-137.714 307.031,-124.649 310.017,-112 315.008,-90.8571 311.937,-66.3829 307.928,-47.9949\"/>\n",
       "<polygon fill=\"black\" stroke=\"black\" points=\"311.316,-47.1134 305.581,-38.2046 304.509,-48.7449 311.316,-47.1134\"/>\n",
       "</g>\n",
       "<!-- o140199632530720&#45;&gt;o94113337369344 -->\n",
       "<g id=\"edge9\" class=\"edge\"><title>o140199632530720&#45;&gt;o94113337369344</title>\n",
       "<path fill=\"none\" stroke=\"black\" d=\"M247.613,-152.855C227.979,-143.974 204.479,-130.474 189.017,-112 173.692,-93.6902 165.244,-67.7136 160.743,-48.0301\"/>\n",
       "<polygon fill=\"black\" stroke=\"black\" points=\"164.143,-47.1871 158.682,-38.1082 157.289,-48.6111 164.143,-47.1871\"/>\n",
       "</g>\n",
       "<!-- o94113337369440 -->\n",
       "<g id=\"node9\" class=\"node\"><title>o94113337369440</title>\n",
       "<polygon fill=\"#878787\" stroke=\"black\" points=\"255.017,-38 201.017,-38 201.017,-0 255.017,-0 255.017,-38\"/>\n",
       "<text text-anchor=\"middle\" x=\"228.017\" y=\"-22.8\" font-family=\"Times,serif\" font-size=\"14.00\">int</text>\n",
       "<text text-anchor=\"middle\" x=\"228.017\" y=\"-7.8\" font-family=\"Times,serif\" font-size=\"14.00\">4</text>\n",
       "</g>\n",
       "<!-- o140199634103984&#45;&gt;o94113337369440 -->\n",
       "<g id=\"edge10\" class=\"edge\"><title>o140199634103984&#45;&gt;o94113337369440</title>\n",
       "<path fill=\"none\" stroke=\"black\" d=\"M231.755,-73.8314C231.22,-66.131 230.585,-56.9743 229.99,-48.4166\"/>\n",
       "<polygon fill=\"black\" stroke=\"black\" points=\"233.48,-48.1467 229.296,-38.4133 226.497,-48.6317 233.48,-48.1467\"/>\n",
       "</g>\n",
       "<!-- o140199634103984&#45;&gt;o94113337369408 -->\n",
       "<g id=\"edge11\" class=\"edge\"><title>o140199634103984&#45;&gt;o94113337369408</title>\n",
       "<path fill=\"none\" stroke=\"black\" d=\"M268.093,-73.8314C288.83,-63.0898 315.037,-49.5148 335.946,-38.6844\"/>\n",
       "<polygon fill=\"black\" stroke=\"black\" points=\"337.575,-41.782 344.845,-34.0747 334.356,-35.5663 337.575,-41.782\"/>\n",
       "</g>\n",
       "<!-- o140199634103984&#45;&gt;o94113337369376 -->\n",
       "<g id=\"edge12\" class=\"edge\"><title>o140199634103984&#45;&gt;o94113337369376</title>\n",
       "<path fill=\"none\" stroke=\"black\" d=\"M249.924,-73.8314C257.798,-65.3694 267.309,-55.1489 275.918,-45.8971\"/>\n",
       "<polygon fill=\"black\" stroke=\"black\" points=\"278.632,-48.1183 282.882,-38.4133 273.508,-43.3497 278.632,-48.1183\"/>\n",
       "</g>\n",
       "<!-- o140199634103984&#45;&gt;o94113337369344 -->\n",
       "<g id=\"edge13\" class=\"edge\"><title>o140199634103984&#45;&gt;o94113337369344</title>\n",
       "<path fill=\"none\" stroke=\"black\" d=\"M213.587,-73.8314C204.285,-65.1337 192.997,-54.5783 182.888,-45.1265\"/>\n",
       "<polygon fill=\"black\" stroke=\"black\" points=\"185.136,-42.4363 175.441,-38.1628 180.355,-47.5493 185.136,-42.4363\"/>\n",
       "</g>\n",
       "</g>\n",
       "</svg>\n"
      ],
      "text/plain": [
       "<graphviz.files.Source at 0x7f82c55e7f50>"
      ]
     },
     "execution_count": 115,
     "metadata": {},
     "output_type": "execute_result"
    }
   ],
   "source": [
    "objgraph.show_refs([a,c])"
   ]
  },
  {
   "cell_type": "code",
   "execution_count": 116,
   "metadata": {
    "ExecuteTime": {
     "end_time": "2020-06-03T21:04:40.204259Z",
     "start_time": "2020-06-03T21:04:40.199299Z"
    }
   },
   "outputs": [
    {
     "name": "stdout",
     "output_type": "stream",
     "text": [
      "[1, 2, 3, [1, 2, 3, 4]]\n"
     ]
    }
   ],
   "source": [
    "print(d)"
   ]
  },
  {
   "cell_type": "code",
   "execution_count": 117,
   "metadata": {
    "ExecuteTime": {
     "end_time": "2020-06-03T21:04:41.002066Z",
     "start_time": "2020-06-03T21:04:40.945903Z"
    }
   },
   "outputs": [
    {
     "data": {
      "image/svg+xml": [
       "<?xml version=\"1.0\" encoding=\"UTF-8\" standalone=\"no\"?>\n",
       "<!DOCTYPE svg PUBLIC \"-//W3C//DTD SVG 1.1//EN\"\n",
       " \"http://www.w3.org/Graphics/SVG/1.1/DTD/svg11.dtd\">\n",
       "<!-- Generated by graphviz version 2.30.1 (20180420.1509)\n",
       " -->\n",
       "<!-- Title: ObjectGraph Pages: 1 -->\n",
       "<svg width=\"483pt\" height=\"194pt\"\n",
       " viewBox=\"0.00 0.00 483.24 194.00\" xmlns=\"http://www.w3.org/2000/svg\" xmlns:xlink=\"http://www.w3.org/1999/xlink\">\n",
       "<g id=\"graph0\" class=\"graph\" transform=\"scale(1 1) rotate(0) translate(4 190)\">\n",
       "<title>ObjectGraph</title>\n",
       "<polygon fill=\"white\" stroke=\"white\" points=\"-4,5 -4,-190 480.236,-190 480.236,5 -4,5\"/>\n",
       "<!-- o140199632530800 -->\n",
       "<g id=\"node1\" class=\"node\"><title>o140199632530800</title>\n",
       "<polygon fill=\"#ffffff\" stroke=\"black\" points=\"150.236,-186 80.2364,-186 80.2364,-148 150.236,-148 150.236,-186\"/>\n",
       "<text text-anchor=\"middle\" x=\"115.236\" y=\"-170.8\" font-family=\"Times,serif\" font-size=\"14.00\" fill=\"red\">list</text>\n",
       "<text text-anchor=\"middle\" x=\"115.236\" y=\"-155.8\" font-family=\"Times,serif\" font-size=\"14.00\" fill=\"red\">5 items</text>\n",
       "</g>\n",
       "<!-- o94113337369472 -->\n",
       "<g id=\"node4\" class=\"node\"><title>o94113337369472</title>\n",
       "<polygon fill=\"#c3c3c3\" stroke=\"black\" points=\"142.236,-112 88.2364,-112 88.2364,-74 142.236,-74 142.236,-112\"/>\n",
       "<text text-anchor=\"middle\" x=\"115.236\" y=\"-96.8\" font-family=\"Times,serif\" font-size=\"14.00\">int</text>\n",
       "<text text-anchor=\"middle\" x=\"115.236\" y=\"-81.8\" font-family=\"Times,serif\" font-size=\"14.00\">5</text>\n",
       "</g>\n",
       "<!-- o140199632530800&#45;&gt;o94113337369472 -->\n",
       "<g id=\"edge1\" class=\"edge\"><title>o140199632530800&#45;&gt;o94113337369472</title>\n",
       "<path fill=\"none\" stroke=\"black\" d=\"M115.236,-147.831C115.236,-140.131 115.236,-130.974 115.236,-122.417\"/>\n",
       "<polygon fill=\"black\" stroke=\"black\" points=\"118.737,-122.413 115.236,-112.413 111.737,-122.413 118.737,-122.413\"/>\n",
       "</g>\n",
       "<!-- o140199634103984 -->\n",
       "<g id=\"node5\" class=\"node\"><title>o140199634103984</title>\n",
       "<polygon fill=\"#c3c3c3\" stroke=\"black\" points=\"344.236,-112 274.236,-112 274.236,-74 344.236,-74 344.236,-112\"/>\n",
       "<text text-anchor=\"middle\" x=\"309.236\" y=\"-96.8\" font-family=\"Times,serif\" font-size=\"14.00\">list</text>\n",
       "<text text-anchor=\"middle\" x=\"309.236\" y=\"-81.8\" font-family=\"Times,serif\" font-size=\"14.00\">4 items</text>\n",
       "</g>\n",
       "<!-- o140199632530800&#45;&gt;o140199634103984 -->\n",
       "<g id=\"edge2\" class=\"edge\"><title>o140199632530800&#45;&gt;o140199634103984</title>\n",
       "<path fill=\"none\" stroke=\"black\" d=\"M150.368,-152.961C182.406,-141.071 229.899,-123.445 264.61,-110.562\"/>\n",
       "<polygon fill=\"black\" stroke=\"black\" points=\"265.881,-113.824 274.039,-107.063 263.446,-107.261 265.881,-113.824\"/>\n",
       "</g>\n",
       "<!-- o94113337369536 -->\n",
       "<g id=\"node6\" class=\"node\"><title>o94113337369536</title>\n",
       "<polygon fill=\"#c3c3c3\" stroke=\"black\" points=\"70.2364,-112 16.2364,-112 16.2364,-74 70.2364,-74 70.2364,-112\"/>\n",
       "<text text-anchor=\"middle\" x=\"43.2364\" y=\"-96.8\" font-family=\"Times,serif\" font-size=\"14.00\">int</text>\n",
       "<text text-anchor=\"middle\" x=\"43.2364\" y=\"-81.8\" font-family=\"Times,serif\" font-size=\"14.00\">7</text>\n",
       "</g>\n",
       "<!-- o140199632530800&#45;&gt;o94113337369536 -->\n",
       "<g id=\"edge3\" class=\"edge\"><title>o140199632530800&#45;&gt;o94113337369536</title>\n",
       "<path fill=\"none\" stroke=\"black\" d=\"M97.0678,-147.831C88.5212,-139.285 78.1807,-128.944 68.8563,-119.62\"/>\n",
       "<polygon fill=\"black\" stroke=\"black\" points=\"71.1957,-117.009 61.6497,-112.413 66.2459,-121.959 71.1957,-117.009\"/>\n",
       "</g>\n",
       "<!-- o94113337369376 -->\n",
       "<g id=\"node7\" class=\"node\"><title>o94113337369376</title>\n",
       "<polygon fill=\"#c3c3c3\" stroke=\"black\" points=\"399.236,-38 345.236,-38 345.236,-0 399.236,-0 399.236,-38\"/>\n",
       "<text text-anchor=\"middle\" x=\"372.236\" y=\"-22.8\" font-family=\"Times,serif\" font-size=\"14.00\">int</text>\n",
       "<text text-anchor=\"middle\" x=\"372.236\" y=\"-7.8\" font-family=\"Times,serif\" font-size=\"14.00\">2</text>\n",
       "</g>\n",
       "<!-- o140199632530800&#45;&gt;o94113337369376 -->\n",
       "<g id=\"edge4\" class=\"edge\"><title>o140199632530800&#45;&gt;o94113337369376</title>\n",
       "<path fill=\"none\" stroke=\"black\" d=\"M143.298,-147.824C173.127,-128.733 221.881,-98.1815 265.236,-74 268.711,-72.0622 306.227,-53.1648 335.868,-38.2644\"/>\n",
       "<polygon fill=\"black\" stroke=\"black\" points=\"337.799,-41.2115 345.162,-33.5937 334.655,-34.9569 337.799,-41.2115\"/>\n",
       "</g>\n",
       "<!-- o94113337369344 -->\n",
       "<g id=\"node8\" class=\"node\"><title>o94113337369344</title>\n",
       "<polygon fill=\"#c3c3c3\" stroke=\"black\" points=\"226.236,-38 172.236,-38 172.236,-0 226.236,-0 226.236,-38\"/>\n",
       "<text text-anchor=\"middle\" x=\"199.236\" y=\"-22.8\" font-family=\"Times,serif\" font-size=\"14.00\">int</text>\n",
       "<text text-anchor=\"middle\" x=\"199.236\" y=\"-7.8\" font-family=\"Times,serif\" font-size=\"14.00\">1</text>\n",
       "</g>\n",
       "<!-- o140199632530800&#45;&gt;o94113337369344 -->\n",
       "<g id=\"edge5\" class=\"edge\"><title>o140199632530800&#45;&gt;o94113337369344</title>\n",
       "<path fill=\"none\" stroke=\"black\" d=\"M80.1597,-158.706C55.0714,-151.458 23.0515,-137.589 7.23643,-112 -1.64259,-97.6335 -2.96182,-87.4622 7.23643,-74 25.8298,-49.4559 111.256,-32.9519 161.68,-25.1627\"/>\n",
       "<polygon fill=\"black\" stroke=\"black\" points=\"162.503,-28.5786 171.872,-23.6331 161.464,-21.6561 162.503,-28.5786\"/>\n",
       "</g>\n",
       "<!-- o140199632571120 -->\n",
       "<g id=\"node2\" class=\"node\"><title>o140199632571120</title>\n",
       "<polygon fill=\"#ffffff\" stroke=\"black\" points=\"441.236,-186 371.236,-186 371.236,-148 441.236,-148 441.236,-186\"/>\n",
       "<text text-anchor=\"middle\" x=\"406.236\" y=\"-170.8\" font-family=\"Times,serif\" font-size=\"14.00\" fill=\"red\">list</text>\n",
       "<text text-anchor=\"middle\" x=\"406.236\" y=\"-155.8\" font-family=\"Times,serif\" font-size=\"14.00\" fill=\"red\">4 items</text>\n",
       "</g>\n",
       "<!-- o140199632571120&#45;&gt;o140199634103984 -->\n",
       "<g id=\"edge6\" class=\"edge\"><title>o140199632571120&#45;&gt;o140199634103984</title>\n",
       "<path fill=\"none\" stroke=\"black\" d=\"M381.759,-147.831C369.697,-138.878 354.982,-127.956 341.968,-118.295\"/>\n",
       "<polygon fill=\"black\" stroke=\"black\" points=\"343.822,-115.313 333.706,-112.163 339.649,-120.933 343.822,-115.313\"/>\n",
       "</g>\n",
       "<!-- o94113337369408 -->\n",
       "<g id=\"node9\" class=\"node\"><title>o94113337369408</title>\n",
       "<polygon fill=\"#c3c3c3\" stroke=\"black\" points=\"475.236,-38 421.236,-38 421.236,-0 475.236,-0 475.236,-38\"/>\n",
       "<text text-anchor=\"middle\" x=\"448.236\" y=\"-22.8\" font-family=\"Times,serif\" font-size=\"14.00\">int</text>\n",
       "<text text-anchor=\"middle\" x=\"448.236\" y=\"-7.8\" font-family=\"Times,serif\" font-size=\"14.00\">3</text>\n",
       "</g>\n",
       "<!-- o140199632571120&#45;&gt;o94113337369408 -->\n",
       "<g id=\"edge7\" class=\"edge\"><title>o140199632571120&#45;&gt;o94113337369408</title>\n",
       "<path fill=\"none\" stroke=\"black\" d=\"M432.96,-147.91C444.245,-138.644 456.162,-126.295 462.236,-112 470.966,-91.4552 466.194,-66.2879 459.952,-47.4725\"/>\n",
       "<polygon fill=\"black\" stroke=\"black\" points=\"463.218,-46.2113 456.514,-38.007 456.639,-48.6011 463.218,-46.2113\"/>\n",
       "</g>\n",
       "<!-- o140199632571120&#45;&gt;o94113337369376 -->\n",
       "<g id=\"edge8\" class=\"edge\"><title>o140199632571120&#45;&gt;o94113337369376</title>\n",
       "<path fill=\"none\" stroke=\"black\" d=\"M402.537,-147.971C398.673,-129.388 392.335,-99.5995 386.236,-74 384.248,-65.6533 381.959,-56.6164 379.816,-48.3667\"/>\n",
       "<polygon fill=\"black\" stroke=\"black\" points=\"383.137,-47.2329 377.213,-38.4492 376.366,-49.0102 383.137,-47.2329\"/>\n",
       "</g>\n",
       "<!-- o140199632571120&#45;&gt;o94113337369344 -->\n",
       "<g id=\"edge9\" class=\"edge\"><title>o140199632571120&#45;&gt;o94113337369344</title>\n",
       "<path fill=\"none\" stroke=\"black\" d=\"M371.039,-153.095C330.735,-138.233 269.66,-115.413 265.236,-112 253.092,-102.63 231.227,-70.4942 216.006,-46.8313\"/>\n",
       "<polygon fill=\"black\" stroke=\"black\" points=\"218.858,-44.794 210.532,-38.2422 212.955,-48.5563 218.858,-44.794\"/>\n",
       "</g>\n",
       "<!-- o140199632577872 -->\n",
       "<g id=\"node3\" class=\"node\"><title>o140199632577872</title>\n",
       "<polygon fill=\"#ffffff\" stroke=\"black\" points=\"347.236,-186 277.236,-186 277.236,-148 347.236,-148 347.236,-186\"/>\n",
       "<text text-anchor=\"middle\" x=\"312.236\" y=\"-170.8\" font-family=\"Times,serif\" font-size=\"14.00\" fill=\"red\">list</text>\n",
       "<text text-anchor=\"middle\" x=\"312.236\" y=\"-155.8\" font-family=\"Times,serif\" font-size=\"14.00\" fill=\"red\">4 items</text>\n",
       "</g>\n",
       "<!-- o140199632577872&#45;&gt;o140199634103984 -->\n",
       "<g id=\"edge10\" class=\"edge\"><title>o140199632577872&#45;&gt;o140199634103984</title>\n",
       "<path fill=\"none\" stroke=\"black\" d=\"M311.479,-147.831C311.159,-140.131 310.777,-130.974 310.42,-122.417\"/>\n",
       "<polygon fill=\"black\" stroke=\"black\" points=\"313.917,-122.259 310.004,-112.413 306.923,-122.55 313.917,-122.259\"/>\n",
       "</g>\n",
       "<!-- o140199632577872&#45;&gt;o94113337369408 -->\n",
       "<g id=\"edge11\" class=\"edge\"><title>o140199632577872&#45;&gt;o94113337369408</title>\n",
       "<path fill=\"none\" stroke=\"black\" d=\"M333.768,-147.986C345.525,-137.818 360.115,-124.647 372.236,-112 392.467,-90.894 413.487,-65.1014 428.279,-46.2024\"/>\n",
       "<polygon fill=\"black\" stroke=\"black\" points=\"431.045,-48.3475 434.415,-38.3027 425.517,-44.0538 431.045,-48.3475\"/>\n",
       "</g>\n",
       "<!-- o140199632577872&#45;&gt;o94113337369376 -->\n",
       "<g id=\"edge12\" class=\"edge\"><title>o140199632577872&#45;&gt;o94113337369376</title>\n",
       "<path fill=\"none\" stroke=\"black\" d=\"M329.293,-147.849C337.705,-137.951 347.295,-125.074 353.236,-112 362.473,-91.6738 367.264,-66.7787 369.723,-48.0134\"/>\n",
       "<polygon fill=\"black\" stroke=\"black\" points=\"373.207,-48.3593 370.89,-38.0208 366.254,-47.5473 373.207,-48.3593\"/>\n",
       "</g>\n",
       "<!-- o140199632577872&#45;&gt;o94113337369344 -->\n",
       "<g id=\"edge13\" class=\"edge\"><title>o140199632577872&#45;&gt;o94113337369344</title>\n",
       "<path fill=\"none\" stroke=\"black\" d=\"M276.926,-148.748C261.407,-139.657 244.062,-127.215 232.236,-112 217.672,-93.2617 209.172,-67.5375 204.457,-48.0539\"/>\n",
       "<polygon fill=\"black\" stroke=\"black\" points=\"207.859,-47.23 202.268,-38.2304 201.026,-48.7522 207.859,-47.23\"/>\n",
       "</g>\n",
       "<!-- o94113337369440 -->\n",
       "<g id=\"node10\" class=\"node\"><title>o94113337369440</title>\n",
       "<polygon fill=\"#878787\" stroke=\"black\" points=\"327.236,-38 273.236,-38 273.236,-0 327.236,-0 327.236,-38\"/>\n",
       "<text text-anchor=\"middle\" x=\"300.236\" y=\"-22.8\" font-family=\"Times,serif\" font-size=\"14.00\">int</text>\n",
       "<text text-anchor=\"middle\" x=\"300.236\" y=\"-7.8\" font-family=\"Times,serif\" font-size=\"14.00\">4</text>\n",
       "</g>\n",
       "<!-- o140199634103984&#45;&gt;o94113337369440 -->\n",
       "<g id=\"edge14\" class=\"edge\"><title>o140199634103984&#45;&gt;o94113337369440</title>\n",
       "<path fill=\"none\" stroke=\"black\" d=\"M306.965,-73.8314C306.003,-66.131 304.858,-56.9743 303.789,-48.4166\"/>\n",
       "<polygon fill=\"black\" stroke=\"black\" points=\"307.251,-47.9019 302.538,-38.4133 300.306,-48.7702 307.251,-47.9019\"/>\n",
       "</g>\n",
       "<!-- o140199634103984&#45;&gt;o94113337369408 -->\n",
       "<g id=\"edge15\" class=\"edge\"><title>o140199634103984&#45;&gt;o94113337369408</title>\n",
       "<path fill=\"none\" stroke=\"black\" d=\"M344.312,-73.8314C365.049,-63.0898 391.256,-49.5148 412.165,-38.6844\"/>\n",
       "<polygon fill=\"black\" stroke=\"black\" points=\"413.795,-41.782 421.065,-34.0747 410.575,-35.5663 413.795,-41.782\"/>\n",
       "</g>\n",
       "<!-- o140199634103984&#45;&gt;o94113337369376 -->\n",
       "<g id=\"edge16\" class=\"edge\"><title>o140199634103984&#45;&gt;o94113337369376</title>\n",
       "<path fill=\"none\" stroke=\"black\" d=\"M325.134,-73.8314C332.464,-65.454 341.302,-55.3531 349.333,-46.1749\"/>\n",
       "<polygon fill=\"black\" stroke=\"black\" points=\"352.174,-48.2438 356.125,-38.4133 346.906,-43.6343 352.174,-48.2438\"/>\n",
       "</g>\n",
       "<!-- o140199634103984&#45;&gt;o94113337369344 -->\n",
       "<g id=\"edge17\" class=\"edge\"><title>o140199634103984&#45;&gt;o94113337369344</title>\n",
       "<path fill=\"none\" stroke=\"black\" d=\"M281.479,-73.8314C267.433,-64.6377 250.216,-53.3684 235.171,-43.5208\"/>\n",
       "<polygon fill=\"black\" stroke=\"black\" points=\"236.888,-40.4616 226.604,-37.9134 233.054,-46.3185 236.888,-40.4616\"/>\n",
       "</g>\n",
       "</g>\n",
       "</svg>\n"
      ],
      "text/plain": [
       "<graphviz.files.Source at 0x7f82c55724d0>"
      ]
     },
     "execution_count": 117,
     "metadata": {},
     "output_type": "execute_result"
    }
   ],
   "source": [
    "objgraph.show_refs([a,d,e])"
   ]
  },
  {
   "cell_type": "code",
   "execution_count": 118,
   "metadata": {
    "ExecuteTime": {
     "end_time": "2020-06-03T21:04:52.485576Z",
     "start_time": "2020-06-03T21:04:52.480363Z"
    }
   },
   "outputs": [
    {
     "name": "stdout",
     "output_type": "stream",
     "text": [
      "[1, 2, 3, [1, 2, 3, 4]]\n"
     ]
    }
   ],
   "source": [
    "print(e)"
   ]
  },
  {
   "cell_type": "markdown",
   "metadata": {
    "ExecuteTime": {
     "end_time": "2020-06-03T21:03:32.783366Z",
     "start_time": "2020-06-03T21:03:32.776955Z"
    }
   },
   "source": [
    "- `f = deepcopy(a)`是一种深拷贝，创建了一个全新的对象"
   ]
  },
  {
   "cell_type": "code",
   "execution_count": 119,
   "metadata": {
    "ExecuteTime": {
     "end_time": "2020-06-03T21:04:54.608338Z",
     "start_time": "2020-06-03T21:04:54.603677Z"
    }
   },
   "outputs": [
    {
     "name": "stdout",
     "output_type": "stream",
     "text": [
      "[1, 2, 3, [1, 2, 3]]\n"
     ]
    }
   ],
   "source": [
    "print(f)"
   ]
  },
  {
   "cell_type": "code",
   "execution_count": 120,
   "metadata": {
    "ExecuteTime": {
     "end_time": "2020-06-03T21:04:55.719031Z",
     "start_time": "2020-06-03T21:04:55.657916Z"
    },
    "scrolled": true
   },
   "outputs": [
    {
     "data": {
      "image/svg+xml": [
       "<?xml version=\"1.0\" encoding=\"UTF-8\" standalone=\"no\"?>\n",
       "<!DOCTYPE svg PUBLIC \"-//W3C//DTD SVG 1.1//EN\"\n",
       " \"http://www.w3.org/Graphics/SVG/1.1/DTD/svg11.dtd\">\n",
       "<!-- Generated by graphviz version 2.30.1 (20180420.1509)\n",
       " -->\n",
       "<!-- Title: ObjectGraph Pages: 1 -->\n",
       "<svg width=\"449pt\" height=\"194pt\"\n",
       " viewBox=\"0.00 0.00 448.80 194.00\" xmlns=\"http://www.w3.org/2000/svg\" xmlns:xlink=\"http://www.w3.org/1999/xlink\">\n",
       "<g id=\"graph0\" class=\"graph\" transform=\"scale(1 1) rotate(0) translate(4 190)\">\n",
       "<title>ObjectGraph</title>\n",
       "<polygon fill=\"white\" stroke=\"white\" points=\"-4,5 -4,-190 445.798,-190 445.798,5 -4,5\"/>\n",
       "<!-- o140199632530800 -->\n",
       "<g id=\"node1\" class=\"node\"><title>o140199632530800</title>\n",
       "<polygon fill=\"#ffffff\" stroke=\"black\" points=\"150.072,-186 80.0723,-186 80.0723,-148 150.072,-148 150.072,-186\"/>\n",
       "<text text-anchor=\"middle\" x=\"115.072\" y=\"-170.8\" font-family=\"Times,serif\" font-size=\"14.00\" fill=\"red\">list</text>\n",
       "<text text-anchor=\"middle\" x=\"115.072\" y=\"-155.8\" font-family=\"Times,serif\" font-size=\"14.00\" fill=\"red\">5 items</text>\n",
       "</g>\n",
       "<!-- o94113337369472 -->\n",
       "<g id=\"node3\" class=\"node\"><title>o94113337369472</title>\n",
       "<polygon fill=\"#c3c3c3\" stroke=\"black\" points=\"142.072,-112 88.0723,-112 88.0723,-74 142.072,-74 142.072,-112\"/>\n",
       "<text text-anchor=\"middle\" x=\"115.072\" y=\"-96.8\" font-family=\"Times,serif\" font-size=\"14.00\">int</text>\n",
       "<text text-anchor=\"middle\" x=\"115.072\" y=\"-81.8\" font-family=\"Times,serif\" font-size=\"14.00\">5</text>\n",
       "</g>\n",
       "<!-- o140199632530800&#45;&gt;o94113337369472 -->\n",
       "<g id=\"edge1\" class=\"edge\"><title>o140199632530800&#45;&gt;o94113337369472</title>\n",
       "<path fill=\"none\" stroke=\"black\" d=\"M115.072,-147.831C115.072,-140.131 115.072,-130.974 115.072,-122.417\"/>\n",
       "<polygon fill=\"black\" stroke=\"black\" points=\"118.572,-122.413 115.072,-112.413 111.572,-122.413 118.572,-122.413\"/>\n",
       "</g>\n",
       "<!-- o140199634103984 -->\n",
       "<g id=\"node4\" class=\"node\"><title>o140199634103984</title>\n",
       "<polygon fill=\"#c3c3c3\" stroke=\"black\" points=\"268.072,-112 198.072,-112 198.072,-74 268.072,-74 268.072,-112\"/>\n",
       "<text text-anchor=\"middle\" x=\"233.072\" y=\"-96.8\" font-family=\"Times,serif\" font-size=\"14.00\">list</text>\n",
       "<text text-anchor=\"middle\" x=\"233.072\" y=\"-81.8\" font-family=\"Times,serif\" font-size=\"14.00\">4 items</text>\n",
       "</g>\n",
       "<!-- o140199632530800&#45;&gt;o140199634103984 -->\n",
       "<g id=\"edge2\" class=\"edge\"><title>o140199632530800&#45;&gt;o140199634103984</title>\n",
       "<path fill=\"none\" stroke=\"black\" d=\"M144.849,-147.831C159.942,-138.622 178.448,-127.33 194.607,-117.471\"/>\n",
       "<polygon fill=\"black\" stroke=\"black\" points=\"196.592,-120.359 203.305,-112.163 192.946,-114.384 196.592,-120.359\"/>\n",
       "</g>\n",
       "<!-- o94113337369536 -->\n",
       "<g id=\"node5\" class=\"node\"><title>o94113337369536</title>\n",
       "<polygon fill=\"#c3c3c3\" stroke=\"black\" points=\"70.0723,-112 16.0723,-112 16.0723,-74 70.0723,-74 70.0723,-112\"/>\n",
       "<text text-anchor=\"middle\" x=\"43.0723\" y=\"-96.8\" font-family=\"Times,serif\" font-size=\"14.00\">int</text>\n",
       "<text text-anchor=\"middle\" x=\"43.0723\" y=\"-81.8\" font-family=\"Times,serif\" font-size=\"14.00\">7</text>\n",
       "</g>\n",
       "<!-- o140199632530800&#45;&gt;o94113337369536 -->\n",
       "<g id=\"edge3\" class=\"edge\"><title>o140199632530800&#45;&gt;o94113337369536</title>\n",
       "<path fill=\"none\" stroke=\"black\" d=\"M96.9037,-147.831C88.3571,-139.285 78.0166,-128.944 68.6921,-119.62\"/>\n",
       "<polygon fill=\"black\" stroke=\"black\" points=\"71.0316,-117.009 61.4856,-112.413 66.0818,-121.959 71.0316,-117.009\"/>\n",
       "</g>\n",
       "<!-- o94113337369376 -->\n",
       "<g id=\"node6\" class=\"node\"><title>o94113337369376</title>\n",
       "<polygon fill=\"#c3c3c3\" stroke=\"black\" points=\"336.072,-38 282.072,-38 282.072,-0 336.072,-0 336.072,-38\"/>\n",
       "<text text-anchor=\"middle\" x=\"309.072\" y=\"-22.8\" font-family=\"Times,serif\" font-size=\"14.00\">int</text>\n",
       "<text text-anchor=\"middle\" x=\"309.072\" y=\"-7.8\" font-family=\"Times,serif\" font-size=\"14.00\">2</text>\n",
       "</g>\n",
       "<!-- o140199632530800&#45;&gt;o94113337369376 -->\n",
       "<g id=\"edge4\" class=\"edge\"><title>o140199632530800&#45;&gt;o94113337369376</title>\n",
       "<path fill=\"none\" stroke=\"black\" d=\"M150.397,-163.195C186.754,-158.479 242.787,-145.843 277.072,-112 294.29,-95.0044 302.258,-68.2728 305.936,-47.9946\"/>\n",
       "<polygon fill=\"black\" stroke=\"black\" points=\"309.402,-48.4863 307.496,-38.0644 302.487,-47.4004 309.402,-48.4863\"/>\n",
       "</g>\n",
       "<!-- o94113337369344 -->\n",
       "<g id=\"node7\" class=\"node\"><title>o94113337369344</title>\n",
       "<polygon fill=\"#c3c3c3\" stroke=\"black\" points=\"192.072,-38 138.072,-38 138.072,-0 192.072,-0 192.072,-38\"/>\n",
       "<text text-anchor=\"middle\" x=\"165.072\" y=\"-22.8\" font-family=\"Times,serif\" font-size=\"14.00\">int</text>\n",
       "<text text-anchor=\"middle\" x=\"165.072\" y=\"-7.8\" font-family=\"Times,serif\" font-size=\"14.00\">1</text>\n",
       "</g>\n",
       "<!-- o140199632530800&#45;&gt;o94113337369344 -->\n",
       "<g id=\"edge5\" class=\"edge\"><title>o140199632530800&#45;&gt;o94113337369344</title>\n",
       "<path fill=\"none\" stroke=\"black\" d=\"M79.9956,-158.706C54.9073,-151.458 22.8874,-137.589 7.07232,-112 -1.8067,-97.6335 -2.75082,-87.7383 7.07232,-74 34.428,-35.7414 90.5728,-24.2872 128.027,-21.0289\"/>\n",
       "<polygon fill=\"black\" stroke=\"black\" points=\"128.331,-24.5162 138.056,-20.3118 127.832,-17.534 128.331,-24.5162\"/>\n",
       "</g>\n",
       "<!-- o140199632889008 -->\n",
       "<g id=\"node2\" class=\"node\"><title>o140199632889008</title>\n",
       "<polygon fill=\"#ffffff\" stroke=\"black\" points=\"425.072,-186 355.072,-186 355.072,-148 425.072,-148 425.072,-186\"/>\n",
       "<text text-anchor=\"middle\" x=\"390.072\" y=\"-170.8\" font-family=\"Times,serif\" font-size=\"14.00\" fill=\"red\">list</text>\n",
       "<text text-anchor=\"middle\" x=\"390.072\" y=\"-155.8\" font-family=\"Times,serif\" font-size=\"14.00\" fill=\"red\">4 items</text>\n",
       "</g>\n",
       "<!-- o140199821337376 -->\n",
       "<g id=\"node8\" class=\"node\"><title>o140199821337376</title>\n",
       "<polygon fill=\"#c3c3c3\" stroke=\"black\" points=\"394.072,-112 324.072,-112 324.072,-74 394.072,-74 394.072,-112\"/>\n",
       "<text text-anchor=\"middle\" x=\"359.072\" y=\"-96.8\" font-family=\"Times,serif\" font-size=\"14.00\">list</text>\n",
       "<text text-anchor=\"middle\" x=\"359.072\" y=\"-81.8\" font-family=\"Times,serif\" font-size=\"14.00\">3 items</text>\n",
       "</g>\n",
       "<!-- o140199632889008&#45;&gt;o140199821337376 -->\n",
       "<g id=\"edge6\" class=\"edge\"><title>o140199632889008&#45;&gt;o140199821337376</title>\n",
       "<path fill=\"none\" stroke=\"black\" d=\"M382.25,-147.831C378.861,-139.962 374.818,-130.571 371.065,-121.853\"/>\n",
       "<polygon fill=\"black\" stroke=\"black\" points=\"374.17,-120.214 367,-112.413 367.74,-122.982 374.17,-120.214\"/>\n",
       "</g>\n",
       "<!-- o94113337369408 -->\n",
       "<g id=\"node9\" class=\"node\"><title>o94113337369408</title>\n",
       "<polygon fill=\"#c3c3c3\" stroke=\"black\" points=\"408.072,-38 354.072,-38 354.072,-0 408.072,-0 408.072,-38\"/>\n",
       "<text text-anchor=\"middle\" x=\"381.072\" y=\"-22.8\" font-family=\"Times,serif\" font-size=\"14.00\">int</text>\n",
       "<text text-anchor=\"middle\" x=\"381.072\" y=\"-7.8\" font-family=\"Times,serif\" font-size=\"14.00\">3</text>\n",
       "</g>\n",
       "<!-- o140199632889008&#45;&gt;o94113337369408 -->\n",
       "<g id=\"edge7\" class=\"edge\"><title>o140199632889008&#45;&gt;o94113337369408</title>\n",
       "<path fill=\"none\" stroke=\"black\" d=\"M411.385,-147.731C420.886,-138.176 431.051,-125.637 436.072,-112 441.908,-96.1512 442.607,-89.5735 436.072,-74 431.467,-63.0247 423.423,-53.1573 414.885,-44.9529\"/>\n",
       "<polygon fill=\"black\" stroke=\"black\" points=\"417.113,-42.2497 407.329,-38.1849 412.442,-47.464 417.113,-42.2497\"/>\n",
       "</g>\n",
       "<!-- o140199632889008&#45;&gt;o94113337369376 -->\n",
       "<g id=\"edge8\" class=\"edge\"><title>o140199632889008&#45;&gt;o94113337369376</title>\n",
       "<path fill=\"none\" stroke=\"black\" d=\"M399.037,-147.766C407.262,-128.213 416.324,-96.8961 403.072,-74 399.672,-68.1245 370.246,-51.7191 345.21,-38.5194\"/>\n",
       "<polygon fill=\"black\" stroke=\"black\" points=\"346.725,-35.3617 336.242,-33.8268 343.48,-41.5641 346.725,-35.3617\"/>\n",
       "</g>\n",
       "<!-- o140199632889008&#45;&gt;o94113337369344 -->\n",
       "<g id=\"edge9\" class=\"edge\"><title>o140199632889008&#45;&gt;o94113337369344</title>\n",
       "<path fill=\"none\" stroke=\"black\" d=\"M355.05,-166.662C310.306,-165.53 233.367,-156.619 189.072,-112 172.511,-95.3179 166.949,-68.7269 165.273,-48.4132\"/>\n",
       "<polygon fill=\"black\" stroke=\"black\" points=\"168.753,-47.9538 164.705,-38.1629 161.763,-48.3413 168.753,-47.9538\"/>\n",
       "</g>\n",
       "<!-- o94113337369440 -->\n",
       "<g id=\"node10\" class=\"node\"><title>o94113337369440</title>\n",
       "<polygon fill=\"#878787\" stroke=\"black\" points=\"264.072,-38 210.072,-38 210.072,-0 264.072,-0 264.072,-38\"/>\n",
       "<text text-anchor=\"middle\" x=\"237.072\" y=\"-22.8\" font-family=\"Times,serif\" font-size=\"14.00\">int</text>\n",
       "<text text-anchor=\"middle\" x=\"237.072\" y=\"-7.8\" font-family=\"Times,serif\" font-size=\"14.00\">4</text>\n",
       "</g>\n",
       "<!-- o140199634103984&#45;&gt;o94113337369440 -->\n",
       "<g id=\"edge10\" class=\"edge\"><title>o140199634103984&#45;&gt;o94113337369440</title>\n",
       "<path fill=\"none\" stroke=\"black\" d=\"M234.082,-73.8314C234.509,-66.131 235.018,-56.9743 235.494,-48.4166\"/>\n",
       "<polygon fill=\"black\" stroke=\"black\" points=\"238.989,-48.592 236.049,-38.4133 232,-48.2037 238.989,-48.592\"/>\n",
       "</g>\n",
       "<!-- o140199634103984&#45;&gt;o94113337369408 -->\n",
       "<g id=\"edge11\" class=\"edge\"><title>o140199634103984&#45;&gt;o94113337369408</title>\n",
       "<path fill=\"none\" stroke=\"black\" d=\"M268.446,-75.1052C288.534,-65.4744 314.344,-53.0412 344.809,-38.1022\"/>\n",
       "<polygon fill=\"black\" stroke=\"black\" points=\"346.533,-41.155 353.966,-33.6052 343.447,-34.8718 346.533,-41.155\"/>\n",
       "</g>\n",
       "<!-- o140199634103984&#45;&gt;o94113337369376 -->\n",
       "<g id=\"edge12\" class=\"edge\"><title>o140199634103984&#45;&gt;o94113337369376</title>\n",
       "<path fill=\"none\" stroke=\"black\" d=\"M252.25,-73.8314C261.431,-65.1337 272.573,-54.5783 282.55,-45.1265\"/>\n",
       "<polygon fill=\"black\" stroke=\"black\" points=\"285.048,-47.5811 289.9,-38.1628 280.234,-42.4995 285.048,-47.5811\"/>\n",
       "</g>\n",
       "<!-- o140199634103984&#45;&gt;o94113337369344 -->\n",
       "<g id=\"edge13\" class=\"edge\"><title>o140199634103984&#45;&gt;o94113337369344</title>\n",
       "<path fill=\"none\" stroke=\"black\" d=\"M215.913,-73.8314C207.921,-65.3694 198.269,-55.1489 189.531,-45.8971\"/>\n",
       "<polygon fill=\"black\" stroke=\"black\" points=\"191.873,-43.2802 182.463,-38.4133 186.784,-48.0866 191.873,-43.2802\"/>\n",
       "</g>\n",
       "<!-- o140199821337376&#45;&gt;o94113337369408 -->\n",
       "<g id=\"edge14\" class=\"edge\"><title>o140199821337376&#45;&gt;o94113337369408</title>\n",
       "<path fill=\"none\" stroke=\"black\" d=\"M364.624,-73.8314C367.003,-66.0463 369.836,-56.7729 372.476,-48.1347\"/>\n",
       "<polygon fill=\"black\" stroke=\"black\" points=\"375.871,-48.9996 375.446,-38.4133 369.177,-46.954 375.871,-48.9996\"/>\n",
       "</g>\n",
       "<!-- o140199821337376&#45;&gt;o94113337369376 -->\n",
       "<g id=\"edge15\" class=\"edge\"><title>o140199821337376&#45;&gt;o94113337369376</title>\n",
       "<path fill=\"none\" stroke=\"black\" d=\"M346.455,-73.8314C340.755,-65.6232 333.906,-55.7606 327.636,-46.7323\"/>\n",
       "<polygon fill=\"black\" stroke=\"black\" points=\"330.438,-44.6306 321.859,-38.4133 324.689,-48.6234 330.438,-44.6306\"/>\n",
       "</g>\n",
       "<!-- o140199821337376&#45;&gt;o94113337369344 -->\n",
       "<g id=\"edge16\" class=\"edge\"><title>o140199821337376&#45;&gt;o94113337369344</title>\n",
       "<path fill=\"none\" stroke=\"black\" d=\"M324.052,-81.519C293.72,-72.1146 248.6,-57.345 201.793,-38.0614\"/>\n",
       "<polygon fill=\"black\" stroke=\"black\" points=\"202.989,-34.7681 192.413,-34.1448 200.292,-41.2277 202.989,-34.7681\"/>\n",
       "</g>\n",
       "</g>\n",
       "</svg>\n"
      ],
      "text/plain": [
       "<graphviz.files.Source at 0x7f82c5578d10>"
      ]
     },
     "execution_count": 120,
     "metadata": {},
     "output_type": "execute_result"
    }
   ],
   "source": [
    "objgraph.show_refs([a,f])"
   ]
  },
  {
   "cell_type": "code",
   "execution_count": 121,
   "metadata": {
    "ExecuteTime": {
     "end_time": "2020-06-03T21:22:07.689289Z",
     "start_time": "2020-06-03T21:22:07.684819Z"
    }
   },
   "outputs": [
    {
     "data": {
      "text/plain": [
       "False"
      ]
     },
     "execution_count": 121,
     "metadata": {},
     "output_type": "execute_result"
    }
   ],
   "source": [
    "False and True or False"
   ]
  },
  {
   "cell_type": "code",
   "execution_count": 126,
   "metadata": {
    "ExecuteTime": {
     "end_time": "2020-06-03T21:24:41.754869Z",
     "start_time": "2020-06-03T21:24:41.751415Z"
    }
   },
   "outputs": [],
   "source": [
    "x = 5"
   ]
  },
  {
   "cell_type": "code",
   "execution_count": 129,
   "metadata": {
    "ExecuteTime": {
     "end_time": "2020-06-03T21:25:05.190042Z",
     "start_time": "2020-06-03T21:25:05.185054Z"
    }
   },
   "outputs": [
    {
     "ename": "SyntaxError",
     "evalue": "invalid syntax (<ipython-input-129-2dfb02b96a33>, line 1)",
     "output_type": "error",
     "traceback": [
      "\u001b[0;36m  File \u001b[0;32m\"<ipython-input-129-2dfb02b96a33>\"\u001b[0;36m, line \u001b[0;32m1\u001b[0m\n\u001b[0;31m    +@x\u001b[0m\n\u001b[0m     ^\u001b[0m\n\u001b[0;31mSyntaxError\u001b[0m\u001b[0;31m:\u001b[0m invalid syntax\n"
     ]
    }
   ],
   "source": [
    "+@x"
   ]
  },
  {
   "cell_type": "code",
   "execution_count": 128,
   "metadata": {
    "ExecuteTime": {
     "end_time": "2020-06-03T21:24:45.693441Z",
     "start_time": "2020-06-03T21:24:45.684827Z"
    }
   },
   "outputs": [
    {
     "data": {
      "text/plain": [
       "5"
      ]
     },
     "execution_count": 128,
     "metadata": {},
     "output_type": "execute_result"
    }
   ],
   "source": [
    "x"
   ]
  },
  {
   "cell_type": "code",
   "execution_count": null,
   "metadata": {},
   "outputs": [],
   "source": []
  }
 ],
 "metadata": {
  "kernelspec": {
   "display_name": "Python 3",
   "language": "python",
   "name": "python3"
  },
  "toc": {
   "base_numbering": 1,
   "nav_menu": {},
   "number_sections": false,
   "sideBar": true,
   "skip_h1_title": false,
   "title_cell": "Table of Contents",
   "title_sidebar": "Contents",
   "toc_cell": false,
   "toc_position": {},
   "toc_section_display": true,
   "toc_window_display": true
  }
 },
 "nbformat": 4,
 "nbformat_minor": 4
}
