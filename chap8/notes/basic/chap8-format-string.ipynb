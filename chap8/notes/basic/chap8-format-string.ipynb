{
 "cells": [
  {
   "cell_type": "markdown",
   "metadata": {},
   "source": [
    "# 格式化字符串输出的几种方式\n",
    "___"
   ]
  },
  {
   "cell_type": "markdown",
   "metadata": {},
   "source": [
    "## 方式1：%"
   ]
  },
  {
   "cell_type": "markdown",
   "metadata": {},
   "source": [
    "这大概是最古老、最基本的一种方式了，从Python创建开始就有的方式："
   ]
  },
  {
   "cell_type": "code",
   "execution_count": 2,
   "metadata": {},
   "outputs": [
    {
     "name": "stdout",
     "output_type": "stream",
     "text": [
      "Bill Gates\n"
     ]
    }
   ],
   "source": [
    "firstName = \"Bill\"\n",
    "lastName = \"Gates\"\n",
    "print(\"%s %s\" %(firstName, lastName))"
   ]
  },
  {
   "cell_type": "markdown",
   "metadata": {},
   "source": [
    "格式化字符串时，所使用的的`%s`、`%d`、`%f`与C语言类似，之后用`%`连接一个tuple，对应字符串中的每个占位符的实参。\n",
    "\n",
    "常用的格式化字符串有：\n",
    "```\n",
    "%%\t      在字符串中显示%\n",
    "%d\t      十进制整数方式输出\n",
    "%f\t      十进制浮点数方式输出\n",
    "%e,%E\t   采用科学计数法输出十进制浮点数\n",
    "%o\t      八进制整数方式输出\n",
    "%x,%X\t   十六进制整数方式输出\n",
    "%s\t      以str()的方式输出\n",
    "%c\t      以字符形式输出\n",
    "%r\t      以repr()的方式输出\n",
    "```"
   ]
  },
  {
   "cell_type": "markdown",
   "metadata": {},
   "source": [
    "还可以指定输出的宽度、精度和对齐方式："
   ]
  },
  {
   "cell_type": "code",
   "execution_count": 21,
   "metadata": {},
   "outputs": [
    {
     "name": "stdout",
     "output_type": "stream",
     "text": [
      "float:       3.14.\n",
      "float: 3.14      .\n"
     ]
    }
   ],
   "source": [
    "print(\"float: %10.2f.\" % 3.141)\n",
    "print(\"float: %-10.2f.\" % 3.141)"
   ]
  },
  {
   "cell_type": "markdown",
   "metadata": {},
   "source": [
    "## 方式2：format"
   ]
  },
  {
   "cell_type": "markdown",
   "metadata": {},
   "source": [
    "这种方式是利用了字符串的`format()`方法实现的："
   ]
  },
  {
   "cell_type": "code",
   "execution_count": 3,
   "metadata": {},
   "outputs": [
    {
     "name": "stdout",
     "output_type": "stream",
     "text": [
      "Bill Gates\n"
     ]
    }
   ],
   "source": [
    "print(\"{first} {last}\".format(first=firstName, last=lastName))"
   ]
  },
  {
   "cell_type": "markdown",
   "metadata": {},
   "source": [
    "可以引入tuple和dict："
   ]
  },
  {
   "cell_type": "code",
   "execution_count": 5,
   "metadata": {},
   "outputs": [
    {
     "name": "stdout",
     "output_type": "stream",
     "text": [
      "My name is Bill Gates\n"
     ]
    }
   ],
   "source": [
    "name = (\"Bill\", \"Gates\")\n",
    "print(\"My name is {0} {1}\".format(*name))"
   ]
  },
  {
   "cell_type": "code",
   "execution_count": 6,
   "metadata": {},
   "outputs": [
    {
     "name": "stdout",
     "output_type": "stream",
     "text": [
      "My name is Bill Gates\n"
     ]
    }
   ],
   "source": [
    "name = {\"first\":\"Bill\", \"last\":\"Gates\"}\n",
    "print(\"My name is {first} {last}\".format(**name))"
   ]
  },
  {
   "cell_type": "markdown",
   "metadata": {},
   "source": [
    "这种方式同样可以设置类型和宽度、精度："
   ]
  },
  {
   "cell_type": "code",
   "execution_count": 37,
   "metadata": {},
   "outputs": [
    {
     "name": "stdout",
     "output_type": "stream",
     "text": [
      "My number:      12.31.\n"
     ]
    }
   ],
   "source": [
    "number = 12.314\n",
    "print(\"My number: {num:10.2f}.\".format(num=number))"
   ]
  },
  {
   "cell_type": "markdown",
   "metadata": {},
   "source": [
    "## 方式3：f-string"
   ]
  },
  {
   "cell_type": "markdown",
   "metadata": {},
   "source": [
    "f-string源自PEP-498提案："
   ]
  },
  {
   "cell_type": "code",
   "execution_count": 7,
   "metadata": {},
   "outputs": [
    {
     "name": "stdout",
     "output_type": "stream",
     "text": [
      "My name is Bill Gates\n"
     ]
    }
   ],
   "source": [
    "print(f'My name is {firstName} {lastName}')"
   ]
  },
  {
   "cell_type": "markdown",
   "metadata": {},
   "source": [
    "- 单行格式为`f'{var}'`，`f\"{var}\"`\n",
    "- 多行的可用`f\"\"\"{var}\"\"\"`、`f'''{var}'''`"
   ]
  },
  {
   "cell_type": "markdown",
   "metadata": {},
   "source": [
    "- 甚至可以在其中调用lambda函数"
   ]
  },
  {
   "cell_type": "code",
   "execution_count": 10,
   "metadata": {},
   "outputs": [
    {
     "name": "stdout",
     "output_type": "stream",
     "text": [
      "My number is a\n",
      "\tlucky number\n"
     ]
    }
   ],
   "source": [
    "myNumber = 3\n",
    "print(f'''My number is a\n",
    "\\t{(lambda n: \"lucky\" if n%3 == 0 else \"unlucky\")(myNumber)} number.''')"
   ]
  },
  {
   "cell_type": "markdown",
   "metadata": {},
   "source": [
    "- 需要注意的是，须将`lambda`函数包含在`()`之中，其调用的参数也得另起一个`()`"
   ]
  },
  {
   "cell_type": "code",
   "execution_count": 11,
   "metadata": {},
   "outputs": [
    {
     "name": "stdout",
     "output_type": "stream",
     "text": [
      "My number is a\n",
      "\tlucky number.\n"
     ]
    }
   ],
   "source": [
    "print(f\"\"\"My number is a\n",
    "\\t{(lambda n: \"lucky\" if n%3 == 0 else \"unlucky\")(myNumber)} number.\"\"\")"
   ]
  },
  {
   "cell_type": "markdown",
   "metadata": {},
   "source": [
    "- 还可以对其转换显示方式："
   ]
  },
  {
   "cell_type": "code",
   "execution_count": 15,
   "metadata": {},
   "outputs": [
    {
     "name": "stdout",
     "output_type": "stream",
     "text": [
      "The time now is 2020-06-07 01:02:37.047373.\n",
      "The time now is datetime.datetime(2020, 6, 7, 1, 2, 37, 47514).\n"
     ]
    }
   ],
   "source": [
    "import datetime\n",
    "print(f'The time now is {datetime.datetime.now()}.')\n",
    "print(f'The time now is {datetime.datetime.now()!r}.')"
   ]
  },
  {
   "cell_type": "markdown",
   "metadata": {},
   "source": [
    "那么，这里的`!r`是什么意思？这是转换显示方式的选项"
   ]
  },
  {
   "cell_type": "markdown",
   "metadata": {},
   "source": [
    "- 转换显示方式的格式有几种：\n",
    "  * `!a`：调用`ascii()`函数显示结果；\n",
    "  * `!r`：调用`repr()`函数显示结果；\n",
    "  * `!s`：调用`str()`函数显示结果。"
   ]
  },
  {
   "cell_type": "markdown",
   "metadata": {},
   "source": [
    "在上面的例子中，很显然默认的情况下显示的是`!s`"
   ]
  },
  {
   "cell_type": "code",
   "execution_count": 14,
   "metadata": {},
   "outputs": [
    {
     "data": {
      "text/plain": [
       "'datetime.datetime(2020, 6, 7, 1, 2, 14, 45620)'"
      ]
     },
     "execution_count": 14,
     "metadata": {},
     "output_type": "execute_result"
    }
   ],
   "source": [
    "ascii(datetime.datetime.now())"
   ]
  },
  {
   "cell_type": "code",
   "execution_count": 16,
   "metadata": {},
   "outputs": [
    {
     "data": {
      "text/plain": [
       "'datetime.datetime(2020, 6, 7, 1, 2, 50, 974488)'"
      ]
     },
     "execution_count": 16,
     "metadata": {},
     "output_type": "execute_result"
    }
   ],
   "source": [
    "repr(datetime.datetime.now())"
   ]
  },
  {
   "cell_type": "code",
   "execution_count": 17,
   "metadata": {},
   "outputs": [
    {
     "data": {
      "text/plain": [
       "'2020-06-07 01:03:02.631900'"
      ]
     },
     "execution_count": 17,
     "metadata": {},
     "output_type": "execute_result"
    }
   ],
   "source": [
    "str(datetime.datetime.now())"
   ]
  },
  {
   "cell_type": "markdown",
   "metadata": {},
   "source": [
    "同样可以设置宽度和精度："
   ]
  },
  {
   "cell_type": "code",
   "execution_count": 22,
   "metadata": {},
   "outputs": [],
   "source": [
    "import math"
   ]
  },
  {
   "cell_type": "code",
   "execution_count": 26,
   "metadata": {},
   "outputs": [
    {
     "name": "stdout",
     "output_type": "stream",
     "text": [
      "PI:       3.14.\n"
     ]
    }
   ],
   "source": [
    "width = 10\n",
    "prec = 3\n",
    "print(f'PI: {math.pi:{width}.{prec}}.')"
   ]
  },
  {
   "cell_type": "markdown",
   "metadata": {},
   "source": [
    "但是，后面两种方式要特别注意如果在字符串中出现了`{`，可能要小心使用："
   ]
  },
  {
   "cell_type": "code",
   "execution_count": 32,
   "metadata": {},
   "outputs": [
    {
     "ename": "ValueError",
     "evalue": "expected '}' before end of string",
     "output_type": "error",
     "traceback": [
      "\u001b[0;31m---------------------------------------------------------------------------\u001b[0m",
      "\u001b[0;31mValueError\u001b[0m                                Traceback (most recent call last)",
      "\u001b[0;32m<ipython-input-32-9ce7afe951c7>\u001b[0m in \u001b[0;36m<module>\u001b[0;34m\u001b[0m\n\u001b[1;32m      1\u001b[0m \u001b[0mname\u001b[0m \u001b[0;34m=\u001b[0m \u001b[0;34m\"Bill Gates\"\u001b[0m\u001b[0;34m\u001b[0m\u001b[0;34m\u001b[0m\u001b[0m\n\u001b[0;32m----> 2\u001b[0;31m \u001b[0mprint\u001b[0m\u001b[0;34m(\u001b[0m\u001b[0;34m\"I have {name} and { in my name.\"\u001b[0m\u001b[0;34m.\u001b[0m\u001b[0mformat\u001b[0m\u001b[0;34m(\u001b[0m\u001b[0mname\u001b[0m\u001b[0;34m=\u001b[0m\u001b[0mname\u001b[0m\u001b[0;34m)\u001b[0m\u001b[0;34m)\u001b[0m\u001b[0;34m\u001b[0m\u001b[0;34m\u001b[0m\u001b[0m\n\u001b[0m",
      "\u001b[0;31mValueError\u001b[0m: expected '}' before end of string"
     ]
    }
   ],
   "source": [
    "name = \"Bill Gates\"\n",
    "print(\"I have {name} and { in my name.\".format(name=name))"
   ]
  },
  {
   "cell_type": "markdown",
   "metadata": {},
   "source": [
    "需要更改为"
   ]
  },
  {
   "cell_type": "code",
   "execution_count": 40,
   "metadata": {},
   "outputs": [
    {
     "name": "stdout",
     "output_type": "stream",
     "text": [
      "I have Bill Gates and { in my string.\n"
     ]
    }
   ],
   "source": [
    "print(\"I have {name} and {{ in my string.\".format(name=name))"
   ]
  }
 ],
 "metadata": {
  "kernelspec": {
   "display_name": "Python 3",
   "language": "python",
   "name": "python3"
  },
  "language_info": {
   "codemirror_mode": {
    "name": "ipython",
    "version": 3
   },
   "file_extension": ".py",
   "mimetype": "text/x-python",
   "name": "python",
   "nbconvert_exporter": "python",
   "pygments_lexer": "ipython3",
   "version": "3.7.6"
  },
  "toc": {
   "base_numbering": 1,
   "nav_menu": {},
   "number_sections": false,
   "sideBar": true,
   "skip_h1_title": false,
   "title_cell": "Table of Contents",
   "title_sidebar": "Contents",
   "toc_cell": false,
   "toc_position": {},
   "toc_section_display": true,
   "toc_window_display": true
  }
 },
 "nbformat": 4,
 "nbformat_minor": 4
}
