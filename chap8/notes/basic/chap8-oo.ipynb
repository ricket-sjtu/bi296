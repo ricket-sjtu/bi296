{
 "cells": [
  {
   "cell_type": "markdown",
   "metadata": {},
   "source": [
    "## 5. 面向对象编程Object-oriented programming\n",
    "- 在Python中，一切都是对象\n",
    "- 定义类的时候的关键词是class，object为所有类的**基类（Base class）**\n",
    "- `__init__(self, *args)`是类的**初始化函数（Initializer）**；\n",
    "- `__new__(cls, *args)`才是类的**构造函数（constructor）**\n",
    "- 所有以`__`开头的变量和方法都是类的**私有变量和私有方法（private）**，只能在类内部访问\n",
    "- 方法定义的时候用**装饰器（Decorator）**可以声明**类方法（`@classmethod`）和静态方法（`@staticmethod`）**\n",
    "- 普通的方法是**成员方法**或**成员方法**。\n",
    "- 包裹在`__`和`__`之间的方法为**魔术方法**，一般都有特殊的含义：\n",
    "  * `__repr__()`和`__str__()`两种方法有什么差异？\n",
    "- 要获得实例`a`的所有属性，用`a.__dict__`\n",
    "- 要获得实例`a`的所有属性和方法，用`dir(a)`"
   ]
  },
  {
   "cell_type": "markdown",
   "metadata": {},
   "source": [
    "### 5.1 类的定义和实例化"
   ]
  },
  {
   "cell_type": "code",
   "execution_count": 8,
   "metadata": {},
   "outputs": [],
   "source": [
    "class MyClass(object):\n",
    "    num = 10                ########################## 静态变量，全局变量\n",
    "    \n",
    "    def __init__(self, val):\n",
    "        self.__val = val    ########################## 实例变量，且private\n",
    "        \n",
    "    def __display(self, s):\n",
    "        print(\"{0}:{1}\".format(s, self.__val))\n",
    "        \n",
    "    def display(self, s):\n",
    "        self.__display(s)"
   ]
  },
  {
   "cell_type": "code",
   "execution_count": 9,
   "metadata": {},
   "outputs": [
    {
     "name": "stdout",
     "output_type": "stream",
     "text": [
      "Yesterday:5\n"
     ]
    }
   ],
   "source": [
    "inst = MyClass(5)\n",
    "inst.display(\"Yesterday\")"
   ]
  },
  {
   "cell_type": "code",
   "execution_count": 10,
   "metadata": {},
   "outputs": [
    {
     "ename": "AttributeError",
     "evalue": "'MyClass' object has no attribute '__val'",
     "output_type": "error",
     "traceback": [
      "\u001b[0;31m---------------------------------------------------------------------------\u001b[0m",
      "\u001b[0;31mAttributeError\u001b[0m                            Traceback (most recent call last)",
      "\u001b[0;32m<ipython-input-10-69f76b10ca01>\u001b[0m in \u001b[0;36m<module>\u001b[0;34m\u001b[0m\n\u001b[0;32m----> 1\u001b[0;31m \u001b[0mprint\u001b[0m\u001b[0;34m(\u001b[0m\u001b[0minst\u001b[0m\u001b[0;34m.\u001b[0m\u001b[0m__val\u001b[0m\u001b[0;34m)\u001b[0m\u001b[0;34m\u001b[0m\u001b[0;34m\u001b[0m\u001b[0m\n\u001b[0m",
      "\u001b[0;31mAttributeError\u001b[0m: 'MyClass' object has no attribute '__val'"
     ]
    }
   ],
   "source": [
    "print(inst.__val)"
   ]
  },
  {
   "cell_type": "code",
   "execution_count": 11,
   "metadata": {},
   "outputs": [
    {
     "ename": "AttributeError",
     "evalue": "'MyClass' object has no attribute '__display'",
     "output_type": "error",
     "traceback": [
      "\u001b[0;31m---------------------------------------------------------------------------\u001b[0m",
      "\u001b[0;31mAttributeError\u001b[0m                            Traceback (most recent call last)",
      "\u001b[0;32m<ipython-input-11-df67e5f6a84c>\u001b[0m in \u001b[0;36m<module>\u001b[0;34m\u001b[0m\n\u001b[0;32m----> 1\u001b[0;31m \u001b[0minst\u001b[0m\u001b[0;34m.\u001b[0m\u001b[0m__display\u001b[0m\u001b[0;34m(\u001b[0m\u001b[0;34m\"Yesterday\"\u001b[0m\u001b[0;34m)\u001b[0m\u001b[0;34m\u001b[0m\u001b[0;34m\u001b[0m\u001b[0m\n\u001b[0m",
      "\u001b[0;31mAttributeError\u001b[0m: 'MyClass' object has no attribute '__display'"
     ]
    }
   ],
   "source": [
    "inst.__display(\"Yesterday\")"
   ]
  },
  {
   "cell_type": "markdown",
   "metadata": {},
   "source": [
    "Python并没有真正实现类的私有变量，实际上，我们可以通过`_ClassName__varname`或者`_ClassName__methodname()`访问所谓的私有变量或方法："
   ]
  },
  {
   "cell_type": "code",
   "execution_count": 13,
   "metadata": {},
   "outputs": [
    {
     "name": "stdout",
     "output_type": "stream",
     "text": [
      "5\n"
     ]
    }
   ],
   "source": [
    "print(inst._MyClass__val)"
   ]
  },
  {
   "cell_type": "code",
   "execution_count": 14,
   "metadata": {},
   "outputs": [
    {
     "name": "stdout",
     "output_type": "stream",
     "text": [
      "Yesterday:5\n"
     ]
    }
   ],
   "source": [
    "inst._MyClass__display(\"Yesterday\")"
   ]
  },
  {
   "cell_type": "code",
   "execution_count": null,
   "metadata": {},
   "outputs": [],
   "source": [
    "class ClassName(ParentClassName):\n",
    "    ClassVariable = None\n",
    "    \n",
    "    def __init__(self, *args, **kwargs):\n",
    "        self.<property> = None\n",
    "        self.<property> = None\n",
    "        \n",
    "    def method1(self, *args, **kwargs):\n",
    "        pass\n",
    "    \n",
    "    def method2(self, *args, **kwargs):\n",
    "        pass"
   ]
  },
  {
   "cell_type": "markdown",
   "metadata": {},
   "source": [
    "### 5.2 类方法和静态方法"
   ]
  },
  {
   "cell_type": "code",
   "execution_count": 58,
   "metadata": {},
   "outputs": [],
   "source": [
    "class ExampleClass:\n",
    "    \n",
    "    a = 10\n",
    "    \n",
    "    def __init__(self, a):\n",
    "        self.a = a\n",
    "    \n",
    "    def __repr__(self):\n",
    "        class_name = self.__class__.__name__\n",
    "        return f'{class_name}({self.a!r})'\n",
    "        #return f'{class_name}({self.a})'\n",
    "    \n",
    "    def __str__(self):\n",
    "        return str(self.a)\n",
    "\n",
    "    @classmethod\n",
    "    def get_class_name(cls):\n",
    "        cls.echo(\"hello\")\n",
    "        return cls.__name__\n",
    "    \n",
    "    @staticmethod\n",
    "    def echo(string):\n",
    "        print(string)\n",
    "        #print(ExampleClass.get_class_name())"
   ]
  },
  {
   "cell_type": "code",
   "execution_count": 56,
   "metadata": {},
   "outputs": [],
   "source": [
    "example = ExampleClass(3)"
   ]
  },
  {
   "cell_type": "code",
   "execution_count": 34,
   "metadata": {},
   "outputs": [
    {
     "data": {
      "text/plain": [
       "ExampleClass(3)"
      ]
     },
     "execution_count": 34,
     "metadata": {},
     "output_type": "execute_result"
    }
   ],
   "source": [
    "example"
   ]
  },
  {
   "cell_type": "code",
   "execution_count": 35,
   "metadata": {},
   "outputs": [
    {
     "name": "stdout",
     "output_type": "stream",
     "text": [
      "3\n"
     ]
    }
   ],
   "source": [
    "print(example)"
   ]
  },
  {
   "cell_type": "code",
   "execution_count": 59,
   "metadata": {},
   "outputs": [
    {
     "name": "stdout",
     "output_type": "stream",
     "text": [
      "hello\n",
      "hello\n",
      "ExampleClass\n"
     ]
    },
    {
     "data": {
      "text/plain": [
       "'ExampleClass'"
      ]
     },
     "execution_count": 59,
     "metadata": {},
     "output_type": "execute_result"
    }
   ],
   "source": [
    "example.get_class_name()"
   ]
  },
  {
   "cell_type": "code",
   "execution_count": 37,
   "metadata": {},
   "outputs": [
    {
     "data": {
      "text/plain": [
       "'ExampleClass'"
      ]
     },
     "execution_count": 37,
     "metadata": {},
     "output_type": "execute_result"
    }
   ],
   "source": [
    "ExampleClass.get_class_name()"
   ]
  },
  {
   "cell_type": "code",
   "execution_count": 50,
   "metadata": {},
   "outputs": [
    {
     "name": "stdout",
     "output_type": "stream",
     "text": [
      "hello\n",
      "ExampleClass\n"
     ]
    }
   ],
   "source": [
    "example.echo(\"hello\")"
   ]
  },
  {
   "cell_type": "code",
   "execution_count": 51,
   "metadata": {},
   "outputs": [
    {
     "name": "stdout",
     "output_type": "stream",
     "text": [
      "hello\n",
      "ExampleClass\n"
     ]
    }
   ],
   "source": [
    "ExampleClass.echo(\"hello\")"
   ]
  },
  {
   "cell_type": "markdown",
   "metadata": {},
   "source": [
    "#### 说明\n",
    "- 这里两种方法`__repr__`和`__str__`分别有其使用场合。一般来说，`print(<instance>)`调用的是`__str__()`方法，而`<instance>`调用的是`__repr__()`方法。\n",
    "- 在上面的例子中，在定义`__repr__()`方法时，采取了一种新的格式化输出字符串的方式：`f\"{class_name}({self.a!r})\"`，每个`{}`中的放置的是变量，如果强制要求用`__repr__()`的方式显示该变量，则后面加入`!r`，否则默认用`__str__`的方式显示。\n",
    "- `__repr__()`方法的返回结果必须是明确的（unambiguous）；而`__str__()`方法的返回结果必须是可读的；\n",
    "- 如果只定义了`__repr__()`方法，则`str()`也会返回相同的结果。"
   ]
  },
  {
   "cell_type": "code",
   "execution_count": null,
   "metadata": {},
   "outputs": [],
   "source": [
    "example = ExampleClass(\"James\")"
   ]
  },
  {
   "cell_type": "code",
   "execution_count": null,
   "metadata": {},
   "outputs": [],
   "source": [
    "print(example)    # call __str__() method"
   ]
  },
  {
   "cell_type": "code",
   "execution_count": null,
   "metadata": {},
   "outputs": [],
   "source": [
    "example          # call __repr__() method"
   ]
  },
  {
   "cell_type": "markdown",
   "metadata": {},
   "source": [
    "#### 小结\n",
    "- 类方法用`@classmethod`装饰器，第一个参数是`cls`；\n",
    "- 静态方法用`@staticmethod`装饰器，不需要`cls`或者`self`作为参数；\n",
    "- 静态方法不能访问实例变量和实例方法，只能用`ClassName.classmethod()`访问类方法和其他静态方法和静态变量（全局变量）\n",
    "- 类方法可以访问静态方法，访问的方式是？"
   ]
  },
  {
   "cell_type": "markdown",
   "metadata": {},
   "source": [
    "### 5.3 类的继承\n",
    "- 调用基类的`super().__init__()`方法进行初始化\n",
    "- 扩展其他的实例变量和方法"
   ]
  },
  {
   "cell_type": "code",
   "execution_count": null,
   "metadata": {},
   "outputs": [],
   "source": [
    "class Person:\n",
    "    def __init__(self, name, age):\n",
    "        self.name = name\n",
    "        self.age  = age\n",
    "\n",
    "class Employee(Person):\n",
    "    def __init__(self, name, age, staff_num):\n",
    "        super().__init__(name, age)\n",
    "        self.staff_num = staff_num"
   ]
  },
  {
   "cell_type": "markdown",
   "metadata": {},
   "source": [
    "### 5.4 属性装饰器"
   ]
  },
  {
   "cell_type": "code",
   "execution_count": 60,
   "metadata": {},
   "outputs": [],
   "source": [
    "class MyClass:\n",
    "    \n",
    "    @property\n",
    "    def a(self):\n",
    "        return self._a\n",
    "\n",
    "    @a.setter\n",
    "    def a(self, value):\n",
    "        self._a = value"
   ]
  },
  {
   "cell_type": "code",
   "execution_count": 61,
   "metadata": {},
   "outputs": [
    {
     "name": "stdout",
     "output_type": "stream",
     "text": [
      "123\n"
     ]
    }
   ],
   "source": [
    "el = MyClass()\n",
    "el.a = 123\n",
    "print(el.a)"
   ]
  },
  {
   "cell_type": "markdown",
   "metadata": {},
   "source": [
    "### 5.5 抽象基类（Abstract Base Classes, ABC）"
   ]
  },
  {
   "cell_type": "code",
   "execution_count": 62,
   "metadata": {},
   "outputs": [],
   "source": [
    "from collections.abc import Hashable, Iterable, Iterator, Reversible"
   ]
  },
  {
   "cell_type": "code",
   "execution_count": 63,
   "metadata": {},
   "outputs": [
    {
     "data": {
      "text/plain": [
       "True"
      ]
     },
     "execution_count": 63,
     "metadata": {},
     "output_type": "execute_result"
    }
   ],
   "source": [
    "isinstance([1,2,3,4,5], Reversible)"
   ]
  },
  {
   "cell_type": "code",
   "execution_count": 4,
   "metadata": {},
   "outputs": [
    {
     "data": {
      "text/plain": [
       "True"
      ]
     },
     "execution_count": 4,
     "metadata": {},
     "output_type": "execute_result"
    }
   ],
   "source": [
    "isinstance(2.5, Hashable)"
   ]
  },
  {
   "cell_type": "code",
   "execution_count": 5,
   "metadata": {},
   "outputs": [
    {
     "data": {
      "text/plain": [
       "True"
      ]
     },
     "execution_count": 5,
     "metadata": {},
     "output_type": "execute_result"
    }
   ],
   "source": [
    "isinstance((1,2,3,4), Iterable)"
   ]
  },
  {
   "cell_type": "code",
   "execution_count": 6,
   "metadata": {},
   "outputs": [
    {
     "data": {
      "text/plain": [
       "False"
      ]
     },
     "execution_count": 6,
     "metadata": {},
     "output_type": "execute_result"
    }
   ],
   "source": [
    "isinstance(dict().keys(), Hashable)"
   ]
  }
 ],
 "metadata": {
  "kernelspec": {
   "display_name": "Python 3",
   "language": "python",
   "name": "python3"
  },
  "language_info": {
   "codemirror_mode": {
    "name": "ipython",
    "version": 3
   },
   "file_extension": ".py",
   "mimetype": "text/x-python",
   "name": "python",
   "nbconvert_exporter": "python",
   "pygments_lexer": "ipython3",
   "version": "3.7.6"
  },
  "toc": {
   "base_numbering": 1,
   "nav_menu": {},
   "number_sections": false,
   "sideBar": true,
   "skip_h1_title": false,
   "title_cell": "Table of Contents",
   "title_sidebar": "Contents",
   "toc_cell": false,
   "toc_position": {},
   "toc_section_display": true,
   "toc_window_display": false
  }
 },
 "nbformat": 4,
 "nbformat_minor": 4
}
