{
 "cells": [
  {
   "cell_type": "markdown",
   "metadata": {},
   "source": [
    "## 2. 基本容器类型"
   ]
  },
  {
   "cell_type": "markdown",
   "metadata": {},
   "source": [
    "### 2.1 列表List\n",
    "\n",
    "- 列表是一种有序的、可修改的数据结构；\n",
    "- 初始化：`<list> = [el, ...]`或者`<list> = list(<collection>)`\n",
    "- 切片：`<list>[from_inclusive : to_exclusive : ±step_size]`访问，其中`from_inclusive`和`to_exclusive`是整数索引，`step_size`则是整数步长；\n",
    "- 附加：`<list>.append(<el>)`或者`<list> += [<el>]`添加元素；\n",
    "- 扩展：`<list>.extend(<collection>)`或者`<list> += <collection>`；\n",
    "- 排序：`<list>.sort()`或`<list>=sorted(<collection>)`\n",
    "- 逆序输出：`<list>.reverse()`或者`reversed(<list>)`\n",
    "- 列表推导：`<list> = [f(el) for el in <list>]`\n",
    "- 计算列表元素的和：`sum(<list>)`\n",
    "- 列表的加法和乘法：`[1,2]+[3,4]; [3] * 2`"
   ]
  },
  {
   "cell_type": "code",
   "execution_count": 24,
   "metadata": {
    "ExecuteTime": {
     "end_time": "2020-06-02T18:12:14.712301Z",
     "start_time": "2020-06-02T18:12:14.707346Z"
    }
   },
   "outputs": [
    {
     "name": "stdout",
     "output_type": "stream",
     "text": [
      "sorted(li) =  [1, 3, 4, 5, 7, 9]\n",
      "The builtin function, sorted() does not change the value of the original list\n",
      "li =  [3, 5, 1, 9, 7, 4]\n",
      "But the sort() method will do.\n",
      "li =  [1, 3, 4, 5, 7, 9]\n"
     ]
    }
   ],
   "source": [
    "## 给列表元素排序的两种方式\n",
    "li = [3,5,1,9,7,4]\n",
    "print(\"sorted(li) = \", sorted(li))\n",
    "print(\"The builtin function, sorted() does not change the value of the original list\")\n",
    "print(\"li = \", li)\n",
    "print(\"But the sort() method will do.\")\n",
    "li.sort()\n",
    "print(\"li = \", li)"
   ]
  },
  {
   "cell_type": "code",
   "execution_count": 25,
   "metadata": {},
   "outputs": [
    {
     "data": {
      "text/plain": [
       "1"
      ]
     },
     "execution_count": 25,
     "metadata": {},
     "output_type": "execute_result"
    }
   ],
   "source": [
    "li[0]"
   ]
  },
  {
   "cell_type": "code",
   "execution_count": 26,
   "metadata": {},
   "outputs": [
    {
     "data": {
      "text/plain": [
       "[1, 3, 4]"
      ]
     },
     "execution_count": 26,
     "metadata": {},
     "output_type": "execute_result"
    }
   ],
   "source": [
    "li[0:3]"
   ]
  },
  {
   "cell_type": "code",
   "execution_count": 27,
   "metadata": {},
   "outputs": [
    {
     "data": {
      "text/plain": [
       "[1, 4]"
      ]
     },
     "execution_count": 27,
     "metadata": {},
     "output_type": "execute_result"
    }
   ],
   "source": [
    "li[0:3:2]"
   ]
  },
  {
   "cell_type": "code",
   "execution_count": 28,
   "metadata": {},
   "outputs": [
    {
     "data": {
      "text/plain": [
       "[9, 7, 5, 4, 3, 1]"
      ]
     },
     "execution_count": 28,
     "metadata": {},
     "output_type": "execute_result"
    }
   ],
   "source": [
    "li[::-1]"
   ]
  },
  {
   "cell_type": "code",
   "execution_count": 29,
   "metadata": {},
   "outputs": [
    {
     "data": {
      "text/plain": [
       "[1, 3, 4, 5, 7, 9]"
      ]
     },
     "execution_count": 29,
     "metadata": {},
     "output_type": "execute_result"
    }
   ],
   "source": [
    "li[:]"
   ]
  },
  {
   "cell_type": "code",
   "execution_count": 30,
   "metadata": {},
   "outputs": [],
   "source": [
    "li.append?"
   ]
  },
  {
   "cell_type": "code",
   "execution_count": 31,
   "metadata": {
    "ExecuteTime": {
     "end_time": "2020-06-02T18:12:56.688660Z",
     "start_time": "2020-06-02T18:12:56.685441Z"
    }
   },
   "outputs": [
    {
     "name": "stdout",
     "output_type": "stream",
     "text": [
      "None\n",
      "[1, 3, 4, 5, 7, 9, [2, 3, 4]]\n"
     ]
    }
   ],
   "source": [
    "print(li.append([2,3,4]))\n",
    "print(li)"
   ]
  },
  {
   "cell_type": "code",
   "execution_count": 32,
   "metadata": {
    "ExecuteTime": {
     "end_time": "2020-06-02T18:13:12.134576Z",
     "start_time": "2020-06-02T18:13:12.131953Z"
    }
   },
   "outputs": [],
   "source": [
    "li.append((10,9))"
   ]
  },
  {
   "cell_type": "markdown",
   "metadata": {},
   "source": [
    "- 注意，在使用`extend()`的时候后面跟的参数必须是collection，而不能是单个元素\n",
    "- 而在使用`append()`的时候，跟的是元素，如果不是元素，会被作为列表的单个元素"
   ]
  },
  {
   "cell_type": "code",
   "execution_count": 33,
   "metadata": {},
   "outputs": [],
   "source": [
    "li.extend?"
   ]
  },
  {
   "cell_type": "code",
   "execution_count": 34,
   "metadata": {
    "ExecuteTime": {
     "end_time": "2020-06-02T18:13:18.164001Z",
     "start_time": "2020-06-02T18:13:18.160200Z"
    }
   },
   "outputs": [
    {
     "name": "stdout",
     "output_type": "stream",
     "text": [
      "[1, 3, 4, 5, 7, 9, [2, 3, 4], (10, 9), 7, 8]\n"
     ]
    }
   ],
   "source": [
    "li.extend((7,8))\n",
    "print(li)"
   ]
  },
  {
   "cell_type": "markdown",
   "metadata": {},
   "source": [
    "- 计算列表元素的和"
   ]
  },
  {
   "cell_type": "code",
   "execution_count": null,
   "metadata": {
    "ExecuteTime": {
     "end_time": "2020-06-02T18:14:13.670211Z",
     "start_time": "2020-06-02T18:14:13.667612Z"
    }
   },
   "outputs": [],
   "source": [
    "print(sum(li[:6]))"
   ]
  },
  {
   "cell_type": "markdown",
   "metadata": {},
   "source": [
    "- 计算列表元素的乘积"
   ]
  },
  {
   "cell_type": "code",
   "execution_count": null,
   "metadata": {
    "ExecuteTime": {
     "end_time": "2020-06-02T18:15:01.710393Z",
     "start_time": "2020-06-02T18:15:01.707320Z"
    }
   },
   "outputs": [],
   "source": [
    "from functools import reduce\n",
    "p = reduce(lambda x, y: x*y, li[:6])\n",
    "print(p)"
   ]
  },
  {
   "cell_type": "markdown",
   "metadata": {},
   "source": [
    "- 字符串可以转化为list"
   ]
  },
  {
   "cell_type": "code",
   "execution_count": null,
   "metadata": {
    "ExecuteTime": {
     "end_time": "2020-06-02T18:15:26.590550Z",
     "start_time": "2020-06-02T18:15:26.587388Z"
    }
   },
   "outputs": [],
   "source": [
    "s = \"abcdefg\"\n",
    "sl = list(s)\n",
    "print(sl)"
   ]
  },
  {
   "cell_type": "code",
   "execution_count": null,
   "metadata": {
    "ExecuteTime": {
     "end_time": "2020-06-02T18:15:42.535279Z",
     "start_time": "2020-06-02T18:15:42.532109Z"
    }
   },
   "outputs": [],
   "source": [
    "print(s.split(\"c\"))"
   ]
  },
  {
   "cell_type": "code",
   "execution_count": null,
   "metadata": {
    "ExecuteTime": {
     "end_time": "2020-06-02T18:16:07.854242Z",
     "start_time": "2020-06-02T18:16:07.812308Z"
    }
   },
   "outputs": [],
   "source": [
    "s.split?"
   ]
  },
  {
   "cell_type": "markdown",
   "metadata": {},
   "source": [
    "- 对应的字符串list也能用`join`函数连接为字符串"
   ]
  },
  {
   "cell_type": "code",
   "execution_count": null,
   "metadata": {},
   "outputs": [],
   "source": [
    "print(\":\".join(sl))"
   ]
  },
  {
   "cell_type": "markdown",
   "metadata": {},
   "source": [
    "- 列表与整数的乘积要注意"
   ]
  },
  {
   "cell_type": "code",
   "execution_count": null,
   "metadata": {},
   "outputs": [],
   "source": [
    "print([[3]*i for i in range(5)])"
   ]
  },
  {
   "cell_type": "markdown",
   "metadata": {},
   "source": [
    "- 列表推导（list comprehension）"
   ]
  },
  {
   "cell_type": "code",
   "execution_count": 35,
   "metadata": {
    "ExecuteTime": {
     "end_time": "2020-06-02T18:17:01.223477Z",
     "start_time": "2020-06-02T18:17:01.219979Z"
    }
   },
   "outputs": [
    {
     "name": "stdout",
     "output_type": "stream",
     "text": [
      "[[1, 2, 3, 4, 5, 6, 7, 8, 9], [2, 4, 6, 8, 10, 12, 14, 16, 18], [3, 6, 9, 12, 15, 18, 21, 24, 27], [4, 8, 12, 16, 20, 24, 28, 32, 36], [5, 10, 15, 20, 25, 30, 35, 40, 45], [6, 12, 18, 24, 30, 36, 42, 48, 54], [7, 14, 21, 28, 35, 42, 49, 56, 63], [8, 16, 24, 32, 40, 48, 56, 64, 72], [9, 18, 27, 36, 45, 54, 63, 72, 81]]\n"
     ]
    }
   ],
   "source": [
    "mat = [[i*j for j in range(1,10)] for i in range(1,10)]\n",
    "print(mat)"
   ]
  },
  {
   "cell_type": "code",
   "execution_count": 39,
   "metadata": {},
   "outputs": [
    {
     "data": {
      "text/plain": [
       "[1, 3, 4, 5, 7, 9, [2, 3, 4], (10, 9), 7, 8]"
      ]
     },
     "execution_count": 39,
     "metadata": {},
     "output_type": "execute_result"
    }
   ],
   "source": [
    "li"
   ]
  },
  {
   "cell_type": "code",
   "execution_count": 41,
   "metadata": {},
   "outputs": [
    {
     "data": {
      "text/plain": [
       "29"
      ]
     },
     "execution_count": 41,
     "metadata": {},
     "output_type": "execute_result"
    }
   ],
   "source": [
    "sum(li[:-4])"
   ]
  },
  {
   "cell_type": "code",
   "execution_count": null,
   "metadata": {
    "ExecuteTime": {
     "end_time": "2020-06-02T18:17:14.760800Z",
     "start_time": "2020-06-02T18:17:14.754035Z"
    }
   },
   "outputs": [],
   "source": [
    "all(line[0] for line in mat)"
   ]
  },
  {
   "cell_type": "code",
   "execution_count": 42,
   "metadata": {
    "ExecuteTime": {
     "end_time": "2020-06-02T18:17:28.375099Z",
     "start_time": "2020-06-02T18:17:28.370111Z"
    }
   },
   "outputs": [
    {
     "name": "stdout",
     "output_type": "stream",
     "text": [
      "Element  1  is  1\n",
      "Element  2  is  2\n",
      "Element  3  is  3\n",
      "Element  4  is  4\n",
      "Element  5  is  5\n"
     ]
    }
   ],
   "source": [
    "li = [1,2,3,4,5]\n",
    "for ind, el in enumerate(li):\n",
    "    print(\"Element \", ind +1, \" is \", el)"
   ]
  },
  {
   "cell_type": "code",
   "execution_count": 43,
   "metadata": {
    "ExecuteTime": {
     "end_time": "2020-06-02T18:18:04.390041Z",
     "start_time": "2020-06-02T18:18:04.387562Z"
    }
   },
   "outputs": [
    {
     "name": "stdout",
     "output_type": "stream",
     "text": [
      "[1, 2, 3, 6, 4, 5]\n"
     ]
    }
   ],
   "source": [
    "li.insert(3, 6)\n",
    "print(li)"
   ]
  },
  {
   "cell_type": "code",
   "execution_count": 44,
   "metadata": {
    "ExecuteTime": {
     "end_time": "2020-06-02T18:18:14.206211Z",
     "start_time": "2020-06-02T18:18:14.203023Z"
    }
   },
   "outputs": [
    {
     "data": {
      "text/plain": [
       "3"
      ]
     },
     "execution_count": 44,
     "metadata": {},
     "output_type": "execute_result"
    }
   ],
   "source": [
    "li.index(6)"
   ]
  },
  {
   "cell_type": "code",
   "execution_count": 45,
   "metadata": {
    "ExecuteTime": {
     "end_time": "2020-06-02T18:18:25.062472Z",
     "start_time": "2020-06-02T18:18:25.059075Z"
    }
   },
   "outputs": [
    {
     "data": {
      "text/plain": [
       "['__add__',\n",
       " '__class__',\n",
       " '__contains__',\n",
       " '__delattr__',\n",
       " '__delitem__',\n",
       " '__dir__',\n",
       " '__doc__',\n",
       " '__eq__',\n",
       " '__format__',\n",
       " '__ge__',\n",
       " '__getattribute__',\n",
       " '__getitem__',\n",
       " '__gt__',\n",
       " '__hash__',\n",
       " '__iadd__',\n",
       " '__imul__',\n",
       " '__init__',\n",
       " '__init_subclass__',\n",
       " '__iter__',\n",
       " '__le__',\n",
       " '__len__',\n",
       " '__lt__',\n",
       " '__mul__',\n",
       " '__ne__',\n",
       " '__new__',\n",
       " '__reduce__',\n",
       " '__reduce_ex__',\n",
       " '__repr__',\n",
       " '__reversed__',\n",
       " '__rmul__',\n",
       " '__setattr__',\n",
       " '__setitem__',\n",
       " '__sizeof__',\n",
       " '__str__',\n",
       " '__subclasshook__',\n",
       " 'append',\n",
       " 'clear',\n",
       " 'copy',\n",
       " 'count',\n",
       " 'extend',\n",
       " 'index',\n",
       " 'insert',\n",
       " 'pop',\n",
       " 'remove',\n",
       " 'reverse',\n",
       " 'sort']"
      ]
     },
     "execution_count": 45,
     "metadata": {},
     "output_type": "execute_result"
    }
   ],
   "source": [
    "dir(li)"
   ]
  },
  {
   "cell_type": "code",
   "execution_count": 46,
   "metadata": {
    "ExecuteTime": {
     "end_time": "2020-06-02T18:18:54.166023Z",
     "start_time": "2020-06-02T18:18:54.162544Z"
    }
   },
   "outputs": [],
   "source": [
    "li.copy?"
   ]
  },
  {
   "cell_type": "markdown",
   "metadata": {},
   "source": [
    "### 2.2 元组tuple\n",
    "- 元组也是一种有序的数据结构，但是不能修改的（immutable）。 \n",
    "- 元组的slice操作与list相类\n",
    "- 但是注意tuple是immutable的：也就是说，`append()`、`extend()`, `pop()`，`sort()`、`reverse()`等==修改tuple的操作不能有==\n",
    "- 针对某个元素进行赋值：`t[3]=2`\n",
    "- 查找元素对应的索引：`<tuple>.index(<el>[,from,to])`（如果元素不存在，抛出ValueError错误）\n",
    "- 统计某个元素出现的次数：`<tuple>.count(<el>)`（如果元素不存在，返回0）"
   ]
  },
  {
   "cell_type": "code",
   "execution_count": 47,
   "metadata": {
    "ExecuteTime": {
     "end_time": "2020-06-02T18:30:26.240465Z",
     "start_time": "2020-06-02T18:30:26.237819Z"
    }
   },
   "outputs": [
    {
     "name": "stdout",
     "output_type": "stream",
     "text": [
      "(2, 8, 4, 3, 9, 3)\n"
     ]
    }
   ],
   "source": [
    "t = (2,8,4,3,9,3)\n",
    "print(t)"
   ]
  },
  {
   "cell_type": "code",
   "execution_count": 48,
   "metadata": {},
   "outputs": [],
   "source": [
    "t = tuple([2,8,4,3,9,3])"
   ]
  },
  {
   "cell_type": "code",
   "execution_count": 49,
   "metadata": {},
   "outputs": [
    {
     "data": {
      "text/plain": [
       "tuple"
      ]
     },
     "execution_count": 49,
     "metadata": {},
     "output_type": "execute_result"
    }
   ],
   "source": [
    "type(t)"
   ]
  },
  {
   "cell_type": "code",
   "execution_count": 50,
   "metadata": {},
   "outputs": [
    {
     "data": {
      "text/plain": [
       "2"
      ]
     },
     "execution_count": 50,
     "metadata": {},
     "output_type": "execute_result"
    }
   ],
   "source": [
    "t[0]"
   ]
  },
  {
   "cell_type": "code",
   "execution_count": 51,
   "metadata": {},
   "outputs": [
    {
     "data": {
      "text/plain": [
       "3"
      ]
     },
     "execution_count": 51,
     "metadata": {},
     "output_type": "execute_result"
    }
   ],
   "source": [
    "t[-1]"
   ]
  },
  {
   "cell_type": "code",
   "execution_count": 52,
   "metadata": {
    "ExecuteTime": {
     "end_time": "2020-06-02T18:40:31.432208Z",
     "start_time": "2020-06-02T18:40:31.429300Z"
    }
   },
   "outputs": [
    {
     "data": {
      "text/plain": [
       "int"
      ]
     },
     "execution_count": 52,
     "metadata": {},
     "output_type": "execute_result"
    }
   ],
   "source": [
    "type((1))"
   ]
  },
  {
   "cell_type": "code",
   "execution_count": 53,
   "metadata": {},
   "outputs": [
    {
     "data": {
      "text/plain": [
       "tuple"
      ]
     },
     "execution_count": 53,
     "metadata": {},
     "output_type": "execute_result"
    }
   ],
   "source": [
    "type((1,))"
   ]
  },
  {
   "cell_type": "code",
   "execution_count": 54,
   "metadata": {
    "ExecuteTime": {
     "end_time": "2020-06-02T18:40:01.920670Z",
     "start_time": "2020-06-02T18:40:01.917784Z"
    }
   },
   "outputs": [
    {
     "data": {
      "text/plain": [
       "3"
      ]
     },
     "execution_count": 54,
     "metadata": {},
     "output_type": "execute_result"
    }
   ],
   "source": [
    "t.index(3)"
   ]
  },
  {
   "cell_type": "code",
   "execution_count": 55,
   "metadata": {
    "ExecuteTime": {
     "end_time": "2020-06-02T18:34:44.847304Z",
     "start_time": "2020-06-02T18:34:44.843253Z"
    }
   },
   "outputs": [],
   "source": [
    "t.index?"
   ]
  },
  {
   "cell_type": "code",
   "execution_count": 56,
   "metadata": {
    "ExecuteTime": {
     "end_time": "2020-06-02T18:30:47.845442Z",
     "start_time": "2020-06-02T18:30:47.840008Z"
    }
   },
   "outputs": [
    {
     "data": {
      "text/plain": [
       "['__add__',\n",
       " '__class__',\n",
       " '__contains__',\n",
       " '__delattr__',\n",
       " '__dir__',\n",
       " '__doc__',\n",
       " '__eq__',\n",
       " '__format__',\n",
       " '__ge__',\n",
       " '__getattribute__',\n",
       " '__getitem__',\n",
       " '__getnewargs__',\n",
       " '__gt__',\n",
       " '__hash__',\n",
       " '__init__',\n",
       " '__init_subclass__',\n",
       " '__iter__',\n",
       " '__le__',\n",
       " '__len__',\n",
       " '__lt__',\n",
       " '__mul__',\n",
       " '__ne__',\n",
       " '__new__',\n",
       " '__reduce__',\n",
       " '__reduce_ex__',\n",
       " '__repr__',\n",
       " '__rmul__',\n",
       " '__setattr__',\n",
       " '__sizeof__',\n",
       " '__str__',\n",
       " '__subclasshook__',\n",
       " 'count',\n",
       " 'index']"
      ]
     },
     "execution_count": 56,
     "metadata": {},
     "output_type": "execute_result"
    }
   ],
   "source": [
    "dir(t)"
   ]
  },
  {
   "cell_type": "code",
   "execution_count": 58,
   "metadata": {},
   "outputs": [
    {
     "name": "stdout",
     "output_type": "stream",
     "text": [
      "5\n"
     ]
    }
   ],
   "source": [
    "print(t.index(3, 4))"
   ]
  },
  {
   "cell_type": "code",
   "execution_count": 59,
   "metadata": {
    "ExecuteTime": {
     "end_time": "2020-06-02T18:35:33.903131Z",
     "start_time": "2020-06-02T18:35:33.895527Z"
    }
   },
   "outputs": [
    {
     "ename": "ValueError",
     "evalue": "tuple.index(x): x not in tuple",
     "output_type": "error",
     "traceback": [
      "\u001b[0;31m---------------------------------------------------------------------------\u001b[0m",
      "\u001b[0;31mValueError\u001b[0m                                Traceback (most recent call last)",
      "\u001b[0;32m<ipython-input-59-7100385dfcb7>\u001b[0m in \u001b[0;36m<module>\u001b[0;34m\u001b[0m\n\u001b[0;32m----> 1\u001b[0;31m \u001b[0mprint\u001b[0m\u001b[0;34m(\u001b[0m\u001b[0mt\u001b[0m\u001b[0;34m.\u001b[0m\u001b[0mindex\u001b[0m\u001b[0;34m(\u001b[0m\u001b[0;36m5\u001b[0m\u001b[0;34m)\u001b[0m\u001b[0;34m)\u001b[0m\u001b[0;34m\u001b[0m\u001b[0;34m\u001b[0m\u001b[0m\n\u001b[0m",
      "\u001b[0;31mValueError\u001b[0m: tuple.index(x): x not in tuple"
     ]
    }
   ],
   "source": [
    "print(t.index(5))"
   ]
  },
  {
   "cell_type": "code",
   "execution_count": 60,
   "metadata": {},
   "outputs": [
    {
     "name": "stdout",
     "output_type": "stream",
     "text": [
      "0\n"
     ]
    }
   ],
   "source": [
    "print(t[2:].count(5))"
   ]
  },
  {
   "cell_type": "code",
   "execution_count": 65,
   "metadata": {},
   "outputs": [],
   "source": [
    "from collections.abc import Hashable, Iterable, Iterator"
   ]
  },
  {
   "cell_type": "code",
   "execution_count": 66,
   "metadata": {
    "ExecuteTime": {
     "end_time": "2020-06-02T21:16:06.710461Z",
     "start_time": "2020-06-02T21:16:06.705114Z"
    }
   },
   "outputs": [
    {
     "data": {
      "text/plain": [
       "True"
      ]
     },
     "execution_count": 66,
     "metadata": {},
     "output_type": "execute_result"
    }
   ],
   "source": [
    "t2 = ([3,4], 1, 2)\n",
    "isinstance(t2, Hashable)"
   ]
  },
  {
   "cell_type": "code",
   "execution_count": 67,
   "metadata": {},
   "outputs": [
    {
     "data": {
      "text/plain": [
       "(2, 8, 4, 3, 9, 3)"
      ]
     },
     "execution_count": 67,
     "metadata": {},
     "output_type": "execute_result"
    }
   ],
   "source": [
    "t"
   ]
  },
  {
   "cell_type": "code",
   "execution_count": 68,
   "metadata": {},
   "outputs": [
    {
     "ename": "TypeError",
     "evalue": "'tuple' object does not support item assignment",
     "output_type": "error",
     "traceback": [
      "\u001b[0;31m---------------------------------------------------------------------------\u001b[0m",
      "\u001b[0;31mTypeError\u001b[0m                                 Traceback (most recent call last)",
      "\u001b[0;32m<ipython-input-68-5e08a402f8ec>\u001b[0m in \u001b[0;36m<module>\u001b[0;34m\u001b[0m\n\u001b[0;32m----> 1\u001b[0;31m \u001b[0mt\u001b[0m\u001b[0;34m[\u001b[0m\u001b[0;36m1\u001b[0m\u001b[0;34m]\u001b[0m \u001b[0;34m=\u001b[0m \u001b[0;36m6\u001b[0m\u001b[0;34m\u001b[0m\u001b[0;34m\u001b[0m\u001b[0m\n\u001b[0m",
      "\u001b[0;31mTypeError\u001b[0m: 'tuple' object does not support item assignment"
     ]
    }
   ],
   "source": [
    "t[1] = 6"
   ]
  },
  {
   "cell_type": "code",
   "execution_count": null,
   "metadata": {
    "ExecuteTime": {
     "end_time": "2020-06-02T21:29:50.861665Z",
     "start_time": "2020-06-02T21:29:50.859062Z"
    }
   },
   "outputs": [],
   "source": [
    "isinstance(t2, Hashable)"
   ]
  },
  {
   "cell_type": "code",
   "execution_count": null,
   "metadata": {
    "ExecuteTime": {
     "end_time": "2020-06-02T21:15:06.614755Z",
     "start_time": "2020-06-02T21:15:06.608128Z"
    }
   },
   "outputs": [],
   "source": [
    "t2[0] = [3, 8]"
   ]
  },
  {
   "cell_type": "code",
   "execution_count": null,
   "metadata": {
    "ExecuteTime": {
     "end_time": "2020-06-02T21:10:30.949925Z",
     "start_time": "2020-06-02T21:10:30.881339Z"
    }
   },
   "outputs": [],
   "source": [
    "import objgraph\n",
    "objgraph.show_refs([t2])"
   ]
  },
  {
   "cell_type": "code",
   "execution_count": null,
   "metadata": {
    "ExecuteTime": {
     "end_time": "2020-06-02T21:09:41.179667Z",
     "start_time": "2020-06-02T21:09:41.177420Z"
    }
   },
   "outputs": [],
   "source": [
    "t2[0][1]=5"
   ]
  },
  {
   "cell_type": "markdown",
   "metadata": {},
   "source": [
    "### 2.3 字典dict\n",
    "- 是一种无序的数据结构，但是可索引\n",
    "- 可以说，字典是键值对（key-value）的集合\n",
    "- 字典的键必须是唯一的（unique）且不可变的（immutable），所以哪些类型可以作为字典的键，字符串？整型数值？浮点数？集合？列表？元组？或者其他的类型\n",
    "- 创建字典：`<dict> = {<key1>:<val1>, <key2>:<val2>, ...}`或者`<dict>=dict()`\n",
    "- 返回键的列表（无序）：`<dict>.keys()`\n",
    "- 返回值的列表（无序）：`<dict>.values()`\n",
    "- 返回（键，值）构成的元组的列表：`<dict>.items()`\n",
    "- 返回某个键对应的值：`<dict>[<key>]`或者`<dict>.get(<key>, default=None)`\n",
    "- 设置某个键对应的默认值：`<dict>.setdefault(<key>, default=None)`\n",
    "- 具有固定默认值类型的defaultdict：`collections.defaultdict(<type>)`\n",
    "- 具有固定默认值的defaultdict：`collections.defaultdict(lambda: 1)`\n",
    "- 将具有key-value对的类型转换为字典：`dict(<collection>)`\n",
    "- 将两个list转换为dict：`dict(zip(<keys>, <vals>))`\n",
    "- 从键创建dict：`dict.fromkeys(<keys>[, <vals>])`\n",
    "- 更新键值对（如果已经存在的更新值，如果不存在的添加键值对）：`<dict>.update(<dict>)`\n",
    "- 删除元素（如果不存在key则抛出KeyError错误）：`val = <dict>.pop(<key>)`\n",
    "- 返回某个值对应的键的集合：`{k for k,v in <dict>.items() if v==value}`\n",
    "- 返回字典的子集：`{k:v for k, v in <dict>.items if k in <keys>}`"
   ]
  },
  {
   "cell_type": "code",
   "execution_count": 69,
   "metadata": {
    "ExecuteTime": {
     "end_time": "2020-06-02T18:42:46.954560Z",
     "start_time": "2020-06-02T18:42:46.950995Z"
    }
   },
   "outputs": [
    {
     "data": {
      "text/plain": [
       "dict"
      ]
     },
     "execution_count": 69,
     "metadata": {},
     "output_type": "execute_result"
    }
   ],
   "source": [
    "d = {\"A\":0, \"C\":1, \"G\":2, \"T\":3}\n",
    "type(d)"
   ]
  },
  {
   "cell_type": "code",
   "execution_count": 70,
   "metadata": {
    "ExecuteTime": {
     "end_time": "2020-06-02T18:43:23.670819Z",
     "start_time": "2020-06-02T18:43:23.668398Z"
    }
   },
   "outputs": [],
   "source": [
    "d = {\"A\":0, \"C\":1, \"G\":2, \"T\":3, \"A\":4}"
   ]
  },
  {
   "cell_type": "code",
   "execution_count": 71,
   "metadata": {
    "ExecuteTime": {
     "end_time": "2020-06-02T18:43:31.985270Z",
     "start_time": "2020-06-02T18:43:31.982485Z"
    }
   },
   "outputs": [
    {
     "data": {
      "text/plain": [
       "{'A': 4, 'C': 1, 'G': 2, 'T': 3}"
      ]
     },
     "execution_count": 71,
     "metadata": {},
     "output_type": "execute_result"
    }
   ],
   "source": [
    "d"
   ]
  },
  {
   "cell_type": "code",
   "execution_count": 72,
   "metadata": {
    "ExecuteTime": {
     "end_time": "2020-06-02T18:44:03.639173Z",
     "start_time": "2020-06-02T18:44:03.635758Z"
    }
   },
   "outputs": [
    {
     "data": {
      "text/plain": [
       "4"
      ]
     },
     "execution_count": 72,
     "metadata": {},
     "output_type": "execute_result"
    }
   ],
   "source": [
    "d[\"A\"]"
   ]
  },
  {
   "cell_type": "code",
   "execution_count": 73,
   "metadata": {
    "ExecuteTime": {
     "end_time": "2020-06-02T18:45:01.785285Z",
     "start_time": "2020-06-02T18:45:01.782093Z"
    }
   },
   "outputs": [
    {
     "name": "stdout",
     "output_type": "stream",
     "text": [
      "A 4\n",
      "C 1\n",
      "G 2\n",
      "T 3\n"
     ]
    }
   ],
   "source": [
    "for k, v in d.items():\n",
    "    print(k, v)"
   ]
  },
  {
   "cell_type": "code",
   "execution_count": 74,
   "metadata": {
    "ExecuteTime": {
     "end_time": "2020-06-02T18:45:31.661725Z",
     "start_time": "2020-06-02T18:45:31.658702Z"
    }
   },
   "outputs": [
    {
     "name": "stdout",
     "output_type": "stream",
     "text": [
      "4\n",
      "1\n",
      "2\n",
      "3\n"
     ]
    }
   ],
   "source": [
    "for k in d.keys():\n",
    "    print(d[k])"
   ]
  },
  {
   "cell_type": "code",
   "execution_count": 75,
   "metadata": {
    "ExecuteTime": {
     "end_time": "2020-06-02T18:45:48.650380Z",
     "start_time": "2020-06-02T18:45:48.645080Z"
    }
   },
   "outputs": [
    {
     "ename": "KeyError",
     "evalue": "'N'",
     "output_type": "error",
     "traceback": [
      "\u001b[0;31m---------------------------------------------------------------------------\u001b[0m",
      "\u001b[0;31mKeyError\u001b[0m                                  Traceback (most recent call last)",
      "\u001b[0;32m<ipython-input-75-5c1162e2cf27>\u001b[0m in \u001b[0;36m<module>\u001b[0;34m\u001b[0m\n\u001b[0;32m----> 1\u001b[0;31m \u001b[0md\u001b[0m\u001b[0;34m[\u001b[0m\u001b[0;34m\"N\"\u001b[0m\u001b[0;34m]\u001b[0m\u001b[0;34m\u001b[0m\u001b[0;34m\u001b[0m\u001b[0m\n\u001b[0m",
      "\u001b[0;31mKeyError\u001b[0m: 'N'"
     ]
    }
   ],
   "source": [
    "d[\"N\"]"
   ]
  },
  {
   "cell_type": "code",
   "execution_count": 76,
   "metadata": {
    "ExecuteTime": {
     "end_time": "2020-06-02T18:46:00.374048Z",
     "start_time": "2020-06-02T18:46:00.371481Z"
    }
   },
   "outputs": [],
   "source": [
    "d.get(\"N\")"
   ]
  },
  {
   "cell_type": "code",
   "execution_count": 77,
   "metadata": {},
   "outputs": [],
   "source": [
    "d.get?"
   ]
  },
  {
   "cell_type": "code",
   "execution_count": 78,
   "metadata": {
    "ExecuteTime": {
     "end_time": "2020-06-02T18:46:41.611252Z",
     "start_time": "2020-06-02T18:46:41.605496Z"
    }
   },
   "outputs": [
    {
     "data": {
      "text/plain": [
       "-1"
      ]
     },
     "execution_count": 78,
     "metadata": {},
     "output_type": "execute_result"
    }
   ],
   "source": [
    "d.get(\"N\", -1)"
   ]
  },
  {
   "cell_type": "code",
   "execution_count": 79,
   "metadata": {
    "ExecuteTime": {
     "end_time": "2020-06-02T18:48:04.622366Z",
     "start_time": "2020-06-02T18:48:04.620141Z"
    }
   },
   "outputs": [],
   "source": [
    "d2 = d.fromkeys(d.keys(), 0)"
   ]
  },
  {
   "cell_type": "code",
   "execution_count": 80,
   "metadata": {
    "ExecuteTime": {
     "end_time": "2020-06-02T18:48:09.860140Z",
     "start_time": "2020-06-02T18:48:09.854689Z"
    }
   },
   "outputs": [
    {
     "name": "stdout",
     "output_type": "stream",
     "text": [
      "{'A': 0, 'C': 0, 'G': 0, 'T': 0}\n"
     ]
    }
   ],
   "source": [
    "print(d2)"
   ]
  },
  {
   "cell_type": "code",
   "execution_count": 81,
   "metadata": {
    "ExecuteTime": {
     "end_time": "2020-06-02T18:50:25.810119Z",
     "start_time": "2020-06-02T18:50:25.807511Z"
    }
   },
   "outputs": [],
   "source": [
    "d.update([('N', 4),('J',5)])"
   ]
  },
  {
   "cell_type": "code",
   "execution_count": 82,
   "metadata": {},
   "outputs": [
    {
     "data": {
      "text/plain": [
       "{'A': 4, 'C': 1, 'G': 2, 'T': 3, 'N': 4, 'J': 5}"
      ]
     },
     "execution_count": 82,
     "metadata": {},
     "output_type": "execute_result"
    }
   ],
   "source": [
    "d"
   ]
  },
  {
   "cell_type": "code",
   "execution_count": 86,
   "metadata": {},
   "outputs": [],
   "source": [
    "nucs = {}"
   ]
  },
  {
   "cell_type": "code",
   "execution_count": 87,
   "metadata": {
    "ExecuteTime": {
     "end_time": "2020-06-02T21:01:04.072497Z",
     "start_time": "2020-06-02T21:01:04.068742Z"
    }
   },
   "outputs": [],
   "source": [
    "nucs[\"N\"] = 4"
   ]
  },
  {
   "cell_type": "code",
   "execution_count": 88,
   "metadata": {
    "ExecuteTime": {
     "end_time": "2020-06-02T21:01:04.136269Z",
     "start_time": "2020-06-02T21:01:04.134056Z"
    }
   },
   "outputs": [],
   "source": [
    "nucs.update([(\"N\", 5)])"
   ]
  },
  {
   "cell_type": "code",
   "execution_count": 89,
   "metadata": {
    "ExecuteTime": {
     "end_time": "2020-06-02T21:01:07.910469Z",
     "start_time": "2020-06-02T21:01:07.907005Z"
    }
   },
   "outputs": [
    {
     "name": "stdout",
     "output_type": "stream",
     "text": [
      "{'N': 5}\n"
     ]
    }
   ],
   "source": [
    "print(nucs)"
   ]
  },
  {
   "cell_type": "code",
   "execution_count": 90,
   "metadata": {
    "ExecuteTime": {
     "end_time": "2020-06-02T21:03:08.854633Z",
     "start_time": "2020-06-02T21:03:08.851226Z"
    }
   },
   "outputs": [
    {
     "data": {
      "text/plain": [
       "{'N': -1}"
      ]
     },
     "execution_count": 90,
     "metadata": {},
     "output_type": "execute_result"
    }
   ],
   "source": [
    "nucs.fromkeys([\"N\"], -1)"
   ]
  },
  {
   "cell_type": "code",
   "execution_count": 91,
   "metadata": {
    "ExecuteTime": {
     "end_time": "2020-06-02T21:04:47.902088Z",
     "start_time": "2020-06-02T21:04:47.898842Z"
    }
   },
   "outputs": [
    {
     "data": {
      "text/plain": [
       "5"
      ]
     },
     "execution_count": 91,
     "metadata": {},
     "output_type": "execute_result"
    }
   ],
   "source": [
    "nucs.setdefault(\"N\", 4)"
   ]
  },
  {
   "cell_type": "code",
   "execution_count": 92,
   "metadata": {
    "ExecuteTime": {
     "end_time": "2020-06-02T21:04:49.842252Z",
     "start_time": "2020-06-02T21:04:49.836049Z"
    }
   },
   "outputs": [
    {
     "data": {
      "text/plain": [
       "{'N': 5}"
      ]
     },
     "execution_count": 92,
     "metadata": {},
     "output_type": "execute_result"
    }
   ],
   "source": [
    "nucs"
   ]
  },
  {
   "cell_type": "markdown",
   "metadata": {},
   "source": [
    "### 2.4 集合set\n",
    "> An **unordered** collection of **unique elements**.\n",
    "\n",
    "- 集合的定义：`<set> = set()`或`<set> = {<el>, <el>, ...}`\n",
    "- 集合添加元素：`<set>.add(<el>)`或者`<set> |= {<el>}`\n",
    "- 集合更新：`<set>.update(<collection>)`或者`<set> |= <set>`\n",
    "- 集合的并集：`<set>.union(<collection>)`或`<set> | <set>`\n",
    "- 集合的交集：`<set>.intersection(<collection>)`或`<set> & <set>`\n",
    "- 集合的差集：`<set>.difference(<collection>)`或`<set> - <set>`\n",
    "- 集合的对称差：`<set>.symmetric_difference(<collection>)`或`<set> ^ <set>`或`<set> | <set> - <set> & <set>`\n",
    "- 集合的包含关系：\n",
    "  * 子集：`<set>.issubset(<collection>)`或`<set> <= <set>`\n",
    "  * 超集：`<set>.issuperset(<collection>`或`<set> >= <set>`\n",
    "- 集合的其他操作：\n",
    "  * 弹出元素：`<el> = <set>.pop()`（如果集合为空，报错KeyError）\n",
    "  * 删除元素：`<set>.remove(<el>)`（如果元素不存在，报错KeyError）\n",
    "  * 删除元素：`<set>.discard(<el>)`（元素即使不存在也不报错）\n",
    "  \n",
    "#### 集合的延伸：frozen set\n",
    "- frozen set是不可变的（immutable）以及可散列的（hashable，唯一性的保证）\n",
    "- 因此，frozen set可作为字典的键（key）和集合的元素\n",
    "- `<frozenset> = frozenset(<collection>)`"
   ]
  },
  {
   "cell_type": "code",
   "execution_count": 93,
   "metadata": {
    "ExecuteTime": {
     "end_time": "2020-06-02T19:59:43.037450Z",
     "start_time": "2020-06-02T19:59:43.034109Z"
    }
   },
   "outputs": [
    {
     "data": {
      "text/plain": [
       "set"
      ]
     },
     "execution_count": 93,
     "metadata": {},
     "output_type": "execute_result"
    }
   ],
   "source": [
    "s = {1,3,4,5,6}\n",
    "type(s)"
   ]
  },
  {
   "cell_type": "code",
   "execution_count": 94,
   "metadata": {
    "ExecuteTime": {
     "end_time": "2020-06-02T19:59:59.339345Z",
     "start_time": "2020-06-02T19:59:59.336373Z"
    }
   },
   "outputs": [
    {
     "data": {
      "text/plain": [
       "'set() -> new empty set object\\nset(iterable) -> new set object\\n\\nBuild an unordered collection of unique elements.'"
      ]
     },
     "execution_count": 94,
     "metadata": {},
     "output_type": "execute_result"
    }
   ],
   "source": [
    "s.__doc__"
   ]
  },
  {
   "cell_type": "code",
   "execution_count": 95,
   "metadata": {
    "ExecuteTime": {
     "end_time": "2020-06-02T19:59:43.588242Z",
     "start_time": "2020-06-02T19:59:43.586058Z"
    }
   },
   "outputs": [],
   "source": [
    "from collections.abc import Hashable"
   ]
  },
  {
   "cell_type": "code",
   "execution_count": 97,
   "metadata": {
    "ExecuteTime": {
     "end_time": "2020-06-02T19:59:44.101134Z",
     "start_time": "2020-06-02T19:59:44.097878Z"
    },
    "scrolled": true
   },
   "outputs": [
    {
     "data": {
      "text/plain": [
       "True"
      ]
     },
     "execution_count": 97,
     "metadata": {},
     "output_type": "execute_result"
    }
   ],
   "source": [
    "isinstance(\"abc\", Hashable)"
   ]
  },
  {
   "cell_type": "code",
   "execution_count": 98,
   "metadata": {
    "ExecuteTime": {
     "end_time": "2020-06-02T19:59:44.590922Z",
     "start_time": "2020-06-02T19:59:44.587621Z"
    }
   },
   "outputs": [],
   "source": [
    "?Hashable"
   ]
  },
  {
   "cell_type": "code",
   "execution_count": null,
   "metadata": {
    "ExecuteTime": {
     "end_time": "2020-06-02T19:59:46.141255Z",
     "start_time": "2020-06-02T19:59:46.137641Z"
    }
   },
   "outputs": [],
   "source": [
    "fset = frozenset(['a', 'c', 'g', 't', 'n'])\n",
    "dict({fset:[0,1,2,3,4]})"
   ]
  },
  {
   "cell_type": "markdown",
   "metadata": {},
   "source": [
    "### 2.5 图形化数据结构"
   ]
  },
  {
   "cell_type": "code",
   "execution_count": 99,
   "metadata": {},
   "outputs": [
    {
     "data": {
      "image/svg+xml": [
       "<?xml version=\"1.0\" encoding=\"UTF-8\" standalone=\"no\"?>\n",
       "<!DOCTYPE svg PUBLIC \"-//W3C//DTD SVG 1.1//EN\"\n",
       " \"http://www.w3.org/Graphics/SVG/1.1/DTD/svg11.dtd\">\n",
       "<!-- Generated by graphviz version 2.30.1 (20180420.1509)\n",
       " -->\n",
       "<!-- Title: ObjectGraph Pages: 1 -->\n",
       "<svg width=\"180pt\" height=\"288pt\"\n",
       " viewBox=\"0.00 0.00 180.21 288.00\" xmlns=\"http://www.w3.org/2000/svg\" xmlns:xlink=\"http://www.w3.org/1999/xlink\">\n",
       "<g id=\"graph0\" class=\"graph\" transform=\"scale(1 1) rotate(0) translate(4 284)\">\n",
       "<title>ObjectGraph</title>\n",
       "<polygon fill=\"white\" stroke=\"white\" points=\"-4,5 -4,-284 177.207,-284 177.207,5 -4,5\"/>\n",
       "<!-- o139910842033088 -->\n",
       "<g id=\"node1\" class=\"node\"><title>o139910842033088</title>\n",
       "<polygon fill=\"#ffffff\" stroke=\"black\" points=\"158,-280 88,-280 88,-242 158,-242 158,-280\"/>\n",
       "<text text-anchor=\"middle\" x=\"123\" y=\"-264.8\" font-family=\"Times,serif\" font-size=\"14.00\" fill=\"red\">list</text>\n",
       "<text text-anchor=\"middle\" x=\"123\" y=\"-249.8\" font-family=\"Times,serif\" font-size=\"14.00\" fill=\"red\">3 items</text>\n",
       "</g>\n",
       "<!-- o139910842033568 -->\n",
       "<g id=\"node2\" class=\"node\"><title>o139910842033568</title>\n",
       "<polygon fill=\"#c3c3c3\" stroke=\"black\" points=\"70,-204 0,-204 0,-166 70,-166 70,-204\"/>\n",
       "<text text-anchor=\"middle\" x=\"35\" y=\"-188.8\" font-family=\"Times,serif\" font-size=\"14.00\">dict</text>\n",
       "<text text-anchor=\"middle\" x=\"35\" y=\"-173.8\" font-family=\"Times,serif\" font-size=\"14.00\">1 items</text>\n",
       "</g>\n",
       "<!-- o139910842033088&#45;&gt;o139910842033568 -->\n",
       "<g id=\"edge1\" class=\"edge\"><title>o139910842033088&#45;&gt;o139910842033568</title>\n",
       "<path fill=\"none\" stroke=\"black\" d=\"M101.247,-241.708C90.0578,-232.299 76.2635,-220.699 64.1643,-210.525\"/>\n",
       "<polygon fill=\"black\" stroke=\"black\" points=\"66.4088,-207.839 56.5026,-204.082 61.9036,-213.197 66.4088,-207.839\"/>\n",
       "</g>\n",
       "<!-- o139910623204048 -->\n",
       "<g id=\"node3\" class=\"node\"><title>o139910623204048</title>\n",
       "<polygon fill=\"#c3c3c3\" stroke=\"black\" points=\"158,-204 88,-204 88,-166 158,-166 158,-204\"/>\n",
       "<text text-anchor=\"middle\" x=\"123\" y=\"-188.8\" font-family=\"Times,serif\" font-size=\"14.00\">list</text>\n",
       "<text text-anchor=\"middle\" x=\"123\" y=\"-173.8\" font-family=\"Times,serif\" font-size=\"14.00\">1 items</text>\n",
       "</g>\n",
       "<!-- o139910842033088&#45;&gt;o139910623204048 -->\n",
       "<g id=\"edge2\" class=\"edge\"><title>o139910842033088&#45;&gt;o139910623204048</title>\n",
       "<path fill=\"none\" stroke=\"black\" d=\"M123,-241.708C123,-233.464 123,-223.538 123,-214.362\"/>\n",
       "<polygon fill=\"black\" stroke=\"black\" points=\"126.5,-214.082 123,-204.082 119.5,-214.082 126.5,-214.082\"/>\n",
       "</g>\n",
       "<!-- o139910841614416 -->\n",
       "<g id=\"node4\" class=\"node\"><title>o139910841614416</title>\n",
       "<polygon fill=\"#c3c3c3\" stroke=\"black\" points=\"106,-114 36,-114 36,-76 106,-76 106,-114\"/>\n",
       "<text text-anchor=\"middle\" x=\"71\" y=\"-98.8\" font-family=\"Times,serif\" font-size=\"14.00\">list</text>\n",
       "<text text-anchor=\"middle\" x=\"71\" y=\"-83.8\" font-family=\"Times,serif\" font-size=\"14.00\">1 items</text>\n",
       "</g>\n",
       "<!-- o139910842033088&#45;&gt;o139910841614416 -->\n",
       "<g id=\"edge3\" class=\"edge\"><title>o139910842033088&#45;&gt;o139910841614416</title>\n",
       "<path fill=\"none\" stroke=\"black\" d=\"M142.493,-241.75C151.845,-231.642 162.069,-218.256 167,-204 172.52,-188.039 174.654,-181.055 167,-166 155.974,-144.315 134.733,-127.754 115.028,-116.198\"/>\n",
       "<polygon fill=\"black\" stroke=\"black\" points=\"116.565,-113.047 106.125,-111.24 113.159,-119.163 116.565,-113.047\"/>\n",
       "</g>\n",
       "<!-- o139910842033568&#45;&gt;o139910841614416 -->\n",
       "<g id=\"edge4\" class=\"edge\"><title>o139910842033568&#45;&gt;o139910841614416</title>\n",
       "<path fill=\"none\" stroke=\"black\" d=\"M42.4592,-165.766C47.431,-153.613 54.0593,-137.411 59.6767,-123.679\"/>\n",
       "<polygon fill=\"black\" stroke=\"black\" points=\"63.0034,-124.791 63.5503,-114.21 56.5245,-122.141 63.0034,-124.791\"/>\n",
       "<text text-anchor=\"middle\" x=\"61.5\" y=\"-136.3\" font-family=\"Times,serif\" font-size=\"14.00\">a</text>\n",
       "</g>\n",
       "<!-- o139910623204048&#45;&gt;o139910841614416 -->\n",
       "<g id=\"edge5\" class=\"edge\"><title>o139910623204048&#45;&gt;o139910841614416</title>\n",
       "<path fill=\"none\" stroke=\"black\" d=\"M112.226,-165.766C104.905,-153.377 95.0972,-136.78 86.8848,-122.882\"/>\n",
       "<polygon fill=\"black\" stroke=\"black\" points=\"89.8612,-121.039 81.7606,-114.21 83.8347,-124.6 89.8612,-121.039\"/>\n",
       "</g>\n",
       "<!-- o94280173257472 -->\n",
       "<g id=\"node5\" class=\"node\"><title>o94280173257472</title>\n",
       "<polygon fill=\"#878787\" stroke=\"black\" points=\"98,-38 44,-38 44,-0 98,-0 98,-38\"/>\n",
       "<text text-anchor=\"middle\" x=\"71\" y=\"-22.8\" font-family=\"Times,serif\" font-size=\"14.00\">int</text>\n",
       "<text text-anchor=\"middle\" x=\"71\" y=\"-7.8\" font-family=\"Times,serif\" font-size=\"14.00\">1</text>\n",
       "</g>\n",
       "<!-- o139910841614416&#45;&gt;o94280173257472 -->\n",
       "<g id=\"edge6\" class=\"edge\"><title>o139910841614416&#45;&gt;o94280173257472</title>\n",
       "<path fill=\"none\" stroke=\"black\" d=\"M71,-75.7079C71,-67.4635 71,-57.5376 71,-48.3622\"/>\n",
       "<polygon fill=\"black\" stroke=\"black\" points=\"74.5001,-48.0817 71,-38.0817 67.5001,-48.0818 74.5001,-48.0817\"/>\n",
       "</g>\n",
       "</g>\n",
       "</svg>\n"
      ],
      "text/plain": [
       "<graphviz.files.Source at 0x7f3f8809f5d0>"
      ]
     },
     "execution_count": 99,
     "metadata": {},
     "output_type": "execute_result"
    }
   ],
   "source": [
    "import objgraph\n",
    "x=[1]\n",
    "y=[x,[x],{'a':x}]\n",
    "objgraph.show_refs([y], filename=\"refs.png\")"
   ]
  },
  {
   "cell_type": "markdown",
   "metadata": {},
   "source": [
    "### 2.6 小结\n",
    "- 哪些数据类型是可迭代（Iterable）的？代表可以用next()\n",
    "- 哪些数据类型是可散列（Hashable）的？代表具备unique\n",
    "- 哪些数据类型是可逆（Reversible）的？代表是sequence type\n",
    "- 哪些数据类型是可索引（Indexable）的？\n",
    "- 哪些数据类型是不可变（Immutable）的？\n",
    "\n",
    "- 对于原子类型数据来说，不论是int、float还是str,None,bool，都是immutable的\n",
    "- 凡是hashable的对象，一般都定义了一个方法`__hash__()`，返回对象的散列值\n",
    "- 一般来说，序列性的（sequence type）的都是可索引的，可逆的类型。\n",
    "- 除了list/str/tuple外，File对象和dict也是iterable的"
   ]
  },
  {
   "cell_type": "code",
   "execution_count": null,
   "metadata": {
    "ExecuteTime": {
     "end_time": "2020-06-02T23:42:05.590625Z",
     "start_time": "2020-06-02T23:42:05.588553Z"
    }
   },
   "outputs": [],
   "source": [
    "from collections.abc import Reversible"
   ]
  },
  {
   "cell_type": "code",
   "execution_count": null,
   "metadata": {
    "ExecuteTime": {
     "end_time": "2020-06-02T23:43:12.458510Z",
     "start_time": "2020-06-02T23:43:12.453430Z"
    }
   },
   "outputs": [],
   "source": [
    "isinstance(\"abcde\", Reversible)"
   ]
  },
  {
   "cell_type": "code",
   "execution_count": null,
   "metadata": {
    "ExecuteTime": {
     "end_time": "2020-06-02T23:15:35.768953Z",
     "start_time": "2020-06-02T23:15:35.763653Z"
    }
   },
   "outputs": [],
   "source": [
    "{(2,3,[4,5]):8}"
   ]
  },
  {
   "cell_type": "code",
   "execution_count": null,
   "metadata": {
    "ExecuteTime": {
     "end_time": "2020-06-02T23:08:40.679639Z",
     "start_time": "2020-06-02T23:08:40.676811Z"
    }
   },
   "outputs": [],
   "source": [
    "{None, 1, False}"
   ]
  },
  {
   "cell_type": "code",
   "execution_count": null,
   "metadata": {
    "ExecuteTime": {
     "end_time": "2020-06-02T23:11:54.493881Z",
     "start_time": "2020-06-02T23:11:54.491784Z"
    }
   },
   "outputs": [],
   "source": [
    "m=lambda x: x+5"
   ]
  },
  {
   "cell_type": "code",
   "execution_count": null,
   "metadata": {
    "ExecuteTime": {
     "end_time": "2020-06-02T23:12:35.301944Z",
     "start_time": "2020-06-02T23:12:35.299702Z"
    }
   },
   "outputs": [],
   "source": [
    "def f(a, b):\n",
    "    return a+b"
   ]
  },
  {
   "cell_type": "code",
   "execution_count": null,
   "metadata": {
    "ExecuteTime": {
     "end_time": "2020-06-02T23:12:42.841061Z",
     "start_time": "2020-06-02T23:12:42.835822Z"
    }
   },
   "outputs": [],
   "source": [
    "{None:1, False:2, 1:3, 2.1:5, bool:6, m:7, f:8}"
   ]
  },
  {
   "cell_type": "code",
   "execution_count": null,
   "metadata": {},
   "outputs": [],
   "source": [
    "print(__builtin__.__doc__)"
   ]
  }
 ],
 "metadata": {
  "kernelspec": {
   "display_name": "Python 3",
   "language": "python",
   "name": "python3"
  },
  "language_info": {
   "codemirror_mode": {
    "name": "ipython",
    "version": 3
   },
   "file_extension": ".py",
   "mimetype": "text/x-python",
   "name": "python",
   "nbconvert_exporter": "python",
   "pygments_lexer": "ipython3",
   "version": "3.7.6"
  },
  "toc": {
   "base_numbering": 1,
   "nav_menu": {},
   "number_sections": false,
   "sideBar": true,
   "skip_h1_title": false,
   "title_cell": "Table of Contents",
   "title_sidebar": "Contents",
   "toc_cell": false,
   "toc_position": {},
   "toc_section_display": true,
   "toc_window_display": false
  }
 },
 "nbformat": 4,
 "nbformat_minor": 4
}
