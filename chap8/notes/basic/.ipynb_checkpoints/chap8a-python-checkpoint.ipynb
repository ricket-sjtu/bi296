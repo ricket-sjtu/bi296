{
 "cells": [
  {
   "cell_type": "markdown",
   "metadata": {},
   "source": [
    "# 第八章A: Python基础入门\n",
    "___"
   ]
  },
  {
   "cell_type": "markdown",
   "metadata": {},
   "source": [
    "## 学习目标\n",
    "\n",
    "1. 掌握基本的Python语法：常用数据结构、函数、流程控制\n",
    "\n",
    "2. 迭代器(iterator)、生成器 (generator)\n",
    "\n",
    "3. 面向对象编程 (Object-Oriented Programming)\n",
    "\n",
    "4. 常用模块：str, os, sys、argparse、optparse、math、re等\n",
    "\n",
    "5. 案例代码分析"
   ]
  },
  {
   "cell_type": "markdown",
   "metadata": {},
   "source": [
    "## 1. 基本数据类型\n",
    "\n",
    "### 1.1 数据类型\n",
    "- 数据类型可用`type(data)`函数进行查看\n",
    "- 数据在内存中的储存地址可用`id(data)`查看\n",
    "- 数据可用的方法可用`dir(data)`进行查看"
   ]
  },
  {
   "cell_type": "code",
   "execution_count": null,
   "metadata": {},
   "outputs": [],
   "source": [
    "i = 5\n",
    "print(type(i))\n",
    "print(id(i))"
   ]
  },
  {
   "cell_type": "code",
   "execution_count": null,
   "metadata": {},
   "outputs": [],
   "source": [
    "dir(i)    # 列出当前数据的可用方法"
   ]
  },
  {
   "cell_type": "code",
   "execution_count": null,
   "metadata": {},
   "outputs": [],
   "source": [
    "# 5=00000101(取反))->11111010(补码)->11111001->10000110(原码)-6\n",
    "print(i.__invert__())"
   ]
  },
  {
   "cell_type": "code",
   "execution_count": null,
   "metadata": {},
   "outputs": [],
   "source": [
    "help(i.__gt__)"
   ]
  },
  {
   "cell_type": "markdown",
   "metadata": {},
   "source": [
    "### 1.2 整数型（int）\n",
    "- 整数型的数据一般比较简单\n",
    "- 能用的方法也比较少\n",
    "- `__gt__(other)`方法最后可通过`i > other`实现"
   ]
  },
  {
   "cell_type": "code",
   "execution_count": null,
   "metadata": {},
   "outputs": [],
   "source": [
    "i= 5\n",
    "type(i)"
   ]
  },
  {
   "cell_type": "code",
   "execution_count": null,
   "metadata": {},
   "outputs": [],
   "source": [
    "print(i.denominator)"
   ]
  },
  {
   "cell_type": "code",
   "execution_count": null,
   "metadata": {},
   "outputs": [],
   "source": [
    "print(i.numerator)"
   ]
  },
  {
   "cell_type": "code",
   "execution_count": null,
   "metadata": {},
   "outputs": [],
   "source": [
    "print(i.__gt__(3))"
   ]
  },
  {
   "cell_type": "markdown",
   "metadata": {},
   "source": [
    "### 1.3 布尔型（bool）\n",
    "- 布尔型只有True和False两个值\n",
    "- 下面的这些不同类型的值对应的都是`False`"
   ]
  },
  {
   "cell_type": "code",
   "execution_count": null,
   "metadata": {},
   "outputs": [],
   "source": [
    "print(bool(None), bool(0), bool(0.0), bool(\"\"), bool([]), bool(()), bool({}))"
   ]
  },
  {
   "cell_type": "markdown",
   "metadata": {},
   "source": [
    "- 布尔表达式返回的就是布尔值"
   ]
  },
  {
   "cell_type": "code",
   "execution_count": null,
   "metadata": {},
   "outputs": [],
   "source": [
    "print(5 >= 3)"
   ]
  },
  {
   "cell_type": "markdown",
   "metadata": {},
   "source": [
    "### 1.4 浮点数（float）\n",
    "- 浮点数一般指的就是小数值\n",
    "- 浮点数对应的方法与整型差别不大，就增减了一些\n",
    "- "
   ]
  },
  {
   "cell_type": "code",
   "execution_count": null,
   "metadata": {},
   "outputs": [],
   "source": [
    "f = 2.15\n",
    "type(f)"
   ]
  },
  {
   "cell_type": "markdown",
   "metadata": {},
   "source": [
    "### 1.5 字符串类型（str）"
   ]
  },
  {
   "cell_type": "code",
   "execution_count": null,
   "metadata": {},
   "outputs": [],
   "source": [
    "type('c')"
   ]
  },
  {
   "cell_type": "code",
   "execution_count": null,
   "metadata": {},
   "outputs": [],
   "source": [
    "s = \"ACCTAGGACGT\""
   ]
  },
  {
   "cell_type": "code",
   "execution_count": null,
   "metadata": {},
   "outputs": [],
   "source": [
    "print(s[0])"
   ]
  },
  {
   "cell_type": "code",
   "execution_count": null,
   "metadata": {},
   "outputs": [],
   "source": [
    "print(s[0:5:2])"
   ]
  },
  {
   "cell_type": "code",
   "execution_count": null,
   "metadata": {},
   "outputs": [],
   "source": [
    "s[3]='N'   # str is immutable object."
   ]
  },
  {
   "cell_type": "markdown",
   "metadata": {},
   "source": [
    "### 1.6 None类型（NoneType）\n",
    "- None是python的一种特殊类型"
   ]
  },
  {
   "cell_type": "code",
   "execution_count": null,
   "metadata": {},
   "outputs": [],
   "source": [
    "type(None)"
   ]
  },
  {
   "cell_type": "code",
   "execution_count": null,
   "metadata": {},
   "outputs": [],
   "source": [
    "a = list()\n",
    "print(a is None)"
   ]
  },
  {
   "cell_type": "markdown",
   "metadata": {},
   "source": [
    "### 1.7 Type类型\n",
    "- type也是一种特殊的类型"
   ]
  },
  {
   "cell_type": "code",
   "execution_count": null,
   "metadata": {},
   "outputs": [],
   "source": [
    "type(str)"
   ]
  },
  {
   "cell_type": "code",
   "execution_count": null,
   "metadata": {},
   "outputs": [],
   "source": [
    "type(float)"
   ]
  },
  {
   "cell_type": "markdown",
   "metadata": {},
   "source": [
    "## 2. 基本复合数据结构"
   ]
  },
  {
   "cell_type": "markdown",
   "metadata": {},
   "source": [
    "### 2.1 列表List\n",
    "\n",
    "- 列表是一种有序的、可修改的数据结构；\n",
    "- 列表元素可用`<list>[from_inclusive : to_exclusive : ±step_size]`访问，其中`from_inclusive`和`to_exclusive`是整数索引，`step_size`则是整数步长；\n",
    "- 列表可用`<list>.append(<el>)`或者`<list> += [<el>]`添加元素；\n",
    "- 列表还可以扩展`<list>.extend(<collection>)`或者`<list> += <collection>`；\n",
    "- 列表元素可以进行排序：`<list>.sort()`或`<list>=sorted(<collection>)`\n",
    "- 列表元素还可以逆序输出：`<list>.reverse()`或者`<list>=reversed(<list>)`\n",
    "- 列表可以进行推导计算：`<list> = [f(el) for el in <list>]`\n",
    "- 计算列表元素的和或积：`sum(<list>)`\n",
    "- 列表的乘法要注意是元素的重复：`[3] * 2`"
   ]
  },
  {
   "cell_type": "code",
   "execution_count": 1,
   "metadata": {
    "ExecuteTime": {
     "end_time": "2020-06-02T18:12:14.712301Z",
     "start_time": "2020-06-02T18:12:14.707346Z"
    }
   },
   "outputs": [
    {
     "name": "stdout",
     "output_type": "stream",
     "text": [
      "sorted(li) =  [1, 3, 4, 5, 7, 9]\n",
      "The outer function, sorted() does not change the value of the original list\n",
      "li =  [3, 5, 1, 9, 7, 4]\n",
      "But the sort() method will do.\n",
      "li =  [1, 3, 4, 5, 7, 9]\n"
     ]
    }
   ],
   "source": [
    "## 给列表元素排序的两种方式\n",
    "li = [3,5,1,9,7,4]\n",
    "print(\"sorted(li) = \", sorted(li))\n",
    "print(\"The outer function, sorted() does not change the value of the original list\")\n",
    "print(\"li = \", li)\n",
    "print(\"But the sort() method will do.\")\n",
    "li.sort()\n",
    "print(\"li = \", li)"
   ]
  },
  {
   "cell_type": "code",
   "execution_count": 2,
   "metadata": {
    "ExecuteTime": {
     "end_time": "2020-06-02T18:12:56.688660Z",
     "start_time": "2020-06-02T18:12:56.685441Z"
    }
   },
   "outputs": [
    {
     "name": "stdout",
     "output_type": "stream",
     "text": [
      "None\n",
      "[1, 3, 4, 5, 7, 9, [2, 3, 4]]\n"
     ]
    }
   ],
   "source": [
    "print(li.append([2,3,4]))\n",
    "print(li)"
   ]
  },
  {
   "cell_type": "code",
   "execution_count": 3,
   "metadata": {
    "ExecuteTime": {
     "end_time": "2020-06-02T18:13:12.134576Z",
     "start_time": "2020-06-02T18:13:12.131953Z"
    }
   },
   "outputs": [],
   "source": [
    "li.append((10,9))"
   ]
  },
  {
   "cell_type": "markdown",
   "metadata": {},
   "source": [
    "- 注意，在使用`extend()`的时候后面跟的参数必须是collection，而不能是单个元素\n",
    "- 而在使用`append()`的时候，跟的是元素，如果不是元素，会被作为列表的单个元素"
   ]
  },
  {
   "cell_type": "code",
   "execution_count": 4,
   "metadata": {
    "ExecuteTime": {
     "end_time": "2020-06-02T18:13:18.164001Z",
     "start_time": "2020-06-02T18:13:18.160200Z"
    }
   },
   "outputs": [
    {
     "name": "stdout",
     "output_type": "stream",
     "text": [
      "[1, 3, 4, 5, 7, 9, [2, 3, 4], (10, 9), 7, 8]\n"
     ]
    }
   ],
   "source": [
    "li.extend((7,8))\n",
    "print(li)"
   ]
  },
  {
   "cell_type": "markdown",
   "metadata": {},
   "source": [
    "- 计算列表元素的和"
   ]
  },
  {
   "cell_type": "code",
   "execution_count": 6,
   "metadata": {
    "ExecuteTime": {
     "end_time": "2020-06-02T18:14:13.670211Z",
     "start_time": "2020-06-02T18:14:13.667612Z"
    }
   },
   "outputs": [
    {
     "name": "stdout",
     "output_type": "stream",
     "text": [
      "29\n"
     ]
    }
   ],
   "source": [
    "print(sum(li[:6]))"
   ]
  },
  {
   "cell_type": "markdown",
   "metadata": {},
   "source": [
    "- 计算列表元素的乘积"
   ]
  },
  {
   "cell_type": "code",
   "execution_count": 7,
   "metadata": {
    "ExecuteTime": {
     "end_time": "2020-06-02T18:15:01.710393Z",
     "start_time": "2020-06-02T18:15:01.707320Z"
    }
   },
   "outputs": [
    {
     "name": "stdout",
     "output_type": "stream",
     "text": [
      "3780\n"
     ]
    }
   ],
   "source": [
    "from functools import reduce\n",
    "p = reduce(lambda x, y: x*y, li[:6])\n",
    "print(p)"
   ]
  },
  {
   "cell_type": "markdown",
   "metadata": {},
   "source": [
    "- 字符串可以转化为list"
   ]
  },
  {
   "cell_type": "code",
   "execution_count": 8,
   "metadata": {
    "ExecuteTime": {
     "end_time": "2020-06-02T18:15:26.590550Z",
     "start_time": "2020-06-02T18:15:26.587388Z"
    }
   },
   "outputs": [
    {
     "name": "stdout",
     "output_type": "stream",
     "text": [
      "['a', 'b', 'c', 'd', 'e', 'f', 'g']\n"
     ]
    }
   ],
   "source": [
    "s = \"abcdefg\"\n",
    "sl = list(s)\n",
    "print(sl)"
   ]
  },
  {
   "cell_type": "code",
   "execution_count": 9,
   "metadata": {
    "ExecuteTime": {
     "end_time": "2020-06-02T18:15:42.535279Z",
     "start_time": "2020-06-02T18:15:42.532109Z"
    }
   },
   "outputs": [
    {
     "name": "stdout",
     "output_type": "stream",
     "text": [
      "['ab', 'defg']\n"
     ]
    }
   ],
   "source": [
    "print(s.split(\"c\"))"
   ]
  },
  {
   "cell_type": "code",
   "execution_count": 10,
   "metadata": {
    "ExecuteTime": {
     "end_time": "2020-06-02T18:16:07.854242Z",
     "start_time": "2020-06-02T18:16:07.812308Z"
    }
   },
   "outputs": [],
   "source": [
    "s.split?"
   ]
  },
  {
   "cell_type": "markdown",
   "metadata": {},
   "source": [
    "- 对应的字符串list也能用`join`函数连接为字符串"
   ]
  },
  {
   "cell_type": "code",
   "execution_count": null,
   "metadata": {},
   "outputs": [],
   "source": [
    "print(\":\".join(sl))"
   ]
  },
  {
   "cell_type": "markdown",
   "metadata": {},
   "source": [
    "- 列表与整数的乘积要注意"
   ]
  },
  {
   "cell_type": "code",
   "execution_count": null,
   "metadata": {},
   "outputs": [],
   "source": [
    "print([[3]*i for i in range(5)])"
   ]
  },
  {
   "cell_type": "markdown",
   "metadata": {},
   "source": [
    "- 列表推导（list comprehension）"
   ]
  },
  {
   "cell_type": "code",
   "execution_count": 11,
   "metadata": {
    "ExecuteTime": {
     "end_time": "2020-06-02T18:17:01.223477Z",
     "start_time": "2020-06-02T18:17:01.219979Z"
    }
   },
   "outputs": [
    {
     "name": "stdout",
     "output_type": "stream",
     "text": [
      "[[1, 2, 3, 4, 5, 6, 7, 8, 9], [2, 4, 6, 8, 10, 12, 14, 16, 18], [3, 6, 9, 12, 15, 18, 21, 24, 27], [4, 8, 12, 16, 20, 24, 28, 32, 36], [5, 10, 15, 20, 25, 30, 35, 40, 45], [6, 12, 18, 24, 30, 36, 42, 48, 54], [7, 14, 21, 28, 35, 42, 49, 56, 63], [8, 16, 24, 32, 40, 48, 56, 64, 72], [9, 18, 27, 36, 45, 54, 63, 72, 81]]\n"
     ]
    }
   ],
   "source": [
    "mat = [[i*j for j in range(1,10)] for i in range(1,10)]\n",
    "print(mat)"
   ]
  },
  {
   "cell_type": "code",
   "execution_count": 12,
   "metadata": {
    "ExecuteTime": {
     "end_time": "2020-06-02T18:17:14.760800Z",
     "start_time": "2020-06-02T18:17:14.754035Z"
    }
   },
   "outputs": [
    {
     "data": {
      "text/plain": [
       "True"
      ]
     },
     "execution_count": 12,
     "metadata": {},
     "output_type": "execute_result"
    }
   ],
   "source": [
    "all(line[0] for line in mat)"
   ]
  },
  {
   "cell_type": "code",
   "execution_count": 13,
   "metadata": {
    "ExecuteTime": {
     "end_time": "2020-06-02T18:17:28.375099Z",
     "start_time": "2020-06-02T18:17:28.370111Z"
    }
   },
   "outputs": [
    {
     "name": "stdout",
     "output_type": "stream",
     "text": [
      "Element  1  is  1\n",
      "Element  2  is  2\n",
      "Element  3  is  3\n",
      "Element  4  is  4\n",
      "Element  5  is  5\n"
     ]
    }
   ],
   "source": [
    "li = [1,2,3,4,5]\n",
    "for ind, el in enumerate(li):\n",
    "    print(\"Element \", ind +1, \" is \", el)"
   ]
  },
  {
   "cell_type": "code",
   "execution_count": 14,
   "metadata": {
    "ExecuteTime": {
     "end_time": "2020-06-02T18:18:04.390041Z",
     "start_time": "2020-06-02T18:18:04.387562Z"
    }
   },
   "outputs": [
    {
     "name": "stdout",
     "output_type": "stream",
     "text": [
      "[1, 2, 3, 6, 4, 5]\n"
     ]
    }
   ],
   "source": [
    "li.insert(3, 6)\n",
    "print(li)"
   ]
  },
  {
   "cell_type": "code",
   "execution_count": 15,
   "metadata": {
    "ExecuteTime": {
     "end_time": "2020-06-02T18:18:14.206211Z",
     "start_time": "2020-06-02T18:18:14.203023Z"
    }
   },
   "outputs": [
    {
     "data": {
      "text/plain": [
       "3"
      ]
     },
     "execution_count": 15,
     "metadata": {},
     "output_type": "execute_result"
    }
   ],
   "source": [
    "li.index(6)"
   ]
  },
  {
   "cell_type": "code",
   "execution_count": 16,
   "metadata": {
    "ExecuteTime": {
     "end_time": "2020-06-02T18:18:25.062472Z",
     "start_time": "2020-06-02T18:18:25.059075Z"
    }
   },
   "outputs": [
    {
     "data": {
      "text/plain": [
       "['__add__',\n",
       " '__class__',\n",
       " '__contains__',\n",
       " '__delattr__',\n",
       " '__delitem__',\n",
       " '__dir__',\n",
       " '__doc__',\n",
       " '__eq__',\n",
       " '__format__',\n",
       " '__ge__',\n",
       " '__getattribute__',\n",
       " '__getitem__',\n",
       " '__gt__',\n",
       " '__hash__',\n",
       " '__iadd__',\n",
       " '__imul__',\n",
       " '__init__',\n",
       " '__init_subclass__',\n",
       " '__iter__',\n",
       " '__le__',\n",
       " '__len__',\n",
       " '__lt__',\n",
       " '__mul__',\n",
       " '__ne__',\n",
       " '__new__',\n",
       " '__reduce__',\n",
       " '__reduce_ex__',\n",
       " '__repr__',\n",
       " '__reversed__',\n",
       " '__rmul__',\n",
       " '__setattr__',\n",
       " '__setitem__',\n",
       " '__sizeof__',\n",
       " '__str__',\n",
       " '__subclasshook__',\n",
       " 'append',\n",
       " 'clear',\n",
       " 'copy',\n",
       " 'count',\n",
       " 'extend',\n",
       " 'index',\n",
       " 'insert',\n",
       " 'pop',\n",
       " 'remove',\n",
       " 'reverse',\n",
       " 'sort']"
      ]
     },
     "execution_count": 16,
     "metadata": {},
     "output_type": "execute_result"
    }
   ],
   "source": [
    "dir(li)"
   ]
  },
  {
   "cell_type": "code",
   "execution_count": 17,
   "metadata": {
    "ExecuteTime": {
     "end_time": "2020-06-02T18:18:54.166023Z",
     "start_time": "2020-06-02T18:18:54.162544Z"
    }
   },
   "outputs": [],
   "source": [
    "li.copy?"
   ]
  },
  {
   "cell_type": "markdown",
   "metadata": {},
   "source": [
    "### 2.2 元组tuple\n",
    "- 元组的slice操作与list相类\n",
    "- 但是注意tuple是immutable的：也就是说，`append()`、`extend()`, `pop()`，`sort()`、`reverse()`等==修改tuple的操作不能有==\n",
    "- 查找元素对应的索引：`<tuple>.index(<el>[,from,to])`（如果元素不存在，抛出ValueError错误）\n",
    "- 统计某个元素出现的次数：`<tuple>.count(<el>)`（如果元素不存在，返回0）"
   ]
  },
  {
   "cell_type": "code",
   "execution_count": 18,
   "metadata": {
    "ExecuteTime": {
     "end_time": "2020-06-02T18:30:26.240465Z",
     "start_time": "2020-06-02T18:30:26.237819Z"
    }
   },
   "outputs": [
    {
     "name": "stdout",
     "output_type": "stream",
     "text": [
      "(2, 8, 4, 3, 9, 3)\n"
     ]
    }
   ],
   "source": [
    "t = (2,8,4,3,9,3)\n",
    "print(t)"
   ]
  },
  {
   "cell_type": "code",
   "execution_count": 40,
   "metadata": {
    "ExecuteTime": {
     "end_time": "2020-06-02T18:40:31.432208Z",
     "start_time": "2020-06-02T18:40:31.429300Z"
    }
   },
   "outputs": [
    {
     "data": {
      "text/plain": [
       "list"
      ]
     },
     "execution_count": 40,
     "metadata": {},
     "output_type": "execute_result"
    }
   ],
   "source": [
    "type([1])"
   ]
  },
  {
   "cell_type": "code",
   "execution_count": 38,
   "metadata": {
    "ExecuteTime": {
     "end_time": "2020-06-02T18:40:01.920670Z",
     "start_time": "2020-06-02T18:40:01.917784Z"
    }
   },
   "outputs": [
    {
     "data": {
      "text/plain": [
       "3"
      ]
     },
     "execution_count": 38,
     "metadata": {},
     "output_type": "execute_result"
    }
   ],
   "source": [
    "t.index(3)"
   ]
  },
  {
   "cell_type": "code",
   "execution_count": 33,
   "metadata": {
    "ExecuteTime": {
     "end_time": "2020-06-02T18:34:44.847304Z",
     "start_time": "2020-06-02T18:34:44.843253Z"
    }
   },
   "outputs": [],
   "source": [
    "t.index?"
   ]
  },
  {
   "cell_type": "code",
   "execution_count": 19,
   "metadata": {
    "ExecuteTime": {
     "end_time": "2020-06-02T18:30:47.845442Z",
     "start_time": "2020-06-02T18:30:47.840008Z"
    }
   },
   "outputs": [
    {
     "data": {
      "text/plain": [
       "['__add__',\n",
       " '__class__',\n",
       " '__contains__',\n",
       " '__delattr__',\n",
       " '__dir__',\n",
       " '__doc__',\n",
       " '__eq__',\n",
       " '__format__',\n",
       " '__ge__',\n",
       " '__getattribute__',\n",
       " '__getitem__',\n",
       " '__getnewargs__',\n",
       " '__gt__',\n",
       " '__hash__',\n",
       " '__init__',\n",
       " '__init_subclass__',\n",
       " '__iter__',\n",
       " '__le__',\n",
       " '__len__',\n",
       " '__lt__',\n",
       " '__mul__',\n",
       " '__ne__',\n",
       " '__new__',\n",
       " '__reduce__',\n",
       " '__reduce_ex__',\n",
       " '__repr__',\n",
       " '__rmul__',\n",
       " '__setattr__',\n",
       " '__sizeof__',\n",
       " '__str__',\n",
       " '__subclasshook__',\n",
       " 'count',\n",
       " 'index']"
      ]
     },
     "execution_count": 19,
     "metadata": {},
     "output_type": "execute_result"
    }
   ],
   "source": [
    "dir(t)"
   ]
  },
  {
   "cell_type": "code",
   "execution_count": null,
   "metadata": {},
   "outputs": [],
   "source": [
    "?t.index"
   ]
  },
  {
   "cell_type": "code",
   "execution_count": null,
   "metadata": {},
   "outputs": [],
   "source": [
    "print(t.index(3, 4))"
   ]
  },
  {
   "cell_type": "code",
   "execution_count": 34,
   "metadata": {
    "ExecuteTime": {
     "end_time": "2020-06-02T18:35:33.903131Z",
     "start_time": "2020-06-02T18:35:33.895527Z"
    }
   },
   "outputs": [
    {
     "ename": "ValueError",
     "evalue": "tuple.index(x): x not in tuple",
     "output_type": "error",
     "traceback": [
      "\u001b[0;31m---------------------------------------------------------------------------\u001b[0m",
      "\u001b[0;31mValueError\u001b[0m                                Traceback (most recent call last)",
      "\u001b[0;32m<ipython-input-34-7100385dfcb7>\u001b[0m in \u001b[0;36m<module>\u001b[0;34m\u001b[0m\n\u001b[0;32m----> 1\u001b[0;31m \u001b[0mprint\u001b[0m\u001b[0;34m(\u001b[0m\u001b[0mt\u001b[0m\u001b[0;34m.\u001b[0m\u001b[0mindex\u001b[0m\u001b[0;34m(\u001b[0m\u001b[0;36m5\u001b[0m\u001b[0;34m)\u001b[0m\u001b[0;34m)\u001b[0m\u001b[0;34m\u001b[0m\u001b[0;34m\u001b[0m\u001b[0m\n\u001b[0m",
      "\u001b[0;31mValueError\u001b[0m: tuple.index(x): x not in tuple"
     ]
    }
   ],
   "source": [
    "print(t.index(5))"
   ]
  },
  {
   "cell_type": "code",
   "execution_count": null,
   "metadata": {},
   "outputs": [],
   "source": [
    "print(t[2:].count(5))"
   ]
  },
  {
   "cell_type": "code",
   "execution_count": 120,
   "metadata": {
    "ExecuteTime": {
     "end_time": "2020-06-02T21:16:06.710461Z",
     "start_time": "2020-06-02T21:16:06.705114Z"
    }
   },
   "outputs": [
    {
     "data": {
      "text/plain": [
       "True"
      ]
     },
     "execution_count": 120,
     "metadata": {},
     "output_type": "execute_result"
    }
   ],
   "source": [
    "t2 = ([3,4], 1, 2)\n",
    "isinstance(t2, Hashable)"
   ]
  },
  {
   "cell_type": "code",
   "execution_count": 122,
   "metadata": {
    "ExecuteTime": {
     "end_time": "2020-06-02T21:16:15.482590Z",
     "start_time": "2020-06-02T21:16:15.479672Z"
    }
   },
   "outputs": [
    {
     "data": {
      "text/plain": [
       "140095022002000"
      ]
     },
     "execution_count": 122,
     "metadata": {},
     "output_type": "execute_result"
    }
   ],
   "source": [
    "id(t2[0])"
   ]
  },
  {
   "cell_type": "code",
   "execution_count": 123,
   "metadata": {
    "ExecuteTime": {
     "end_time": "2020-06-02T21:16:18.044494Z",
     "start_time": "2020-06-02T21:16:18.041429Z"
    }
   },
   "outputs": [],
   "source": [
    "t2[0][1] = 8"
   ]
  },
  {
   "cell_type": "code",
   "execution_count": 124,
   "metadata": {
    "ExecuteTime": {
     "end_time": "2020-06-02T21:16:19.700313Z",
     "start_time": "2020-06-02T21:16:19.695493Z"
    }
   },
   "outputs": [
    {
     "data": {
      "text/plain": [
       "140095022002000"
      ]
     },
     "execution_count": 124,
     "metadata": {},
     "output_type": "execute_result"
    }
   ],
   "source": [
    "id(t2[0])"
   ]
  },
  {
   "cell_type": "code",
   "execution_count": 129,
   "metadata": {
    "ExecuteTime": {
     "end_time": "2020-06-02T21:30:01.409288Z",
     "start_time": "2020-06-02T21:30:01.404611Z"
    }
   },
   "outputs": [
    {
     "ename": "TypeError",
     "evalue": "unhashable type: 'list'",
     "output_type": "error",
     "traceback": [
      "\u001b[0;31m---------------------------------------------------------------------------\u001b[0m",
      "\u001b[0;31mTypeError\u001b[0m                                 Traceback (most recent call last)",
      "\u001b[0;32m<ipython-input-129-787162c077a0>\u001b[0m in \u001b[0;36m<module>\u001b[0;34m\u001b[0m\n\u001b[0;32m----> 1\u001b[0;31m \u001b[0mt2\u001b[0m\u001b[0;34m.\u001b[0m\u001b[0m__hash__\u001b[0m\u001b[0;34m(\u001b[0m\u001b[0;34m)\u001b[0m\u001b[0;34m\u001b[0m\u001b[0;34m\u001b[0m\u001b[0m\n\u001b[0m",
      "\u001b[0;31mTypeError\u001b[0m: unhashable type: 'list'"
     ]
    }
   ],
   "source": [
    "t2.__hash__()"
   ]
  },
  {
   "cell_type": "code",
   "execution_count": 128,
   "metadata": {
    "ExecuteTime": {
     "end_time": "2020-06-02T21:29:50.861665Z",
     "start_time": "2020-06-02T21:29:50.859062Z"
    }
   },
   "outputs": [
    {
     "data": {
      "text/plain": [
       "True"
      ]
     },
     "execution_count": 128,
     "metadata": {},
     "output_type": "execute_result"
    }
   ],
   "source": [
    "isinstance(t2, Hashable)"
   ]
  },
  {
   "cell_type": "code",
   "execution_count": 116,
   "metadata": {
    "ExecuteTime": {
     "end_time": "2020-06-02T21:15:06.614755Z",
     "start_time": "2020-06-02T21:15:06.608128Z"
    }
   },
   "outputs": [
    {
     "ename": "TypeError",
     "evalue": "'tuple' object does not support item assignment",
     "output_type": "error",
     "traceback": [
      "\u001b[0;31m---------------------------------------------------------------------------\u001b[0m",
      "\u001b[0;31mTypeError\u001b[0m                                 Traceback (most recent call last)",
      "\u001b[0;32m<ipython-input-116-22a2aaf094d5>\u001b[0m in \u001b[0;36m<module>\u001b[0;34m\u001b[0m\n\u001b[0;32m----> 1\u001b[0;31m \u001b[0mt2\u001b[0m\u001b[0;34m[\u001b[0m\u001b[0;36m0\u001b[0m\u001b[0;34m]\u001b[0m \u001b[0;34m=\u001b[0m \u001b[0;34m[\u001b[0m\u001b[0;36m3\u001b[0m\u001b[0;34m,\u001b[0m \u001b[0;36m8\u001b[0m\u001b[0;34m]\u001b[0m\u001b[0;34m\u001b[0m\u001b[0;34m\u001b[0m\u001b[0m\n\u001b[0m",
      "\u001b[0;31mTypeError\u001b[0m: 'tuple' object does not support item assignment"
     ]
    }
   ],
   "source": [
    "t2[0] = [3, 8]"
   ]
  },
  {
   "cell_type": "code",
   "execution_count": 112,
   "metadata": {
    "ExecuteTime": {
     "end_time": "2020-06-02T21:10:30.949925Z",
     "start_time": "2020-06-02T21:10:30.881339Z"
    }
   },
   "outputs": [
    {
     "data": {
      "image/svg+xml": [
       "<?xml version=\"1.0\" encoding=\"UTF-8\" standalone=\"no\"?>\n",
       "<!DOCTYPE svg PUBLIC \"-//W3C//DTD SVG 1.1//EN\"\n",
       " \"http://www.w3.org/Graphics/SVG/1.1/DTD/svg11.dtd\">\n",
       "<!-- Generated by graphviz version 2.30.1 (20180420.1509)\n",
       " -->\n",
       "<!-- Title: ObjectGraph Pages: 1 -->\n",
       "<svg width=\"250pt\" height=\"194pt\"\n",
       " viewBox=\"0.00 0.00 250.00 194.00\" xmlns=\"http://www.w3.org/2000/svg\" xmlns:xlink=\"http://www.w3.org/1999/xlink\">\n",
       "<g id=\"graph0\" class=\"graph\" transform=\"scale(1 1) rotate(0) translate(4 190)\">\n",
       "<title>ObjectGraph</title>\n",
       "<polygon fill=\"white\" stroke=\"white\" points=\"-4,5 -4,-190 247,-190 247,5 -4,5\"/>\n",
       "<!-- o140095020364416 -->\n",
       "<g id=\"node1\" class=\"node\"><title>o140095020364416</title>\n",
       "<polygon fill=\"#ffffff\" stroke=\"black\" points=\"134,-186 64,-186 64,-148 134,-148 134,-186\"/>\n",
       "<text text-anchor=\"middle\" x=\"99\" y=\"-170.8\" font-family=\"Times,serif\" font-size=\"14.00\" fill=\"red\">tuple</text>\n",
       "<text text-anchor=\"middle\" x=\"99\" y=\"-155.8\" font-family=\"Times,serif\" font-size=\"14.00\" fill=\"red\">3 items</text>\n",
       "</g>\n",
       "<!-- o94055739249440 -->\n",
       "<g id=\"node2\" class=\"node\"><title>o94055739249440</title>\n",
       "<polygon fill=\"#c3c3c3\" stroke=\"black\" points=\"54,-112 0,-112 0,-74 54,-74 54,-112\"/>\n",
       "<text text-anchor=\"middle\" x=\"27\" y=\"-96.8\" font-family=\"Times,serif\" font-size=\"14.00\">int</text>\n",
       "<text text-anchor=\"middle\" x=\"27\" y=\"-81.8\" font-family=\"Times,serif\" font-size=\"14.00\">2</text>\n",
       "</g>\n",
       "<!-- o140095020364416&#45;&gt;o94055739249440 -->\n",
       "<g id=\"edge1\" class=\"edge\"><title>o140095020364416&#45;&gt;o94055739249440</title>\n",
       "<path fill=\"none\" stroke=\"black\" d=\"M80.8314,-147.831C72.2848,-139.285 61.9443,-128.944 52.6198,-119.62\"/>\n",
       "<polygon fill=\"black\" stroke=\"black\" points=\"54.9592,-117.009 45.4133,-112.413 50.0095,-121.959 54.9592,-117.009\"/>\n",
       "</g>\n",
       "<!-- o94055739249408 -->\n",
       "<g id=\"node3\" class=\"node\"><title>o94055739249408</title>\n",
       "<polygon fill=\"#c3c3c3\" stroke=\"black\" points=\"126,-112 72,-112 72,-74 126,-74 126,-112\"/>\n",
       "<text text-anchor=\"middle\" x=\"99\" y=\"-96.8\" font-family=\"Times,serif\" font-size=\"14.00\">int</text>\n",
       "<text text-anchor=\"middle\" x=\"99\" y=\"-81.8\" font-family=\"Times,serif\" font-size=\"14.00\">1</text>\n",
       "</g>\n",
       "<!-- o140095020364416&#45;&gt;o94055739249408 -->\n",
       "<g id=\"edge2\" class=\"edge\"><title>o140095020364416&#45;&gt;o94055739249408</title>\n",
       "<path fill=\"none\" stroke=\"black\" d=\"M99,-147.831C99,-140.131 99,-130.974 99,-122.417\"/>\n",
       "<polygon fill=\"black\" stroke=\"black\" points=\"102.5,-122.413 99,-112.413 95.5001,-122.413 102.5,-122.413\"/>\n",
       "</g>\n",
       "<!-- o140095005062720 -->\n",
       "<g id=\"node4\" class=\"node\"><title>o140095005062720</title>\n",
       "<polygon fill=\"#c3c3c3\" stroke=\"black\" points=\"214,-112 144,-112 144,-74 214,-74 214,-112\"/>\n",
       "<text text-anchor=\"middle\" x=\"179\" y=\"-96.8\" font-family=\"Times,serif\" font-size=\"14.00\">list</text>\n",
       "<text text-anchor=\"middle\" x=\"179\" y=\"-81.8\" font-family=\"Times,serif\" font-size=\"14.00\">2 items</text>\n",
       "</g>\n",
       "<!-- o140095020364416&#45;&gt;o140095005062720 -->\n",
       "<g id=\"edge3\" class=\"edge\"><title>o140095020364416&#45;&gt;o140095005062720</title>\n",
       "<path fill=\"none\" stroke=\"black\" d=\"M119.187,-147.831C128.851,-139.134 140.58,-128.578 151.082,-119.127\"/>\n",
       "<polygon fill=\"black\" stroke=\"black\" points=\"153.728,-121.454 158.819,-112.163 149.045,-116.251 153.728,-121.454\"/>\n",
       "</g>\n",
       "<!-- o94055739249536 -->\n",
       "<g id=\"node5\" class=\"node\"><title>o94055739249536</title>\n",
       "<polygon fill=\"#878787\" stroke=\"black\" points=\"170,-38 116,-38 116,-0 170,-0 170,-38\"/>\n",
       "<text text-anchor=\"middle\" x=\"143\" y=\"-22.8\" font-family=\"Times,serif\" font-size=\"14.00\">int</text>\n",
       "<text text-anchor=\"middle\" x=\"143\" y=\"-7.8\" font-family=\"Times,serif\" font-size=\"14.00\">5</text>\n",
       "</g>\n",
       "<!-- o140095005062720&#45;&gt;o94055739249536 -->\n",
       "<g id=\"edge4\" class=\"edge\"><title>o140095005062720&#45;&gt;o94055739249536</title>\n",
       "<path fill=\"none\" stroke=\"black\" d=\"M169.916,-73.8314C165.939,-65.8771 161.185,-56.369 156.786,-47.5723\"/>\n",
       "<polygon fill=\"black\" stroke=\"black\" points=\"159.809,-45.7923 152.207,-38.4133 153.548,-48.9228 159.809,-45.7923\"/>\n",
       "</g>\n",
       "<!-- o94055739249472 -->\n",
       "<g id=\"node6\" class=\"node\"><title>o94055739249472</title>\n",
       "<polygon fill=\"#878787\" stroke=\"black\" points=\"242,-38 188,-38 188,-0 242,-0 242,-38\"/>\n",
       "<text text-anchor=\"middle\" x=\"215\" y=\"-22.8\" font-family=\"Times,serif\" font-size=\"14.00\">int</text>\n",
       "<text text-anchor=\"middle\" x=\"215\" y=\"-7.8\" font-family=\"Times,serif\" font-size=\"14.00\">3</text>\n",
       "</g>\n",
       "<!-- o140095005062720&#45;&gt;o94055739249472 -->\n",
       "<g id=\"edge5\" class=\"edge\"><title>o140095005062720&#45;&gt;o94055739249472</title>\n",
       "<path fill=\"none\" stroke=\"black\" d=\"M188.084,-73.8314C192.061,-65.8771 196.815,-56.369 201.214,-47.5723\"/>\n",
       "<polygon fill=\"black\" stroke=\"black\" points=\"204.452,-48.9228 205.793,-38.4133 198.191,-45.7923 204.452,-48.9228\"/>\n",
       "</g>\n",
       "</g>\n",
       "</svg>\n"
      ],
      "text/plain": [
       "<graphviz.files.Source at 0x7f6a6949f350>"
      ]
     },
     "execution_count": 112,
     "metadata": {},
     "output_type": "execute_result"
    }
   ],
   "source": [
    "import objgraph\n",
    "objgraph.show_refs([t2])"
   ]
  },
  {
   "cell_type": "code",
   "execution_count": 110,
   "metadata": {
    "ExecuteTime": {
     "end_time": "2020-06-02T21:09:41.179667Z",
     "start_time": "2020-06-02T21:09:41.177420Z"
    }
   },
   "outputs": [],
   "source": [
    "t2[0][1]=5"
   ]
  },
  {
   "cell_type": "markdown",
   "metadata": {},
   "source": [
    "### 2.3 字典dict\n",
    "- 可以说，字典是键值对（key-value）的集合\n",
    "- 字典的键必须是唯一的（unique）且不可变的（immutable），所以哪些类型可以作为字典的键，字符串？整型数值？浮点数？集合？列表？元组？或者其他的类型\n",
    "- 创建字典：`<dict> = {<key1>:<val1>, <key2>:<val2>, ...}`或者`<dict>=dict()`\n",
    "- 返回键的列表（无序）：`<dict>.keys()`\n",
    "- 返回值的列表（无序）：`<dict>.values()`\n",
    "- 返回（键，值）构成的元组的列表：`<dict>.items()`\n",
    "- 返回某个键对应的值：`<dict>[<key>]`或者`<dict>.get(<key>, default=None)`\n",
    "- 设置某个键对应的默认值：`<dict>.setdefault(<key>, default=None)`\n",
    "- 具有固定默认值类型的defaultdict：`collections.defaultdict(<type>)`\n",
    "- 具有固定默认值的defaultdict：`collections.defaultdict(lambda: 1)`\n",
    "- 将具有key-value对的类型转换为字典：`dict(<collection>)`\n",
    "- 将两个list转换为dict：`dict(zip(<keys>, <vals>))`\n",
    "- 从键创建dict：`dict.fromkeys(<keys>[, <vals>])`\n",
    "- 更新键值对（如果已经存在的更新值，如果不存在的添加键值对）：`<dict>.update(<dict>)`\n",
    "- 删除元素（如果不存在key则抛出KeyError错误）：`val = <dict>.pop(<key>)`\n",
    "- 返回某个值对应的键的集合：`{k for k,v in <dict>.items() if v==value}`\n",
    "- 返回字典的子集：`{k:v for k, v in <dict>.items if k in <keys>}`"
   ]
  },
  {
   "cell_type": "code",
   "execution_count": 41,
   "metadata": {
    "ExecuteTime": {
     "end_time": "2020-06-02T18:42:46.954560Z",
     "start_time": "2020-06-02T18:42:46.950995Z"
    }
   },
   "outputs": [
    {
     "data": {
      "text/plain": [
       "dict"
      ]
     },
     "execution_count": 41,
     "metadata": {},
     "output_type": "execute_result"
    }
   ],
   "source": [
    "d = {\"A\":0, \"C\":1, \"G\":2, \"T\":3}\n",
    "type(d)"
   ]
  },
  {
   "cell_type": "code",
   "execution_count": 42,
   "metadata": {
    "ExecuteTime": {
     "end_time": "2020-06-02T18:43:23.670819Z",
     "start_time": "2020-06-02T18:43:23.668398Z"
    }
   },
   "outputs": [],
   "source": [
    "d = {\"A\":0, \"C\":1, \"G\":2, \"T\":3, \"A\":4}"
   ]
  },
  {
   "cell_type": "code",
   "execution_count": 43,
   "metadata": {
    "ExecuteTime": {
     "end_time": "2020-06-02T18:43:31.985270Z",
     "start_time": "2020-06-02T18:43:31.982485Z"
    }
   },
   "outputs": [
    {
     "data": {
      "text/plain": [
       "{'A': 4, 'C': 1, 'G': 2, 'T': 3}"
      ]
     },
     "execution_count": 43,
     "metadata": {},
     "output_type": "execute_result"
    }
   ],
   "source": [
    "d"
   ]
  },
  {
   "cell_type": "code",
   "execution_count": 44,
   "metadata": {
    "ExecuteTime": {
     "end_time": "2020-06-02T18:44:03.639173Z",
     "start_time": "2020-06-02T18:44:03.635758Z"
    }
   },
   "outputs": [
    {
     "data": {
      "text/plain": [
       "4"
      ]
     },
     "execution_count": 44,
     "metadata": {},
     "output_type": "execute_result"
    }
   ],
   "source": [
    "d[\"A\"]"
   ]
  },
  {
   "cell_type": "code",
   "execution_count": 47,
   "metadata": {
    "ExecuteTime": {
     "end_time": "2020-06-02T18:45:01.785285Z",
     "start_time": "2020-06-02T18:45:01.782093Z"
    }
   },
   "outputs": [
    {
     "name": "stdout",
     "output_type": "stream",
     "text": [
      "A 4\n",
      "C 1\n",
      "G 2\n",
      "T 3\n"
     ]
    }
   ],
   "source": [
    "for k, v in d.items():\n",
    "    print(k, v)"
   ]
  },
  {
   "cell_type": "code",
   "execution_count": 48,
   "metadata": {
    "ExecuteTime": {
     "end_time": "2020-06-02T18:45:31.661725Z",
     "start_time": "2020-06-02T18:45:31.658702Z"
    }
   },
   "outputs": [
    {
     "name": "stdout",
     "output_type": "stream",
     "text": [
      "4\n",
      "1\n",
      "2\n",
      "3\n"
     ]
    }
   ],
   "source": [
    "for k in d.keys():\n",
    "    print(d[k])"
   ]
  },
  {
   "cell_type": "code",
   "execution_count": 49,
   "metadata": {
    "ExecuteTime": {
     "end_time": "2020-06-02T18:45:48.650380Z",
     "start_time": "2020-06-02T18:45:48.645080Z"
    }
   },
   "outputs": [
    {
     "ename": "KeyError",
     "evalue": "'N'",
     "output_type": "error",
     "traceback": [
      "\u001b[0;31m---------------------------------------------------------------------------\u001b[0m",
      "\u001b[0;31mKeyError\u001b[0m                                  Traceback (most recent call last)",
      "\u001b[0;32m<ipython-input-49-5c1162e2cf27>\u001b[0m in \u001b[0;36m<module>\u001b[0;34m\u001b[0m\n\u001b[0;32m----> 1\u001b[0;31m \u001b[0md\u001b[0m\u001b[0;34m[\u001b[0m\u001b[0;34m\"N\"\u001b[0m\u001b[0;34m]\u001b[0m\u001b[0;34m\u001b[0m\u001b[0;34m\u001b[0m\u001b[0m\n\u001b[0m",
      "\u001b[0;31mKeyError\u001b[0m: 'N'"
     ]
    }
   ],
   "source": [
    "d[\"N\"]"
   ]
  },
  {
   "cell_type": "code",
   "execution_count": 50,
   "metadata": {
    "ExecuteTime": {
     "end_time": "2020-06-02T18:46:00.374048Z",
     "start_time": "2020-06-02T18:46:00.371481Z"
    }
   },
   "outputs": [],
   "source": [
    "d.get(\"N\")"
   ]
  },
  {
   "cell_type": "code",
   "execution_count": 52,
   "metadata": {
    "ExecuteTime": {
     "end_time": "2020-06-02T18:46:41.611252Z",
     "start_time": "2020-06-02T18:46:41.605496Z"
    }
   },
   "outputs": [
    {
     "data": {
      "text/plain": [
       "-1"
      ]
     },
     "execution_count": 52,
     "metadata": {},
     "output_type": "execute_result"
    }
   ],
   "source": [
    "d.get(\"N\", -1)"
   ]
  },
  {
   "cell_type": "code",
   "execution_count": 56,
   "metadata": {
    "ExecuteTime": {
     "end_time": "2020-06-02T18:48:04.622366Z",
     "start_time": "2020-06-02T18:48:04.620141Z"
    }
   },
   "outputs": [],
   "source": [
    "d2 = d.fromkeys(d.keys(), 0)"
   ]
  },
  {
   "cell_type": "code",
   "execution_count": 57,
   "metadata": {
    "ExecuteTime": {
     "end_time": "2020-06-02T18:48:09.860140Z",
     "start_time": "2020-06-02T18:48:09.854689Z"
    }
   },
   "outputs": [
    {
     "name": "stdout",
     "output_type": "stream",
     "text": [
      "{'A': 0, 'C': 0, 'G': 0, 'T': 0}\n"
     ]
    }
   ],
   "source": [
    "print(d2)"
   ]
  },
  {
   "cell_type": "code",
   "execution_count": 60,
   "metadata": {
    "ExecuteTime": {
     "end_time": "2020-06-02T18:50:25.810119Z",
     "start_time": "2020-06-02T18:50:25.807511Z"
    }
   },
   "outputs": [],
   "source": [
    "d.update([('N', 4),('J',5)])"
   ]
  },
  {
   "cell_type": "code",
   "execution_count": 96,
   "metadata": {
    "ExecuteTime": {
     "end_time": "2020-06-02T21:01:04.072497Z",
     "start_time": "2020-06-02T21:01:04.068742Z"
    }
   },
   "outputs": [],
   "source": [
    "nucs[\"N\"] = 4"
   ]
  },
  {
   "cell_type": "code",
   "execution_count": 97,
   "metadata": {
    "ExecuteTime": {
     "end_time": "2020-06-02T21:01:04.136269Z",
     "start_time": "2020-06-02T21:01:04.134056Z"
    }
   },
   "outputs": [],
   "source": [
    "nucs.update([(\"N\", 4)])"
   ]
  },
  {
   "cell_type": "code",
   "execution_count": 98,
   "metadata": {
    "ExecuteTime": {
     "end_time": "2020-06-02T21:01:07.910469Z",
     "start_time": "2020-06-02T21:01:07.907005Z"
    }
   },
   "outputs": [
    {
     "name": "stdout",
     "output_type": "stream",
     "text": [
      "{'A': 0, 'C': 1, 'G': 2, 'T': 3, 'N': 4}\n"
     ]
    }
   ],
   "source": [
    "print(nucs)"
   ]
  },
  {
   "cell_type": "code",
   "execution_count": 99,
   "metadata": {
    "ExecuteTime": {
     "end_time": "2020-06-02T21:03:08.854633Z",
     "start_time": "2020-06-02T21:03:08.851226Z"
    }
   },
   "outputs": [
    {
     "data": {
      "text/plain": [
       "{'N': -1}"
      ]
     },
     "execution_count": 99,
     "metadata": {},
     "output_type": "execute_result"
    }
   ],
   "source": [
    "nucs.fromkeys([\"N\"], -1)"
   ]
  },
  {
   "cell_type": "code",
   "execution_count": 107,
   "metadata": {
    "ExecuteTime": {
     "end_time": "2020-06-02T21:04:47.902088Z",
     "start_time": "2020-06-02T21:04:47.898842Z"
    }
   },
   "outputs": [
    {
     "data": {
      "text/plain": [
       "4"
      ]
     },
     "execution_count": 107,
     "metadata": {},
     "output_type": "execute_result"
    }
   ],
   "source": [
    "nucs.setdefault(\"N\", 4)"
   ]
  },
  {
   "cell_type": "code",
   "execution_count": 108,
   "metadata": {
    "ExecuteTime": {
     "end_time": "2020-06-02T21:04:49.842252Z",
     "start_time": "2020-06-02T21:04:49.836049Z"
    }
   },
   "outputs": [
    {
     "data": {
      "text/plain": [
       "{'A': 0, 'C': 1, 'G': 2, 'T': 3, 'N': 4}"
      ]
     },
     "execution_count": 108,
     "metadata": {},
     "output_type": "execute_result"
    }
   ],
   "source": [
    "nucs"
   ]
  },
  {
   "cell_type": "markdown",
   "metadata": {},
   "source": [
    "### 2.4 集合set\n",
    "> An **unordered** collection of **unique elements**.\n",
    "\n",
    "- 集合的定义：`<set> = set()`或`<set> = {<el>, <el>, ...}`\n",
    "- 集合添加元素：`<set>.add(<el>)`或者`<set> |= {<el>}`\n",
    "- 集合更新：`<set>.update(<collection>)`或者`<set> |= <set>`\n",
    "- 集合的并集：`<set>.union(<collection>)`或`<set> | <set>`\n",
    "- 集合的交集：`<set>.intersection(<collection>)`或`<set> & <set>`\n",
    "- 集合的差集：`<set>.difference(<collection>)`或`<set> - <set>`\n",
    "- 集合的对称差：`<set>.symmetric_difference(<collection>)`或`<set> ^ <set>`或`<set> | <set> - <set> & <set>`\n",
    "- 集合的包含关系：\n",
    "  * 子集：`<set>.issubset(<collection>)`或`<set> <= <set>`\n",
    "  * 超集：`<set>.issuperset(<collection>`或`<set> >= <set>`\n",
    "- 集合的其他操作：\n",
    "  * 弹出元素：`<el> = <set>.pop()`（如果集合为空，报错KeyError）\n",
    "  * 删除元素：`<set>.remove(<el>)`（如果元素不存在，报错KeyError）\n",
    "  * 删除元素：`<set>.discard(<el>)`（元素即使不存在也不报错）\n",
    "  \n",
    "#### 集合的延伸：frozen set\n",
    "- frozen set是不可变的（immutable）以及可散列的（hashable，唯一性的保证）\n",
    "- 因此，frozen set可作为字典的键（key）和集合的元素\n",
    "- `<frozenset> = frozenset(<collection>)`"
   ]
  },
  {
   "cell_type": "code",
   "execution_count": 78,
   "metadata": {
    "ExecuteTime": {
     "end_time": "2020-06-02T19:59:59.339345Z",
     "start_time": "2020-06-02T19:59:59.336373Z"
    }
   },
   "outputs": [
    {
     "data": {
      "text/plain": [
       "'set() -> new empty set object\\nset(iterable) -> new set object\\n\\nBuild an unordered collection of unique elements.'"
      ]
     },
     "execution_count": 78,
     "metadata": {},
     "output_type": "execute_result"
    }
   ],
   "source": [
    "s.__doc__"
   ]
  },
  {
   "cell_type": "code",
   "execution_count": 72,
   "metadata": {
    "ExecuteTime": {
     "end_time": "2020-06-02T19:59:43.037450Z",
     "start_time": "2020-06-02T19:59:43.034109Z"
    }
   },
   "outputs": [
    {
     "data": {
      "text/plain": [
       "set"
      ]
     },
     "execution_count": 72,
     "metadata": {},
     "output_type": "execute_result"
    }
   ],
   "source": [
    "s = {1,3,4,5,6}\n",
    "type(s)"
   ]
  },
  {
   "cell_type": "code",
   "execution_count": 73,
   "metadata": {
    "ExecuteTime": {
     "end_time": "2020-06-02T19:59:43.588242Z",
     "start_time": "2020-06-02T19:59:43.586058Z"
    }
   },
   "outputs": [],
   "source": [
    "from collections.abc import Hashable"
   ]
  },
  {
   "cell_type": "code",
   "execution_count": 74,
   "metadata": {
    "ExecuteTime": {
     "end_time": "2020-06-02T19:59:44.101134Z",
     "start_time": "2020-06-02T19:59:44.097878Z"
    },
    "scrolled": true
   },
   "outputs": [
    {
     "data": {
      "text/plain": [
       "True"
      ]
     },
     "execution_count": 74,
     "metadata": {},
     "output_type": "execute_result"
    }
   ],
   "source": [
    "isinstance(\"abc\", Hashable)"
   ]
  },
  {
   "cell_type": "code",
   "execution_count": 75,
   "metadata": {
    "ExecuteTime": {
     "end_time": "2020-06-02T19:59:44.590922Z",
     "start_time": "2020-06-02T19:59:44.587621Z"
    }
   },
   "outputs": [],
   "source": [
    "?Hashable"
   ]
  },
  {
   "cell_type": "code",
   "execution_count": 77,
   "metadata": {
    "ExecuteTime": {
     "end_time": "2020-06-02T19:59:46.141255Z",
     "start_time": "2020-06-02T19:59:46.137641Z"
    }
   },
   "outputs": [
    {
     "data": {
      "text/plain": [
       "{frozenset({'a', 'c', 'g', 'n', 't'}): [0, 1, 2, 3, 4]}"
      ]
     },
     "execution_count": 77,
     "metadata": {},
     "output_type": "execute_result"
    }
   ],
   "source": [
    "fset = frozenset(['a', 'c', 'g', 't', 'n'])\n",
    "dict({fset:[0,1,2,3,4]})"
   ]
  },
  {
   "cell_type": "markdown",
   "metadata": {},
   "source": [
    "### 2.5 图形化数据结构"
   ]
  },
  {
   "cell_type": "code",
   "execution_count": null,
   "metadata": {},
   "outputs": [],
   "source": [
    "import objgraph\n",
    "x=[1]\n",
    "y=[x,[x],{'a':x}]\n",
    "objgraph.show_refs([y], filename=\"refs.png\")"
   ]
  },
  {
   "cell_type": "markdown",
   "metadata": {},
   "source": [
    "### 2.6 小结\n",
    "- 哪些数据类型是可迭代（Iterable）的？代表可以用next()\n",
    "- 哪些数据类型是可散列（Hashable）的？代表具备unique\n",
    "- 哪些数据类型是可逆（Reversible）的？代表是sequence type\n",
    "- 哪些数据类型是可索引（Indexable）的？\n",
    "- 哪些数据类型是不可变（Immutable）的？\n",
    "\n",
    "- 对于原子类型数据来说，不论是int、float还是str,None,bool，都是immutable的\n",
    "- 凡是hashable的对象，一般都定义了一个方法`__hash__()`，返回对象的散列值\n",
    "- 一般来说，序列性的（sequence type）的都是可索引的，可逆的类型。\n",
    "- 除了list/str/tuple外，File对象和dict也是iterable的"
   ]
  },
  {
   "cell_type": "code",
   "execution_count": 169,
   "metadata": {
    "ExecuteTime": {
     "end_time": "2020-06-02T23:42:05.590625Z",
     "start_time": "2020-06-02T23:42:05.588553Z"
    }
   },
   "outputs": [],
   "source": [
    "from collections.abc import Reversible"
   ]
  },
  {
   "cell_type": "code",
   "execution_count": 173,
   "metadata": {
    "ExecuteTime": {
     "end_time": "2020-06-02T23:43:12.458510Z",
     "start_time": "2020-06-02T23:43:12.453430Z"
    }
   },
   "outputs": [
    {
     "data": {
      "text/plain": [
       "True"
      ]
     },
     "execution_count": 173,
     "metadata": {},
     "output_type": "execute_result"
    }
   ],
   "source": [
    "isinstance(\"abcde\", Reversible)"
   ]
  },
  {
   "cell_type": "code",
   "execution_count": 167,
   "metadata": {
    "ExecuteTime": {
     "end_time": "2020-06-02T23:15:35.768953Z",
     "start_time": "2020-06-02T23:15:35.763653Z"
    }
   },
   "outputs": [
    {
     "ename": "TypeError",
     "evalue": "unhashable type: 'list'",
     "output_type": "error",
     "traceback": [
      "\u001b[0;31m---------------------------------------------------------------------------\u001b[0m",
      "\u001b[0;31mTypeError\u001b[0m                                 Traceback (most recent call last)",
      "\u001b[0;32m<ipython-input-167-57d30cec2619>\u001b[0m in \u001b[0;36m<module>\u001b[0;34m\u001b[0m\n\u001b[0;32m----> 1\u001b[0;31m \u001b[0;34m{\u001b[0m\u001b[0;34m(\u001b[0m\u001b[0;36m2\u001b[0m\u001b[0;34m,\u001b[0m\u001b[0;36m3\u001b[0m\u001b[0;34m,\u001b[0m\u001b[0;34m[\u001b[0m\u001b[0;36m4\u001b[0m\u001b[0;34m,\u001b[0m\u001b[0;36m5\u001b[0m\u001b[0;34m]\u001b[0m\u001b[0;34m)\u001b[0m\u001b[0;34m:\u001b[0m\u001b[0;36m8\u001b[0m\u001b[0;34m}\u001b[0m\u001b[0;34m\u001b[0m\u001b[0;34m\u001b[0m\u001b[0m\n\u001b[0m",
      "\u001b[0;31mTypeError\u001b[0m: unhashable type: 'list'"
     ]
    }
   ],
   "source": [
    "{(2,3,[4,5]):8}"
   ]
  },
  {
   "cell_type": "code",
   "execution_count": 157,
   "metadata": {
    "ExecuteTime": {
     "end_time": "2020-06-02T23:08:40.679639Z",
     "start_time": "2020-06-02T23:08:40.676811Z"
    }
   },
   "outputs": [
    {
     "data": {
      "text/plain": [
       "{1, False, None}"
      ]
     },
     "execution_count": 157,
     "metadata": {},
     "output_type": "execute_result"
    }
   ],
   "source": [
    "{None, 1, False}"
   ]
  },
  {
   "cell_type": "code",
   "execution_count": 161,
   "metadata": {
    "ExecuteTime": {
     "end_time": "2020-06-02T23:11:54.493881Z",
     "start_time": "2020-06-02T23:11:54.491784Z"
    }
   },
   "outputs": [],
   "source": [
    "m=lambda x: x+5"
   ]
  },
  {
   "cell_type": "code",
   "execution_count": 163,
   "metadata": {
    "ExecuteTime": {
     "end_time": "2020-06-02T23:12:35.301944Z",
     "start_time": "2020-06-02T23:12:35.299702Z"
    }
   },
   "outputs": [],
   "source": [
    "def f(a, b):\n",
    "    return a+b"
   ]
  },
  {
   "cell_type": "code",
   "execution_count": 164,
   "metadata": {
    "ExecuteTime": {
     "end_time": "2020-06-02T23:12:42.841061Z",
     "start_time": "2020-06-02T23:12:42.835822Z"
    }
   },
   "outputs": [
    {
     "data": {
      "text/plain": [
       "{None: 1,\n",
       " False: 2,\n",
       " 1: 3,\n",
       " 2.1: 5,\n",
       " bool: 6,\n",
       " <function __main__.<lambda>(x)>: 7,\n",
       " <function __main__.f(a, b)>: 8}"
      ]
     },
     "execution_count": 164,
     "metadata": {},
     "output_type": "execute_result"
    }
   ],
   "source": [
    "{None:1, False:2, 1:3, 2.1:5, bool:6, m:7, f:8}"
   ]
  },
  {
   "cell_type": "markdown",
   "metadata": {},
   "source": [
    "## 3. 函数function\n",
    "\n",
    "```\n",
    "def f(pos1, pos2, /, pos_or_kwd, *, kwd1, kwd2):\n",
    "      -----------    ----------     ----------\n",
    "        |             |                  |\n",
    "        |        Positional or keyword   |\n",
    "        |                                - Keyword only\n",
    "         -- Positional only\n",
    "```\n",
    "- 函数定义的关键字为`def <function>(args):`\n",
    "- 两种参数类型：\n",
    "  * 位置参数（positional arguments）：一般放在参数的最前面，一般只要值传递，或者用`*list`方式传递\n",
    "  * 关键词参数（keyword arguments）：参数前置`name=`，或者用`**dict`的方式传递\n",
    "  * 在`/`之前的必须是位置参数，在`*`后面的必须是关键词参数，两者之间的可以是两种参数。\n",
    "  * `/`和`*`是可选项\n",
    "  * 具有默认值的参数必须在无默认值的位置参数之后，用`*`传递的位置参数之前。\n",
    "\n",
    "\n",
    "### 3.1 函数的定义definition和调用call\n",
    "\n",
    "1. 下面是函数`def f(x, y, z):`的定义，哪个是合法的调用方式？\n",
    " - [x] `f(x=1, y=2, z=3)`\n",
    " - [x] `f(1, 2, 3)`\n",
    " - [x] `f(1, y=2, z=3)`\n",
    " - [x] `f(1, 2, z=3)`\n",
    " \n",
    "2. 针对函数`def f(*, x, y, z):`的定义，哪个是合法的调用方式？\n",
    " - [x] `f(x=1, y=2, z=3)`\n",
    " - [ ] `f(1, 2, 3)`\n",
    " - [ ] `f(1, y=2, z=3)`\n",
    " - [ ] `f(1, 2, z=3)`\n",
    " \n",
    "3. 针对函数`def f(x, *, y, z):`的定义，哪个是合法的调用方式？\n",
    " - [x] `f(x=1, y=2, z=3)`\n",
    " - [ ] `f(1, 2, 3)`\n",
    " - [x] `f(1, y=2, z=3)`\n",
    " - [ ] `f(1, 2, z=3)`\n",
    " \n",
    "4. 针对函数`def f(x, y, *，z):`的定义，哪个是合法的调用方式？\n",
    " - [x] `f(x=1, y=2, z=3)`\n",
    " - [ ] `f(1, 2, 3)`\n",
    " - [x] `f(1, y=2, z=3)`\n",
    " - [x] `f(1, 2, z=3)`"
   ]
  },
  {
   "cell_type": "code",
   "execution_count": 142,
   "metadata": {
    "ExecuteTime": {
     "end_time": "2020-06-02T22:52:17.877285Z",
     "start_time": "2020-06-02T22:52:17.873796Z"
    }
   },
   "outputs": [],
   "source": [
    "def mysum(a=3, b=2, c=3, *args, **kwargs):\n",
    "    print(\"a=\",a)\n",
    "    print(\"b=\",b)\n",
    "    print(\"c=\",c)\n",
    "    print(\"args=\", args)\n",
    "    return a + b + c + sum(args) + sum(kwargs.values())"
   ]
  },
  {
   "cell_type": "code",
   "execution_count": 143,
   "metadata": {
    "ExecuteTime": {
     "end_time": "2020-06-02T22:52:18.789272Z",
     "start_time": "2020-06-02T22:52:18.784924Z"
    }
   },
   "outputs": [
    {
     "name": "stdout",
     "output_type": "stream",
     "text": [
      "a= 6\n",
      "b= 2\n",
      "c= 3\n",
      "args= ()\n"
     ]
    },
    {
     "data": {
      "text/plain": [
       "11"
      ]
     },
     "execution_count": 143,
     "metadata": {},
     "output_type": "execute_result"
    }
   ],
   "source": [
    "mysum(6)"
   ]
  },
  {
   "cell_type": "code",
   "execution_count": 144,
   "metadata": {
    "ExecuteTime": {
     "end_time": "2020-06-02T22:52:25.885895Z",
     "start_time": "2020-06-02T22:52:25.879633Z"
    }
   },
   "outputs": [
    {
     "name": "stdout",
     "output_type": "stream",
     "text": [
      "a= 6\n",
      "b= 7\n",
      "c= 8\n",
      "args= (5, 9)\n"
     ]
    },
    {
     "data": {
      "text/plain": [
       "35"
      ]
     },
     "execution_count": 144,
     "metadata": {},
     "output_type": "execute_result"
    }
   ],
   "source": [
    "mysum(6, 7, 8, 5, 9)"
   ]
  },
  {
   "cell_type": "code",
   "execution_count": null,
   "metadata": {},
   "outputs": [],
   "source": [
    "def f(*, x, y, z):\n",
    "    return x + y + z"
   ]
  },
  {
   "cell_type": "code",
   "execution_count": null,
   "metadata": {},
   "outputs": [],
   "source": [
    "f(x=1,y=2,z=3)"
   ]
  },
  {
   "cell_type": "code",
   "execution_count": null,
   "metadata": {},
   "outputs": [],
   "source": [
    "f(1, 2, 3)"
   ]
  },
  {
   "cell_type": "code",
   "execution_count": null,
   "metadata": {},
   "outputs": [],
   "source": [
    "f(1, y=2, z=3)"
   ]
  },
  {
   "cell_type": "code",
   "execution_count": null,
   "metadata": {},
   "outputs": [],
   "source": [
    "f(1, 2, z=3)"
   ]
  },
  {
   "cell_type": "code",
   "execution_count": null,
   "metadata": {},
   "outputs": [],
   "source": [
    "f(z=1, y=2, x=3)"
   ]
  },
  {
   "cell_type": "code",
   "execution_count": null,
   "metadata": {},
   "outputs": [],
   "source": [
    "def f(*args):\n",
    "    return sum(args)"
   ]
  },
  {
   "cell_type": "code",
   "execution_count": null,
   "metadata": {},
   "outputs": [],
   "source": [
    "f(1,2,3,4)"
   ]
  },
  {
   "cell_type": "markdown",
   "metadata": {},
   "source": [
    "针对函数`def f(x=1,*args, **kargs):`的定义，哪个是合法的调用方式？\n",
    " - [x] `f(x=1, y=2, z=3)`\n",
    " - [x] `f(1, 2, 3)`\n",
    " - [x] `f(1, y=2, z=3)`\n",
    " - [x] `f(1, 2, z=3)`"
   ]
  },
  {
   "cell_type": "code",
   "execution_count": 150,
   "metadata": {
    "ExecuteTime": {
     "end_time": "2020-06-02T22:55:36.491863Z",
     "start_time": "2020-06-02T22:55:36.489060Z"
    }
   },
   "outputs": [],
   "source": [
    "def f(x=1, *args, **kargs):\n",
    "    print(\"x = \", x)\n",
    "    print(\"args=\", args)\n",
    "    return x + sum(args) + sum(kargs.values())"
   ]
  },
  {
   "cell_type": "code",
   "execution_count": 151,
   "metadata": {
    "ExecuteTime": {
     "end_time": "2020-06-02T22:55:37.228399Z",
     "start_time": "2020-06-02T22:55:37.224031Z"
    }
   },
   "outputs": [
    {
     "name": "stdout",
     "output_type": "stream",
     "text": [
      "x =  1\n",
      "args= ()\n"
     ]
    },
    {
     "data": {
      "text/plain": [
       "6"
      ]
     },
     "execution_count": 151,
     "metadata": {},
     "output_type": "execute_result"
    }
   ],
   "source": [
    "f(x=1, y=2, z=3)"
   ]
  },
  {
   "cell_type": "code",
   "execution_count": 152,
   "metadata": {
    "ExecuteTime": {
     "end_time": "2020-06-02T22:55:40.395688Z",
     "start_time": "2020-06-02T22:55:40.392128Z"
    }
   },
   "outputs": [
    {
     "name": "stdout",
     "output_type": "stream",
     "text": [
      "x =  1\n",
      "args= (2, 3)\n"
     ]
    },
    {
     "data": {
      "text/plain": [
       "6"
      ]
     },
     "execution_count": 152,
     "metadata": {},
     "output_type": "execute_result"
    }
   ],
   "source": [
    "f(1, 2, 3)"
   ]
  },
  {
   "cell_type": "code",
   "execution_count": 153,
   "metadata": {
    "ExecuteTime": {
     "end_time": "2020-06-02T22:55:42.886155Z",
     "start_time": "2020-06-02T22:55:42.881651Z"
    }
   },
   "outputs": [
    {
     "name": "stdout",
     "output_type": "stream",
     "text": [
      "x =  1\n",
      "args= ()\n"
     ]
    },
    {
     "data": {
      "text/plain": [
       "8"
      ]
     },
     "execution_count": 153,
     "metadata": {},
     "output_type": "execute_result"
    }
   ],
   "source": [
    "f(1, y=3, z=4)"
   ]
  },
  {
   "cell_type": "code",
   "execution_count": 154,
   "metadata": {
    "ExecuteTime": {
     "end_time": "2020-06-02T22:55:44.051211Z",
     "start_time": "2020-06-02T22:55:44.046936Z"
    }
   },
   "outputs": [
    {
     "name": "stdout",
     "output_type": "stream",
     "text": [
      "x =  1\n",
      "args= (2, 3)\n"
     ]
    },
    {
     "data": {
      "text/plain": [
       "11"
      ]
     },
     "execution_count": 154,
     "metadata": {},
     "output_type": "execute_result"
    }
   ],
   "source": [
    "f(1, 2, 3, z=5)"
   ]
  },
  {
   "cell_type": "markdown",
   "metadata": {},
   "source": [
    "### 3.2 迭代器（iterator）与生成器（generator）\n",
    "\n",
    "可迭代的对象包括：\n",
    "- 通过`iter()`函数返回的迭代器对象，比如`list_iterator`或者`set_iterator`\n",
    "- 通过`itertools`模块返回的对象，例如count/repeat/cycle等。\n",
    "- 通过生成器函数或生成器表达式返回的生成器。\n",
    "- 通过`open()`函数放回的`File`对象。"
   ]
  },
  {
   "cell_type": "markdown",
   "metadata": {},
   "source": [
    "#### 迭代器\n",
    "> 任何具有`next()`方法和`iter()`方法的对象称为迭代器（iterator）。\n",
    "> `next()`方法要么返回下一个对象，要么返回StopError。\n",
    "> `iter()`方法返回`self`对象。\n",
    "\n",
    "- 迭代器定义：`<iter> = iter(<collection>)`  # `iter(<iter>)`   # returns unmodified iterator.\n",
    "- 通过函数定义：`<iter> = iter(<function>, to_exclusive)`      # A sequence of return values until 'to_exclusive'.\n",
    "- 逐个访问：`<el>   = next(<iter> [, default])`            # Raises StopIteration or returns 'default' on end.\n",
    "- 转换为列表：`<list> = list(<iter>)`                   # Returns a list of iterator's remaining elements."
   ]
  },
  {
   "cell_type": "code",
   "execution_count": null,
   "metadata": {},
   "outputs": [],
   "source": [
    "li = [1,2,3,4,5]\n",
    "liter = iter(li)\n",
    "for i in range(6):\n",
    "    print(next(liter))"
   ]
  },
  {
   "cell_type": "markdown",
   "metadata": {},
   "source": [
    "这是一个构造迭代器类的例子："
   ]
  },
  {
   "cell_type": "code",
   "execution_count": null,
   "metadata": {},
   "outputs": [],
   "source": [
    "class Counter:\n",
    "    def __init__(self):\n",
    "        self.i = 0\n",
    "    def __next__(self):\n",
    "        self.i += 1\n",
    "        return self.i\n",
    "    def __iter__(self):\n",
    "        return self\n",
    "    \n",
    "counter = Counter()\n",
    "next(counter), next(counter), next(counter)"
   ]
  },
  {
   "cell_type": "code",
   "execution_count": null,
   "metadata": {},
   "outputs": [],
   "source": [
    "from collections.abc import Iterator"
   ]
  },
  {
   "cell_type": "code",
   "execution_count": null,
   "metadata": {},
   "outputs": [],
   "source": [
    "isinstance(counter, Iterator)"
   ]
  },
  {
   "cell_type": "markdown",
   "metadata": {},
   "source": [
    "#### 生成器\n",
    "- 所有包含`yield`语句的函数返回一个生成器\n",
    "- 生成器和迭代器两者是可以互换的"
   ]
  },
  {
   "cell_type": "code",
   "execution_count": null,
   "metadata": {},
   "outputs": [],
   "source": [
    "def fib(limit):\n",
    "    n, a, b = 1, 0, 1\n",
    "    while n <= limit:\n",
    "        yield b\n",
    "        a, b = b, a+b\n",
    "        n += 1"
   ]
  },
  {
   "cell_type": "code",
   "execution_count": null,
   "metadata": {},
   "outputs": [],
   "source": [
    "for el in fib(10):\n",
    "    print(el)"
   ]
  },
  {
   "cell_type": "code",
   "execution_count": null,
   "metadata": {},
   "outputs": [],
   "source": []
  },
  {
   "cell_type": "markdown",
   "metadata": {},
   "source": [
    "## 4. 流程控制Flow control\n",
    "- 流程控制与其他语言区别不大，唯一的就是Python通过缩进（indent）来表示程序块（block）\n",
    "- if的语法是`if...elif...else`\n",
    "- for的语法是`for ... in ...`\n",
    "- while的语法是`while <condition>:`\n",
    "- break/continue"
   ]
  },
  {
   "cell_type": "code",
   "execution_count": null,
   "metadata": {},
   "outputs": [],
   "source": [
    "x = 5\n",
    "if x>5:\n",
    "    print(\"greater\")\n",
    "elif x<5:\n",
    "    print(\"less\")\n",
    "else:\n",
    "    print(\"equal\")"
   ]
  },
  {
   "cell_type": "code",
   "execution_count": null,
   "metadata": {},
   "outputs": [],
   "source": [
    "while x < 10:\n",
    "    x += 1"
   ]
  },
  {
   "cell_type": "code",
   "execution_count": null,
   "metadata": {},
   "outputs": [],
   "source": [
    "for i in range(5):\n",
    "    if i==3: continue\n",
    "    print(3**i)"
   ]
  },
  {
   "cell_type": "markdown",
   "metadata": {},
   "source": [
    "### 4.1 例外Exceptions"
   ]
  },
  {
   "cell_type": "markdown",
   "metadata": {},
   "source": [
    "#### 例外的简单范例"
   ]
  },
  {
   "cell_type": "code",
   "execution_count": null,
   "metadata": {},
   "outputs": [],
   "source": [
    "try:\n",
    "    <code>\n",
    "except <exception>:\n",
    "    <code>"
   ]
  },
  {
   "cell_type": "code",
   "execution_count": 16,
   "metadata": {},
   "outputs": [
    {
     "name": "stdout",
     "output_type": "stream",
     "text": [
      "Failed with  division by zero\n"
     ]
    }
   ],
   "source": [
    "x = 5\n",
    "try:\n",
    "    x /= 0\n",
    "except Exception as e:\n",
    "    print(\"Failed with \", e)"
   ]
  },
  {
   "cell_type": "code",
   "execution_count": 12,
   "metadata": {},
   "outputs": [],
   "source": [
    "e = ZeroDivisionError()"
   ]
  },
  {
   "cell_type": "markdown",
   "metadata": {},
   "source": [
    "#### 例外的复杂范例"
   ]
  },
  {
   "cell_type": "code",
   "execution_count": null,
   "metadata": {},
   "outputs": [],
   "source": [
    "try:\n",
    "    <code_1>\n",
    "except <exception_a>:\n",
    "    <code_2_a>\n",
    "except <exception_b>:\n",
    "    <code_2_b>\n",
    "else:\n",
    "    <code_2_c>\n",
    "finally:\n",
    "    <code_3>"
   ]
  },
  {
   "cell_type": "markdown",
   "metadata": {},
   "source": [
    "#### 例外捕获Catching Exceptions"
   ]
  },
  {
   "cell_type": "code",
   "execution_count": null,
   "metadata": {},
   "outputs": [],
   "source": [
    "except <exception>:\n",
    "except <exception> as <name>:\n",
    "except (<exception>, ...):\n",
    "except (<exception>, ...) as <name>:"
   ]
  },
  {
   "cell_type": "markdown",
   "metadata": {},
   "source": []
  },
  {
   "cell_type": "markdown",
   "metadata": {},
   "source": [
    "## 5. 面向对象编程Object-oriented programming\n",
    "- 在Python中，一切都是对象\n",
    "- 定义类的时候的关键词是class，object为所有类的**基类（Base class）**\n",
    "- `__init__(self, *args)`是类的**初始化函数（Initializer）**；\n",
    "- `__new__(cls, *args)`才是类的**构造函数（constructor）**\n",
    "- 所有以`__`开头的变量和方法都是类的**私有变量和私有方法（private）**，只能在类内部访问\n",
    "- 方法定义的时候用**装饰器（Decorator）**可以声明**类方法（`@classmethod`）和静态方法（`@staticmethod`）**\n",
    "- 普通的方法是**成员方法**或**成员方法**。\n",
    "- 包裹在`__`和`__`之间的方法为**魔术方法**，一般都有特殊的含义：\n",
    "  * `__repr__()`和`__str__()`两种方法有什么差异？\n",
    "- 要获得实例`a`的所有属性，用`a.__dict__`\n",
    "- 要获得实例`a`的所有属性和方法，用`dir(a)`"
   ]
  },
  {
   "cell_type": "code",
   "execution_count": null,
   "metadata": {},
   "outputs": [],
   "source": [
    "class MyClass(object):\n",
    "    \n",
    "    def __init__(self, val):\n",
    "        self.__val = val\n",
    "        \n",
    "    def __display(self, s):\n",
    "        print(\"{0}:{1}\".format(s, self.__val))\n",
    "        \n",
    "    def display(self, s):\n",
    "        self.__display(s)"
   ]
  },
  {
   "cell_type": "code",
   "execution_count": null,
   "metadata": {},
   "outputs": [],
   "source": [
    "inst = MyClass(5)\n",
    "inst.display(\"Yesterday\")"
   ]
  },
  {
   "cell_type": "code",
   "execution_count": null,
   "metadata": {},
   "outputs": [],
   "source": [
    "print(inst.__val)"
   ]
  },
  {
   "cell_type": "code",
   "execution_count": null,
   "metadata": {},
   "outputs": [],
   "source": [
    "inst.__display(\"Yesterday\")"
   ]
  },
  {
   "cell_type": "markdown",
   "metadata": {},
   "source": [
    "Python并没有真正实现类的私有变量，实际上，我们可以通过`_ClassName__varname`或者`_ClassName__methodname()`访问所谓的私有变量或方法："
   ]
  },
  {
   "cell_type": "code",
   "execution_count": null,
   "metadata": {},
   "outputs": [],
   "source": [
    "print(inst._MyClass__val)"
   ]
  },
  {
   "cell_type": "code",
   "execution_count": null,
   "metadata": {},
   "outputs": [],
   "source": [
    "inst._MyClass__display(\"Yesterday\")"
   ]
  },
  {
   "cell_type": "markdown",
   "metadata": {},
   "source": [
    "#### 类方法和静态方法的定义"
   ]
  },
  {
   "cell_type": "code",
   "execution_count": null,
   "metadata": {},
   "outputs": [],
   "source": [
    "class ExampleClass:\n",
    "    def __init__(self, a):\n",
    "        self.a = a\n",
    "    def __repr__(self):\n",
    "        class_name = self.__class__.__name__\n",
    "        #return f'{class_name}({self.a!r})'\n",
    "        return f'{class_name}({self.a})'\n",
    "    def __str__(self):\n",
    "        return str(self.a)\n",
    "\n",
    "    @classmethod\n",
    "    def get_class_name(cls):\n",
    "        return cls.__name__"
   ]
  },
  {
   "cell_type": "markdown",
   "metadata": {},
   "source": [
    "#### 说明\n",
    "- 这里两种方法`__repr__`和`__str__`分别有其使用场合。一般来说，`print(<instance>)`调用的是`__str__()`方法，而`<instance>`调用的是`__repr__()`方法。\n",
    "- 在上面的例子中，在定义`__repr__()`方法时，采取了一种新的格式化输出字符串的方式：`f\"{class_name}({self.a!r})\"`，每个`{}`中的放置的是变量，如果强制要求用`__repr__()`的方式显示该变量，则后面加入`!r`，否则默认用`__str__`的方式显示。\n",
    "- `__repr__()`方法的返回结果必须是明确的（unambiguous）；而`__str__()`方法的返回结果必须是可读的；\n",
    "- 如果只定义了`__repr__()`方法，则`str()`也会返回相同的结果。"
   ]
  },
  {
   "cell_type": "code",
   "execution_count": null,
   "metadata": {},
   "outputs": [],
   "source": [
    "example = ExampleClass(\"James\")"
   ]
  },
  {
   "cell_type": "code",
   "execution_count": null,
   "metadata": {},
   "outputs": [],
   "source": [
    "print(example)    # call __str__() method"
   ]
  },
  {
   "cell_type": "code",
   "execution_count": null,
   "metadata": {},
   "outputs": [],
   "source": [
    "example          # call __repr__() method"
   ]
  },
  {
   "cell_type": "markdown",
   "metadata": {},
   "source": [
    "#### 类的继承\n",
    "- 调用基类的`super().__init__()`方法进行初始化\n",
    "- 扩展其他的实例变量和方法"
   ]
  },
  {
   "cell_type": "code",
   "execution_count": null,
   "metadata": {},
   "outputs": [],
   "source": [
    "class Person:\n",
    "    def __init__(self, name, age):\n",
    "        self.name = name\n",
    "        self.age  = age\n",
    "\n",
    "class Employee(Person):\n",
    "    def __init__(self, name, age, staff_num):\n",
    "        super().__init__(name, age)\n",
    "        self.staff_num = staff_num"
   ]
  },
  {
   "cell_type": "markdown",
   "metadata": {},
   "source": [
    "#### 通过装饰器实现属性的设置和获取"
   ]
  },
  {
   "cell_type": "code",
   "execution_count": null,
   "metadata": {},
   "outputs": [],
   "source": [
    "class MyClass:\n",
    "    @property\n",
    "    def a(self):\n",
    "        return self._a\n",
    "\n",
    "    @a.setter\n",
    "    def a(self, value):\n",
    "        self._a = value"
   ]
  },
  {
   "cell_type": "code",
   "execution_count": null,
   "metadata": {},
   "outputs": [],
   "source": [
    "el = MyClass()\n",
    "el.a = 123\n",
    "print(el.a)"
   ]
  },
  {
   "cell_type": "markdown",
   "metadata": {},
   "source": [
    "### 5.1 抽象基类（Abstract Base Classes, ABC）"
   ]
  },
  {
   "cell_type": "code",
   "execution_count": null,
   "metadata": {},
   "outputs": [],
   "source": [
    "from collections.abc import Hashable, Iterable, Reversible"
   ]
  },
  {
   "cell_type": "code",
   "execution_count": null,
   "metadata": {},
   "outputs": [],
   "source": [
    "isinstance([1,2,3,4,5], Reversible)"
   ]
  },
  {
   "cell_type": "code",
   "execution_count": null,
   "metadata": {},
   "outputs": [],
   "source": [
    "isinstance(2.5, Hashable)"
   ]
  },
  {
   "cell_type": "code",
   "execution_count": null,
   "metadata": {},
   "outputs": [],
   "source": [
    "isinstance((1,2,3,4), Iterable)"
   ]
  },
  {
   "cell_type": "code",
   "execution_count": null,
   "metadata": {},
   "outputs": [],
   "source": [
    "isinstance(dict().keys(), Hashable)"
   ]
  },
  {
   "cell_type": "markdown",
   "metadata": {},
   "source": [
    "### <font color=\"red\">练习</font>\n",
    "#### 深层拷贝与浅层拷贝（`copy.copy` and `copy.deepcopy`）\n",
    "1. 你能否说出深层拷贝和浅层拷贝的区别？\n",
    "  * [x] 深层拷贝和浅层拷贝都是针对复合数据类型如list或者类实例的\n",
    "  * [x] 深层拷贝和浅层拷贝都建立对象的拷贝\n",
    "  * [ ] 深层拷贝与原数据对象共享内部数据\n",
    "  * [x] 浅层拷贝与原数据对象共享内部数据\n",
    "  \n",
    "2. 对于下面的类的实例，对其进行深层拷贝后，产生的数据对象与原对象有什么关系？\n",
    "  * [x] 普通原子对象与原始对象指向一致\n",
    "  * [x] 复合对象与原始对象具有完全独立的内存空间\n",
    "  * [ ] 所有元素都具有完全独立的内存空间\n",
    "  * [ ] 所有元素与元对象都使用一致的内存空间"
   ]
  },
  {
   "cell_type": "code",
   "execution_count": null,
   "metadata": {},
   "outputs": [],
   "source": [
    "from copy import copy, deepcopy"
   ]
  },
  {
   "cell_type": "code",
   "execution_count": null,
   "metadata": {},
   "outputs": [],
   "source": [
    "print(copy.__doc__)"
   ]
  },
  {
   "cell_type": "code",
   "execution_count": null,
   "metadata": {},
   "outputs": [],
   "source": [
    "origin = [1,2,[3,4]]\n",
    "cop1 = origin\n",
    "cop2 = copy(origin)\n",
    "cop3 = deepcopy(origin)\n",
    "print(\"Original value: \")\n",
    "print(origin, cop1, cop2, cop3)"
   ]
  },
  {
   "cell_type": "code",
   "execution_count": null,
   "metadata": {},
   "outputs": [],
   "source": [
    "import objgraph"
   ]
  },
  {
   "cell_type": "code",
   "execution_count": null,
   "metadata": {},
   "outputs": [],
   "source": [
    "objgraph.show_refs([origin, cop1], filename=\"same1.png\")"
   ]
  },
  {
   "cell_type": "code",
   "execution_count": null,
   "metadata": {},
   "outputs": [],
   "source": [
    "objgraph.show_refs([origin, cop2], filename=\"shallow1.png\")"
   ]
  },
  {
   "cell_type": "code",
   "execution_count": null,
   "metadata": {},
   "outputs": [],
   "source": [
    "objgraph.show_refs([origin, cop3], filename=\"deep1.png\")"
   ]
  },
  {
   "cell_type": "code",
   "execution_count": null,
   "metadata": {},
   "outputs": [],
   "source": [
    "origin[1] = 8\n",
    "origin[2][1] = 5\n",
    "print(\"After changed: \")\n",
    "print(origin, cop1, cop2, cop3)"
   ]
  },
  {
   "cell_type": "code",
   "execution_count": null,
   "metadata": {},
   "outputs": [],
   "source": [
    "print(\"The same object\")\n",
    "objgraph.show_refs([origin, cop1], filename=\"same2.png\")"
   ]
  },
  {
   "cell_type": "code",
   "execution_count": null,
   "metadata": {},
   "outputs": [],
   "source": [
    "print(\"========Shallow Copy=========\")\n",
    "objgraph.show_refs([origin, cop2], filename=\"shallow2.png\", refcounts=True)"
   ]
  },
  {
   "cell_type": "code",
   "execution_count": null,
   "metadata": {},
   "outputs": [],
   "source": [
    "print(\"=========Deep Copy============\")\n",
    "objgraph.show_refs([origin, cop2, cop3], filename=\"shallow2-deep2.png\", refcounts=True)"
   ]
  },
  {
   "cell_type": "code",
   "execution_count": null,
   "metadata": {},
   "outputs": [],
   "source": [
    "objgraph.show_backrefs?"
   ]
  },
  {
   "cell_type": "markdown",
   "metadata": {},
   "source": [
    "## 6. 常用的包或模块\n",
    "\n",
    "这里我们简单介绍几个常用的包和模块：\n",
    "- `os`\n",
    "- `sys`\n",
    "- `re`\n",
    "- `math`"
   ]
  },
  {
   "cell_type": "markdown",
   "metadata": {},
   "source": [
    "### 6.1 `sys`模块\n",
    "\n",
    "- `sys`模块指的不是操作系统，是Python解释器。\n",
    "- `sys.argv`是命令行参数。\n",
    "- `sys.path`是所有能被`import`直接导入的模块路径的列表。\n",
    "- `sys.getrefcount()`可以返回某个内存地址引用的次数。\n",
    "- `sys.getsizeof()`返回的是一个变量内存占用的字节。\n",
    "- `sys.exit()`函数与C函数的return和exit有相同的功能"
   ]
  },
  {
   "cell_type": "code",
   "execution_count": null,
   "metadata": {},
   "outputs": [],
   "source": [
    "import sys"
   ]
  },
  {
   "cell_type": "code",
   "execution_count": null,
   "metadata": {},
   "outputs": [],
   "source": [
    "print(sys.path)"
   ]
  },
  {
   "cell_type": "code",
   "execution_count": null,
   "metadata": {},
   "outputs": [],
   "source": [
    "x=1\n",
    "print(sys.getrefcount(x))"
   ]
  },
  {
   "cell_type": "code",
   "execution_count": null,
   "metadata": {},
   "outputs": [],
   "source": [
    "print(sys.getsizeof(x))"
   ]
  },
  {
   "cell_type": "markdown",
   "metadata": {},
   "source": [
    "- 默认的文件系统编码"
   ]
  },
  {
   "cell_type": "code",
   "execution_count": null,
   "metadata": {},
   "outputs": [],
   "source": [
    "sys.getfilesystemencoding()"
   ]
  },
  {
   "cell_type": "markdown",
   "metadata": {},
   "source": [
    "- 不同的数据类型的信息"
   ]
  },
  {
   "cell_type": "code",
   "execution_count": null,
   "metadata": {},
   "outputs": [],
   "source": [
    "sys.int_info"
   ]
  },
  {
   "cell_type": "code",
   "execution_count": null,
   "metadata": {},
   "outputs": [],
   "source": [
    "sys.float_info"
   ]
  },
  {
   "cell_type": "code",
   "execution_count": null,
   "metadata": {},
   "outputs": [],
   "source": [
    "sys.getsizeof(125.3348)"
   ]
  },
  {
   "cell_type": "markdown",
   "metadata": {},
   "source": [
    "### 6.2 `os`模块\n",
    "- `os`模块对应的是操作系统相关的。\n",
    "  * `os.listdir()`对应的是`ls`命令\n",
    "  * `os.chdir()`对应的是`cd`命令\n",
    "  * `os.chmod()`对应`chmod`命令\n",
    "  * `os.chown()`对应`chown`命令\n",
    "  * `os.mkdir()`对应`mkdir`命令\n",
    "  * `os.makedirs()`对应哪个命令？\n",
    "  * \n",
    "  * `os.curdir`输出的是\".\"当前路径\n",
    "  * `os.environ`返回的是`env`命令相同的输出\n",
    "- `os.path`对应的是目录、路径的操作。"
   ]
  },
  {
   "cell_type": "code",
   "execution_count": null,
   "metadata": {},
   "outputs": [],
   "source": [
    "import os"
   ]
  },
  {
   "cell_type": "code",
   "execution_count": null,
   "metadata": {},
   "outputs": [],
   "source": [
    "type(os)"
   ]
  },
  {
   "cell_type": "code",
   "execution_count": null,
   "metadata": {},
   "outputs": [],
   "source": [
    "os.listdir()"
   ]
  },
  {
   "cell_type": "code",
   "execution_count": null,
   "metadata": {},
   "outputs": [],
   "source": [
    "os.listdir(path=\"/\")"
   ]
  },
  {
   "cell_type": "code",
   "execution_count": null,
   "metadata": {},
   "outputs": [],
   "source": [
    "from os import path"
   ]
  },
  {
   "cell_type": "code",
   "execution_count": null,
   "metadata": {},
   "outputs": [],
   "source": [
    "path.join(path.abspath(\".\"), \"basic.ipynb\")"
   ]
  },
  {
   "cell_type": "code",
   "execution_count": null,
   "metadata": {},
   "outputs": [],
   "source": [
    "print(path.sep, path.altsep)"
   ]
  },
  {
   "cell_type": "code",
   "execution_count": null,
   "metadata": {},
   "outputs": [],
   "source": [
    "path.dirname(path.abspath(\".\"))"
   ]
  },
  {
   "cell_type": "code",
   "execution_count": null,
   "metadata": {},
   "outputs": [],
   "source": [
    "for dir, dirnames, files in os.walk(\".\"):\n",
    "    print(dir, dirnames, files)"
   ]
  },
  {
   "cell_type": "code",
   "execution_count": null,
   "metadata": {},
   "outputs": [],
   "source": [
    "os.readlink?"
   ]
  },
  {
   "cell_type": "markdown",
   "metadata": {},
   "source": [
    "### 6.3 `re`模块\n",
    "- `re`模块是用于正则表达式匹配和替换工作的\n",
    "- 同学们自行学习即可。"
   ]
  },
  {
   "cell_type": "code",
   "execution_count": 2,
   "metadata": {},
   "outputs": [
    {
     "name": "stdout",
     "output_type": "stream",
     "text": [
      "Built-in functions, exceptions, and other objects.\n",
      "\n",
      "Noteworthy: None is the `nil' object; Ellipsis represents `...' in slices.\n"
     ]
    }
   ],
   "source": [
    "print(__builtin__.__doc__)"
   ]
  }
 ],
 "metadata": {
  "kernelspec": {
   "display_name": "Python 3",
   "language": "python",
   "name": "python3"
  },
  "language_info": {
   "codemirror_mode": {
    "name": "ipython",
    "version": 3
   },
   "file_extension": ".py",
   "mimetype": "text/x-python",
   "name": "python",
   "nbconvert_exporter": "python",
   "pygments_lexer": "ipython3",
   "version": "3.7.6"
  },
  "toc": {
   "base_numbering": 1,
   "nav_menu": {},
   "number_sections": false,
   "sideBar": true,
   "skip_h1_title": false,
   "title_cell": "Table of Contents",
   "title_sidebar": "Contents",
   "toc_cell": false,
   "toc_position": {},
   "toc_section_display": true,
   "toc_window_display": true
  }
 },
 "nbformat": 4,
 "nbformat_minor": 4
}
