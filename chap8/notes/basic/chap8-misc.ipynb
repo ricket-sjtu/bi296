{
 "cells": [
  {
   "cell_type": "markdown",
   "metadata": {},
   "source": [
    "# 第八章F：迭代器和生成器"
   ]
  },
  {
   "cell_type": "markdown",
   "metadata": {},
   "source": [
    "## 1. 容器Container\n",
    "\n",
    "所谓容器类型，就是能存储元素的数据结构。在Python中有很多容器类型，如List，tuple，str，set，dict等都是容器类型。我们这儿也可以定义自己的容器类型："
   ]
  },
  {
   "cell_type": "code",
   "execution_count": 23,
   "metadata": {
    "ExecuteTime": {
     "end_time": "2020-06-03T06:11:51.034811Z",
     "start_time": "2020-06-03T06:11:51.030133Z"
    }
   },
   "outputs": [
    {
     "name": "stdout",
     "output_type": "stream",
     "text": [
      "1\n",
      "2\n",
      "3\n",
      "5\n",
      "8\n",
      "13\n"
     ]
    }
   ],
   "source": [
    "class Fib():\n",
    "    def __init__(self, limit=10):\n",
    "        self.prev = 0\n",
    "        self.curr = 1\n",
    "        self.limit = limit\n",
    "\n",
    "    def __iter__(self):\n",
    "        return self\n",
    "\n",
    "    def __next__(self):\n",
    "        if self.curr >= self.limit:\n",
    "            raise StopIteration\n",
    "        else:\n",
    "            self.curr, self.prev = self.prev + self.curr, self.curr\n",
    "            return self.curr\n",
    "\n",
    "fib = Fib(10)\n",
    "for i in fib:\n",
    "    print(i)"
   ]
  },
  {
   "cell_type": "markdown",
   "metadata": {},
   "source": [
    "这里`for ...in...`实际上调用了两个方法：\n",
    "  * `__iter__()`在启动`for`的时候作为迭代器被调用，开始构造容器对象\n",
    "  * `__next__()`在每一次循环中被调用，每次返回一个元素\n",
    "  \n",
    "对于这个`Container`类来说，定义了`__iter__()`和`__next__`两种方法，所以其就是可迭代的类或对象。"
   ]
  },
  {
   "cell_type": "markdown",
   "metadata": {},
   "source": [
    "### <font color=\"red\">练习</font>\n",
    "\n",
    "1. 对上面的程序来说，输出的最后一个元素大于我们设定的limit，所以程序其实是有错的，那么怎么修改呢？\n",
    "\n",
    "2. 如果想要将limit的意义修改为输出元素的个数，又该怎么修改呢？"
   ]
  },
  {
   "cell_type": "code",
   "execution_count": 43,
   "metadata": {
    "ExecuteTime": {
     "end_time": "2020-06-03T13:45:45.244481Z",
     "start_time": "2020-06-03T13:45:45.238947Z"
    }
   },
   "outputs": [
    {
     "name": "stdout",
     "output_type": "stream",
     "text": [
      "1\n",
      "2\n",
      "3\n",
      "5\n",
      "8\n"
     ]
    }
   ],
   "source": [
    "\"\"\"\n",
    "Fib is an iterator for generating Fibonacci series.\n",
    "\n",
    "Fib(n) will generate the series within the range (0, n).\n",
    "\"\"\"\n",
    "class Fib():\n",
    "    def __init__(self, limit=10):\n",
    "        self.prev = 0\n",
    "        self.curr = 1\n",
    "        self.limit = limit\n",
    "\n",
    "    def __iter__(self):\n",
    "        return self\n",
    "\n",
    "    def __next__(self):\n",
    "        self.curr, self.prev = self.prev + self.curr, self.curr\n",
    "        if self.curr > self.limit:\n",
    "            raise StopIteration\n",
    "        else: \n",
    "            return self.curr\n",
    "\n",
    "fib = Fib(10)\n",
    "for i in fib:\n",
    "    print(i)"
   ]
  },
  {
   "cell_type": "code",
   "execution_count": 34,
   "metadata": {
    "ExecuteTime": {
     "end_time": "2020-06-03T06:30:32.086473Z",
     "start_time": "2020-06-03T06:30:32.081053Z"
    }
   },
   "outputs": [
    {
     "name": "stdout",
     "output_type": "stream",
     "text": [
      "1\n",
      "2\n",
      "3\n",
      "5\n",
      "8\n",
      "13\n",
      "21\n",
      "34\n",
      "55\n",
      "89\n"
     ]
    }
   ],
   "source": [
    "\"\"\"\n",
    "Fib is an iterator for generating Fibonacci series.\n",
    "\n",
    "Fib(n) will generate the series containing n numbers.\n",
    "\"\"\"\n",
    "class Fib():\n",
    "    def __init__(self, limit=10):\n",
    "        self.prev = 0\n",
    "        self.curr = 1\n",
    "        self.limit = limit\n",
    "\n",
    "    def __iter__(self):\n",
    "        return self\n",
    "\n",
    "    def __next__(self):\n",
    "        self.limit -= 1\n",
    "        if self.limit < 0:\n",
    "            raise StopIteration\n",
    "        else:\n",
    "            self.curr, self.prev = self.prev + self.curr, self.curr\n",
    "            return self.curr\n",
    "\n",
    "fib = Fib(10)\n",
    "for i in fib:\n",
    "    print(i)"
   ]
  },
  {
   "cell_type": "markdown",
   "metadata": {},
   "source": [
    "## 2. 迭代器Iterator\n",
    "\n",
    "只要含有`__next__()`方法的类就是迭代器，所以这里`Fib`类就是一个迭代器。通过迭代器，我们可以遍历容器中的元素。\n",
    "\n",
    "对于迭代器来说，`__iter__()`方法并不是必须的，但是，如果没有它，会导致不方便。"
   ]
  },
  {
   "cell_type": "code",
   "execution_count": 24,
   "metadata": {
    "ExecuteTime": {
     "end_time": "2020-06-03T06:17:20.927036Z",
     "start_time": "2020-06-03T06:17:20.921321Z"
    }
   },
   "outputs": [
    {
     "name": "stdout",
     "output_type": "stream",
     "text": [
      "1\n",
      "2\n",
      "3\n",
      "5\n",
      "8\n",
      "13\n"
     ]
    }
   ],
   "source": [
    "class Fib():\n",
    "    \n",
    "    def __init__(self, limit=10):\n",
    "        self.prev = 0\n",
    "        self.curr = 1\n",
    "        self.limit = limit\n",
    "    \n",
    "    def __next__(self):\n",
    "        if self.curr >= self.limit:\n",
    "            raise StopIteration      \n",
    "        else:\n",
    "            self.curr, self.prev = self.curr + self.prev, self.curr\n",
    "            return self.curr\n",
    "        \n",
    "c = Fib(10)\n",
    "for i in range(10):\n",
    "    try:\n",
    "        print(next(c))\n",
    "    except StopIteration as e:\n",
    "        break"
   ]
  },
  {
   "cell_type": "markdown",
   "metadata": {},
   "source": [
    "## 3. 生成器Generator\n",
    "\n",
    "生成器是一种特殊的迭代器。当调用生成器函数的时候，会实例化一个生成器，但并不执行任何代码，只有当真正被使用的时候才会调用内部的`__next__()`方法。因此，生成器要比列表等容器相比效率要更高，因为列表要占用更多的内存。\n",
    "\n",
    "比如下面这个例子的Fibonacci序列生成器函数，其关键就是使用了`yield`："
   ]
  },
  {
   "cell_type": "code",
   "execution_count": 50,
   "metadata": {
    "ExecuteTime": {
     "end_time": "2020-06-03T13:47:15.492872Z",
     "start_time": "2020-06-03T13:47:15.488410Z"
    }
   },
   "outputs": [],
   "source": [
    "def fib(n=100):\n",
    "    \"\"\"fib(n) is a generator function to yield Fibonacci series smaller than n.\"\"\"\n",
    "    prev, curr = 0, 1\n",
    "    \n",
    "    while curr < n:\n",
    "        yield curr\n",
    "        prev, curr = curr, prev + curr"
   ]
  },
  {
   "cell_type": "code",
   "execution_count": 36,
   "metadata": {
    "ExecuteTime": {
     "end_time": "2020-06-03T06:32:44.328358Z",
     "start_time": "2020-06-03T06:32:44.325433Z"
    }
   },
   "outputs": [
    {
     "name": "stdout",
     "output_type": "stream",
     "text": [
      "fib(n) is a generator function to yield Fibonacci series smaller than n.\n"
     ]
    }
   ],
   "source": [
    "print(fib.__doc__)"
   ]
  },
  {
   "cell_type": "code",
   "execution_count": 15,
   "metadata": {
    "ExecuteTime": {
     "end_time": "2020-06-03T00:38:25.526781Z",
     "start_time": "2020-06-03T00:38:25.522663Z"
    }
   },
   "outputs": [
    {
     "name": "stdout",
     "output_type": "stream",
     "text": [
      "1\n",
      "1\n",
      "2\n",
      "3\n",
      "5\n",
      "8\n",
      "13\n",
      "21\n",
      "34\n",
      "55\n",
      "89\n",
      "144\n",
      "233\n",
      "377\n",
      "610\n",
      "987\n"
     ]
    }
   ],
   "source": [
    "for item in fib(1000):\n",
    "    print(item)"
   ]
  },
  {
   "cell_type": "markdown",
   "metadata": {},
   "source": [
    "## 小结"
   ]
  },
  {
   "cell_type": "markdown",
   "metadata": {},
   "source": [
    "- 生成器是一类特殊的迭代器，区别是生成器只能遍历一次，而且用`yield`代替了`return`，只在需要的时候才产生结果，不是立即产生结果。"
   ]
  },
  {
   "cell_type": "code",
   "execution_count": 73,
   "metadata": {
    "ExecuteTime": {
     "end_time": "2020-06-03T15:00:14.175579Z",
     "start_time": "2020-06-03T15:00:14.173103Z"
    }
   },
   "outputs": [],
   "source": [
    "def log(n):\n",
    "    while n > 0:\n",
    "        yield n\n",
    "        n -= 1"
   ]
  },
  {
   "cell_type": "code",
   "execution_count": 74,
   "metadata": {
    "ExecuteTime": {
     "end_time": "2020-06-03T15:00:30.789345Z",
     "start_time": "2020-06-03T15:00:30.786197Z"
    }
   },
   "outputs": [
    {
     "name": "stdout",
     "output_type": "stream",
     "text": [
      "10\n",
      "9\n",
      "8\n",
      "7\n",
      "6\n",
      "5\n",
      "4\n",
      "3\n",
      "2\n",
      "1\n"
     ]
    }
   ],
   "source": [
    "for x in log(10): print(x)"
   ]
  }
 ],
 "metadata": {
  "kernelspec": {
   "display_name": "Python 3",
   "language": "python",
   "name": "python3"
  },
  "language_info": {
   "codemirror_mode": {
    "name": "ipython",
    "version": 3
   },
   "file_extension": ".py",
   "mimetype": "text/x-python",
   "name": "python",
   "nbconvert_exporter": "python",
   "pygments_lexer": "ipython3",
   "version": "3.7.6"
  },
  "toc": {
   "base_numbering": 1,
   "nav_menu": {},
   "number_sections": false,
   "sideBar": true,
   "skip_h1_title": false,
   "title_cell": "Table of Contents",
   "title_sidebar": "Contents",
   "toc_cell": false,
   "toc_position": {},
   "toc_section_display": true,
   "toc_window_display": true
  }
 },
 "nbformat": 4,
 "nbformat_minor": 4
}
