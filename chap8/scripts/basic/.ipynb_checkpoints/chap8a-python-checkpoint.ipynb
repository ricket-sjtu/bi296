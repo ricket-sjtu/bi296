{
 "cells": [
  {
   "cell_type": "markdown",
   "metadata": {
    "solution": "hidden"
   },
   "source": [
    "# 第八章A: Python基础入门\n",
    "___"
   ]
  },
  {
   "cell_type": "markdown",
   "metadata": {},
   "source": [
    "## 学习目标\n",
    "\n",
    "1. 掌握基本的Python语法：常用数据结构、函数、流程控制\n",
    "\n",
    "2. 迭代器(iterator)、生成器 (generator)\n",
    "\n",
    "3. 面向对象编程 (Object-Oriented Programming)\n",
    "\n",
    "4. 常用模块：str, os, sys、argparse、optparse、math、re等\n",
    "\n",
    "5. 案例代码分析"
   ]
  },
  {
   "cell_type": "markdown",
   "metadata": {
    "solution": "hidden",
    "solution_first": true
   },
   "source": [
    "写一个Python函数，判断输入的序列是否具有回文结构。"
   ]
  },
  {
   "cell_type": "code",
   "execution_count": 41,
   "metadata": {
    "solution": "hidden"
   },
   "outputs": [],
   "source": [
    "def isPalindrome(seq):\n",
    "    return reversed(seq) == seq"
   ]
  },
  {
   "cell_type": "code",
   "execution_count": 44,
   "metadata": {},
   "outputs": [
    {
     "data": {
      "text/plain": [
       "False"
      ]
     },
     "execution_count": 44,
     "metadata": {},
     "output_type": "execute_result"
    }
   ],
   "source": [
    "seq = \"acgtGCA\"\n",
    "isPalindrome(seq)"
   ]
  },
  {
   "cell_type": "markdown",
   "metadata": {
    "solution": "hidden"
   },
   "source": [
    "## 1. 基本数据类型\n",
    "\n",
    "### 1.1 数据类型\n",
    "- 数据类型可用`type(data)`函数进行查看\n",
    "- 数据在内存中的储存地址可用`id(data)`查看\n",
    "- 数据可用的方法可用`dir(data)`进行查看"
   ]
  },
  {
   "cell_type": "code",
   "execution_count": null,
   "metadata": {},
   "outputs": [],
   "source": [
    "i = 5\n",
    "print(type(i))\n",
    "print(id(i))"
   ]
  },
  {
   "cell_type": "code",
   "execution_count": null,
   "metadata": {},
   "outputs": [],
   "source": [
    "dir(i)    # 列出当前数据的可用方法"
   ]
  },
  {
   "cell_type": "code",
   "execution_count": null,
   "metadata": {},
   "outputs": [],
   "source": [
    "# 5=00000101(取反))->11111010(补码)->11111001->10000110(原码)-6\n",
    "print(i.__invert__())"
   ]
  },
  {
   "cell_type": "code",
   "execution_count": null,
   "metadata": {},
   "outputs": [],
   "source": [
    "help(i.__gt__)"
   ]
  },
  {
   "cell_type": "markdown",
   "metadata": {},
   "source": [
    "### 1.2 整数型（int）\n",
    "- 整数型的数据一般比较简单\n",
    "- 能用的方法也比较少\n",
    "- `__gt__(other)`方法最后可通过`i > other`实现"
   ]
  },
  {
   "cell_type": "code",
   "execution_count": null,
   "metadata": {},
   "outputs": [],
   "source": [
    "i= 5\n",
    "type(i)"
   ]
  },
  {
   "cell_type": "code",
   "execution_count": null,
   "metadata": {},
   "outputs": [],
   "source": [
    "print(i.denominator)"
   ]
  },
  {
   "cell_type": "code",
   "execution_count": null,
   "metadata": {},
   "outputs": [],
   "source": [
    "print(i.numerator)"
   ]
  },
  {
   "cell_type": "code",
   "execution_count": null,
   "metadata": {},
   "outputs": [],
   "source": [
    "print(i.__gt__(3))"
   ]
  },
  {
   "cell_type": "markdown",
   "metadata": {},
   "source": [
    "### 1.3 布尔型（bool）\n",
    "- 布尔型只有True和False两个值\n",
    "- 下面的这些不同类型的值对应的都是`False`"
   ]
  },
  {
   "cell_type": "code",
   "execution_count": null,
   "metadata": {},
   "outputs": [],
   "source": [
    "print(bool(None), bool(0), bool(0.0), bool(\"\"), bool([]), bool(()), bool({}))"
   ]
  },
  {
   "cell_type": "markdown",
   "metadata": {},
   "source": [
    "- 布尔表达式返回的就是布尔值"
   ]
  },
  {
   "cell_type": "code",
   "execution_count": null,
   "metadata": {},
   "outputs": [],
   "source": [
    "print(5 >= 3)"
   ]
  },
  {
   "cell_type": "markdown",
   "metadata": {},
   "source": [
    "### 1.4 浮点数（float）\n",
    "- 浮点数一般指的就是小数值\n",
    "- 浮点数对应的方法与整型差别不大，就增减了一些\n",
    "- "
   ]
  },
  {
   "cell_type": "code",
   "execution_count": null,
   "metadata": {},
   "outputs": [],
   "source": [
    "f = 2.15\n",
    "type(f)"
   ]
  },
  {
   "cell_type": "markdown",
   "metadata": {},
   "source": [
    "### 1.5 字符串类型（str）"
   ]
  },
  {
   "cell_type": "code",
   "execution_count": null,
   "metadata": {},
   "outputs": [],
   "source": [
    "type('c')"
   ]
  },
  {
   "cell_type": "code",
   "execution_count": null,
   "metadata": {},
   "outputs": [],
   "source": [
    "s = \"ACCTAGGACGT\""
   ]
  },
  {
   "cell_type": "code",
   "execution_count": null,
   "metadata": {},
   "outputs": [],
   "source": [
    "print(s[0])"
   ]
  },
  {
   "cell_type": "code",
   "execution_count": null,
   "metadata": {},
   "outputs": [],
   "source": [
    "print(s[0:5:2])"
   ]
  },
  {
   "cell_type": "code",
   "execution_count": null,
   "metadata": {},
   "outputs": [],
   "source": [
    "s[3]='N'   # str is immutable object."
   ]
  },
  {
   "cell_type": "markdown",
   "metadata": {},
   "source": [
    "### 1.6 None类型（NoneType）\n",
    "- None是python的一种特殊类型"
   ]
  },
  {
   "cell_type": "code",
   "execution_count": null,
   "metadata": {},
   "outputs": [],
   "source": [
    "type(None)"
   ]
  },
  {
   "cell_type": "code",
   "execution_count": null,
   "metadata": {},
   "outputs": [],
   "source": [
    "a = list()\n",
    "print(a is None)"
   ]
  },
  {
   "cell_type": "markdown",
   "metadata": {},
   "source": [
    "### 1.7 Type类型\n",
    "- type也是一种特殊的类型"
   ]
  },
  {
   "cell_type": "code",
   "execution_count": null,
   "metadata": {},
   "outputs": [],
   "source": [
    "type(str)"
   ]
  },
  {
   "cell_type": "code",
   "execution_count": null,
   "metadata": {},
   "outputs": [],
   "source": [
    "type(float)"
   ]
  },
  {
   "cell_type": "markdown",
   "metadata": {},
   "source": [
    "## 2. 基本复合数据结构"
   ]
  },
  {
   "cell_type": "markdown",
   "metadata": {},
   "source": [
    "### 2.1 列表List\n",
    "\n",
    "- 列表是一种有序的、可修改的数据结构；\n",
    "- 列表元素可用`<list>[from_inclusive : to_exclusive : ±step_size]`访问，其中`from_inclusive`和`to_exclusive`是整数索引，`step_size`则是整数步长；\n",
    "- 列表可用`<list>.append(<el>)`或者`<list> += [<el>]`添加元素；\n",
    "- 列表还可以扩展`<list>.extend(<collection>)`或者`<list> += <collection>`；\n",
    "- 列表元素可以进行排序：`<list>.sort()`或`<list>=sorted(<collection>)`\n",
    "- 列表元素还可以逆序输出：`<list>.reverse()`或者`<list>=reversed(<list>)`\n",
    "- 列表可以进行推导计算：`<list> = [f(el) for el in <list>]`\n",
    "- 计算列表元素的和或积：`sum(<list>)`\n",
    "- 列表的乘法要注意是元素的重复：`[3] * 2`"
   ]
  },
  {
   "cell_type": "code",
   "execution_count": null,
   "metadata": {},
   "outputs": [],
   "source": [
    "## 给列表元素排序的两种方式\n",
    "li = [3,5,1,9,7,4]\n",
    "print(\"sorted(li) = \", sorted(li))\n",
    "print(\"The outer function, sorted() does not change the value of the original list\")\n",
    "print(\"li = \", li)\n",
    "print(\"But the sort() method will do.\")\n",
    "li.sort()\n",
    "print(\"li = \", li)"
   ]
  },
  {
   "cell_type": "code",
   "execution_count": null,
   "metadata": {},
   "outputs": [],
   "source": [
    "print(li.append([2,3,4]))\n",
    "print(li)"
   ]
  },
  {
   "cell_type": "code",
   "execution_count": null,
   "metadata": {},
   "outputs": [],
   "source": [
    "li.append((10,9))"
   ]
  },
  {
   "cell_type": "markdown",
   "metadata": {},
   "source": [
    "- 注意，在使用`extend()`的时候后面跟的参数必须是collection，而不能是单个元素\n",
    "- 而在使用`append()`的时候，跟的是元素，如果不是元素，会被作为列表的单个元素"
   ]
  },
  {
   "cell_type": "code",
   "execution_count": null,
   "metadata": {},
   "outputs": [],
   "source": [
    "li.extend((7,8))\n",
    "print(li)"
   ]
  },
  {
   "cell_type": "markdown",
   "metadata": {},
   "source": [
    "- 计算列表元素的和"
   ]
  },
  {
   "cell_type": "code",
   "execution_count": null,
   "metadata": {},
   "outputs": [],
   "source": [
    "print(sum(li))"
   ]
  },
  {
   "cell_type": "markdown",
   "metadata": {},
   "source": [
    "- 计算列表元素的乘积"
   ]
  },
  {
   "cell_type": "code",
   "execution_count": null,
   "metadata": {},
   "outputs": [],
   "source": [
    "from functools import reduce\n",
    "p = reduce(lambda x, y: x*y, li)\n",
    "print(p)"
   ]
  },
  {
   "cell_type": "markdown",
   "metadata": {},
   "source": [
    "- 字符串可以转化为list"
   ]
  },
  {
   "cell_type": "code",
   "execution_count": null,
   "metadata": {},
   "outputs": [],
   "source": [
    "s = \"abcdefg\"\n",
    "sl = list(s)\n",
    "print(sl)"
   ]
  },
  {
   "cell_type": "code",
   "execution_count": null,
   "metadata": {},
   "outputs": [],
   "source": [
    "print(s.split(\"c\"))"
   ]
  },
  {
   "cell_type": "code",
   "execution_count": null,
   "metadata": {},
   "outputs": [],
   "source": [
    "s.split?"
   ]
  },
  {
   "cell_type": "markdown",
   "metadata": {},
   "source": [
    "- 对应的字符串list也能用`join`函数连接为字符串"
   ]
  },
  {
   "cell_type": "code",
   "execution_count": null,
   "metadata": {},
   "outputs": [],
   "source": [
    "print(\":\".join(sl))"
   ]
  },
  {
   "cell_type": "markdown",
   "metadata": {},
   "source": [
    "- 列表与整数的乘积要注意"
   ]
  },
  {
   "cell_type": "code",
   "execution_count": null,
   "metadata": {},
   "outputs": [],
   "source": [
    "print([[3]*i for i in range(5)])"
   ]
  },
  {
   "cell_type": "markdown",
   "metadata": {},
   "source": [
    "- 列表推导（list comprehension）"
   ]
  },
  {
   "cell_type": "code",
   "execution_count": null,
   "metadata": {},
   "outputs": [],
   "source": [
    "mat = [[i*j for j in range(1,10)] for i in range(1,10)]\n",
    "print(mat)"
   ]
  },
  {
   "cell_type": "code",
   "execution_count": null,
   "metadata": {},
   "outputs": [],
   "source": [
    "all(line[0] for line in mat)"
   ]
  },
  {
   "cell_type": "code",
   "execution_count": null,
   "metadata": {},
   "outputs": [],
   "source": [
    "li = [1,2,3,4,5]\n",
    "for ind, el in enumerate(li):\n",
    "    print(\"Element \", ind +1, \" is \", el)"
   ]
  },
  {
   "cell_type": "code",
   "execution_count": null,
   "metadata": {},
   "outputs": [],
   "source": [
    "li.insert(3, 6)\n",
    "print(li)"
   ]
  },
  {
   "cell_type": "code",
   "execution_count": null,
   "metadata": {},
   "outputs": [],
   "source": [
    "li.index(6)"
   ]
  },
  {
   "cell_type": "markdown",
   "metadata": {},
   "source": [
    "### 2.2 元组tuple\n",
    "- 元组的slice操作与list相类\n",
    "- 但是注意tuple是immutable的：也就是说，`append()`、`extend()`, `pop()`，`sort()`、`reverse()`等==修改tuple的操作不能有==\n",
    "- 查找元素对应的索引：`<tuple>.index(<el>[,from,to])`（如果元素不存在，抛出ValueError错误）\n",
    "- 统计某个元素出现的次数：`<tuple>.count(<el>)`（如果元素不存在，返回0）"
   ]
  },
  {
   "cell_type": "code",
   "execution_count": null,
   "metadata": {},
   "outputs": [],
   "source": [
    "t = (2,8,4,3,9,3)\n",
    "print(t)"
   ]
  },
  {
   "cell_type": "code",
   "execution_count": null,
   "metadata": {},
   "outputs": [],
   "source": [
    "?t.index"
   ]
  },
  {
   "cell_type": "code",
   "execution_count": null,
   "metadata": {},
   "outputs": [],
   "source": [
    "print(t.index(3, 4))"
   ]
  },
  {
   "cell_type": "code",
   "execution_count": null,
   "metadata": {},
   "outputs": [],
   "source": [
    "print(t.index(5))"
   ]
  },
  {
   "cell_type": "code",
   "execution_count": null,
   "metadata": {},
   "outputs": [],
   "source": [
    "print(t[2:].count(5))"
   ]
  },
  {
   "cell_type": "markdown",
   "metadata": {},
   "source": [
    "### 2.3 字典dict\n",
    "- 可以说，字典是键值对（key-value）的集合\n",
    "- 字典的键必须是唯一的（unique）且不可变的（immutable），所以哪些类型可以作为字典的键，字符串？整型数值？浮点数？集合？列表？元组？或者其他的类型\n",
    "- 创建字典：`<dict> = {<key1>:<val1>, <key2>:<val2>, ...}`或者`<dict>=dict()`\n",
    "- 返回键的列表（无序）：`<dict>.keys()`\n",
    "- 返回值的列表（无序）：`<dict>.values()`\n",
    "- 返回（键，值）构成的元组的列表：`<dict>.items()`\n",
    "- 返回某个键对应的值：`<dict>[<key>]`或者`<dict>.get(<key>, default=None)`\n",
    "- 设置某个键对应的默认值：`<dict>.setdefault(<key>, default=None)`\n",
    "- 具有固定默认值类型的defaultdict：`collections.defaultdict(<type>)`\n",
    "- 具有固定默认值的defaultdict：`collections.defaultdict(lambda: 1)`\n",
    "- 将具有key-value对的类型转换为字典：`dict(<collection>)`\n",
    "- 将两个list转换为dict：`dict(zip(<keys>, <vals>))`\n",
    "- 从键创建dict：`dict.fromkeys(<keys>[, <vals>])`\n",
    "- 更新键值对（如果已经存在的更新值，如果不存在的添加键值对）：`<dict>.update(<dict>)`\n",
    "- 删除元素（如果不存在key则抛出KeyError错误）：`val = <dict>.pop(<key>)`\n",
    "- 返回某个值对应的键的集合：`{k for k,v in <dict>.items() if v==value}`\n",
    "- 返回字典的子集：`{k:v for k, v in <dict>.items if k in <keys>}`"
   ]
  },
  {
   "cell_type": "code",
   "execution_count": null,
   "metadata": {},
   "outputs": [],
   "source": []
  },
  {
   "cell_type": "code",
   "execution_count": null,
   "metadata": {},
   "outputs": [],
   "source": []
  },
  {
   "cell_type": "markdown",
   "metadata": {},
   "source": [
    "### 2.4 集合set\n",
    "- 集合的定义：`<set> = set()`或`<set> = {<el>, <el>, ...}`\n",
    "- 集合添加元素：`<set>.add(<el>)`或者`<set> |= {<el>}`\n",
    "- 集合更新：`<set>.update(<collection>)`或者`<set> |= <set>`\n",
    "- 集合的并集：`<set>.union(<collection>)`或`<set> | <set>`\n",
    "- 集合的交集：`<set>.intersection(<collection>)`或`<set> & <set>`\n",
    "- 集合的差集：`<set>.difference(<collection>)`或`<set> - <set>`\n",
    "- 集合的对称差：`<set>.symmetric_difference(<collection>)`或`<set> ^ <set>`或`<set> | <set> - <set> & <set>`\n",
    "- 集合的包含关系：\n",
    "  * 子集：`<set>.issubset(<collection>)`或`<set> <= <set>`\n",
    "  * 超集：`<set>.issuperset(<collection>`或`<set> >= <set>`\n",
    "- 集合的其他操作：\n",
    "  * 弹出元素：`<el> = <set>.pop()`（如果集合为空，报错KeyError）\n",
    "  * 删除元素：`<set>.remove(<el>)`（如果元素不存在，报错KeyError）\n",
    "  * 删除元素：`<set>.discard(<el>)`（元素即使不存在也不报错）\n",
    "  \n",
    "#### 集合的延伸：frozen set\n",
    "- frozen set是不可变的（immutable）以及可散列化的（hashable，唯一性的保证）\n",
    "- 因此，frozen set可作为字典的键（key）和集合的元素\n",
    "- `<frozenset> = frozenset(<collection>)`"
   ]
  },
  {
   "cell_type": "code",
   "execution_count": null,
   "metadata": {},
   "outputs": [],
   "source": [
    "fset = frozenset(['a', 'c', 'g', 't', 'n'])\n",
    "dict({fset:[0,1,2,3,4]})\n"
   ]
  },
  {
   "cell_type": "markdown",
   "metadata": {},
   "source": [
    "### 2.5 图形化数据结构"
   ]
  },
  {
   "cell_type": "code",
   "execution_count": null,
   "metadata": {},
   "outputs": [],
   "source": [
    "import objgraph\n",
    "x=[1]\n",
    "y=[x,[x],{'a':x}]\n",
    "objgraph.show_refs([y], filename=\"refs.png\")"
   ]
  },
  {
   "cell_type": "markdown",
   "metadata": {},
   "source": [
    "## 3. 函数function\n",
    "\n",
    "\n",
    "### 3.1 函数的定义definition和调用call\n",
    "\n",
    "1. 下面是函数`def f(x, y, z):`的定义，哪个是合法的调用方式？\n",
    " - [x] `f(x=1, y=2, z=3)`\n",
    " - [x] `f(1, 2, 3)`\n",
    " - [x] `f(1, y=2, z=3)`\n",
    " - [x] `f(1, 2, z=3)`\n",
    " \n",
    "2. 针对函数`def f(*, x, y, z):`的定义，哪个是合法的调用方式？\n",
    " - [x] `f(x=1, y=2, z=3)`\n",
    " - [ ] `f(1, 2, 3)`\n",
    " - [ ] `f(1, y=2, z=3)`\n",
    " - [ ] `f(1, 2, z=3)`\n",
    " \n",
    "3. 针对函数`def f(x, *, y, z):`的定义，哪个是合法的调用方式？\n",
    " - [x] `f(x=1, y=2, z=3)`\n",
    " - [ ] `f(1, 2, 3)`\n",
    " - [x] `f(1, y=2, z=3)`\n",
    " - [ ] `f(1, 2, z=3)`\n",
    " \n",
    "4. 针对函数`def f(x, y, *，z):`的定义，哪个是合法的调用方式？\n",
    " - [x] `f(x=1, y=2, z=3)`\n",
    " - [ ] `f(1, 2, 3)`\n",
    " - [x] `f(1, y=2, z=3)`\n",
    " - [x] `f(1, 2, z=3)`"
   ]
  },
  {
   "cell_type": "code",
   "execution_count": 24,
   "metadata": {},
   "outputs": [],
   "source": [
    "def mysum(a=3, *args, **kwargs):\n",
    "    print(\"a=\",a)\n",
    "    print(\"args=\", args)\n",
    "    return a + b + sum(args) + sum(kwargs.values())"
   ]
  },
  {
   "cell_type": "code",
   "execution_count": 25,
   "metadata": {},
   "outputs": [
    {
     "name": "stdout",
     "output_type": "stream",
     "text": [
      "a= 6\n",
      "args= (7, 8)\n"
     ]
    },
    {
     "ename": "NameError",
     "evalue": "name 'b' is not defined",
     "output_type": "error",
     "traceback": [
      "\u001b[0;31m---------------------------------------------------------------------------\u001b[0m",
      "\u001b[0;31mNameError\u001b[0m                                 Traceback (most recent call last)",
      "\u001b[0;32m<ipython-input-25-bc2833127eda>\u001b[0m in \u001b[0;36m<module>\u001b[0;34m\u001b[0m\n\u001b[0;32m----> 1\u001b[0;31m \u001b[0mmysum\u001b[0m\u001b[0;34m(\u001b[0m\u001b[0;36m6\u001b[0m\u001b[0;34m,\u001b[0m \u001b[0;36m7\u001b[0m\u001b[0;34m,\u001b[0m \u001b[0;36m8\u001b[0m\u001b[0;34m,\u001b[0m \u001b[0mc\u001b[0m\u001b[0;34m=\u001b[0m\u001b[0;36m5\u001b[0m\u001b[0;34m,\u001b[0m \u001b[0md\u001b[0m\u001b[0;34m=\u001b[0m\u001b[0;36m9\u001b[0m\u001b[0;34m)\u001b[0m\u001b[0;34m\u001b[0m\u001b[0;34m\u001b[0m\u001b[0m\n\u001b[0m",
      "\u001b[0;32m<ipython-input-24-6c8680f53bac>\u001b[0m in \u001b[0;36mmysum\u001b[0;34m(a, *args, **kwargs)\u001b[0m\n\u001b[1;32m      2\u001b[0m     \u001b[0mprint\u001b[0m\u001b[0;34m(\u001b[0m\u001b[0;34m\"a=\"\u001b[0m\u001b[0;34m,\u001b[0m\u001b[0ma\u001b[0m\u001b[0;34m)\u001b[0m\u001b[0;34m\u001b[0m\u001b[0;34m\u001b[0m\u001b[0m\n\u001b[1;32m      3\u001b[0m     \u001b[0mprint\u001b[0m\u001b[0;34m(\u001b[0m\u001b[0;34m\"args=\"\u001b[0m\u001b[0;34m,\u001b[0m \u001b[0margs\u001b[0m\u001b[0;34m)\u001b[0m\u001b[0;34m\u001b[0m\u001b[0;34m\u001b[0m\u001b[0m\n\u001b[0;32m----> 4\u001b[0;31m     \u001b[0;32mreturn\u001b[0m \u001b[0ma\u001b[0m \u001b[0;34m+\u001b[0m \u001b[0mb\u001b[0m \u001b[0;34m+\u001b[0m \u001b[0msum\u001b[0m\u001b[0;34m(\u001b[0m\u001b[0margs\u001b[0m\u001b[0;34m)\u001b[0m \u001b[0;34m+\u001b[0m \u001b[0msum\u001b[0m\u001b[0;34m(\u001b[0m\u001b[0mkwargs\u001b[0m\u001b[0;34m.\u001b[0m\u001b[0mvalues\u001b[0m\u001b[0;34m(\u001b[0m\u001b[0;34m)\u001b[0m\u001b[0;34m)\u001b[0m\u001b[0;34m\u001b[0m\u001b[0;34m\u001b[0m\u001b[0m\n\u001b[0m",
      "\u001b[0;31mNameError\u001b[0m: name 'b' is not defined"
     ]
    }
   ],
   "source": [
    "mysum(6, 7, 8, c=5, d=9)"
   ]
  },
  {
   "cell_type": "code",
   "execution_count": null,
   "metadata": {},
   "outputs": [],
   "source": [
    "def f(*, x, y, z):\n",
    "    return x + y + z"
   ]
  },
  {
   "cell_type": "code",
   "execution_count": null,
   "metadata": {},
   "outputs": [],
   "source": [
    "f(x=1,y=2,z=3)"
   ]
  },
  {
   "cell_type": "code",
   "execution_count": null,
   "metadata": {},
   "outputs": [],
   "source": [
    "f(1, 2, 3)"
   ]
  },
  {
   "cell_type": "code",
   "execution_count": null,
   "metadata": {},
   "outputs": [],
   "source": [
    "f(1, y=2, z=3)"
   ]
  },
  {
   "cell_type": "code",
   "execution_count": null,
   "metadata": {},
   "outputs": [],
   "source": [
    "f(1, 2, z=3)"
   ]
  },
  {
   "cell_type": "code",
   "execution_count": null,
   "metadata": {},
   "outputs": [],
   "source": [
    "f(z=1, y=2, x=3)"
   ]
  },
  {
   "cell_type": "code",
   "execution_count": null,
   "metadata": {},
   "outputs": [],
   "source": [
    "def f(*args):\n",
    "    return sum(args)"
   ]
  },
  {
   "cell_type": "code",
   "execution_count": null,
   "metadata": {},
   "outputs": [],
   "source": [
    "f(1,2,3,4)"
   ]
  },
  {
   "cell_type": "markdown",
   "metadata": {},
   "source": [
    "针对函数`def f(x=1,*args, **kargs):`的定义，哪个是合法的调用方式？\n",
    " - [x] `f(x=1, y=2, z=3)`\n",
    " - [x] `f(1, 2, 3)`\n",
    " - [x] `f(1, y=2, z=3)`\n",
    " - [x] `f(1, 2, z=3)`"
   ]
  },
  {
   "cell_type": "code",
   "execution_count": null,
   "metadata": {},
   "outputs": [],
   "source": [
    "def f(x=1, *args, **kargs):\n",
    "    print(\"x = \", x)\n",
    "    return x + sum(args) + sum(kargs.values())"
   ]
  },
  {
   "cell_type": "code",
   "execution_count": null,
   "metadata": {},
   "outputs": [],
   "source": [
    "f(x=1, y=2, z=3)"
   ]
  },
  {
   "cell_type": "code",
   "execution_count": null,
   "metadata": {},
   "outputs": [],
   "source": [
    "f(1, 2, 3)"
   ]
  },
  {
   "cell_type": "code",
   "execution_count": null,
   "metadata": {},
   "outputs": [],
   "source": [
    "f(1, y=3, z=4)"
   ]
  },
  {
   "cell_type": "code",
   "execution_count": null,
   "metadata": {},
   "outputs": [],
   "source": [
    "f(1, 2, 3, z=5)"
   ]
  },
  {
   "cell_type": "markdown",
   "metadata": {},
   "source": [
    "### 3.2 迭代器（iterator）与生成器（generator）\n",
    "\n",
    "可迭代的对象包括：\n",
    "- 通过`iter()`函数返回的迭代器对象，比如`list_iterator`或者`set_iterator`\n",
    "- 通过`itertools`模块返回的对象，例如count/repeat/cycle等。\n",
    "- 通过生成器函数或生成器表达式返回的生成器。\n",
    "- 通过`open()`函数放回的`File`对象。"
   ]
  },
  {
   "cell_type": "markdown",
   "metadata": {},
   "source": [
    "#### 迭代器\n",
    "> 任何具有`next()`方法和`iter()`方法的对象称为迭代器（iterator）。\n",
    "> `next()`方法要么返回下一个对象，要么返回StopError。\n",
    "> `iter()`方法返回`self`对象。\n",
    "\n",
    "- 迭代器定义：`<iter> = iter(<collection>)`  # `iter(<iter>)`   # returns unmodified iterator.\n",
    "- 通过函数定义：`<iter> = iter(<function>, to_exclusive)`      # A sequence of return values until 'to_exclusive'.\n",
    "- 逐个访问：`<el>   = next(<iter> [, default])`            # Raises StopIteration or returns 'default' on end.\n",
    "- 转换为列表：`<list> = list(<iter>)`                   # Returns a list of iterator's remaining elements."
   ]
  },
  {
   "cell_type": "code",
   "execution_count": null,
   "metadata": {},
   "outputs": [],
   "source": [
    "li = [1,2,3,4,5]\n",
    "liter = iter(li)\n",
    "for i in range(6):\n",
    "    print(next(liter))"
   ]
  },
  {
   "cell_type": "markdown",
   "metadata": {},
   "source": [
    "这是一个构造迭代器类的例子："
   ]
  },
  {
   "cell_type": "code",
   "execution_count": null,
   "metadata": {},
   "outputs": [],
   "source": [
    "class Counter:\n",
    "    def __init__(self):\n",
    "        self.i = 0\n",
    "    def __next__(self):\n",
    "        self.i += 1\n",
    "        return self.i\n",
    "    def __iter__(self):\n",
    "        return self\n",
    "    \n",
    "counter = Counter()\n",
    "next(counter), next(counter), next(counter)"
   ]
  },
  {
   "cell_type": "code",
   "execution_count": null,
   "metadata": {},
   "outputs": [],
   "source": [
    "from collections.abc import Iterator"
   ]
  },
  {
   "cell_type": "code",
   "execution_count": null,
   "metadata": {},
   "outputs": [],
   "source": [
    "isinstance(counter, Iterator)"
   ]
  },
  {
   "cell_type": "markdown",
   "metadata": {},
   "source": [
    "#### 生成器\n",
    "- 所有包含`yield`语句的函数返回一个生成器\n",
    "- 生成器和迭代器两者是可以互换的"
   ]
  },
  {
   "cell_type": "code",
   "execution_count": null,
   "metadata": {},
   "outputs": [],
   "source": [
    "def fib(limit):\n",
    "    n, a, b = 1, 0, 1\n",
    "    while n <= limit:\n",
    "        yield b\n",
    "        a, b = b, a+b\n",
    "        n += 1"
   ]
  },
  {
   "cell_type": "code",
   "execution_count": null,
   "metadata": {},
   "outputs": [],
   "source": [
    "for el in fib(10):\n",
    "    print(el)"
   ]
  },
  {
   "cell_type": "code",
   "execution_count": null,
   "metadata": {},
   "outputs": [],
   "source": []
  },
  {
   "cell_type": "markdown",
   "metadata": {},
   "source": [
    "## 4. 流程控制Flow control\n",
    "- 流程控制与其他语言区别不大，唯一的就是Python通过缩进（indent）来表示程序块（block）\n",
    "- if的语法是`if...elif...else`\n",
    "- for的语法是`for ... in ...`\n",
    "- while的语法是`while <condition>:`\n",
    "- break/continue\n",
    "- pass"
   ]
  },
  {
   "cell_type": "code",
   "execution_count": null,
   "metadata": {},
   "outputs": [],
   "source": [
    "x = 5\n",
    "if x>5:\n",
    "    print(\"greater\")\n",
    "elif x<5:\n",
    "    print(\"less\")\n",
    "else:\n",
    "    print(\"equal\")"
   ]
  },
  {
   "cell_type": "code",
   "execution_count": null,
   "metadata": {},
   "outputs": [],
   "source": [
    "while x < 10:\n",
    "    if x == 9:\n",
    "        break\n",
    "    x += 1"
   ]
  },
  {
   "cell_type": "code",
   "execution_count": null,
   "metadata": {},
   "outputs": [],
   "source": [
    "for i in range(5):\n",
    "    if i==3: continue\n",
    "    print(3**i)"
   ]
  },
  {
   "cell_type": "markdown",
   "metadata": {},
   "source": [
    "### 4.1 例外Exceptions"
   ]
  },
  {
   "cell_type": "markdown",
   "metadata": {},
   "source": [
    "#### 例外的简单范例"
   ]
  },
  {
   "cell_type": "code",
   "execution_count": null,
   "metadata": {},
   "outputs": [],
   "source": [
    "try:\n",
    "    <code>\n",
    "except <exception>:\n",
    "    <code>"
   ]
  },
  {
   "cell_type": "code",
   "execution_count": 16,
   "metadata": {},
   "outputs": [
    {
     "name": "stdout",
     "output_type": "stream",
     "text": [
      "Failed with  division by zero\n"
     ]
    }
   ],
   "source": [
    "x = 5\n",
    "try:\n",
    "    x /= 0\n",
    "except Exception as e:\n",
    "    print(\"Failed with \", e)"
   ]
  },
  {
   "cell_type": "markdown",
   "metadata": {},
   "source": [
    "#### 例外的复杂范例"
   ]
  },
  {
   "cell_type": "code",
   "execution_count": null,
   "metadata": {},
   "outputs": [],
   "source": [
    "try:\n",
    "    <code_1>\n",
    "except <exception_a>:\n",
    "    <code_2_a>\n",
    "except <exception_b>:\n",
    "    <code_2_b>\n",
    "else:\n",
    "    <code_2_c>\n",
    "finally:\n",
    "    <code_3>"
   ]
  },
  {
   "cell_type": "markdown",
   "metadata": {},
   "source": [
    "#### 例外捕获Catching Exceptions"
   ]
  },
  {
   "cell_type": "code",
   "execution_count": null,
   "metadata": {},
   "outputs": [],
   "source": [
    "except <exception>:\n",
    "except <exception> as <name>:\n",
    "except (<exception>, ...):\n",
    "except (<exception>, ...) as <name>:"
   ]
  },
  {
   "cell_type": "code",
   "execution_count": null,
   "metadata": {},
   "outputs": [],
   "source": []
  },
  {
   "cell_type": "markdown",
   "metadata": {},
   "source": [
    "## 5. 面向对象编程Object-oriented programming\n",
    "- 在Python中，一切都是对象\n",
    "- 定义类的时候的关键词是class，object为所有类的**基类（Base class）**\n",
    "- `__init__(self, *args)`是类的**初始化函数（Initializer）**；\n",
    "- `__new__(cls, *args)`才是类的**构造函数（constructor）**\n",
    "- 所有以`__`开头的变量和方法都是类的**私有变量和私有方法（private）**，只能在类内部访问\n",
    "- 方法定义的时候用**装饰器（Decorator）**可以声明**类方法（`@classmethod`）和静态方法（`@staticmethod`）**\n",
    "- 普通的方法是**成员方法**或**实例方法**。\n",
    "- 包裹在`__`和`__`之间的方法为**魔术方法**，一般都有特殊的含义：\n",
    "  * `__repr__()`和`__str__()`两种方法有什么差异？\n",
    "- 要获得实例`a`的所有属性，用`a.__dict__`\n",
    "- 要获得实例`a`的所有属性和方法，用`dir(a)`"
   ]
  },
  {
   "cell_type": "code",
   "execution_count": null,
   "metadata": {},
   "outputs": [],
   "source": [
    "class MyClass(object):\n",
    "    \n",
    "    def __init__(self, val):\n",
    "        self.__val = val\n",
    "        \n",
    "    def __display(self, s):\n",
    "        print(\"{0}:{1}\".format(s, self.__val))\n",
    "        \n",
    "    def display(self, s):\n",
    "        self.__display(s)"
   ]
  },
  {
   "cell_type": "code",
   "execution_count": null,
   "metadata": {},
   "outputs": [],
   "source": [
    "inst = MyClass(5)\n",
    "inst.display(\"Yesterday\")"
   ]
  },
  {
   "cell_type": "code",
   "execution_count": null,
   "metadata": {},
   "outputs": [],
   "source": [
    "print(inst.__val)"
   ]
  },
  {
   "cell_type": "code",
   "execution_count": null,
   "metadata": {},
   "outputs": [],
   "source": [
    "inst.__display(\"Yesterday\")"
   ]
  },
  {
   "cell_type": "markdown",
   "metadata": {},
   "source": [
    "Python并没有真正实现类的私有变量，实际上，我们可以通过`_ClassName__varname`或者`_ClassName__methodname()`访问所谓的私有变量或方法："
   ]
  },
  {
   "cell_type": "code",
   "execution_count": null,
   "metadata": {},
   "outputs": [],
   "source": [
    "print(inst._MyClass__val)"
   ]
  },
  {
   "cell_type": "code",
   "execution_count": null,
   "metadata": {},
   "outputs": [],
   "source": [
    "inst._MyClass__display(\"Yesterday\")"
   ]
  },
  {
   "cell_type": "markdown",
   "metadata": {},
   "source": [
    "#### 类方法和静态方法的定义"
   ]
  },
  {
   "cell_type": "code",
   "execution_count": null,
   "metadata": {},
   "outputs": [],
   "source": [
    "class ExampleClass:\n",
    "    def __init__(self, a):\n",
    "        self.a = a\n",
    "    def __repr__(self):\n",
    "        class_name = self.__class__.__name__\n",
    "        #return f'{class_name}({self.a!r})'\n",
    "        return f'{class_name}({self.a})'\n",
    "    def __str__(self):\n",
    "        return str(self.a)\n",
    "\n",
    "    @classmethod\n",
    "    def get_class_name(cls):\n",
    "        return cls.__name__"
   ]
  },
  {
   "cell_type": "markdown",
   "metadata": {},
   "source": [
    "#### 说明\n",
    "- 这里两种方法`__repr__`和`__str__`分别有其使用场合。一般来说，`print(<instance>)`调用的是`__str__()`方法，而`<instance>`调用的是`__repr__()`方法。\n",
    "- 在上面的例子中，在定义`__repr__()`方法时，采取了一种新的格式化输出字符串的方式：`f\"{class_name}({self.a!r})\"`，每个`{}`中的放置的是变量，如果强制要求用`__repr__()`的方式显示该变量，则后面加入`!r`，否则默认用`__str__`的方式显示。\n",
    "- `__repr__()`方法的返回结果必须是明确的（unambiguous）；而`__str__()`方法的返回结果必须是可读的；\n",
    "- 如果只定义了`__repr__()`方法，则`str()`也会返回相同的结果。"
   ]
  },
  {
   "cell_type": "code",
   "execution_count": null,
   "metadata": {},
   "outputs": [],
   "source": [
    "example = ExampleClass(\"James\")"
   ]
  },
  {
   "cell_type": "code",
   "execution_count": null,
   "metadata": {},
   "outputs": [],
   "source": [
    "print(example)    # call __str__() method"
   ]
  },
  {
   "cell_type": "code",
   "execution_count": null,
   "metadata": {},
   "outputs": [],
   "source": [
    "example          # call __repr__() method"
   ]
  },
  {
   "cell_type": "markdown",
   "metadata": {},
   "source": [
    "#### 类的继承\n",
    "- 调用基类的`super().__init__()`方法进行初始化\n",
    "- 扩展其他的实例变量和方法"
   ]
  },
  {
   "cell_type": "code",
   "execution_count": null,
   "metadata": {},
   "outputs": [],
   "source": [
    "class Person:\n",
    "    def __init__(self, name, age):\n",
    "        self.name = name\n",
    "        self.age  = age\n",
    "\n",
    "class Employee(Person):\n",
    "    def __init__(self, name, age, staff_num):\n",
    "        super().__init__(name, age)\n",
    "        self.staff_num = staff_num"
   ]
  },
  {
   "cell_type": "markdown",
   "metadata": {},
   "source": [
    "#### 通过装饰器实现属性的设置和获取"
   ]
  },
  {
   "cell_type": "code",
   "execution_count": null,
   "metadata": {},
   "outputs": [],
   "source": [
    "class MyClass:\n",
    "    @property\n",
    "    def a(self):\n",
    "        return self._a\n",
    "\n",
    "    @a.setter\n",
    "    def a(self, value):\n",
    "        self._a = value"
   ]
  },
  {
   "cell_type": "code",
   "execution_count": null,
   "metadata": {},
   "outputs": [],
   "source": [
    "el = MyClass()\n",
    "el.a = 123\n",
    "print(el.a)"
   ]
  },
  {
   "cell_type": "markdown",
   "metadata": {},
   "source": [
    "### 5.1 抽象基类（Abstract Base Classes, ABC）"
   ]
  },
  {
   "cell_type": "code",
   "execution_count": null,
   "metadata": {},
   "outputs": [],
   "source": [
    "from collections.abc import Hashable, Iterable, Reversible"
   ]
  },
  {
   "cell_type": "code",
   "execution_count": null,
   "metadata": {},
   "outputs": [],
   "source": [
    "isinstance([1,2,3,4,5], Reversible)"
   ]
  },
  {
   "cell_type": "code",
   "execution_count": null,
   "metadata": {},
   "outputs": [],
   "source": [
    "isinstance(2.5, Hashable)"
   ]
  },
  {
   "cell_type": "code",
   "execution_count": null,
   "metadata": {},
   "outputs": [],
   "source": [
    "isinstance((1,2,3,4), Iterable)"
   ]
  },
  {
   "cell_type": "code",
   "execution_count": null,
   "metadata": {},
   "outputs": [],
   "source": [
    "isinstance(dict().keys(), Hashable)"
   ]
  },
  {
   "cell_type": "markdown",
   "metadata": {},
   "source": [
    "### <font color=\"red\">练习</font>\n",
    "#### 深层拷贝与浅层拷贝（`copy.copy` and `copy.deepcopy`）\n",
    "1. 你能否说出深层拷贝和浅层拷贝的区别？\n",
    "  * [x] 深层拷贝和浅层拷贝都是针对复合数据类型如list或者类实例的\n",
    "  * [x] 深层拷贝和浅层拷贝都建立对象的拷贝\n",
    "  * [ ] 深层拷贝与原数据对象共享内部数据\n",
    "  * [x] 浅层拷贝与原数据对象共享内部数据\n",
    "  \n",
    "2. 对于下面的类的实例，对其进行深层拷贝后，产生的数据对象与原对象有什么关系？\n",
    "  * [x] 普通原子对象与原始对象指向一致\n",
    "  * [x] 复合对象与原始对象具有完全独立的内存空间\n",
    "  * [ ] 所有元素都具有完全独立的内存空间\n",
    "  * [ ] 所有元素与元对象都使用一致的内存空间"
   ]
  },
  {
   "cell_type": "code",
   "execution_count": null,
   "metadata": {},
   "outputs": [],
   "source": [
    "from copy import copy, deepcopy"
   ]
  },
  {
   "cell_type": "code",
   "execution_count": null,
   "metadata": {},
   "outputs": [],
   "source": [
    "print(copy.__doc__)"
   ]
  },
  {
   "cell_type": "code",
   "execution_count": null,
   "metadata": {},
   "outputs": [],
   "source": [
    "origin = [1,2,[3,4]]\n",
    "cop1 = origin\n",
    "cop2 = copy(origin)\n",
    "cop3 = deepcopy(origin)\n",
    "print(\"Original value: \")\n",
    "print(origin, cop1, cop2, cop3)"
   ]
  },
  {
   "cell_type": "code",
   "execution_count": null,
   "metadata": {},
   "outputs": [],
   "source": [
    "import objgraph"
   ]
  },
  {
   "cell_type": "code",
   "execution_count": null,
   "metadata": {},
   "outputs": [],
   "source": [
    "objgraph.show_refs([origin, cop1], filename=\"same1.png\")"
   ]
  },
  {
   "cell_type": "code",
   "execution_count": null,
   "metadata": {},
   "outputs": [],
   "source": [
    "objgraph.show_refs([origin, cop2], filename=\"shallow1.png\")"
   ]
  },
  {
   "cell_type": "code",
   "execution_count": null,
   "metadata": {},
   "outputs": [],
   "source": [
    "objgraph.show_refs([origin, cop3], filename=\"deep1.png\")"
   ]
  },
  {
   "cell_type": "code",
   "execution_count": null,
   "metadata": {},
   "outputs": [],
   "source": [
    "origin[1] = 8\n",
    "origin[2][1] = 5\n",
    "print(\"After changed: \")\n",
    "print(origin, cop1, cop2, cop3)"
   ]
  },
  {
   "cell_type": "code",
   "execution_count": null,
   "metadata": {},
   "outputs": [],
   "source": [
    "print(\"The same object\")\n",
    "objgraph.show_refs([origin, cop1], filename=\"same2.png\")"
   ]
  },
  {
   "cell_type": "code",
   "execution_count": null,
   "metadata": {},
   "outputs": [],
   "source": [
    "print(\"========Shallow Copy=========\")\n",
    "objgraph.show_refs([origin, cop2], filename=\"shallow2.png\", refcounts=True)"
   ]
  },
  {
   "cell_type": "code",
   "execution_count": null,
   "metadata": {},
   "outputs": [],
   "source": [
    "print(\"=========Deep Copy============\")\n",
    "objgraph.show_refs([origin, cop2, cop3], filename=\"shallow2-deep2.png\", refcounts=True)"
   ]
  },
  {
   "cell_type": "code",
   "execution_count": null,
   "metadata": {},
   "outputs": [],
   "source": [
    "objgraph.show_backrefs?"
   ]
  },
  {
   "cell_type": "markdown",
   "metadata": {},
   "source": [
    "## 6. 常用的包或模块\n",
    "\n",
    "这里我们简单介绍几个常用的包和模块：\n",
    "- `os`\n",
    "- `sys`\n",
    "- `re`\n",
    "- `math`"
   ]
  },
  {
   "cell_type": "markdown",
   "metadata": {},
   "source": [
    "### 6.1 `sys`模块\n",
    "\n",
    "- `sys`模块指的不是操作系统，是Python解释器。\n",
    "- `sys.argv`是命令行参数。\n",
    "- `sys.path`是所有能被`import`直接导入的模块路径的列表。\n",
    "- `sys.getrefcount()`可以返回某个内存地址引用的次数。\n",
    "- `sys.getsizeof()`返回的是一个变量内存占用的字节。\n",
    "- `sys.exit()`函数与C函数的return和exit有相同的功能"
   ]
  },
  {
   "cell_type": "code",
   "execution_count": null,
   "metadata": {},
   "outputs": [],
   "source": [
    "import sys"
   ]
  },
  {
   "cell_type": "code",
   "execution_count": null,
   "metadata": {},
   "outputs": [],
   "source": [
    "print(sys.path)"
   ]
  },
  {
   "cell_type": "code",
   "execution_count": null,
   "metadata": {},
   "outputs": [],
   "source": [
    "x=1\n",
    "print(sys.getrefcount(x))"
   ]
  },
  {
   "cell_type": "code",
   "execution_count": null,
   "metadata": {},
   "outputs": [],
   "source": [
    "print(sys.getsizeof(x))"
   ]
  },
  {
   "cell_type": "markdown",
   "metadata": {},
   "source": [
    "- 默认的文件系统编码"
   ]
  },
  {
   "cell_type": "code",
   "execution_count": null,
   "metadata": {},
   "outputs": [],
   "source": [
    "sys.getfilesystemencoding()"
   ]
  },
  {
   "cell_type": "markdown",
   "metadata": {},
   "source": [
    "- 不同的数据类型的信息"
   ]
  },
  {
   "cell_type": "code",
   "execution_count": null,
   "metadata": {},
   "outputs": [],
   "source": [
    "sys.int_info"
   ]
  },
  {
   "cell_type": "code",
   "execution_count": null,
   "metadata": {},
   "outputs": [],
   "source": [
    "sys.float_info"
   ]
  },
  {
   "cell_type": "code",
   "execution_count": null,
   "metadata": {},
   "outputs": [],
   "source": [
    "sys.getsizeof(125.3348)"
   ]
  },
  {
   "cell_type": "markdown",
   "metadata": {},
   "source": [
    "### 6.2 `os`模块\n",
    "- `os`模块对应的是操作系统相关的。\n",
    "  * `os.listdir()`对应的是`ls`命令\n",
    "  * `os.chdir()`对应的是`cd`命令\n",
    "  * `os.chmod()`对应`chmod`命令\n",
    "  * `os.chown()`对应`chown`命令\n",
    "  * `os.mkdir()`对应`mkdir`命令\n",
    "  * `os.makedirs()`对应哪个命令？\n",
    "  * \n",
    "  * `os.curdir`输出的是\".\"当前路径\n",
    "  * `os.environ`返回的是`env`命令相同的输出\n",
    "- `os.path`对应的是目录、路径的操作。"
   ]
  },
  {
   "cell_type": "code",
   "execution_count": null,
   "metadata": {},
   "outputs": [],
   "source": [
    "import os"
   ]
  },
  {
   "cell_type": "code",
   "execution_count": null,
   "metadata": {},
   "outputs": [],
   "source": [
    "type(os)"
   ]
  },
  {
   "cell_type": "code",
   "execution_count": null,
   "metadata": {},
   "outputs": [],
   "source": [
    "os.listdir()"
   ]
  },
  {
   "cell_type": "code",
   "execution_count": null,
   "metadata": {},
   "outputs": [],
   "source": [
    "os.listdir(path=\"/\")"
   ]
  },
  {
   "cell_type": "code",
   "execution_count": null,
   "metadata": {},
   "outputs": [],
   "source": [
    "from os import path"
   ]
  },
  {
   "cell_type": "code",
   "execution_count": null,
   "metadata": {},
   "outputs": [],
   "source": [
    "path.join(path.abspath(\".\"), \"basic.ipynb\")"
   ]
  },
  {
   "cell_type": "code",
   "execution_count": null,
   "metadata": {},
   "outputs": [],
   "source": [
    "print(path.sep, path.altsep)"
   ]
  },
  {
   "cell_type": "code",
   "execution_count": null,
   "metadata": {},
   "outputs": [],
   "source": [
    "path.dirname(path.abspath(\".\"))"
   ]
  },
  {
   "cell_type": "code",
   "execution_count": null,
   "metadata": {},
   "outputs": [],
   "source": [
    "for dir, dirnames, files in os.walk(\".\"):\n",
    "    print(dir, dirnames, files)"
   ]
  },
  {
   "cell_type": "code",
   "execution_count": null,
   "metadata": {},
   "outputs": [],
   "source": [
    "os.readlink?"
   ]
  },
  {
   "cell_type": "markdown",
   "metadata": {},
   "source": [
    "### 6.3 `re`模块\n",
    "- `re`模块是用于正则表达式匹配和替换工作的\n",
    "- 同学们自行学习即可。"
   ]
  },
  {
   "cell_type": "code",
   "execution_count": 2,
   "metadata": {},
   "outputs": [
    {
     "name": "stdout",
     "output_type": "stream",
     "text": [
      "Built-in functions, exceptions, and other objects.\n",
      "\n",
      "Noteworthy: None is the `nil' object; Ellipsis represents `...' in slices.\n"
     ]
    }
   ],
   "source": [
    "print(__builtin__.__doc__)"
   ]
  }
 ],
 "metadata": {
  "kernelspec": {
   "display_name": "Python 3",
   "language": "python",
   "name": "python3"
  },
  "language_info": {
   "codemirror_mode": {
    "name": "ipython",
    "version": 3
   },
   "file_extension": ".py",
   "mimetype": "text/x-python",
   "name": "python",
   "nbconvert_exporter": "python",
   "pygments_lexer": "ipython3",
   "version": "3.7.6"
  },
  "toc": {
   "base_numbering": 1,
   "nav_menu": {},
   "number_sections": false,
   "sideBar": true,
   "skip_h1_title": false,
   "title_cell": "Table of Contents",
   "title_sidebar": "Contents",
   "toc_cell": false,
   "toc_position": {},
   "toc_section_display": true,
   "toc_window_display": true
  }
 },
 "nbformat": 4,
 "nbformat_minor": 4
}
